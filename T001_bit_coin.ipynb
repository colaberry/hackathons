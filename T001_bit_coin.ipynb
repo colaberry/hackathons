{
 "cells": [
  {
   "cell_type": "markdown",
   "metadata": {
    "tags": [
     "s1",
     "content"
    ]
   },
   "source": [
    "#importing packages"
   ]
  },
  {
   "cell_type": "code",
   "execution_count": null,
   "metadata": {
    "collapsed": true,
    "tags": [
     "s1",
     "ce"
    ]
   },
   "outputs": [],
   "source": [
    "import matplotlib.pyplot as plt\n",
    "from datetime import datetime\n",
    "from statsmodels.graphics.tsaplots import plot_acf\n",
    "import seaborn as sns\n",
    "import numpy as np\n",
    "import statsmodels.api as sm\n",
    "%matplotlib inline"
   ]
  },
  {
   "cell_type": "markdown",
   "metadata": {
    "tags": [
     "s1",
     "hint"
    ]
   },
   "source": [
    "#extracting datasets\n"
   ]
  },
  {
   "cell_type": "code",
   "execution_count": null,
   "metadata": {
    "collapsed": true,
    "tags": [
     "s1",
     "ans"
    ]
   },
   "outputs": [],
   "source": [
    "\n",
    "bitcoin_data=pd.read_csv('https://raw.githubusercontent.com/colaberry/data/master/Bitcoin/bitcoin_dataset.csv',  header=0 , parse_dates=['Date'])\n",
    "#testing dataset\n",
    "test_data=pd.read_csv('test_set.csv',header=0,parse_dates=['Date'])\n",
    "bitcoin_data['Year'] = bitcoin_data['Date'].apply(lambda x: x.year)\n",
    "bitcoin_data['Month'] = bitcoin_data['Date'].apply(lambda x: x.month)\n",
    "bitcoin_data.head()\n",
    "bitcoin_data['Year'] = bitcoin_data['Date'].apply(lambda x: x.year)\n",
    "bitcoin_data['Month'] = bitcoin_data['Date'].apply(lambda x: x.month)\n",
    "bitcoin_data.head(3)"
   ]
  },
  {
   "cell_type": "code",
   "execution_count": null,
   "metadata": {
    "collapsed": true,
    "tags": [
     "s1",
     "hid"
    ]
   },
   "outputs": [],
   "source": [
    "#this is assertion block which verifies the solution.\n",
    "bitcoin_data.head(3)\n",
    "#try:\n",
    " #   def verify_answer():\n",
    "  #      \"\"\"\n",
    "   #     enter your verification code here.\n",
    "    #    return true if your checks pass\n",
    "   #eg: \n",
    "    #    if above_user_answer_var > 100: \n",
    "     #       return True\n",
    "      #  else:\n",
    "       #     return False\n",
    "        #\"\"\"\n",
    "\n",
    "   # ref_assert_var = verify_answer()\n",
    "#except Exception as e:\n",
    " #   print('Your assertion block throws error: ' + str(e))\n",
    "#else:\n",
    " #   if ref_assert_var:\n",
    "  #      print('continue')\n",
    "   # else:\n",
    "    #    print('The answer did not pass the test.')"
   ]
  },
  {
   "cell_type": "markdown",
   "metadata": {
    "tags": [
     "s2",
     "content"
    ]
   },
   "source": [
    "Visualize when the blockchain network witnessed growth in the no of transactions."
   ]
  },
  {
   "cell_type": "code",
   "execution_count": null,
   "metadata": {
    "collapsed": true,
    "tags": [
     "s2",
     "ce"
    ]
   },
   "outputs": [],
   "source": [
    "plt.plot(bitcoin_data['Date'], bitcoin_data['btc_hash_rate'])\n",
    "plt.show()"
   ]
  },
  {
   "cell_type": "code",
   "execution_count": null,
   "metadata": {
    "collapsed": true,
    "tags": [
     "s2",
     "hint"
    ]
   },
   "outputs": [],
   "source": [
    "By observing the above graphs it appears that the network started getting users and increased support of mining power from 2015 onwards. So we will focus our attention to activities from 2015 onwards. Filter our dataset."
   ]
  },
  {
   "cell_type": "code",
   "execution_count": null,
   "metadata": {
    "collapsed": true,
    "tags": [
     "s2",
     "ans"
    ]
   },
   "outputs": [],
   "source": [
    "bitcoin_data = bitcoin_data.loc[bitcoin_data['Date'] > datetime(2015,1,1)]\n",
    "\n",
    "# Transform the total number of transactions into a scale of million\n",
    "bitcoin_data['btc_n_transactions_total'] = bitcoin_data['btc_n_transactions_total']/1000000\n",
    "\n",
    "# The dataset has btc_miners_revenue which is basically total value in bitcoin earned by miners. \n",
    "# However, from user perspective who wants to transact bitcoin, we should define another parameter. This\n",
    "# parameter should provide a measure of average cost incurred by the user per transaction\n",
    "bitcoin_data['Avg_Txn_Fee'] = bitcoin_data['btc_transaction_fees']/bitcoin_data['btc_n_transactions_total']"
   ]
  },
  {
   "cell_type": "code",
   "execution_count": null,
   "metadata": {
    "collapsed": true,
    "tags": [
     "s2",
     "hid"
    ]
   },
   "outputs": [],
   "source": [
    "#this is assertion block which verifies the solution.\n",
    "\n",
    "try:\n",
    "    def verify_answer():\n",
    "        \"\"\"\n",
    "        enter your verification code here.\n",
    "        return true if your checks pass\n",
    "        eg: \n",
    "        if above_user_answer_var > 100: \n",
    "            return True\n",
    "        else:\n",
    "            return False\n",
    "        \"\"\"\n",
    "\n",
    "    ref_assert_var = verify_answer()\n",
    "except Exception as e:\n",
    "    print('Your assertion block throws error: ' + str(e))\n",
    "else:\n",
    "    if ref_assert_var:\n",
    "        print('continue')\n",
    "    else:\n",
    "        print('The answer did not pass the test.')"
   ]
  },
  {
   "cell_type": "markdown",
   "metadata": {
    "tags": [
     "s3",
     "content"
    ]
   },
   "source": [
    "Next we plot relationship among different variables:"
   ]
  },
  {
   "cell_type": "code",
   "execution_count": null,
   "metadata": {
    "collapsed": true,
    "tags": [
     "s3",
     "ce"
    ]
   },
   "outputs": [],
   "source": [
    "sns.pairplot(bitcoin_data[bitcoin_data.columns[[8,9,10,11,13,24]]],hue='Year',palette='afmhot')"
   ]
  },
  {
   "cell_type": "code",
   "execution_count": null,
   "metadata": {
    "collapsed": true,
    "tags": [
     "s3",
     "hint"
    ]
   },
   "outputs": [],
   "source": [
    "Key observations\n",
    "\n",
    "Median confirmation time for a transaction (btc_median_confirmation_time) shows somewhat exponential relationship with avg. transactions per block (btc_n_transactions_per_block)\n",
    "Hash Rate and Difficulty level of the blockchain have strong linear relation. This is expected since larger hash rate will result in faster mining of blocks and the difficulty level will be set accordingly. Please refer Bitcoin Core reference docs for more details.\n",
    "Median confirmation time also exhibits relationship with btc_transaction_fees.\n",
    "Next step, exploration of points 1 and 3."
   ]
  },
  {
   "cell_type": "code",
   "execution_count": null,
   "metadata": {
    "collapsed": true,
    "tags": [
     "s3",
     "ans"
    ]
   },
   "outputs": [],
   "source": [
    "# Median Txn time vs. Log(no. of transactions per block)\n",
    "sns.lmplot('btc_n_transactions_per_block','btc_median_confirmation_time',\n",
    "           data= pd.concat([bitcoin_data['btc_median_confirmation_time'],\n",
    "            np.log(bitcoin_data['btc_n_transactions_per_block']),\n",
    "            bitcoin_data['Year']],axis=1),hue='Year',fit_reg=False)\n",
    "\n",
    "plt.xlabel('Log(No. of transactions/block)')\n",
    "plt.ylabel('Median Time')"
   ]
  },
  {
   "cell_type": "code",
   "execution_count": null,
   "metadata": {
    "collapsed": true,
    "tags": [
     "s3",
     "hid"
    ]
   },
   "outputs": [],
   "source": [
    "#this is assertion block which verifies the solution.\n",
    "\n",
    "try:\n",
    "    def verify_answer():\n",
    "        \"\"\"\n",
    "        enter your verification code here.\n",
    "        return true if your checks pass\n",
    "        eg: \n",
    "        if above_user_answer_var > 100: \n",
    "            return True\n",
    "        else:\n",
    "            return False\n",
    "        \"\"\"\n",
    "\n",
    "    ref_assert_var = verify_answer()\n",
    "except Exception as e:\n",
    "    print('Your assertion block throws error: ' + str(e))\n",
    "else:\n",
    "    if ref_assert_var:\n",
    "        print('continue')\n",
    "    else:\n",
    "        print('The answer did not pass the test.')"
   ]
  },
  {
   "cell_type": "markdown",
   "metadata": {
    "tags": [
     "s4",
     "content"
    ]
   },
   "source": [
    "this is for overfitting problem"
   ]
  },
  {
   "cell_type": "code",
   "execution_count": null,
   "metadata": {
    "collapsed": true,
    "tags": [
     "s4",
     "ce"
    ]
   },
   "outputs": [],
   "source": [
    "sns.lmplot('Avg_Txn_Fee','btc_median_confirmation_time',\n",
    "           data= pd.concat([bitcoin_data['btc_median_confirmation_time'],\n",
    "            bitcoin_data['Year'], bitcoin_data['Avg_Txn_Fee']], axis=1),hue='Year',fit_reg=False)\n",
    "\n",
    "plt.xlabel('Average Transaction fees')\n",
    "plt.ylabel('Median Time')"
   ]
  },
  {
   "cell_type": "markdown",
   "metadata": {
    "tags": [
     "s4",
     "hint"
    ]
   },
   "source": [
    "We see two outliers in 2016 data. Median time close to 30 and Avg. transaction fees > 2.5. Other parameters for these observations are well within their usual ranges and also there was no significant news on that day. Hence, we rule the likely occurence of such possibility and remove these data inputs."
   ]
  },
  {
   "cell_type": "code",
   "execution_count": null,
   "metadata": {
    "collapsed": true,
    "tags": [
     "s4",
     "ans"
    ]
   },
   "outputs": [],
   "source": [
    "bitcoin_data_2015 = bitcoin_data.loc[bitcoin_data['Year']==2015]\n",
    "bitcoin_data_2016 = bitcoin_data.loc[bitcoin_data['Year']==2016]\n",
    "bitcoin_data_2017 = bitcoin_data.loc[bitcoin_data['Year']==2017]\n",
    "\n",
    "bitcoin_data_2016 = bitcoin_data_2016.loc[bitcoin_data_2016['btc_median_confirmation_time'] < 25]\n",
    "bitcoin_data_2016 = bitcoin_data_2016.loc[bitcoin_data_2016['Avg_Txn_Fee']<2.5]"
   ]
  },
  {
   "cell_type": "code",
   "execution_count": null,
   "metadata": {
    "collapsed": true,
    "tags": [
     "s4",
     "hid"
    ]
   },
   "outputs": [],
   "source": [
    "#this is assertion block which verifies the solution.\n",
    "\n",
    "try:\n",
    "    def verify_answer():\n",
    "        \"\"\"\n",
    "        enter your verification code here.\n",
    "        return true if your checks pass\n",
    "        eg: \n",
    "        if above_user_answer_var > 100: \n",
    "            return True\n",
    "        else:\n",
    "            return False\n",
    "        \"\"\"\n",
    "\n",
    "    ref_assert_var = verify_answer()\n",
    "except Exception as e:\n",
    "    print('Your assertion block throws error: ' + str(e))\n",
    "else:\n",
    "    if ref_assert_var:\n",
    "        print('continue')\n",
    "    else:\n",
    "        print('The answer did not pass the test.')"
   ]
  },
  {
   "cell_type": "markdown",
   "metadata": {
    "tags": [
     "s5",
     "content"
    ]
   },
   "source": [
    "# Lets check the correlation between btc_n_transactions_per_block and Avg_Txn_Fee"
   ]
  },
  {
   "cell_type": "code",
   "execution_count": null,
   "metadata": {
    "collapsed": true,
    "tags": [
     "s5",
     "ce"
    ]
   },
   "outputs": [],
   "source": [
    "print(np.corrcoef(bitcoin_data.loc[bitcoin_data['Year'] == 2015,'btc_n_transactions_per_block'],\n",
    "            bitcoin_data.loc[bitcoin_data['Year'] == 2015, 'Avg_Txn_Fee'])[0][1])\n",
    "\n",
    "print(np.corrcoef(bitcoin_data.loc[bitcoin_data['Year'] == 2016,'btc_n_transactions_per_block'],\n",
    "            bitcoin_data.loc[bitcoin_data['Year'] == 2016, 'Avg_Txn_Fee'])[0][1])\n",
    "\n",
    "print(np.corrcoef(bitcoin_data.loc[bitcoin_data['Year'] == 2017,'btc_n_transactions_per_block'],\n",
    "            bitcoin_data.loc[bitcoin_data['Year'] == 2017, 'Avg_Txn_Fee'])[0][1])"
   ]
  },
  {
   "cell_type": "markdown",
   "metadata": {
    "tags": [
     "s5",
     "hint"
    ]
   },
   "source": [
    "Not much correlation, so we can include these two variables in multiple regression."
   ]
  },
  {
   "cell_type": "code",
   "execution_count": null,
   "metadata": {
    "collapsed": true,
    "tags": [
     "s5",
     "ans"
    ]
   },
   "outputs": [],
   "source": [
    "# Regression year 2015\n",
    "# Median confirmation time ~ log(no. of transactions/block) + average transaction fee\n",
    "reg_data_2015 = bitcoin_data_2015[['btc_median_confirmation_time', 'btc_n_transactions_per_block', \n",
    "                                   'Avg_Txn_Fee']]\n",
    "reg_data_2015['log_txn_block'] = reg_data_2015['btc_n_transactions_per_block'].apply(lambda x: np.log(x))\n",
    "reg_data_2015 = reg_data_2015.drop('btc_n_transactions_per_block', axis=1)\n",
    "reg_data_2015_exog = sm.add_constant(reg_data_2015[['Avg_Txn_Fee', 'log_txn_block']], prepend=False)\n",
    "model_2015 = sm.OLS(reg_data_2015['btc_median_confirmation_time'],reg_data_2015_exog)\n",
    "model_2015.fit().summary()"
   ]
  },
  {
   "cell_type": "code",
   "execution_count": null,
   "metadata": {
    "collapsed": true,
    "tags": [
     "s5",
     "hid"
    ]
   },
   "outputs": [],
   "source": [
    "#this is assertion block which verifies the solution.\n",
    "\n",
    "try:\n",
    "    def verify_answer():\n",
    "        \"\"\"\n",
    "        enter your verification code here.\n",
    "        return true if your checks pass\n",
    "        eg: \n",
    "        if above_user_answer_var > 100: \n",
    "            return True\n",
    "        else:\n",
    "            return False\n",
    "        \"\"\"\n",
    "\n",
    "    ref_assert_var = verify_answer()\n",
    "except Exception as e:\n",
    "    print('Your assertion block throws error: ' + str(e))\n",
    "else:\n",
    "    if ref_assert_var:\n",
    "        print('continue')\n",
    "    else:\n",
    "        print('The answer did not pass the test.')"
   ]
  },
  {
   "cell_type": "markdown",
   "metadata": {
    "tags": [
     "s6",
     "content"
    ]
   },
   "source": [
    "Poor fit as demonstrated by R-squared statistic."
   ]
  },
  {
   "cell_type": "code",
   "execution_count": null,
   "metadata": {
    "collapsed": true,
    "tags": [
     "s6",
     "ce"
    ]
   },
   "outputs": [],
   "source": [
    "# Regression year 2016\n",
    "# Median confirmation time ~ log(no. of transactions/block) + average transaction fee\n",
    "reg_data_2016 = bitcoin_data_2016[['btc_median_confirmation_time', 'btc_n_transactions_per_block', 'Avg_Txn_Fee']]\n",
    "reg_data_2016['log_txn_block'] = reg_data_2016['btc_n_transactions_per_block'].apply(lambda x: np.log(x))\n",
    "reg_data_2016 = reg_data_2016.drop('btc_n_transactions_per_block', axis=1)\n",
    "reg_data_2016_exog = sm.add_constant(reg_data_2016[['Avg_Txn_Fee', 'log_txn_block']], prepend=False)\n",
    "model_2016 = sm.OLS(reg_data_2016['btc_median_confirmation_time'],reg_data_2016_exog)\n",
    "model_2016.fit().summary()\n"
   ]
  },
  {
   "cell_type": "code",
   "execution_count": null,
   "metadata": {
    "collapsed": true,
    "tags": [
     "s6",
     "hint"
    ]
   },
   "outputs": [],
   "source": [
    "Key observations\n",
    "\n",
    "Avg_Txn_Fee has positive significant co-efficient meaning miners select transactions into a current block rather greedily which results in delay on average for a transaction with average transaction fees associated with it to get accepted into a block.\n",
    "This is corroborated by research paper by Bitfury Group as well which says that miners first order the transactions by decreasing fee density (transaction fees/size of txn) and then select them.\n",
    "Increase in the number of transactions within a block increases the block size, thereby requiring more time to validate it via proof of work and more time to propogate it over the network. This is known as impedance for a block.\n",
    "This is witnessed by observing the positive co-efficient for log(no_txn_block)."
   ]
  },
  {
   "cell_type": "code",
   "execution_count": null,
   "metadata": {
    "collapsed": true,
    "tags": [
     "s6",
     "ans"
    ]
   },
   "outputs": [],
   "source": [
    "# Regression year 2017\n",
    "# Median confirmation time ~ log(no. of transactions/block) + average transaction fee\n",
    "reg_data_2017 = bitcoin_data_2017[['btc_median_confirmation_time', 'btc_n_transactions_per_block', 'Avg_Txn_Fee']]\n",
    "reg_data_2017['log_txn_block'] = reg_data_2017['btc_n_transactions_per_block'].apply(lambda x: np.log(x))\n",
    "reg_data_2017 = reg_data_2017.drop('btc_n_transactions_per_block', axis=1)\n",
    "reg_data_2017_exog = sm.add_constant(reg_data_2017[['Avg_Txn_Fee', 'log_txn_block']], prepend=False)\n",
    "model_2017 = sm.OLS(reg_data_2017['btc_median_confirmation_time'],reg_data_2017_exog)\n",
    "model_2017.fit().summary()"
   ]
  },
  {
   "cell_type": "code",
   "execution_count": null,
   "metadata": {
    "collapsed": true,
    "tags": [
     "s6",
     "hid"
    ]
   },
   "outputs": [],
   "source": [
    "#this is assertion block which verifies the solution.\n",
    "\n",
    "try:\n",
    "    def verify_answer():\n",
    "        \"\"\"\n",
    "        enter your verification code here.\n",
    "        return true if your checks pass\n",
    "        eg: \n",
    "        if above_user_answer_var > 100: \n",
    "            return True\n",
    "        else:\n",
    "            return False\n",
    "        \"\"\"\n",
    "\n",
    "    ref_assert_var = verify_answer()\n",
    "except Exception as e:\n",
    "    print('Your assertion block throws error: ' + str(e))\n",
    "else:\n",
    "    if ref_assert_var:\n",
    "        print('continue')\n",
    "    else:\n",
    "        print('The answer did not pass the test.')"
   ]
  },
  {
   "cell_type": "markdown",
   "metadata": {
    "tags": [
     "s7",
     "content"
    ]
   },
   "source": [
    "Both the independant variables are still positive but now Avg_Txn_Fee has been proven as insignificant. Probably due to data being more dispersed as shown in the charts above.\n",
    "In both years 2016 and 2017 the Durbin-Watson statistic is around 2 which points to close to insignificant correlation amongst the residuals.\n",
    "Log_txn_block has emerged to be a viable predictor for mean_txn_time for both these years.\n"
   ]
  },
  {
   "cell_type": "code",
   "execution_count": null,
   "metadata": {
    "collapsed": true,
    "tags": [
     "s7",
     "ce"
    ]
   },
   "outputs": [],
   "source": [
    "# Time Series analysis of log of avg. no transactions per block over time.\n",
    "plt.plot(bitcoin_data['Date'], np.log(bitcoin_data['btc_n_transactions_per_block']))\n",
    "plt.xticks(rotation=45)\n",
    "plt.xlabel('Date')\n",
    "plt.ylabel('Log(Avg_n_transactions)')"
   ]
  },
  {
   "cell_type": "markdown",
   "metadata": {
    "tags": [
     "s7",
     "hint"
    ]
   },
   "source": [
    "The series exhibits a trend pattern. Lets see whether, this is time dependant or the series values depend on previous ones. We consider data before 2017 August since Bitcoin blockchain experienced hard fork and was split into BTC Cash and BTC. Hence the sudden downfall in the parameter after 2017-07. We want to isolate our time series from extraneous events which could be considered equivalent of a regime change."
   ]
  },
  {
   "cell_type": "code",
   "execution_count": null,
   "metadata": {
    "collapsed": true,
    "tags": [
     "s7",
     "ans"
    ]
   },
   "outputs": [],
   "source": [
    "block_txn = pd.DataFrame(bitcoin_data.loc[bitcoin_data['Date'] < datetime(2017,7,31), 'btc_n_transactions_per_block'])\n",
    "block_txn['log_txn_block'] = np.log(block_txn[['btc_n_transactions_per_block']])\n",
    "block_txn = block_txn.drop('btc_n_transactions_per_block', axis=1)"
   ]
  },
  {
   "cell_type": "code",
   "execution_count": null,
   "metadata": {
    "collapsed": true,
    "tags": [
     "s7",
     "hid"
    ]
   },
   "outputs": [],
   "source": [
    "#this is assertion block which verifies the solution.\n",
    "\n",
    "try:\n",
    "    def verify_answer():\n",
    "        \"\"\"\n",
    "        enter your verification code here.\n",
    "        return true if your checks pass\n",
    "        eg: \n",
    "        if above_user_answer_var > 100: \n",
    "            return True\n",
    "        else:\n",
    "            return False\n",
    "        \"\"\"\n",
    "\n",
    "    ref_assert_var = verify_answer()\n",
    "except Exception as e:\n",
    "    print('Your assertion block throws error: ' + str(e))\n",
    "else:\n",
    "    if ref_assert_var:\n",
    "        print('continue')\n",
    "    else:\n",
    "        print('The answer did not pass the test.')"
   ]
  },
  {
   "cell_type": "markdown",
   "metadata": {
    "tags": [
     "s8",
     "content"
    ]
   },
   "source": [
    "We regress Log(no. of transactions) = m*t + c where t is time and see whether residuals exhibit correlations. As shown above, there are significant figures for lags 1,2 and periodically in 7, 14, 21 etc. This is an indicator of Seasonality in the series. Next we model our regress our series against lag 1 and lag 7."
   ]
  },
  {
   "cell_type": "code",
   "execution_count": null,
   "metadata": {
    "collapsed": true,
    "tags": [
     "s8",
     "ce"
    ]
   },
   "outputs": [],
   "source": [
    "block_txn['log_txn_block_lag_7'] = block_txn['log_txn_block'].shift(7)\n",
    "block_txn['log_txn_block_lag_1'] = block_txn['log_txn_block'].shift(1)\n",
    "\n",
    "block_txn = block_txn.dropna()\n",
    "model_txn_blk = sm.OLS(block_txn['log_txn_block'], block_txn[['log_txn_block_lag_7', 'log_txn_block_lag_1']])\n",
    "results_txn_blk = model_txn_blk.fit()\n",
    "plot_acf(results_txn_blk.resid, lags=50)"
   ]
  },
  {
   "cell_type": "markdown",
   "metadata": {
    "tags": [
     "s8",
     "hint"
    ]
   },
   "source": [
    "Still some lags persist. However, increasing the number of variables may increase the chances of overfitting. Hence, careful consideration should be given prior to selecting lags. The model, overall proves a good fit. We may also want to test its predictive accuracy for future data.\n",
    "\n",
    "Future studies should focus on modelling the probability of orphan_blocks as a function of other network variables. Miners incentive analysis can be done by feature engineering of our data. Posting update on this soon!"
   ]
  },
  {
   "cell_type": "code",
   "execution_count": null,
   "metadata": {
    "collapsed": true,
    "tags": [
     "s8",
     "ans"
    ]
   },
   "outputs": [],
   "source": [
    "plot_acf(results_txn_blk.resid, lags=50)"
   ]
  }
 ],
 "metadata": {
  "executed_sections": [],
  "kernelspec": {
   "display_name": "Python 3",
   "language": "python",
   "name": "python3"
  },
  "language_info": {
   "codemirror_mode": {
    "name": "ipython",
    "version": 3
   },
   "file_extension": ".py",
   "mimetype": "text/x-python",
   "name": "python",
   "nbconvert_exporter": "python",
   "pygments_lexer": "ipython3",
   "version": "3.5.2"
  }
 },
 "nbformat": 4,
 "nbformat_minor": 2
}