{
 "cells": [
  {
   "cell_type": "markdown",
   "metadata": {
    "tags": [
     "s1",
     "content"
    ]
   },
   "source": [
    "\n",
    "                \n",
    "## Load Dataset\n",
    "                \n",
    "### Read csv file using read_csv\n",
    "            \n",
    "\n"
   ]
  },
  {
   "cell_type": "code",
   "execution_count": null,
   "metadata": {
    "collapsed": true,
    "tags": [
     "s1",
     "ce"
    ]
   },
   "outputs": [],
   "source": [
    "import pandas as pd\n",
    "data_url=\"https://raw.githubusercontent.com/colaberry/data/master/Grad_Students/grad-students.csv\""
   ]
  },
  {
   "cell_type": "markdown",
   "metadata": {
    "tags": [
     "s1",
     "hint"
    ]
   },
   "source": [
    "use read_csv() to read data"
   ]
  },
  {
   "cell_type": "code",
   "execution_count": null,
   "metadata": {
    "collapsed": true,
    "tags": [
     "s1",
     "ans"
    ]
   },
   "outputs": [],
   "source": [
    "import pandas as pd\n",
    "data_url=\"https://raw.githubusercontent.com/colaberry/data/master/Grad_Students/grad-students.csv\"\n",
    "data = pd.read_csv(data_url)"
   ]
  },
  {
   "cell_type": "code",
   "execution_count": 2,
   "metadata": {
    "tags": [
     "s1",
     "hid"
    ]
   },
   "outputs": [
    {
     "ename": "SyntaxError",
     "evalue": "EOL while scanning string literal (<ipython-input-2-db682ecf0bd8>, line 6)",
     "output_type": "error",
     "traceback": [
      "\u001b[0;36m  File \u001b[0;32m\"<ipython-input-2-db682ecf0bd8>\"\u001b[0;36m, line \u001b[0;32m6\u001b[0m\n\u001b[0;31m    if (above_user_answer_var ==\"import pandas as pd\u001b[0m\n\u001b[0m                                                    ^\u001b[0m\n\u001b[0;31mSyntaxError\u001b[0m\u001b[0;31m:\u001b[0m EOL while scanning string literal\n"
     ]
    }
   ],
   "source": [
    "#this is assertion block which verifies the solution.\n",
    "\n",
    "try:\n",
    "    def verify_answer():\n",
    "        \n",
    "        if (above_user_answer_var ==\"import pandas as pd\n",
    "                                    data_url=\"https://raw.githubusercontent.com/colaberry/data/master/Grad_Students/grad-students.csv\"\n",
    "                                    data = pd.read_csv(data_url)\")\n",
    "            return True\n",
    "        else:\n",
    "            return False\n",
    "        \n",
    "\n",
    "    ref_assert_var = verify_answer()\n",
    "except Exception as e:\n",
    "    print('Your assertion block throws error: ' + str(e))\n",
    "else:\n",
    "    if ref_assert_var:\n",
    "        print('continue')\n",
    "    else:\n",
    "        print('The answer did not pass the test.')"
   ]
  },
  {
   "cell_type": "markdown",
   "metadata": {
    "tags": [
     "s2",
     "content"
    ]
   },
   "source": [
    "\n",
    "## Calculate Graduation Employment Rate\n",
    "\n",
    "### Create a column 'GEC' using columns Grad_employed and Grad_total\n"
   ]
  },
  {
   "cell_type": "code",
   "execution_count": null,
   "metadata": {
    "collapsed": true,
    "tags": [
     "s2",
     "ce"
    ]
   },
   "outputs": [],
   "source": [
    "import pandas as pd\n",
    "data_url=\"https://raw.githubusercontent.com/colaberry/data/master/Grad_Students/grad-students.csv\"\n",
    "data = pd.read_csv(data_url)"
   ]
  },
  {
   "cell_type": "markdown",
   "metadata": {
    "tags": [
     "s2",
     "hint"
    ]
   },
   "source": [
    "Use (data.Grad_employed/data.Grad_total)*100 to create a new column"
   ]
  },
  {
   "cell_type": "code",
   "execution_count": null,
   "metadata": {
    "collapsed": true,
    "tags": [
     "s2",
     "ans"
    ]
   },
   "outputs": [],
   "source": [
    "import pandas as pd\n",
    "import numpy as np\n",
    "data_url=\"https://raw.githubusercontent.com/colaberry/data/master/Grad_Students/grad-students.csv\"\n",
    "data = pd.read_csv(data_url)\n",
    "data['GER']=(data.Grad_employed/data.Grad_total)*100\n",
    "data"
   ]
  },
  {
   "cell_type": "code",
   "execution_count": null,
   "metadata": {
    "collapsed": true,
    "tags": [
     "s2",
     "hid"
    ]
   },
   "outputs": [],
   "source": [
    "#this is assertion block which verifies the solution.\n",
    "\n",
    "try:\n",
    "    def verify_answer():\n",
    "        \n",
    "        if (above_user_answer_var ==\"import pandas as pd\n",
    "            data_url=\"https://raw.githubusercontent.com/colaberry/data/master/Grad_Students/grad-students.csv\"\n",
    "            data = pd.read_csv(data_url)\n",
    "            data['GER']=(data.Grad_employed/data.Grad_total)*100\n",
    "            data\")\n",
    "            return True\n",
    "        else:\n",
    "            return False\n",
    "        \n",
    "\n",
    "    ref_assert_var = verify_answer()\n",
    "except Exception as e:\n",
    "    print('Your assertion block throws error: ' + str(e))\n",
    "else:\n",
    "    if ref_assert_var:\n",
    "        print('continue')\n",
    "    else:\n",
    "        print('The answer did not pass the test.')"
   ]
  },
  {
   "cell_type": "markdown",
   "metadata": {
    "tags": [
     "s3",
     "content"
    ]
   },
   "source": [
    "\n",
    "## Creating sample Data Sets\n",
    "\n",
    "### Create random Data Sets dividing the data in 80 : 20 ratio\n"
   ]
  },
  {
   "cell_type": "code",
   "execution_count": null,
   "metadata": {
    "collapsed": true,
    "tags": [
     "s3",
     "ce"
    ]
   },
   "outputs": [],
   "source": [
    "data_train =data[:][:]\n",
    "data_test=data[:][:]"
   ]
  },
  {
   "cell_type": "markdown",
   "metadata": {
    "tags": [
     "s3",
     "hint"
    ]
   },
   "source": [
    "Divide the data in 80:20 ratio"
   ]
  },
  {
   "cell_type": "code",
   "execution_count": null,
   "metadata": {
    "collapsed": true,
    "tags": [
     "s3",
     "ans"
    ]
   },
   "outputs": [],
   "source": [
    "data_train =data[0:140][:]\n",
    "data_test=data[140:][:]\n",
    "data_train\n",
    "data_test"
   ]
  },
  {
   "cell_type": "code",
   "execution_count": null,
   "metadata": {
    "collapsed": true,
    "tags": [
     "s3",
     "hid"
    ]
   },
   "outputs": [],
   "source": [
    "#this is assertion block which verifies the solution.\n",
    "\n",
    "try:\n",
    "    def verify_answer():\n",
    "        \n",
    "        if (above_user_answer_var ==\"data_train =data[0:140][:]\n",
    "                                    data_test=data[140:][:]\n",
    "                                    data_train\n",
    "                                    data_test\")\n",
    "            return True\n",
    "        else:\n",
    "            return False\n",
    "        \n",
    "\n",
    "    ref_assert_var = verify_answer()\n",
    "except Exception as e:\n",
    "    print('Your assertion block throws error: ' + str(e))\n",
    "else:\n",
    "    if ref_assert_var:\n",
    "        print('continue')\n",
    "    else:\n",
    "        print('The answer did not pass the test.')"
   ]
  },
  {
   "cell_type": "markdown",
   "metadata": {
    "tags": [
     "s4",
     "content"
    ]
   },
   "source": [
    "\n",
    "## Using seaborn to create plot \n",
    "\n",
    "### Draw a scatter plot for columns 'Grad_employed' and 'GER'\n"
   ]
  },
  {
   "cell_type": "code",
   "execution_count": null,
   "metadata": {
    "collapsed": true,
    "tags": [
     "s4",
     "ce"
    ]
   },
   "outputs": [],
   "source": [
    "import seaborn as sns\n",
    "g = sns.jointplot"
   ]
  },
  {
   "cell_type": "code",
   "execution_count": null,
   "metadata": {
    "collapsed": true,
    "tags": [
     "s4",
     "hint"
    ]
   },
   "outputs": [],
   "source": [
    "Use sns.jointplot()"
   ]
  },
  {
   "cell_type": "code",
   "execution_count": null,
   "metadata": {
    "collapsed": true,
    "tags": [
     "s4",
     "ans"
    ]
   },
   "outputs": [],
   "source": [
    "import seaborn as sns\n",
    "g = sns.jointplot(\"Grad_employed\", \"GER\", data=data, color=\"r\")\n",
    "sns.plt.show()\n",
    "g1 = sns.jointplot(\"Grad_sample_size\", \"GER\", data=data, color=\"y\")\n",
    "sns.plt.show()\n",
    "g2 = sns.jointplot(\"Grad_share\", \"GER\", data=data, color=\"b\")\n",
    "sns.plt.show()\n",
    "g3 = sns.jointplot(\"Grad_P25\", \"GER\", data=data, color=\"r\")\n",
    "sns.plt.show()\n",
    "g4 = sns.jointplot(\"Grad_P75\", \"GER\", data=data, color=\"r\")\n",
    "sns.plt.show()\n",
    "g5 = sns.jointplot(\"Grad_median\", \"GER\", data=data, color=\"b\")\n",
    "sns.plt.show()"
   ]
  },
  {
   "cell_type": "code",
   "execution_count": null,
   "metadata": {
    "collapsed": true,
    "tags": [
     "s4",
     "hid"
    ]
   },
   "outputs": [],
   "source": [
    "#this is assertion block which verifies the solution.\n",
    "\n",
    "try:\n",
    "    def verify_answer():\n",
    "        \n",
    "        if (above_user_answer_var =='import seaborn as sns\n",
    "                                    g = sns.jointplot(\"Grad_employed\", \"GER\", data=data, color=\"r\")\n",
    "                                    sns.plt.show()\n",
    "                                    g1 = sns.jointplot(\"Grad_sample_size\", \"GER\", data=data, color=\"y\")\n",
    "                                    sns.plt.show()\n",
    "                                    g2 = sns.jointplot(\"Grad_share\", \"GER\", data=data, color=\"b\")\n",
    "                                    sns.plt.show()\n",
    "                                    g3 = sns.jointplot(\"Grad_P25\", \"GER\", data=data, color=\"r\")\n",
    "                                    sns.plt.show()\n",
    "                                    g4 = sns.jointplot(\"Grad_P75\", \"GER\", data=data, color=\"r\")\n",
    "                                    sns.plt.show()\n",
    "                                    g5 = sns.jointplot(\"Grad_median\", \"GER\", data=data, color=\"b\")\n",
    "                                    sns.plt.show()')\n",
    "            return True\n",
    "        else:\n",
    "            return False\n",
    "        \n",
    "\n",
    "    ref_assert_var = verify_answer()\n",
    "except Exception as e:\n",
    "    print('Your assertion block throws error: ' + str(e))\n",
    "else:\n",
    "    if ref_assert_var:\n",
    "        print('continue')\n",
    "    else:\n",
    "        print('The answer did not pass the test.')"
   ]
  },
  {
   "cell_type": "markdown",
   "metadata": {
    "tags": [
     "s5",
     "content"
    ]
   },
   "source": [
    "\n",
    "## Using seaborn to create plot for categorical values\n",
    "\n",
    "### Draw a strip plot for categorical values\n"
   ]
  },
  {
   "cell_type": "code",
   "execution_count": null,
   "metadata": {
    "collapsed": true,
    "tags": [
     "s5",
     "ce"
    ]
   },
   "outputs": [],
   "source": [
    "import seaborn as sns\n",
    "data['Major_category'].unique()"
   ]
  },
  {
   "cell_type": "code",
   "execution_count": null,
   "metadata": {
    "collapsed": true,
    "tags": [
     "s5",
     "hint"
    ]
   },
   "outputs": [],
   "source": [
    "Use stripplot()"
   ]
  },
  {
   "cell_type": "code",
   "execution_count": null,
   "metadata": {
    "collapsed": true,
    "tags": [
     "s5",
     "ans"
    ]
   },
   "outputs": [],
   "source": [
    "import seaborn as sns\n",
    "data['Major_category'].unique()\n",
    "sns.stripplot(x=\"Major_category\", y=\"GER\", data=data, jitter=True)\n",
    "sns.plt.show()"
   ]
  },
  {
   "cell_type": "code",
   "execution_count": null,
   "metadata": {
    "collapsed": true,
    "tags": [
     "s5",
     "hid"
    ]
   },
   "outputs": [],
   "source": [
    "#this is assertion block which verifies the solution.\n",
    "\n",
    "try:\n",
    "    def verify_answer():\n",
    "        \n",
    "        if (above_user_answer_var =='import seaborn as sns\n",
    "                                    data['Major_category'].unique()\n",
    "                                    sns.stripplot(x=\"Major_category\", y=\"GER\", data=data, jitter=True)\n",
    "                                    sns.plt.show()')\n",
    "            return True\n",
    "        else:\n",
    "            return False\n",
    "        \n",
    "\n",
    "    ref_assert_var = verify_answer()\n",
    "except Exception as e:\n",
    "    print('Your assertion block throws error: ' + str(e))\n",
    "else:\n",
    "    if ref_assert_var:\n",
    "        print('continue')\n",
    "    else:\n",
    "        print('The answer did not pass the test.')"
   ]
  },
  {
   "cell_type": "markdown",
   "metadata": {
    "tags": [
     "s6",
     "content"
    ]
   },
   "source": [
    "\n",
    "## Dummies\n",
    "\n",
    "### Create dummies for Major_Category and concatenate it to the dataframe\n"
   ]
  },
  {
   "cell_type": "code",
   "execution_count": null,
   "metadata": {
    "collapsed": true,
    "tags": [
     "s6",
     "ce"
    ]
   },
   "outputs": [],
   "source": [
    "major_cat_dummies=\n",
    "data=pd.concat((data,major_cat_dummies),axis=1)"
   ]
  },
  {
   "cell_type": "code",
   "execution_count": null,
   "metadata": {
    "collapsed": true,
    "tags": [
     "s6",
     "hint"
    ]
   },
   "outputs": [],
   "source": [
    "use get_dummies()"
   ]
  },
  {
   "cell_type": "code",
   "execution_count": null,
   "metadata": {
    "collapsed": true,
    "tags": [
     "s6",
     "ans"
    ]
   },
   "outputs": [],
   "source": [
    "major_cat_dummies=pd.get_dummies(data['Major_category'])\n",
    "data=pd.concat((data,major_cat_dummies),axis=1)"
   ]
  },
  {
   "cell_type": "code",
   "execution_count": null,
   "metadata": {
    "collapsed": true,
    "tags": [
     "s6",
     "hid"
    ]
   },
   "outputs": [],
   "source": [
    "#this is assertion block which verifies the solution.\n",
    "\n",
    "try:\n",
    "    def verify_answer():\n",
    "        \n",
    "        if (above_user_answer_var =='major_cat_dummies=pd.get_dummies(data['Major_category'])')\n",
    "            return True\n",
    "        else:\n",
    "            return False\n",
    "        \n",
    "\n",
    "    ref_assert_var = verify_answer()\n",
    "except Exception as e:\n",
    "    print('Your assertion block throws error: ' + str(e))\n",
    "else:\n",
    "    if ref_assert_var:\n",
    "        print('continue')\n",
    "    else:\n",
    "        print('The answer did not pass the test.')"
   ]
  },
  {
   "cell_type": "markdown",
   "metadata": {
    "tags": [
     "s7",
     "content"
    ]
   },
   "source": [
    "\n",
    "## Calculating Linear Model and predict GER"
   ]
  },
  {
   "cell_type": "code",
   "execution_count": null,
   "metadata": {
    "collapsed": true,
    "tags": [
     "s7",
     "ce"
    ]
   },
   "outputs": [],
   "source": [
    "import statsmodels.formula.api as sm\n",
    "lm =\n",
    "y_hat ="
   ]
  },
  {
   "cell_type": "code",
   "execution_count": null,
   "metadata": {
    "collapsed": true,
    "tags": [
     "s7",
     "hint"
    ]
   },
   "outputs": [],
   "source": [
    "Use ols() and predict()"
   ]
  },
  {
   "cell_type": "code",
   "execution_count": null,
   "metadata": {
    "collapsed": true,
    "tags": [
     "s7",
     "ans"
    ]
   },
   "outputs": [],
   "source": [
    "import statsmodels.formula.api as sm\n",
    "lm = sm.ols(formula='GER ~ Grad_share + Grad_median + Grad_P25', data=data_train).fit()\n",
    "y_hat = lm.predict(data_train[['Grad_share','Grad_P25','Grad_median']])"
   ]
  },
  {
   "cell_type": "code",
   "execution_count": null,
   "metadata": {
    "collapsed": true,
    "tags": [
     "s7",
     "hid"
    ]
   },
   "outputs": [],
   "source": [
    "#this is assertion block which verifies the solution.\n",
    "\n",
    "try:\n",
    "    def verify_answer():\n",
    "        \n",
    "        if (above_user_answer_var =='import statsmodels.formula.api as sm\n",
    "                                    lm = sm.ols(formula='GER ~ Grad_share + Grad_median + Grad_P25', data=data_train).fit()\n",
    "                                    y_hat = lm.predict(data_train[['Grad_share','Grad_P25','Grad_median']])')\n",
    "            return True\n",
    "        else:\n",
    "            return False\n",
    "        \n",
    "\n",
    "    ref_assert_var = verify_answer()\n",
    "except Exception as e:\n",
    "    print('Your assertion block throws error: ' + str(e))\n",
    "else:\n",
    "    if ref_assert_var:\n",
    "        print('continue')\n",
    "    else:\n",
    "        print('The answer did not pass the test.')"
   ]
  },
  {
   "cell_type": "markdown",
   "metadata": {
    "tags": [
     "s8",
     "content"
    ]
   },
   "source": [
    "## Calculate Mean square error "
   ]
  },
  {
   "cell_type": "code",
   "execution_count": null,
   "metadata": {
    "collapsed": true,
    "tags": [
     "s8",
     "ce"
    ]
   },
   "outputs": [],
   "source": [
    "from sklearn.metrics import mean_squared_error\n",
    "mse_lm ="
   ]
  },
  {
   "cell_type": "code",
   "execution_count": null,
   "metadata": {
    "collapsed": true,
    "tags": [
     "s8",
     "hint"
    ]
   },
   "outputs": [],
   "source": [
    "Use mean_squared_error()"
   ]
  },
  {
   "cell_type": "code",
   "execution_count": null,
   "metadata": {
    "collapsed": true,
    "tags": [
     "s8",
     "ans"
    ]
   },
   "outputs": [],
   "source": [
    "from sklearn.metrics import mean_squared_error\n",
    "mse_lm = mean_squared_error(y_hat, data_train[['Grad_share','Grad_median', 'Grad_P25']])\n",
    "print(\"MSE:\", mean_squared_error(y_hat, data_train[['GER']]))"
   ]
  },
  {
   "cell_type": "code",
   "execution_count": null,
   "metadata": {
    "collapsed": true,
    "tags": [
     "s8",
     "hid"
    ]
   },
   "outputs": [],
   "source": [
    "#this is assertion block which verifies the solution.\n",
    "\n",
    "try:\n",
    "    def verify_answer():\n",
    "        \n",
    "        if (above_user_answer_var =='from sklearn.metrics import mean_squared_error\n",
    "                                    mse_lm = mean_squared_error(y_hat, data_train[['Grad_share','Grad_median', 'Grad_P25']])\n",
    "                                    print(\"MSE:\", mean_squared_error(y_hat, data_train[['GER']]))')\n",
    "            return True\n",
    "        else:\n",
    "            return False\n",
    "        \n",
    "\n",
    "    ref_assert_var = verify_answer()\n",
    "except Exception as e:\n",
    "    print('Your assertion block throws error: ' + str(e))\n",
    "else:\n",
    "    if ref_assert_var:\n",
    "        print('continue')\n",
    "    else:\n",
    "        print('The answer did not pass the test.')"
   ]
  },
  {
   "cell_type": "markdown",
   "metadata": {
    "tags": [
     "s9",
     "content"
    ]
   },
   "source": [
    "## Data Validation"
   ]
  },
  {
   "cell_type": "code",
   "execution_count": null,
   "metadata": {
    "collapsed": true,
    "tags": [
     "s9",
     "ce"
    ]
   },
   "outputs": [],
   "source": [
    "y_hat1 ="
   ]
  },
  {
   "cell_type": "code",
   "execution_count": null,
   "metadata": {
    "collapsed": true,
    "tags": [
     "s9",
     "hint"
    ]
   },
   "outputs": [],
   "source": [
    "use predict()"
   ]
  },
  {
   "cell_type": "code",
   "execution_count": null,
   "metadata": {
    "collapsed": true,
    "tags": [
     "s9",
     "ans"
    ]
   },
   "outputs": [],
   "source": [
    "y_hat1 = lm.predict(data_test[['Grad_share','Grad_P25','Grad_median']])\n",
    "y=data_test['GER']\n",
    "print(y-y_hat1)"
   ]
  }
 ],
 "metadata": {
  "executed_sections": [],
  "kernelspec": {
   "display_name": "Python 3",
   "language": "python",
   "name": "python3"
  },
  "language_info": {
   "codemirror_mode": {
    "name": "ipython",
    "version": 3
   },
   "file_extension": ".py",
   "mimetype": "text/x-python",
   "name": "python",
   "nbconvert_exporter": "python",
   "pygments_lexer": "ipython3",
   "version": "3.5.2"
  }
 },
 "nbformat": 4,
 "nbformat_minor": 2
}