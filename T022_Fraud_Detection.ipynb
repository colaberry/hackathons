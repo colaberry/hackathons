{
 "cells": [
  {
   "cell_type": "markdown",
   "metadata": {
    "tags": [
     "s1",
     "content"
    ]
   },
   "source": [
    "# Alpha Solutions Fraud Detection\n",
    "\n",
    "<p>Fraud is the event of illegal access or execution of a transaction. Fraud modeling is the process where large amounts of transactional data is analyzed to identify observations which do not generally follow the regular patterns. Due to this nature of the problem, anamoly detection and some classification techniques are most suited to analyze such problems and draw valuable insights.</p> \n",
    "<br>\n",
    "<h2>1.Ingest the data into a format that is easy for analysis</h2>\n",
    "\n",
    "<h3>Exercise</h3>\n",
    "<p>Load the dataset from github url using read_csv and assign it to fraud</p>\n"
   ]
  },
  {
   "cell_type": "code",
   "execution_count": 59,
   "metadata": {
    "has_completed": true,
    "tags": [
     "s1",
     "ce"
    ]
   },
   "outputs": [
    {
     "name": "stdout",
     "output_type": "stream",
     "text": [
      "      S  A  F  J  G\n",
      "0     0  2  1  0  1\n",
      "1     0  0  1  0  1\n",
      "2     0  2  1  0  1\n",
      "3     0  1  1  0  1\n",
      "4     0  2  0  1  1\n",
      "5     0  1  1  0  1\n",
      "6     0  1  0  1  1\n",
      "7     1  1  1  1  1\n",
      "8     1  2  1  0  1\n",
      "9     1  0  1  0  0\n",
      "10    0  1  0  1  0\n",
      "11    1  1  1  0  1\n",
      "12    1  1  0  1  1\n",
      "13    0  0  1  0  1\n",
      "14    1  1  1  0  1\n",
      "15    1  1  0  1  0\n",
      "16    0  1  1  1  1\n",
      "17    0  2  1  0  1\n",
      "18    0  1  1  0  1\n",
      "19    1  0  1  0  1\n",
      "20    0  1  1  0  1\n",
      "21    0  2  1  0  1\n",
      "22    0  0  1  1  1\n",
      "23    0  0  1  0  1\n",
      "24    0  1  1  0  1\n",
      "25    1  0  0  1  0\n",
      "26    0  1  0  1  1\n",
      "27    1  2  1  0  1\n",
      "28    0  2  1  0  1\n",
      "29    0  1  1  0  1\n",
      "...  .. .. .. .. ..\n",
      "9970  0  0  1  0  1\n",
      "9971  0  2  1  0  1\n",
      "9972  0  1  1  0  1\n",
      "9973  1  1  1  0  1\n",
      "9974  1  1  1  0  1\n",
      "9975  0  2  1  0  1\n",
      "9976  1  1  1  0  1\n",
      "9977  1  2  0  1  1\n",
      "9978  0  0  1  0  1\n",
      "9979  1  2  1  0  1\n",
      "9980  0  0  1  0  1\n",
      "9981  0  1  1  0  1\n",
      "9982  1  1  1  0  1\n",
      "9983  1  1  1  0  1\n",
      "9984  1  2  1  0  1\n",
      "9985  1  0  1  0  1\n",
      "9986  1  1  1  0  1\n",
      "9987  0  1  1  0  1\n",
      "9988  1  2  1  0  1\n",
      "9989  0  1  0  1  1\n",
      "9990  0  1  1  0  1\n",
      "9991  0  2  0  1  1\n",
      "9992  0  0  1  0  1\n",
      "9993  0  0  0  1  1\n",
      "9994  0  1  1  0  1\n",
      "9995  0  0  0  1  1\n",
      "9996  1  0  1  0  1\n",
      "9997  0  0  1  0  1\n",
      "9998  1  2  1  1  1\n",
      "9999  0  1  1  0  1\n",
      "\n",
      "[10000 rows x 5 columns]\n"
     ]
    }
   ],
   "source": [
    "import pandas as pd\n",
    "url=\"https://raw.githubusercontent.com/colaberry/data/master/Fraud/fraud_data.csv\"\n",
    "fraud=pd.read_csv(url)\n",
    "print(fraud)"
   ]
  },
  {
   "cell_type": "markdown",
   "metadata": {
    "tags": [
     "s1",
     "hint"
    ]
   },
   "source": [
    "Use read_csv(url) to read dataset"
   ]
  },
  {
   "cell_type": "code",
   "execution_count": null,
   "metadata": {
    "collapsed": true,
    "tags": [
     "s1",
     "ans"
    ]
   },
   "outputs": [],
   "source": []
  },
  {
   "cell_type": "code",
   "execution_count": null,
   "metadata": {
    "collapsed": true,
    "tags": [
     "s1",
     "hid"
    ]
   },
   "outputs": [],
   "source": [
    "#this is assertion block which verifies the solution.\n",
    "\n",
    "try:\n",
    "    def verify_answer():\n",
    "        \"\"\"\n",
    "        enter your verification code here.\n",
    "        return true if your checks pass\n",
    "        eg: \n",
    "        if above_user_answer_var > 100: \n",
    "            return True\n",
    "        else:\n",
    "            return False\n",
    "      \"\"\"\n",
    "    ref_assert_var = True\n",
    "except Exception as e: \n",
    "    print('Your assertion block throws error: ' + str(e))\n",
    "else:\n",
    "    if ref_assert_var:\n",
    "        print('continue')\n",
    "    else:\n",
    "        print('The answer did not pass the test.')"
   ]
  },
  {
   "cell_type": "markdown",
   "metadata": {
    "tags": [
     "s2",
     "content"
    ]
   },
   "source": [
    "<h3>Assign features and target to variables</h3>\n",
    "\n",
    "<h3>Exercise</h3>\n",
    "<p>Assign features to  var X and target to var y</p>"
   ]
  },
  {
   "cell_type": "code",
   "execution_count": 60,
   "metadata": {
    "collapsed": true,
    "has_completed": true,
    "tags": [
     "s2",
     "ce"
    ]
   },
   "outputs": [],
   "source": [
    "features=['S','A','J','G']\n",
    "target='F'\n",
    "X=fraud[features]\n",
    "y=fraud[target]\n"
   ]
  },
  {
   "cell_type": "markdown",
   "metadata": {
    "tags": [
     "s2",
     "hint"
    ]
   },
   "source": [
    "use syntax\n",
    "var=dataset_name[features]"
   ]
  },
  {
   "cell_type": "code",
   "execution_count": null,
   "metadata": {
    "collapsed": true,
    "tags": [
     "s2",
     "ans"
    ]
   },
   "outputs": [],
   "source": []
  },
  {
   "cell_type": "code",
   "execution_count": null,
   "metadata": {
    "collapsed": true,
    "tags": [
     "s2",
     "hid"
    ]
   },
   "outputs": [],
   "source": [
    "#this is assertion block which verifies the solution.\n",
    "\n",
    "try:\n",
    "    def verify_answer():\n",
    "        \"\"\"\n",
    "        enter your verification code here.\n",
    "        return true if your checks pass\n",
    "        eg: \n",
    "        if above_user_answer_var > 100: \n",
    "            return True\n",
    "        else:\n",
    "            return False\n",
    "        \"\"\"\n",
    "\n",
    "    ref_assert_var = True\n",
    "except Exception as e:\n",
    "    print('Your assertion block throws error: ' + str(e))\n",
    "else:\n",
    "    if ref_assert_var:\n",
    "        print('continue')\n",
    "    else:\n",
    "        print('Please follow the instructions given and use the same variables provided in the instructions ')"
   ]
  },
  {
   "cell_type": "markdown",
   "metadata": {
    "tags": [
     "s3",
     "content"
    ]
   },
   "source": [
    "<h2>2.Perform Exploratory Data Analysis on the dataset.</h2>\n",
    "<p>Use different plots(i.e,Histogram,Pie chart) to visualize your data and perform EDA on the dataset</p>\n",
    "\n",
    "<h3>Histogram</h3>\n",
    "<p>A histogram is a simple visualization of data where bins are defined, and the number of data points within each bin is tallied.</p>\n",
    "<p>\n",
    "import matplotlib.pyplot as plt<br>\n",
    "fig=plt.figure() <br>\n",
    "ax = fig.add_subplot(1,1,1)<br>\n",
    "ax.hist(fraud['J'],bins = 7) <br>\n",
    "plt.show()\n",
    "</p>\n",
    "<b>\n",
    " <h3>Observation :</h3>\n",
    " <p>From the below graph,it is observed that,at 0 level of jewelry,frauds detected are maximum.At level 1,the frauds detected are minimum.<p></b>\n",
    " \n",
    "\n",
    "<h3>Exercise</h3>\n",
    "<p>Use matplotlib library and plot a histogram using var ax with  Jewelry on X-axis and Fraud on Y-axis</p>"
   ]
  },
  {
   "cell_type": "code",
   "execution_count": 61,
   "metadata": {
    "has_completed": true,
    "tags": [
     "s3",
     "ce"
    ]
   },
   "outputs": [
    {
     "data": {
      "image/png": "[encoded data removed]",
      "text/plain": [
       "<matplotlib.figure.Figure at 0x7f1068b90c88>"
      ]
     },
     "metadata": {},
     "output_type": "display_data"
    }
   ],
   "source": [
    "import matplotlib.pyplot as plt\n",
    "import matplotlib.pyplot as plt\n",
    "fig=plt.figure() \n",
    "ax = fig.add_subplot(1,1,1)\n",
    "ax.hist(fraud['J'],bins = 7) \n",
    "plt.title('Jewelry distribution')\n",
    "plt.xlabel('Jewelry')\n",
    "plt.ylabel('Fraud')\n",
    "plt.show()\n",
    "\n",
    "\n"
   ]
  },
  {
   "cell_type": "markdown",
   "metadata": {
    "tags": [
     "s3",
     "hint"
    ]
   },
   "source": [
    "var.hist(dataset_name['feature'],bins = 7) "
   ]
  },
  {
   "cell_type": "code",
   "execution_count": null,
   "metadata": {
    "collapsed": true,
    "tags": [
     "s3",
     "ans"
    ]
   },
   "outputs": [],
   "source": []
  },
  {
   "cell_type": "code",
   "execution_count": null,
   "metadata": {
    "collapsed": true,
    "tags": [
     "s3",
     "hid"
    ]
   },
   "outputs": [],
   "source": [
    "#this is assertion block which verifies the solution.\n",
    "\n",
    "try:\n",
    "    def verify_answer():\n",
    "        \"\"\"\n",
    "        enter your verification code here.\n",
    "        return true if your checks pass\n",
    "        eg: \n",
    "        if above_user_answer_var > 100: \n",
    "            return True\n",
    "        else:\n",
    "            return False\n",
    "        \"\"\"\n",
    "    \n",
    "    ref_assert_var = True\n",
    "except Exception as e:\n",
    "    print('Your assertion block throws error: ' + str(e))\n",
    "else:\n",
    "    if ref_assert_var:\n",
    "        print('continue')\n",
    "    else:\n",
    "        print('The answer did not pass the test.')"
   ]
  },
  {
   "cell_type": "markdown",
   "metadata": {
    "tags": [
     "s4",
     "content"
    ]
   },
   "source": [
    "<h3>Line Chart</h3>\n",
    "<p></p>\n",
    "<p>\n",
    "var = fraud.groupby('J').F.sum()<br>\n",
    "fig = plt.figure()<br>\n",
    "ax1 = fig.add_subplot(1,1,1)<br>\n",
    "var.plot(kind='line')<br>\n",
    "</p>\n",
    "<b>\n",
    "<h3>Observation :</h3>\n",
    "<p>From the below graph,it is observed that,at 0 level of jewelry,frauds detected are maximum.At level 1,the frauds detected are minimum.As the values of jewerly increases, the values of fraud detection decreases.<p></b>\n",
    "\n",
    "<h3>Exercise</h3>\n",
    "<p>Use matplotlib library and plot a linechart using ax1 var with  Jewelry on X-axis and Fraud on Y-axis</p>"
   ]
  },
  {
   "cell_type": "code",
   "execution_count": 62,
   "metadata": {
    "has_completed": true,
    "scrolled": true,
    "tags": [
     "s4",
     "ce"
    ]
   },
   "outputs": [
    {
     "data": {
      "text/plain": [
       "<matplotlib.axes._subplots.AxesSubplot at 0x7f1073d3ecc0>"
      ]
     },
     "execution_count": 62,
     "metadata": {},
     "output_type": "execute_result"
    },
    {
     "data": {
      "image/png": "[encoded data removed]",
      "text/plain": [
       "<matplotlib.figure.Figure at 0x7f1073d3ebe0>"
      ]
     },
     "metadata": {},
     "output_type": "display_data"
    }
   ],
   "source": [
    "var = fraud.groupby('J').F.sum()\n",
    "fig = plt.figure()\n",
    "var.plot(kind='line')\n",
    "ax1 = fig.add_subplot(1,1,1)\n",
    "ax1.set_xlabel('Jewelry')\n",
    "ax1.set_ylabel('Fraud')\n",
    "ax1.set_title(\"Jewelry vs Fraud\")\n",
    "var.plot(kind='line')"
   ]
  },
  {
   "cell_type": "markdown",
   "metadata": {
    "tags": [
     "s4",
     "hint"
    ]
   },
   "source": [
    "var = fig.add_subplot(1,1,1)"
   ]
  },
  {
   "cell_type": "code",
   "execution_count": null,
   "metadata": {
    "collapsed": true,
    "tags": [
     "s4",
     "ans"
    ]
   },
   "outputs": [],
   "source": []
  },
  {
   "cell_type": "code",
   "execution_count": null,
   "metadata": {
    "collapsed": true,
    "tags": [
     "s4",
     "hid"
    ]
   },
   "outputs": [],
   "source": [
    "#this is assertion block which verifies the solution.\n",
    "\n",
    "try:\n",
    "    def verify_answer():\n",
    "        \"\"\"\n",
    "        enter your verification code here.\n",
    "        return true if your checks pass\n",
    "        eg: \n",
    "        if above_user_answer_var > 100: \n",
    "            return True\n",
    "        else:\n",
    "            return False\n",
    "        \"\"\"\n",
    "     \n",
    "    ref_assert_var = True\n",
    "except Exception as e:\n",
    "    print('Your assertion block throws error: ' + str(e))\n",
    "else:\n",
    "    if ref_assert_var:\n",
    "        print('continue')\n",
    "    else:\n",
    "        print('The answer did not pass the test.')"
   ]
  },
  {
   "cell_type": "markdown",
   "metadata": {
    "tags": [
     "s5",
     "content"
    ]
   },
   "source": [
    "<h3>Pie Chart</h3>\n",
    "<p></p>\n",
    "<p>\n",
    "var=fraud.groupby(['J']).sum().stack()\n",
    "temp=var.unstack()\n",
    "x_list = temp['F']\n",
    "label_list = temp.index\n",
    "plt.pie(x_list,labels=label_list,autopct=\"%1.1f%%\") \n",
    "plt.show()\n",
    "</p>\n",
    "\n",
    "<b>\n",
    "<h3>Observation :</h3>\n",
    "<p>From the below chart,it is observed that,at 0 level of jewelry,94% of frauds are detected .<p></b>\n",
    "\n",
    "\n",
    "<h3>Exercise</h3>\n",
    "<p>Use matplotlib library and plot a Pie chart with  Jewelry on X-axis and Fraud on Y-axis</p>"
   ]
  },
  {
   "cell_type": "code",
   "execution_count": 63,
   "metadata": {
    "has_completed": true,
    "tags": [
     "s5",
     "ce"
    ]
   },
   "outputs": [
    {
     "data": {
      "image/png": "[encoded data removed]",
      "text/plain": [
       "<matplotlib.figure.Figure at 0x7f10690fd3c8>"
      ]
     },
     "metadata": {},
     "output_type": "display_data"
    }
   ],
   "source": [
    "var=fraud.groupby(['J']).sum().stack()\n",
    "temp=var.unstack()\n",
    "type(temp)\n",
    "x_list = temp['F']\n",
    "label_list = temp.index\n",
    "plt.axis(\"equal\") #The pie chart is oval by default. To make it a circle use pyplot.axis(\"equal\")\n",
    "#To show the percentage of each pie slice, pass an output format to the autopctparameter \n",
    "plt.pie(x_list,labels=label_list,autopct=\"%1.1f%%\") \n",
    "plt.title(\"Pastafarianism expenses\")\n",
    "plt.show()"
   ]
  },
  {
   "cell_type": "markdown",
   "metadata": {
    "tags": [
     "s5",
     "hint"
    ]
   },
   "source": [
    "plt.pie(x_list,labels=label_list,autopct=\"%1.1f%%\") "
   ]
  },
  {
   "cell_type": "code",
   "execution_count": null,
   "metadata": {
    "collapsed": true,
    "tags": [
     "s5",
     "ans"
    ]
   },
   "outputs": [],
   "source": []
  },
  {
   "cell_type": "code",
   "execution_count": null,
   "metadata": {
    "collapsed": true,
    "tags": [
     "s5",
     "hid"
    ]
   },
   "outputs": [],
   "source": [
    "#this is assertion block which verifies the solution.\n",
    "\n",
    "try:\n",
    "    def verify_answer():\n",
    "        \"\"\"\n",
    "        enter your verification code here.\n",
    "        return true if your checks pass\n",
    "        eg: \n",
    "        if above_user_answer_var > 100: \n",
    "            return True\n",
    "        else:\n",
    "            return False\n",
    "        \n",
    "       \"\"\"\n",
    "    ref_assert_var = True\n",
    "except Exception as e:\n",
    "    print('Your assertion block throws error: ' + str(e))\n",
    "else:\n",
    "    if ref_assert_var:\n",
    "        print('continue')\n",
    "    else:\n",
    "        print('The answer did not pass the test.')"
   ]
  },
  {
   "cell_type": "markdown",
   "metadata": {
    "tags": [
     "s6",
     "content"
    ]
   },
   "source": [
    "<h2>3.Perform classification on the dataset to detect fraud.(By using Logistic Regression)</h2>\n",
    "<p>In statistics, logistic regression, or logit regression, or logit model is a regression model where the dependent variable (DV) is categorical. This article covers the case of a binary dependent variable—that is, where the output can take only two values, \"0\" and \"1\", which represent outcomes such as pass/fail, win/lose, alive/dead or healthy/sick. Cases where the dependent variable has more than two outcome categories may be analysed in multinomial logistic regression, or, if the multiple categories are ordered, in ordinal logistic regression.</p>\n",
    "\n",
    "<p>logreg=LogisticRegression(penalty='l1',C=20.0)<br>\n",
    "logreg.fit(features,target)</p>\n",
    "\n",
    "<h3>Exercise</h3>\n",
    "<p>Create a logistic regression model and Fit X,y variables into a var logreg</p>"
   ]
  },
  {
   "cell_type": "code",
   "execution_count": 64,
   "metadata": {
    "has_completed": true,
    "tags": [
     "s6",
     "ce"
    ]
   },
   "outputs": [
    {
     "data": {
      "text/plain": [
       "LogisticRegression(C=20.0, class_weight=None, dual=False, fit_intercept=True,\n",
       "          intercept_scaling=1, max_iter=100, multi_class='ovr', n_jobs=1,\n",
       "          penalty='l1', random_state=None, solver='liblinear', tol=0.0001,\n",
       "          verbose=0, warm_start=False)"
      ]
     },
     "execution_count": 64,
     "metadata": {},
     "output_type": "execute_result"
    }
   ],
   "source": [
    "from sklearn.linear_model import LogisticRegression\n",
    "from sklearn.linear_model import LogisticRegression\n",
    "logreg=LogisticRegression(penalty='l1',C=20.0)\n",
    "logreg.fit(X,y)\n"
   ]
  },
  {
   "cell_type": "markdown",
   "metadata": {
    "tags": [
     "s6",
     "hint"
    ]
   },
   "source": [
    "logreg.fit(X,y)"
   ]
  },
  {
   "cell_type": "code",
   "execution_count": null,
   "metadata": {
    "collapsed": true,
    "tags": [
     "s6",
     "ans"
    ]
   },
   "outputs": [],
   "source": []
  },
  {
   "cell_type": "code",
   "execution_count": null,
   "metadata": {
    "collapsed": true,
    "tags": [
     "s6",
     "hid"
    ]
   },
   "outputs": [],
   "source": [
    "#this is assertion block which verifies the solution.\n",
    "\n",
    "try:\n",
    "    def verify_answer():\n",
    "        \"\"\"\n",
    "        enter your verification code here.\n",
    "        return true if your checks pass\n",
    "        eg: \n",
    "        if above_user_answer_var > 100: \n",
    "            return True\n",
    "        else:\n",
    "            return False\n",
    "        \"\"\"\n",
    "\n",
    "    ref_assert_var = True\n",
    "except Exception as e:\n",
    "    print('Your assertion block throws error: ' + str(e))\n",
    "else:\n",
    "    if ref_assert_var:\n",
    "        print('continue')\n",
    "    else:\n",
    "         print('Please follow the instructions given and use the same variables provided in the instructions ')"
   ]
  },
  {
   "cell_type": "markdown",
   "metadata": {
    "tags": [
     "s7",
     "content"
    ]
   },
   "source": [
    "\n",
    "\n",
    "### Predict Target values\n",
    "<p>We can predict target values using predict() function<p>\n",
    "<h3>Exercise</h3>\n",
    "<p>predict values into a variable pre and print it</p>"
   ]
  },
  {
   "cell_type": "code",
   "execution_count": 65,
   "metadata": {
    "has_completed": true,
    "scrolled": true,
    "tags": [
     "s7",
     "ce"
    ]
   },
   "outputs": [
    {
     "name": "stdout",
     "output_type": "stream",
     "text": [
      "[1 0]\n"
     ]
    }
   ],
   "source": [
    "pre=logreg.predict([[0,2,0,1],[1,1,1,0]])\n",
    "print(pre)"
   ]
  },
  {
   "cell_type": "markdown",
   "metadata": {
    "tags": [
     "s7",
     "hint"
    ]
   },
   "source": [
    "logreg.predict([[0,2,0,1],[1,1,1,0]])"
   ]
  },
  {
   "cell_type": "code",
   "execution_count": null,
   "metadata": {
    "collapsed": true,
    "tags": [
     "s7",
     "ans"
    ]
   },
   "outputs": [],
   "source": []
  },
  {
   "cell_type": "code",
   "execution_count": null,
   "metadata": {
    "collapsed": true,
    "tags": [
     "s7",
     "hid"
    ]
   },
   "outputs": [],
   "source": [
    "#this is assertion block which verifies the solution.\n",
    "\n",
    "try:\n",
    "    def verify_answer():\n",
    "        \"\"\"\n",
    "        enter your verification code here.\n",
    "        return true if your checks pass\n",
    "        eg: \n",
    "        if above_user_answer_var > 100: \n",
    "            return True\n",
    "        else:\n",
    "            return False\n",
    "        \"\"\"\n",
    "\n",
    "    ref_assert_var = True\n",
    "except Exception as e:\n",
    "    print('Your assertion block throws error: ' + str(e))\n",
    "else:\n",
    "    if ref_assert_var:\n",
    "        print('continue')\n",
    "    else:\n",
    "        print('Please follow the instructions given and use the same variables provided in the instructions ')"
   ]
  },
  {
   "cell_type": "markdown",
   "metadata": {
    "tags": [
     "s8",
     "content"
    ]
   },
   "source": [
    "               \n",
    "### Training  and Testing Data\n",
    "<p>Use train_test_split() to split data into train and test items.It is recommended to split 70% train data and 30% test data<br>\n",
    "X_train,X_test,y_train,y_test=train_test_split(X,y,test_size=0.3)</p>\n",
    "<p>Then predict values by fitting trained data into the model <br>\n",
    "logreg.fit(X_train,y_train)</p>\n",
    "\n",
    "<b>\n",
    "<h3>Observation :</h3>\n",
    "<p>From the below report,it is observed that,at 0 level of jewelry frauds are detected with  0.69 precision and at 1 level of jewelry frauds are detected with 0.99 precision.<p></b>\n",
    "\n",
    "\n",
    "<h3>Exercise</h3>\n",
    "<p>Split data into train and target and Predict values into a variable pre and print it</p>\n",
    "        "
   ]
  },
  {
   "cell_type": "code",
   "execution_count": 66,
   "metadata": {
    "has_completed": true,
    "tags": [
     "s8",
     "ce"
    ]
   },
   "outputs": [
    {
     "name": "stdout",
     "output_type": "stream",
     "text": [
      "[1 1 1 ..., 1 1 1]\n",
      "             precision    recall  f1-score   support\n",
      "\n",
      "          0       0.67      0.95      0.79       286\n",
      "          1       0.99      0.95      0.97      2714\n",
      "\n",
      "avg / total       0.96      0.95      0.95      3000\n",
      "\n"
     ]
    }
   ],
   "source": [
    "from sklearn.model_selection import train_test_split\n",
    "from sklearn.metrics import classification_report,accuracy_score\n",
    "X_train,X_test,y_train,y_test=train_test_split(X,y,test_size=0.3)\n",
    "logreg.fit(X_train,y_train)\n",
    "pre=logreg.predict(X_test)\n",
    "print(pre)\n",
    "print(classification_report(y_test, pre))\n"
   ]
  },
  {
   "cell_type": "markdown",
   "metadata": {
    "tags": [
     "s8",
     "hint"
    ]
   },
   "source": [
    "logreg.fit(X_train,y_train)"
   ]
  },
  {
   "cell_type": "code",
   "execution_count": null,
   "metadata": {
    "collapsed": true,
    "tags": [
     "s8",
     "ans"
    ]
   },
   "outputs": [],
   "source": []
  },
  {
   "cell_type": "code",
   "execution_count": null,
   "metadata": {
    "collapsed": true,
    "tags": [
     "s8",
     "hid"
    ]
   },
   "outputs": [],
   "source": [
    "#this is assertion block which verifies the solution.\n",
    "\n",
    "try:\n",
    "    def verify_answer():\n",
    "        \"\"\"\n",
    "        enter your verification code here.\n",
    "        return true if your checks pass\n",
    "        eg: \n",
    "        if above_user_answer_var > 100: \n",
    "            return True\n",
    "        else:\n",
    "            return False\n",
    "        \"\"\"\n",
    "\n",
    "    ref_assert_var = True\n",
    "except Exception as e:\n",
    "    print('Your assertion block throws error: ' + str(e))\n",
    "else:\n",
    "    if ref_assert_var:\n",
    "        print('continue')\n",
    "    else:\n",
    "        print('Please follow the instructions given and use the same variables provided in the instructions ')"
   ]
  },
  {
   "cell_type": "markdown",
   "metadata": {
    "tags": [
     "s9",
     "content"
    ]
   },
   "source": [
    "              \n",
    "### Perform classification\n",
    "<p>Use classification_report() method with original and predicted values to obtain classification report</p>\n",
    "\n",
    "<h3>Exercise</h3>\n",
    "<p>calculate classification report and print it</p>\n",
    "\n"
   ]
  },
  {
   "cell_type": "code",
   "execution_count": 67,
   "metadata": {
    "has_completed": true,
    "scrolled": false,
    "tags": [
     "s9",
     "ce"
    ]
   },
   "outputs": [
    {
     "name": "stdout",
     "output_type": "stream",
     "text": [
      "             precision    recall  f1-score   support\n",
      "\n",
      "          0       0.67      0.95      0.79       286\n",
      "          1       0.99      0.95      0.97      2714\n",
      "\n",
      "avg / total       0.96      0.95      0.95      3000\n",
      "\n"
     ]
    }
   ],
   "source": [
    "from sklearn.metrics import classification_report\n",
    "print(classification_report(y_test, pre))"
   ]
  },
  {
   "cell_type": "markdown",
   "metadata": {
    "tags": [
     "s9",
     "hint"
    ]
   },
   "source": [
    "print(classification_report(target_test, predicted data))"
   ]
  },
  {
   "cell_type": "code",
   "execution_count": null,
   "metadata": {
    "collapsed": true,
    "tags": [
     "s9",
     "ans"
    ]
   },
   "outputs": [],
   "source": []
  },
  {
   "cell_type": "code",
   "execution_count": null,
   "metadata": {
    "collapsed": true,
    "tags": [
     "s9",
     "hid"
    ]
   },
   "outputs": [],
   "source": [
    "#this is assertion block which verifies the solution.\n",
    "\n",
    "try:\n",
    "    def verify_answer():\n",
    "        \"\"\"\n",
    "        enter your verification code here.\n",
    "        return true if your checks pass\n",
    "        eg: \n",
    "        if above_user_answer_var > 100: \n",
    "            return True\n",
    "        else:\n",
    "            return False\n",
    "        \"\"\"\n",
    "\n",
    "    ref_assert_var = True\n",
    "except Exception as e:\n",
    "    print('Your assertion block throws error: ' + str(e))\n",
    "else:\n",
    "    if ref_assert_var:\n",
    "        print('continue')\n",
    "    else:\n",
    "        print('Please follow the instructions given and use the same variables provided in the instructions ')"
   ]
  },
  {
   "cell_type": "markdown",
   "metadata": {
    "tags": [
     "s10",
     "content"
    ]
   },
   "source": [
    "  \n",
    "                \n",
    "### Calculating accuracy scores\n",
    "<p>By evaluating accuracy scores we can find out optimized algorithm.By varying the values of parameters in logistic regression,the accuracy scores will also vary.\n",
    "Use accuracy_scores() method with original and predicted values to obtain classification report</p>\n",
    "\n",
    "<h3>Exercise</h3>\n",
    "<p>calculate accuracy scores  and print it</p>\n",
    "\n",
    "        \n",
    "\n"
   ]
  },
  {
   "cell_type": "code",
   "execution_count": 68,
   "metadata": {
    "has_completed": true,
    "scrolled": false,
    "tags": [
     "s10",
     "ce"
    ]
   },
   "outputs": [
    {
     "name": "stdout",
     "output_type": "stream",
     "text": [
      "0.951\n"
     ]
    }
   ],
   "source": [
    "from sklearn.metrics import accuracy_score\n",
    "print (accuracy_score(y_test,pre))"
   ]
  },
  {
   "cell_type": "markdown",
   "metadata": {
    "tags": [
     "s10",
     "hint"
    ]
   },
   "source": [
    "print (metrics.accuracy_score(target_test,predicted values))"
   ]
  },
  {
   "cell_type": "code",
   "execution_count": null,
   "metadata": {
    "collapsed": true,
    "tags": [
     "s10",
     "ans"
    ]
   },
   "outputs": [],
   "source": []
  },
  {
   "cell_type": "code",
   "execution_count": null,
   "metadata": {
    "collapsed": true,
    "tags": [
     "s10",
     "hid"
    ]
   },
   "outputs": [],
   "source": [
    "#this is assertion block which verifies the solution.\n",
    "\n",
    "try:\n",
    "    def verify_answer():\n",
    "        \"\"\"\n",
    "        enter your verification code here.\n",
    "        return true if your checks pass\n",
    "        eg: \n",
    "        if above_user_answer_var > 100: \n",
    "            return True\n",
    "        else:\n",
    "            return False\n",
    "        \"\"\"\n",
    "\n",
    "    ref_assert_var = True\n",
    "except Exception as e:\n",
    "    print('Your assertion block throws error: ' + str(e))\n",
    "else:\n",
    "    if ref_assert_var:\n",
    "        print('continue')\n",
    "    else:\n",
    "        print('Please follow the instructions given and use the same variables provided in the instructions ')"
   ]
  },
  {
   "cell_type": "markdown",
   "metadata": {
    "tags": [
     "s11",
     "content"
    ]
   },
   "source": [
    "  \n",
    "                \n",
    "### Calculating \n",
    "<p>MSE means Mean squared error.The MSE is a measure of the quality of an estimator—it is always non-negative, and values closer to zero are better.</p>\n",
    "<p>R-squared is a value between 0 and 1.0 to measure how well the dependent variables are effectively modeling the target variable. The higher the value, the better that the dependent variables explain the fit. Here we see that the R-squared is a low value closer to 0.0 which shows that the crime rate alone is not a good indicator of the housing rate.<br>\n",
    "r_squared = lm.rsquared</p>\n",
    "\n",
    "<h3>Exercise</h3>\n",
    "<p>calculate mse value and assign it to mse_lm and print it.Calculate rsquared value and assign it to r_squared and print it</p>\n",
    "\n",
    "        \n",
    "\n"
   ]
  },
  {
   "cell_type": "code",
   "execution_count": 69,
   "metadata": {
    "has_completed": true,
    "tags": [
     "s11",
     "ce"
    ]
   },
   "outputs": [
    {
     "name": "stdout",
     "output_type": "stream",
     "text": [
      "MSE: 0.0374320479355 R-Squared:  0.574216034633\n"
     ]
    }
   ],
   "source": [
    "import statsmodels.formula.api as sm\n",
    "from sklearn.metrics import mean_squared_error\n",
    "fraud['F'] = fraud[target]\n",
    "lm = sm.ols(formula='F ~ J',data=fraud).fit()\n",
    "y_hat = lm.predict(fraud['J'])\n",
    "mse_lm=mean_squared_error(fraud['F'].values,y_hat)\n",
    "r_squared = lm.rsquared\n",
    "print(\"MSE:\", mse_lm, \"R-Squared: \", r_squared)"
   ]
  },
  {
   "cell_type": "markdown",
   "metadata": {
    "tags": [
     "s11",
     "hint"
    ]
   },
   "source": [
    "lm = sm.ols(formula='F ~ J',data=fraud).fit()\n",
    "y_hat = lm.predict(fraud['J'])\n",
    "mse_lm=mean_squared_error(fraud['F'].values,y_hat)"
   ]
  },
  {
   "cell_type": "code",
   "execution_count": null,
   "metadata": {
    "collapsed": true,
    "tags": [
     "s11",
     "ans"
    ]
   },
   "outputs": [],
   "source": []
  }
 ],
 "metadata": {
  "executed_sections": [
   "s11"
  ],
  "kernelspec": {
   "display_name": "Python 3",
   "language": "python",
   "name": "python3"
  },
  "language_info": {
   "codemirror_mode": {
    "name": "ipython",
    "version": 3
   },
   "file_extension": ".py",
   "mimetype": "text/x-python",
   "name": "python",
   "nbconvert_exporter": "python",
   "pygments_lexer": "ipython3",
   "version": "3.5.2"
  }
 },
 "nbformat": 4,
 "nbformat_minor": 2
}