{
 "cells": [
  {
   "cell_type": "markdown",
   "metadata": {
    "tags": [
     "s1",
     "content"
    ]
   },
   "source": [
    "\n",
    "## EDA for the Bitcoin price analysis\n",
    "\n",
    "### Data Description\n",
    "\n",
    "Historic price of bitcoins are provided for analysis. Our task is toIngest the data into a format that is easy for analysis.\n",
    "Perform Exploratory Data Analysis on the dataset.\n",
    "Can you  predict the future price of the dataset?\n",
    "\n",
    "#### Goal\n",
    "The goals of this course are:\n",
    "\n",
    "To gain powerful insights into from the data that cannnot be drawn from normal statistical calculations.\n",
    "Business and trade audience are able to understand  the results.\n",
    "Useful for data analyst as practice data and scientists can understand the analysis.\n",
    "\n",
    "### Libraries\n",
    "In this course, we will learn how to use pandas to read data, use Matplotlib for data visualization, and use scikit-learn to build linear regression model.\n",
    "\n",
    "### Reading into a Dataframe\n",
    "Dataframes are a part of the library called Pandas. One of the versatile features of pandas dataframe is that, it can read the data by just specifying the link in the read_csv() function.\n",
    "\n"
   ]
  },
  {
   "cell_type": "code",
   "execution_count": null,
   "metadata": {
    "collapsed": true,
    "tags": [
     "s1",
     "ce"
    ]
   },
   "outputs": [],
   "source": [
    "\n",
    "import pandas as pd\n",
    "bit_url = \"https://raw.githubusercontent.com/colaberry/data/master/Bitcoin/bitcoin_dataset.csv\"\n",
    "data_bit = pd.read_csv(bit_url)\n",
    "\n"
   ]
  },
  {
   "cell_type": "markdown",
   "metadata": {
    "tags": [
     "s1",
     "hint"
    ]
   },
   "source": [
    "### hint\n",
    "use read.csv() from pandas library"
   ]
  },
  {
   "cell_type": "code",
   "execution_count": null,
   "metadata": {
    "collapsed": true,
    "tags": [
     "s1",
     "ans"
    ]
   },
   "outputs": [],
   "source": [
    "# this is the answer block, always use the code cell.\n",
    "import pandas as pd\n",
    "bit_url = \"https://raw.githubusercontent.com/colaberry/data/master/Bitcoin/bitcoin_dataset.csv\"\n",
    "data_bit = pd.read_csv(bit_url)\n",
    "\n",
    "\n"
   ]
  },
  {
   "cell_type": "code",
   "execution_count": 5,
   "metadata": {
    "tags": [
     "s1",
     "hid"
    ]
   },
   "outputs": [
    {
     "name": "stdout",
     "output_type": "stream",
     "text": [
      "The answer did not pass the test.\n"
     ]
    }
   ],
   "source": [
    "#this is assertion block which verifies the solution.\n",
    "\n",
    "try:\n",
    "   def verify_answer():\n",
    "        \"\"\"\n",
    "        enter your verification code here.\n",
    "        return true if your checks pass\n",
    "        eg: \n",
    "        if above_user_answer_var > 100: \n",
    "            return True\n",
    "        else:\n",
    "            return False\n",
    "        \"\"\"\n",
    "        if data_bit.shape == (5, len(data.columns)):            \n",
    "            return True\n",
    "        else:\n",
    "            return False\n",
    "    ref_assert_var = verify_answer()\n",
    "except Exception as e:\n",
    "    print('Your assertion block throws error: ' + str(e))\n",
    "else:\n",
    "    if ref_assert_var:\n",
    "        print('continue')\n",
    "    else:\n",
    "        print('The answer did not pass the test.')"
   ]
  },
  {
   "cell_type": "markdown",
   "metadata": {
    "tags": [
     "s2",
     "content"
    ]
   },
   "source": [
    "### viewing part of the data\n",
    "One of the useful commands that is useful to list the first few rows is the head function which takes in number of rows to be listed in the top-down order.\n",
    "Scatter plots will help visualize how the target vector may be affected by each factor.\n",
    "Later we shall study quantitave methods that can provide us methods to measure how each factor affects the output or if it doesnt affect the output at all."
   ]
  },
  {
   "cell_type": "code",
   "execution_count": null,
   "metadata": {
    "collapsed": true,
    "tags": [
     "s2",
     "ce"
    ]
   },
   "outputs": [],
   "source": [
    "# View part of the data\n",
    "sample = data_bit.head()\n",
    "sample"
   ]
  },
  {
   "cell_type": "markdown",
   "metadata": {
    "tags": [
     "s2",
     "hint"
    ]
   },
   "source": [
    "use head() function"
   ]
  },
  {
   "cell_type": "code",
   "execution_count": 8,
   "metadata": {
    "collapsed": true,
    "tags": [
     "s2",
     "ans"
    ]
   },
   "outputs": [],
   "source": [
    "#answer block\n",
    "sample = data_bit.head()\n",
    "sample"
   ]
  },
  {
   "cell_type": "code",
   "execution_count": null,
   "metadata": {
    "collapsed": true,
    "tags": [
     "s2",
     "hid"
    ]
   },
   "outputs": [],
   "source": [
    "#this is assertion block which verifies the solution.\n",
    "\n",
    "try:\n",
    "    def verify_answer():\n",
    "        \"\"\"\n",
    "        enter your verification code here.\n",
    "        return true if your checks pass\n",
    "        eg: \n",
    "        if above_user_answer_var > 100: \n",
    "            return True\n",
    "        else:\n",
    "            return False\n",
    "        \"\"\"\n",
    "        if os:\n",
    "            return True\n",
    "        else:\n",
    "            return False\n",
    "\n",
    "    ref_assert_var = verify_answer()\n",
    "except Exception as e: \n",
    "    print('Your assertion block throws error: ' + str(e))\n",
    "else:\n",
    "    if ref_assert_var:\n",
    "        print('continue')\n",
    "    else:\n",
    "        print('The answer did not pass the test.')"
   ]
  },
  {
   "cell_type": "markdown",
   "metadata": {
    "tags": [
     "s3",
     "content"
    ]
   },
   "source": [
    "\n",
    "### Volume of bitcoins in bitcoin dataset - EDA\n",
    "The data and target are present as properties in the data.Total bitcoins  in bitcoin dataset is present as independent variables in data and the bitcoin trade volume  rate in target property.\n",
    "\n",
    "The task is to model the bitcoin tradevolume value of the rate given all the factors. Some factors could affect the bitcoin trade volume rate and some may not."
   ]
  },
  {
   "cell_type": "code",
   "execution_count": null,
   "metadata": {
    "collapsed": true,
    "tags": [
     "s3",
     "ce"
    ]
   },
   "outputs": [],
   "source": [
    "#Joint plot\n",
    "sample = data_bit.head()\n",
    "sample\n",
    "import seaborn as sns\n",
    "g = sns.jointplot(\"btc_total_bitcoins\", \"btc_trade_volume\", data=data_bit, color=\"r\", size=7)"
   ]
  },
  {
   "cell_type": "markdown",
   "metadata": {
    "tags": [
     "s3",
     "hint"
    ]
   },
   "source": [
    "### hint\n",
    "use jointplot() from seaborn library"
   ]
  },
  {
   "cell_type": "code",
   "execution_count": null,
   "metadata": {
    "collapsed": true,
    "tags": [
     "s3",
     "ans"
    ]
   },
   "outputs": [],
   "source": [
    "#answer block\n",
    "sample = data_bit.head()\n",
    "sample\n",
    "import seaborn as sns\n",
    "g = sns.jointplot(\"btc_total_bitcoins\", \"btc_trade_volume\", data=data_bit, color=\"r\", size=7)"
   ]
  },
  {
   "cell_type": "code",
   "execution_count": null,
   "metadata": {
    "collapsed": true,
    "tags": [
     "s3",
     "hid"
    ]
   },
   "outputs": [],
   "source": [
    "# assertion block\n",
    "if variable_name!=g\n",
    "print(\"use the correct variable name\")"
   ]
  },
  {
   "cell_type": "markdown",
   "metadata": {
    "tags": [
     "s4",
     "content"
    ]
   },
   "source": [
    "### Data Visualization\n",
    "Let's start by looking at relationships among the variables.\n",
    "\n",
    "Scatter Plot\n",
    "Lets look at the relationship between bitcoin cost per transaction and bitcoin costper transaction percentage.\n",
    "\n",
    "Excercise\n",
    "Plot a scatter plot between btc_cost_per_transaction and btc_cost_per_transaction_percent."
   ]
  },
  {
   "cell_type": "code",
   "execution_count": null,
   "metadata": {
    "collapsed": true,
    "tags": [
     "s4",
     "ce"
    ]
   },
   "outputs": [],
   "source": [
    "graph=data_bit.plot.scatter(x='btc_cost_per_transaction',y='btc_cost_per_transaction_percent')"
   ]
  },
  {
   "cell_type": "markdown",
   "metadata": {
    "tags": [
     "s4",
     "hint"
    ]
   },
   "source": [
    "### hint\n",
    "use scatter()  plot function"
   ]
  },
  {
   "cell_type": "code",
   "execution_count": null,
   "metadata": {
    "collapsed": true,
    "tags": [
     "s4",
     "ans"
    ]
   },
   "outputs": [],
   "source": [
    "#answer\n",
    "graph=data_bit.plot.scatter(x='btc_cost_per_transaction',y='btc_cost_per_transaction_percent')"
   ]
  },
  {
   "cell_type": "code",
   "execution_count": null,
   "metadata": {
    "collapsed": true,
    "tags": [
     "s4",
     "hid"
    ]
   },
   "outputs": [],
   "source": [
    "#assertion block\n",
    "try:\n",
    "    def verify_answer():\n",
    "        \"\"\"\n",
    "        enter your verification code here.\n",
    "        return true if your checks pass\n",
    "        eg: \n",
    "        if above_user_answer_var > 100: \n",
    "            return True\n",
    "        else:\n",
    "            return False\n",
    "        \"\"\"\n",
    "        if 1==1: \n",
    "            return True\n",
    "        else:\n",
    "            return False\n",
    "    ref_assert_var = verify_answer()\n",
    "except Exception as e:\n",
    "    print('Your assertion block throws error: ' + str(e))\n",
    "else:\n",
    "    if ref_assert_var:\n",
    "        print('continue')\n",
    "    else:\n",
    "        print('The answer did not pass the test.'"
   ]
  },
  {
   "cell_type": "markdown",
   "metadata": {
    "tags": [
     "s5",
     "content"
    ]
   },
   "source": [
    "### Exercise\n"
   ]
  },
  {
   "cell_type": "code",
   "execution_count": null,
   "metadata": {
    "collapsed": true,
    "tags": [
     "s5",
     "ce"
    ]
   },
   "outputs": [],
   "source": [
    "j = sns.jointplot(\"btc_blocks_size\", \"btc_n_transactions_per_block\", data=data_bit, color=\"b\", size=7)\n",
    "\n"
   ]
  },
  {
   "cell_type": "markdown",
   "metadata": {
    "tags": [
     "s5",
     "hint"
    ]
   },
   "source": [
    "### hint\n",
    "use jointplot() from seaborn library"
   ]
  },
  {
   "cell_type": "code",
   "execution_count": null,
   "metadata": {
    "collapsed": true,
    "tags": [
     "s5",
     "ans"
    ]
   },
   "outputs": [],
   "source": [
    "#answer block\n",
    "j = sns.jointplot(\"btc_blocks_size\", \"btc_n_transactions_per_block\", data=data_bit, color=\"b\", size=7)\n"
   ]
  },
  {
   "cell_type": "code",
   "execution_count": null,
   "metadata": {
    "collapsed": true,
    "tags": [
     "s5",
     "hid"
    ]
   },
   "outputs": [],
   "source": [
    "# assertion block\n",
    "if variable_name!=j\n",
    "print(\"use the correct variable name\")"
   ]
  },
  {
   "cell_type": "markdown",
   "metadata": {
    "tags": [
     "s6",
     "content"
    ]
   },
   "source": [
    "### Create train and test data set\n",
    "Split arrays or matrices into random train and test subsets. In this course, we will split data into 80:20 ratio using sklearn.model_selection.train_test_split() function and use random seed = 12345."
   ]
  },
  {
   "cell_type": "code",
   "execution_count": null,
   "metadata": {
    "collapsed": true,
    "tags": [
     "s6",
     "ce"
    ]
   },
   "outputs": [],
   "source": [
    "#spliting the values \n",
    "train, test = train_test_split(data_bit, test_size=0.2, random_state = 12345)\n",
    "y_train = train.btc_trade_volume\n",
    "del train['btc_trade_volume']\n",
    "\n",
    "y_test = test.btc_trade_volume\n",
    "del test['btc_trade_volume']\n",
    "\n",
    "xtrain =train.as_matrix()\n",
    "ytrain= y_train.as_matrix()\n",
    "\n",
    "xtest=test.as_matrix()\n",
    "ytest=y_test.as_matrix()"
   ]
  },
  {
   "cell_type": "markdown",
   "metadata": {
    "tags": [
     "s6",
     "hint"
    ]
   },
   "source": [
    "### Hint\n",
    "have two parts of data sets trained and the other for testing"
   ]
  },
  {
   "cell_type": "code",
   "execution_count": null,
   "metadata": {
    "collapsed": true,
    "tags": [
     "s6",
     "ans"
    ]
   },
   "outputs": [],
   "source": [
    "#spliting the values \n",
    "train, test = train_test_split(data_bit, test_size=0.2, random_state = 12345)\n",
    "y_train = train.btc_trade_volume\n",
    "del train['btc_trade_volume']\n",
    "\n",
    "y_test = test.btc_trade_volume\n",
    "del test['btc_trade_volume']\n",
    "\n",
    "xtrain =train.as_matrix()\n",
    "ytrain= y_train.as_matrix()\n",
    "\n",
    "xtest=test.as_matrix()\n",
    "ytest=y_test.as_matrix()"
   ]
  },
  {
   "cell_type": "code",
   "execution_count": null,
   "metadata": {
    "collapsed": true,
    "tags": [
     "s6",
     "hid"
    ]
   },
   "outputs": [],
   "source": [
    "#assertion block\n",
    "try:\n",
    "    def verify_answer():\n",
    "        \"\"\"\n",
    "        enter your verification code here.\n",
    "        return true if your checks pass\n",
    "        eg: \n",
    "        if above_user_answer_var > 100: \n",
    "            return True\n",
    "        else:\n",
    "            return False\n",
    "        \"\"\"\n",
    "        if len(data) - len(train) == 16 and len(data) - len(test) == 60:            \n",
    "            return True\n",
    "        else:\n",
    "            return False\n",
    "    ref_assert_var = verify_answer()\n",
    "except Exception as e:\n",
    "    print('Your assertion block throws error: ' + str(e))\n",
    "else:\n",
    "    print(len(data) - len(train), len(data) - len(test))\n",
    "    if ref_assert_var:\n",
    "        print('continue')\n",
    "    else:\n",
    "        print('The answer did not pass the test.')"
   ]
  },
  {
   "cell_type": "markdown",
   "metadata": {
    "tags": [
     "s7",
     "content"
    ]
   },
   "source": [
    "### Regression Using Sklearn \n",
    "Sklearn is a library used widely for linear regression. \n",
    "The linear regression library has convenient ways to specify parameters for regression and hence is popularly used.\n",
    "\n",
    "from sklearn import linear_model\n",
    "model = linear_model.LinearRegression()\n",
    "model.fit(x, y)\n",
    "where x is a dependent variable and y is the target variable.\n",
    "\n",
    "#### Multiple Linear Regression Model:\n",
    "We can use all the factors that effect the future bitcoin price and build our model and that can be done using Multiple Linear regression algorithm.\n",
    "In this we need to consider P_Values and hyphothesis to determine our final insight.\n",
    "If the p_values are less than 0.05 then we accept our hyphothesis else we regect our hyphothesis ie:if we accept the hyphothesis the we include that particular column in our model, else we remove them from our model as they reduce the efficency of the model.\n",
    "This can be done by backward elimination process which gives you more accurate model.\n",
    "But here we are looking at linear model."
   ]
  },
  {
   "cell_type": "code",
   "execution_count": null,
   "metadata": {
    "collapsed": true,
    "tags": [
     "s7",
     "ce"
    ]
   },
   "outputs": [],
   "source": [
    "from sklearn import linear_model\n",
    "from sklearn.metrics import mean_squared_error\n",
    "model = linear_model.LinearRegression()\n",
    "model.fit(xtrain, ytrain)\n",
    "yt_pred = model.predict(xt)\n",
    "MSE_Train = mean_squared_error(yt, yt_pred)\n",
    "print(\"Mean squared error for trainting: {}\".format(MSE_Train))"
   ]
  },
  {
   "cell_type": "markdown",
   "metadata": {
    "tags": [
     "s7",
     "hint"
    ]
   },
   "source": [
    "### Hint\n",
    "use sklearn library"
   ]
  },
  {
   "cell_type": "code",
   "execution_count": null,
   "metadata": {
    "collapsed": true,
    "tags": [
     "s7",
     "ans"
    ]
   },
   "outputs": [],
   "source": [
    "#answer\n",
    "from sklearn import linear_model\n",
    "from sklearn.metrics import mean_squared_error\n",
    "model = linear_model.LinearRegression()\n",
    "model.fit(xtrain, ytrain)\n",
    "yt_pred = model.predict(xt)\n",
    "MSE_Train = mean_squared_error(yt, yt_pred)\n",
    "print(\"Mean squared error for trainting: {}\".format(MSE_Train))"
   ]
  }
 ],
 "metadata": {
  "executed_sections": [],
  "kernelspec": {
   "display_name": "Python 3",
   "language": "python",
   "name": "python3"
  },
  "language_info": {
   "codemirror_mode": {
    "name": "ipython",
    "version": 3
   },
   "file_extension": ".py",
   "mimetype": "text/x-python",
   "name": "python",
   "nbconvert_exporter": "python",
   "pygments_lexer": "ipython3",
   "version": "3.5.2"
  }
 },
 "nbformat": 4,
 "nbformat_minor": 2
}