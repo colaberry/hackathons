{
 "cells": [
  {
   "cell_type": "markdown",
   "metadata": {},
   "source": [
    "# Bitcoin Price Analysis\n",
    "\n",
    "Historic price of bitcoins are provided for analysis\n",
    "\n",
    "--Ingest the data into a format that is easy for analysis.\n",
    "--Perform Exploratory Data Analysis on the dataset\n",
    "--Can you predict the future price of the dataset\n",
    "\n",
    "PRICES ARE IN USD $ ONLY"
   ]
  },
  {
   "cell_type": "code",
   "execution_count": 133,
   "metadata": {},
   "outputs": [],
   "source": [
    "#importing required Library\n",
    "import numpy as np                                                                      \n",
    "import matplotlib.pyplot as plt\n",
    "import pandas as pd\n",
    "import sklearn\n",
    "from sklearn.linear_model import LinearRegression\n",
    "from sklearn import preprocessing\n",
    "import seaborn as sns\n",
    "from sklearn.cross_validation import train_test_split\n",
    "from sklearn.svm import SVR"
   ]
  },
  {
   "cell_type": "markdown",
   "metadata": {},
   "source": [
    "#---------------"
   ]
  },
  {
   "cell_type": "code",
   "execution_count": 134,
   "metadata": {
    "collapsed": true
   },
   "outputs": [],
   "source": [
    "#help in plotting easily\n",
    "\n",
    "%matplotlib inline"
   ]
  },
  {
   "cell_type": "code",
   "execution_count": 135,
   "metadata": {
    "collapsed": true
   },
   "outputs": [],
   "source": [
    "import pandas as pd\n",
    "import requests\n",
    "import io\n",
    "from io import StringIO\n"
   ]
  },
  {
   "cell_type": "markdown",
   "metadata": {},
   "source": [
    "# Reading File And Exploratory Data Analysis On Dataset\n"
   ]
  },
  {
   "cell_type": "code",
   "execution_count": 142,
   "metadata": {},
   "outputs": [],
   "source": [
    "#use pandas to read  scv file\n",
    "\n",
    "url1='https://raw.githubusercontent.com/colaberry/hackathons/master/data/Bitcoin/bitcoin_dataset.csv'\n",
    "data=pd.read_csv(url1)\n",
    "url2='https://raw.githubusercontent.com/colaberry/hackathons/master/data/Bitcoin/test_set.csv'\n",
    "test=pd.read_csv(url2)\n"
   ]
  },
  {
   "cell_type": "code",
   "execution_count": 143,
   "metadata": {},
   "outputs": [
    {
     "data": {
      "text/html": [
       "<div>\n",
       "<style>\n",
       "    .dataframe thead tr:only-child th {\n",
       "        text-align: right;\n",
       "    }\n",
       "\n",
       "    .dataframe thead th {\n",
       "        text-align: left;\n",
       "    }\n",
       "\n",
       "    .dataframe tbody tr th {\n",
       "        vertical-align: top;\n",
       "    }\n",
       "</style>\n",
       "<table border=\"1\" class=\"dataframe\">\n",
       "  <thead>\n",
       "    <tr style=\"text-align: right;\">\n",
       "      <th></th>\n",
       "      <th>Date</th>\n",
       "      <th>btc_market_price</th>\n",
       "      <th>btc_total_bitcoins</th>\n",
       "      <th>btc_market_cap</th>\n",
       "      <th>btc_trade_volume</th>\n",
       "      <th>btc_blocks_size</th>\n",
       "      <th>btc_avg_block_size</th>\n",
       "      <th>btc_n_orphaned_blocks</th>\n",
       "      <th>btc_n_transactions_per_block</th>\n",
       "      <th>btc_median_confirmation_time</th>\n",
       "      <th>...</th>\n",
       "      <th>btc_cost_per_transaction_percent</th>\n",
       "      <th>btc_cost_per_transaction</th>\n",
       "      <th>btc_n_unique_addresses</th>\n",
       "      <th>btc_n_transactions</th>\n",
       "      <th>btc_n_transactions_total</th>\n",
       "      <th>btc_n_transactions_excluding_popular</th>\n",
       "      <th>btc_n_transactions_excluding_chains_longer_than_100</th>\n",
       "      <th>btc_output_volume</th>\n",
       "      <th>btc_estimated_transaction_volume</th>\n",
       "      <th>btc_estimated_transaction_volume_usd</th>\n",
       "    </tr>\n",
       "  </thead>\n",
       "  <tbody>\n",
       "    <tr>\n",
       "      <th>0</th>\n",
       "      <td>2/17/2010</td>\n",
       "      <td>0.0</td>\n",
       "      <td>2043200.0</td>\n",
       "      <td>0.0</td>\n",
       "      <td>0.0</td>\n",
       "      <td>0.0</td>\n",
       "      <td>0.000235</td>\n",
       "      <td>0</td>\n",
       "      <td>1.0</td>\n",
       "      <td>0.0</td>\n",
       "      <td>...</td>\n",
       "      <td>31.781022</td>\n",
       "      <td>0.0</td>\n",
       "      <td>241</td>\n",
       "      <td>244</td>\n",
       "      <td>41240</td>\n",
       "      <td>244</td>\n",
       "      <td>244</td>\n",
       "      <td>65173.13</td>\n",
       "      <td>36500.0</td>\n",
       "      <td>0.0</td>\n",
       "    </tr>\n",
       "    <tr>\n",
       "      <th>1</th>\n",
       "      <td>2/18/2010</td>\n",
       "      <td>0.0</td>\n",
       "      <td>2054650.0</td>\n",
       "      <td>0.0</td>\n",
       "      <td>0.0</td>\n",
       "      <td>0.0</td>\n",
       "      <td>0.000241</td>\n",
       "      <td>0</td>\n",
       "      <td>1.0</td>\n",
       "      <td>0.0</td>\n",
       "      <td>...</td>\n",
       "      <td>154.463801</td>\n",
       "      <td>0.0</td>\n",
       "      <td>234</td>\n",
       "      <td>235</td>\n",
       "      <td>41475</td>\n",
       "      <td>235</td>\n",
       "      <td>235</td>\n",
       "      <td>18911.74</td>\n",
       "      <td>7413.0</td>\n",
       "      <td>0.0</td>\n",
       "    </tr>\n",
       "    <tr>\n",
       "      <th>2</th>\n",
       "      <td>2/19/2010</td>\n",
       "      <td>0.0</td>\n",
       "      <td>2063600.0</td>\n",
       "      <td>0.0</td>\n",
       "      <td>0.0</td>\n",
       "      <td>0.0</td>\n",
       "      <td>0.000228</td>\n",
       "      <td>0</td>\n",
       "      <td>1.0</td>\n",
       "      <td>0.0</td>\n",
       "      <td>...</td>\n",
       "      <td>1278.516635</td>\n",
       "      <td>0.0</td>\n",
       "      <td>185</td>\n",
       "      <td>183</td>\n",
       "      <td>41658</td>\n",
       "      <td>183</td>\n",
       "      <td>183</td>\n",
       "      <td>9749.98</td>\n",
       "      <td>700.0</td>\n",
       "      <td>0.0</td>\n",
       "    </tr>\n",
       "    <tr>\n",
       "      <th>3</th>\n",
       "      <td>2/20/2010</td>\n",
       "      <td>0.0</td>\n",
       "      <td>2074700.0</td>\n",
       "      <td>0.0</td>\n",
       "      <td>0.0</td>\n",
       "      <td>0.0</td>\n",
       "      <td>0.000218</td>\n",
       "      <td>0</td>\n",
       "      <td>1.0</td>\n",
       "      <td>0.0</td>\n",
       "      <td>...</td>\n",
       "      <td>22186.687990</td>\n",
       "      <td>0.0</td>\n",
       "      <td>224</td>\n",
       "      <td>224</td>\n",
       "      <td>41882</td>\n",
       "      <td>224</td>\n",
       "      <td>224</td>\n",
       "      <td>11150.03</td>\n",
       "      <td>50.0</td>\n",
       "      <td>0.0</td>\n",
       "    </tr>\n",
       "    <tr>\n",
       "      <th>4</th>\n",
       "      <td>2/21/2010</td>\n",
       "      <td>0.0</td>\n",
       "      <td>2085400.0</td>\n",
       "      <td>0.0</td>\n",
       "      <td>0.0</td>\n",
       "      <td>0.0</td>\n",
       "      <td>0.000234</td>\n",
       "      <td>0</td>\n",
       "      <td>1.0</td>\n",
       "      <td>0.0</td>\n",
       "      <td>...</td>\n",
       "      <td>689.179876</td>\n",
       "      <td>0.0</td>\n",
       "      <td>218</td>\n",
       "      <td>218</td>\n",
       "      <td>42100</td>\n",
       "      <td>218</td>\n",
       "      <td>218</td>\n",
       "      <td>12266.83</td>\n",
       "      <td>1553.0</td>\n",
       "      <td>0.0</td>\n",
       "    </tr>\n",
       "  </tbody>\n",
       "</table>\n",
       "<p>5 rows × 24 columns</p>\n",
       "</div>"
      ],
      "text/plain": [
       "        Date  btc_market_price  btc_total_bitcoins  btc_market_cap  \\\n",
       "0  2/17/2010               0.0           2043200.0             0.0   \n",
       "1  2/18/2010               0.0           2054650.0             0.0   \n",
       "2  2/19/2010               0.0           2063600.0             0.0   \n",
       "3  2/20/2010               0.0           2074700.0             0.0   \n",
       "4  2/21/2010               0.0           2085400.0             0.0   \n",
       "\n",
       "   btc_trade_volume  btc_blocks_size  btc_avg_block_size  \\\n",
       "0               0.0              0.0            0.000235   \n",
       "1               0.0              0.0            0.000241   \n",
       "2               0.0              0.0            0.000228   \n",
       "3               0.0              0.0            0.000218   \n",
       "4               0.0              0.0            0.000234   \n",
       "\n",
       "   btc_n_orphaned_blocks  btc_n_transactions_per_block  \\\n",
       "0                      0                           1.0   \n",
       "1                      0                           1.0   \n",
       "2                      0                           1.0   \n",
       "3                      0                           1.0   \n",
       "4                      0                           1.0   \n",
       "\n",
       "   btc_median_confirmation_time                  ...                   \\\n",
       "0                           0.0                  ...                    \n",
       "1                           0.0                  ...                    \n",
       "2                           0.0                  ...                    \n",
       "3                           0.0                  ...                    \n",
       "4                           0.0                  ...                    \n",
       "\n",
       "   btc_cost_per_transaction_percent  btc_cost_per_transaction  \\\n",
       "0                         31.781022                       0.0   \n",
       "1                        154.463801                       0.0   \n",
       "2                       1278.516635                       0.0   \n",
       "3                      22186.687990                       0.0   \n",
       "4                        689.179876                       0.0   \n",
       "\n",
       "   btc_n_unique_addresses  btc_n_transactions  btc_n_transactions_total  \\\n",
       "0                     241                 244                     41240   \n",
       "1                     234                 235                     41475   \n",
       "2                     185                 183                     41658   \n",
       "3                     224                 224                     41882   \n",
       "4                     218                 218                     42100   \n",
       "\n",
       "   btc_n_transactions_excluding_popular  \\\n",
       "0                                   244   \n",
       "1                                   235   \n",
       "2                                   183   \n",
       "3                                   224   \n",
       "4                                   218   \n",
       "\n",
       "   btc_n_transactions_excluding_chains_longer_than_100  btc_output_volume  \\\n",
       "0                                                244             65173.13   \n",
       "1                                                235             18911.74   \n",
       "2                                                183              9749.98   \n",
       "3                                                224             11150.03   \n",
       "4                                                218             12266.83   \n",
       "\n",
       "   btc_estimated_transaction_volume  btc_estimated_transaction_volume_usd  \n",
       "0                           36500.0                                   0.0  \n",
       "1                            7413.0                                   0.0  \n",
       "2                             700.0                                   0.0  \n",
       "3                              50.0                                   0.0  \n",
       "4                            1553.0                                   0.0  \n",
       "\n",
       "[5 rows x 24 columns]"
      ]
     },
     "execution_count": 143,
     "metadata": {},
     "output_type": "execute_result"
    }
   ],
   "source": [
    "#checking the whole data sample\n",
    "data.head()"
   ]
  },
  {
   "cell_type": "code",
   "execution_count": 144,
   "metadata": {},
   "outputs": [
    {
     "data": {
      "text/html": [
       "<div>\n",
       "<style>\n",
       "    .dataframe thead tr:only-child th {\n",
       "        text-align: right;\n",
       "    }\n",
       "\n",
       "    .dataframe thead th {\n",
       "        text-align: left;\n",
       "    }\n",
       "\n",
       "    .dataframe tbody tr th {\n",
       "        vertical-align: top;\n",
       "    }\n",
       "</style>\n",
       "<table border=\"1\" class=\"dataframe\">\n",
       "  <thead>\n",
       "    <tr style=\"text-align: right;\">\n",
       "      <th></th>\n",
       "      <th>Date</th>\n",
       "      <th>btc_total_bitcoins</th>\n",
       "      <th>btc_market_cap</th>\n",
       "      <th>btc_trade_volume</th>\n",
       "      <th>btc_blocks_size</th>\n",
       "      <th>btc_avg_block_size</th>\n",
       "      <th>btc_n_orphaned_blocks</th>\n",
       "      <th>btc_n_transactions_per_block</th>\n",
       "      <th>btc_median_confirmation_time</th>\n",
       "      <th>btc_hash_rate</th>\n",
       "      <th>...</th>\n",
       "      <th>btc_cost_per_transaction_percent</th>\n",
       "      <th>btc_cost_per_transaction</th>\n",
       "      <th>btc_n_unique_addresses</th>\n",
       "      <th>btc_n_transactions</th>\n",
       "      <th>btc_n_transactions_total</th>\n",
       "      <th>btc_n_transactions_excluding_popular</th>\n",
       "      <th>btc_n_transactions_excluding_chains_longer_than_100</th>\n",
       "      <th>btc_output_volume</th>\n",
       "      <th>btc_estimated_transaction_volume</th>\n",
       "      <th>btc_estimated_transaction_volume_usd</th>\n",
       "    </tr>\n",
       "  </thead>\n",
       "  <tbody>\n",
       "    <tr>\n",
       "      <th>0</th>\n",
       "      <td>2/1/2018 0:00</td>\n",
       "      <td>16839687.5</td>\n",
       "      <td>1.529590e+11</td>\n",
       "      <td>1.509688e+09</td>\n",
       "      <td>154613.2244</td>\n",
       "      <td>1.053963</td>\n",
       "      <td>0</td>\n",
       "      <td>1610.400000</td>\n",
       "      <td>12.475000</td>\n",
       "      <td>20703947.91</td>\n",
       "      <td>...</td>\n",
       "      <td>0.799509</td>\n",
       "      <td>78.049647</td>\n",
       "      <td>591550</td>\n",
       "      <td>257664</td>\n",
       "      <td>296946448</td>\n",
       "      <td>249466</td>\n",
       "      <td>179686</td>\n",
       "      <td>2.190613e+06</td>\n",
       "      <td>276923.3207</td>\n",
       "      <td>2.515366e+09</td>\n",
       "    </tr>\n",
       "    <tr>\n",
       "      <th>1</th>\n",
       "      <td>2/2/2018 0:00</td>\n",
       "      <td>16841787.5</td>\n",
       "      <td>1.499240e+11</td>\n",
       "      <td>2.213437e+09</td>\n",
       "      <td>154785.0008</td>\n",
       "      <td>1.022479</td>\n",
       "      <td>0</td>\n",
       "      <td>1404.273810</td>\n",
       "      <td>11.225000</td>\n",
       "      <td>21739145.31</td>\n",
       "      <td>...</td>\n",
       "      <td>0.717894</td>\n",
       "      <td>89.591902</td>\n",
       "      <td>551198</td>\n",
       "      <td>235918</td>\n",
       "      <td>297182366</td>\n",
       "      <td>229894</td>\n",
       "      <td>155128</td>\n",
       "      <td>1.460796e+06</td>\n",
       "      <td>330740.2192</td>\n",
       "      <td>2.944217e+09</td>\n",
       "    </tr>\n",
       "    <tr>\n",
       "      <th>2</th>\n",
       "      <td>2/3/2018 0:00</td>\n",
       "      <td>16843762.5</td>\n",
       "      <td>1.528850e+11</td>\n",
       "      <td>9.524038e+08</td>\n",
       "      <td>154942.4583</td>\n",
       "      <td>0.996567</td>\n",
       "      <td>0</td>\n",
       "      <td>1233.487342</td>\n",
       "      <td>10.475000</td>\n",
       "      <td>20445148.56</td>\n",
       "      <td>...</td>\n",
       "      <td>1.290914</td>\n",
       "      <td>98.824757</td>\n",
       "      <td>436196</td>\n",
       "      <td>194891</td>\n",
       "      <td>297377257</td>\n",
       "      <td>184856</td>\n",
       "      <td>131568</td>\n",
       "      <td>9.100425e+05</td>\n",
       "      <td>164374.0244</td>\n",
       "      <td>1.491970e+09</td>\n",
       "    </tr>\n",
       "    <tr>\n",
       "      <th>3</th>\n",
       "      <td>2/4/2018 0:00</td>\n",
       "      <td>16845987.5</td>\n",
       "      <td>1.415170e+11</td>\n",
       "      <td>1.080683e+09</td>\n",
       "      <td>155118.7652</td>\n",
       "      <td>0.990488</td>\n",
       "      <td>0</td>\n",
       "      <td>975.769663</td>\n",
       "      <td>9.275000</td>\n",
       "      <td>23033142.05</td>\n",
       "      <td>...</td>\n",
       "      <td>1.208997</td>\n",
       "      <td>112.999677</td>\n",
       "      <td>396694</td>\n",
       "      <td>173687</td>\n",
       "      <td>297550944</td>\n",
       "      <td>165753</td>\n",
       "      <td>125143</td>\n",
       "      <td>9.722485e+05</td>\n",
       "      <td>193244.2140</td>\n",
       "      <td>1.623377e+09</td>\n",
       "    </tr>\n",
       "    <tr>\n",
       "      <th>4</th>\n",
       "      <td>2/5/2018 0:00</td>\n",
       "      <td>16848300.0</td>\n",
       "      <td>1.152220e+11</td>\n",
       "      <td>1.793319e+09</td>\n",
       "      <td>155322.7709</td>\n",
       "      <td>1.102733</td>\n",
       "      <td>0</td>\n",
       "      <td>1169.529730</td>\n",
       "      <td>6.133333</td>\n",
       "      <td>23938939.78</td>\n",
       "      <td>...</td>\n",
       "      <td>0.967008</td>\n",
       "      <td>78.586115</td>\n",
       "      <td>486553</td>\n",
       "      <td>216363</td>\n",
       "      <td>297767307</td>\n",
       "      <td>208757</td>\n",
       "      <td>144850</td>\n",
       "      <td>1.848913e+06</td>\n",
       "      <td>257109.2993</td>\n",
       "      <td>1.758323e+09</td>\n",
       "    </tr>\n",
       "  </tbody>\n",
       "</table>\n",
       "<p>5 rows × 23 columns</p>\n",
       "</div>"
      ],
      "text/plain": [
       "            Date  btc_total_bitcoins  btc_market_cap  btc_trade_volume  \\\n",
       "0  2/1/2018 0:00          16839687.5    1.529590e+11      1.509688e+09   \n",
       "1  2/2/2018 0:00          16841787.5    1.499240e+11      2.213437e+09   \n",
       "2  2/3/2018 0:00          16843762.5    1.528850e+11      9.524038e+08   \n",
       "3  2/4/2018 0:00          16845987.5    1.415170e+11      1.080683e+09   \n",
       "4  2/5/2018 0:00          16848300.0    1.152220e+11      1.793319e+09   \n",
       "\n",
       "   btc_blocks_size  btc_avg_block_size  btc_n_orphaned_blocks  \\\n",
       "0      154613.2244            1.053963                      0   \n",
       "1      154785.0008            1.022479                      0   \n",
       "2      154942.4583            0.996567                      0   \n",
       "3      155118.7652            0.990488                      0   \n",
       "4      155322.7709            1.102733                      0   \n",
       "\n",
       "   btc_n_transactions_per_block  btc_median_confirmation_time  btc_hash_rate  \\\n",
       "0                   1610.400000                     12.475000    20703947.91   \n",
       "1                   1404.273810                     11.225000    21739145.31   \n",
       "2                   1233.487342                     10.475000    20445148.56   \n",
       "3                    975.769663                      9.275000    23033142.05   \n",
       "4                   1169.529730                      6.133333    23938939.78   \n",
       "\n",
       "                   ...                   btc_cost_per_transaction_percent  \\\n",
       "0                  ...                                           0.799509   \n",
       "1                  ...                                           0.717894   \n",
       "2                  ...                                           1.290914   \n",
       "3                  ...                                           1.208997   \n",
       "4                  ...                                           0.967008   \n",
       "\n",
       "   btc_cost_per_transaction  btc_n_unique_addresses  btc_n_transactions  \\\n",
       "0                 78.049647                  591550              257664   \n",
       "1                 89.591902                  551198              235918   \n",
       "2                 98.824757                  436196              194891   \n",
       "3                112.999677                  396694              173687   \n",
       "4                 78.586115                  486553              216363   \n",
       "\n",
       "   btc_n_transactions_total  btc_n_transactions_excluding_popular  \\\n",
       "0                 296946448                                249466   \n",
       "1                 297182366                                229894   \n",
       "2                 297377257                                184856   \n",
       "3                 297550944                                165753   \n",
       "4                 297767307                                208757   \n",
       "\n",
       "   btc_n_transactions_excluding_chains_longer_than_100  btc_output_volume  \\\n",
       "0                                             179686         2.190613e+06   \n",
       "1                                             155128         1.460796e+06   \n",
       "2                                             131568         9.100425e+05   \n",
       "3                                             125143         9.722485e+05   \n",
       "4                                             144850         1.848913e+06   \n",
       "\n",
       "   btc_estimated_transaction_volume  btc_estimated_transaction_volume_usd  \n",
       "0                       276923.3207                          2.515366e+09  \n",
       "1                       330740.2192                          2.944217e+09  \n",
       "2                       164374.0244                          1.491970e+09  \n",
       "3                       193244.2140                          1.623377e+09  \n",
       "4                       257109.2993                          1.758323e+09  \n",
       "\n",
       "[5 rows x 23 columns]"
      ]
     },
     "execution_count": 144,
     "metadata": {},
     "output_type": "execute_result"
    }
   ],
   "source": [
    "test.head()"
   ]
  },
  {
   "cell_type": "code",
   "execution_count": 145,
   "metadata": {},
   "outputs": [
    {
     "data": {
      "text/plain": [
       "Index(['Date', 'btc_market_price', 'btc_total_bitcoins', 'btc_market_cap',\n",
       "       'btc_trade_volume', 'btc_blocks_size', 'btc_avg_block_size',\n",
       "       'btc_n_orphaned_blocks', 'btc_n_transactions_per_block',\n",
       "       'btc_median_confirmation_time', 'btc_hash_rate', 'btc_difficulty',\n",
       "       'btc_miners_revenue', 'btc_transaction_fees',\n",
       "       'btc_cost_per_transaction_percent', 'btc_cost_per_transaction',\n",
       "       'btc_n_unique_addresses', 'btc_n_transactions',\n",
       "       'btc_n_transactions_total', 'btc_n_transactions_excluding_popular',\n",
       "       'btc_n_transactions_excluding_chains_longer_than_100',\n",
       "       'btc_output_volume', 'btc_estimated_transaction_volume',\n",
       "       'btc_estimated_transaction_volume_usd'],\n",
       "      dtype='object')"
      ]
     },
     "execution_count": 145,
     "metadata": {},
     "output_type": "execute_result"
    }
   ],
   "source": [
    "#colums available in dataset\n",
    "\n",
    "data.columns"
   ]
  },
  {
   "cell_type": "code",
   "execution_count": 146,
   "metadata": {},
   "outputs": [
    {
     "data": {
      "text/plain": [
       "Index(['Date', 'btc_total_bitcoins', 'btc_market_cap', 'btc_trade_volume',\n",
       "       'btc_blocks_size', 'btc_avg_block_size', 'btc_n_orphaned_blocks',\n",
       "       'btc_n_transactions_per_block', 'btc_median_confirmation_time',\n",
       "       'btc_hash_rate', 'btc_difficulty', 'btc_miners_revenue',\n",
       "       'btc_transaction_fees', 'btc_cost_per_transaction_percent',\n",
       "       'btc_cost_per_transaction', 'btc_n_unique_addresses',\n",
       "       'btc_n_transactions', 'btc_n_transactions_total',\n",
       "       'btc_n_transactions_excluding_popular',\n",
       "       'btc_n_transactions_excluding_chains_longer_than_100',\n",
       "       'btc_output_volume', 'btc_estimated_transaction_volume',\n",
       "       'btc_estimated_transaction_volume_usd'],\n",
       "      dtype='object')"
      ]
     },
     "execution_count": 146,
     "metadata": {},
     "output_type": "execute_result"
    }
   ],
   "source": [
    "test.columns"
   ]
  },
  {
   "cell_type": "code",
   "execution_count": 147,
   "metadata": {},
   "outputs": [],
   "source": [
    "#dividing  dataset \n",
    "# x as data and y as target in 2 different sets\n",
    "#date is kept different for parsing in graph\n",
    "\n",
    "#data as x \n",
    "x=pd.DataFrame(data[['btc_total_bitcoins', 'btc_market_cap',\n",
    "       'btc_trade_volume', 'btc_blocks_size', 'btc_avg_block_size',\n",
    "       'btc_n_orphaned_blocks', 'btc_n_transactions_per_block',\n",
    "       'btc_median_confirmation_time', 'btc_hash_rate', 'btc_difficulty',\n",
    "       'btc_miners_revenue', 'btc_transaction_fees',\n",
    "       'btc_cost_per_transaction_percent', 'btc_cost_per_transaction',\n",
    "       'btc_n_unique_addresses', 'btc_n_transactions',\n",
    "       'btc_n_transactions_total', 'btc_n_transactions_excluding_popular',\n",
    "       'btc_n_transactions_excluding_chains_longer_than_100',\n",
    "       'btc_output_volume', 'btc_estimated_transaction_volume',\n",
    "       'btc_estimated_transaction_volume_usd']])\n",
    "\n",
    "#targdet as y\n",
    "y=pd.DataFrame(data['btc_market_price'])\n",
    "\n",
    "#and date kept different for ease in fitting and splitting for furter proess\n",
    "date=pd.DataFrame(data['Date'])"
   ]
  },
  {
   "cell_type": "code",
   "execution_count": 151,
   "metadata": {},
   "outputs": [],
   "source": [
    "x_test=pd.DataFrame(test[['btc_total_bitcoins', 'btc_market_cap',\n",
    "       'btc_trade_volume', 'btc_blocks_size', 'btc_avg_block_size',\n",
    "       'btc_n_orphaned_blocks', 'btc_n_transactions_per_block',\n",
    "       'btc_median_confirmation_time', 'btc_hash_rate', 'btc_difficulty',\n",
    "       'btc_miners_revenue', 'btc_transaction_fees',\n",
    "       'btc_cost_per_transaction_percent', 'btc_cost_per_transaction',\n",
    "       'btc_n_unique_addresses', 'btc_n_transactions',\n",
    "       'btc_n_transactions_total', 'btc_n_transactions_excluding_popular',\n",
    "       'btc_n_transactions_excluding_chains_longer_than_100',\n",
    "       'btc_output_volume', 'btc_estimated_transaction_volume',\n",
    "       'btc_estimated_transaction_volume_usd']])\n",
    "\n",
    "#targdet as y\n",
    "#y_test=pd.DataFrame(test['btc_market_price'])\n",
    "\n",
    "#and date kept different for ease in fitting and splitting for furter proess\n",
    "date_test=pd.DataFrame(test['Date'])"
   ]
  },
  {
   "cell_type": "code",
   "execution_count": 152,
   "metadata": {},
   "outputs": [
    {
     "data": {
      "text/html": [
       "<div>\n",
       "<style>\n",
       "    .dataframe thead tr:only-child th {\n",
       "        text-align: right;\n",
       "    }\n",
       "\n",
       "    .dataframe thead th {\n",
       "        text-align: left;\n",
       "    }\n",
       "\n",
       "    .dataframe tbody tr th {\n",
       "        vertical-align: top;\n",
       "    }\n",
       "</style>\n",
       "<table border=\"1\" class=\"dataframe\">\n",
       "  <thead>\n",
       "    <tr style=\"text-align: right;\">\n",
       "      <th></th>\n",
       "      <th>btc_total_bitcoins</th>\n",
       "      <th>btc_market_cap</th>\n",
       "      <th>btc_trade_volume</th>\n",
       "      <th>btc_blocks_size</th>\n",
       "      <th>btc_avg_block_size</th>\n",
       "      <th>btc_n_orphaned_blocks</th>\n",
       "      <th>btc_n_transactions_per_block</th>\n",
       "      <th>btc_median_confirmation_time</th>\n",
       "      <th>btc_hash_rate</th>\n",
       "      <th>btc_difficulty</th>\n",
       "      <th>...</th>\n",
       "      <th>btc_cost_per_transaction_percent</th>\n",
       "      <th>btc_cost_per_transaction</th>\n",
       "      <th>btc_n_unique_addresses</th>\n",
       "      <th>btc_n_transactions</th>\n",
       "      <th>btc_n_transactions_total</th>\n",
       "      <th>btc_n_transactions_excluding_popular</th>\n",
       "      <th>btc_n_transactions_excluding_chains_longer_than_100</th>\n",
       "      <th>btc_output_volume</th>\n",
       "      <th>btc_estimated_transaction_volume</th>\n",
       "      <th>btc_estimated_transaction_volume_usd</th>\n",
       "    </tr>\n",
       "  </thead>\n",
       "  <tbody>\n",
       "    <tr>\n",
       "      <th>0</th>\n",
       "      <td>2043200.0</td>\n",
       "      <td>0.0</td>\n",
       "      <td>0.0</td>\n",
       "      <td>0.0</td>\n",
       "      <td>0.000235</td>\n",
       "      <td>0</td>\n",
       "      <td>1.0</td>\n",
       "      <td>0.0</td>\n",
       "      <td>0.000029</td>\n",
       "      <td>2.527738</td>\n",
       "      <td>...</td>\n",
       "      <td>31.781022</td>\n",
       "      <td>0.0</td>\n",
       "      <td>241</td>\n",
       "      <td>244</td>\n",
       "      <td>41240</td>\n",
       "      <td>244</td>\n",
       "      <td>244</td>\n",
       "      <td>65173.13</td>\n",
       "      <td>36500.0</td>\n",
       "      <td>0.0</td>\n",
       "    </tr>\n",
       "    <tr>\n",
       "      <th>1</th>\n",
       "      <td>2054650.0</td>\n",
       "      <td>0.0</td>\n",
       "      <td>0.0</td>\n",
       "      <td>0.0</td>\n",
       "      <td>0.000241</td>\n",
       "      <td>0</td>\n",
       "      <td>1.0</td>\n",
       "      <td>0.0</td>\n",
       "      <td>0.000029</td>\n",
       "      <td>2.527738</td>\n",
       "      <td>...</td>\n",
       "      <td>154.463801</td>\n",
       "      <td>0.0</td>\n",
       "      <td>234</td>\n",
       "      <td>235</td>\n",
       "      <td>41475</td>\n",
       "      <td>235</td>\n",
       "      <td>235</td>\n",
       "      <td>18911.74</td>\n",
       "      <td>7413.0</td>\n",
       "      <td>0.0</td>\n",
       "    </tr>\n",
       "    <tr>\n",
       "      <th>2</th>\n",
       "      <td>2063600.0</td>\n",
       "      <td>0.0</td>\n",
       "      <td>0.0</td>\n",
       "      <td>0.0</td>\n",
       "      <td>0.000228</td>\n",
       "      <td>0</td>\n",
       "      <td>1.0</td>\n",
       "      <td>0.0</td>\n",
       "      <td>0.000023</td>\n",
       "      <td>2.527738</td>\n",
       "      <td>...</td>\n",
       "      <td>1278.516635</td>\n",
       "      <td>0.0</td>\n",
       "      <td>185</td>\n",
       "      <td>183</td>\n",
       "      <td>41658</td>\n",
       "      <td>183</td>\n",
       "      <td>183</td>\n",
       "      <td>9749.98</td>\n",
       "      <td>700.0</td>\n",
       "      <td>0.0</td>\n",
       "    </tr>\n",
       "    <tr>\n",
       "      <th>3</th>\n",
       "      <td>2074700.0</td>\n",
       "      <td>0.0</td>\n",
       "      <td>0.0</td>\n",
       "      <td>0.0</td>\n",
       "      <td>0.000218</td>\n",
       "      <td>0</td>\n",
       "      <td>1.0</td>\n",
       "      <td>0.0</td>\n",
       "      <td>0.000028</td>\n",
       "      <td>2.527738</td>\n",
       "      <td>...</td>\n",
       "      <td>22186.687990</td>\n",
       "      <td>0.0</td>\n",
       "      <td>224</td>\n",
       "      <td>224</td>\n",
       "      <td>41882</td>\n",
       "      <td>224</td>\n",
       "      <td>224</td>\n",
       "      <td>11150.03</td>\n",
       "      <td>50.0</td>\n",
       "      <td>0.0</td>\n",
       "    </tr>\n",
       "    <tr>\n",
       "      <th>4</th>\n",
       "      <td>2085400.0</td>\n",
       "      <td>0.0</td>\n",
       "      <td>0.0</td>\n",
       "      <td>0.0</td>\n",
       "      <td>0.000234</td>\n",
       "      <td>0</td>\n",
       "      <td>1.0</td>\n",
       "      <td>0.0</td>\n",
       "      <td>0.000027</td>\n",
       "      <td>2.527738</td>\n",
       "      <td>...</td>\n",
       "      <td>689.179876</td>\n",
       "      <td>0.0</td>\n",
       "      <td>218</td>\n",
       "      <td>218</td>\n",
       "      <td>42100</td>\n",
       "      <td>218</td>\n",
       "      <td>218</td>\n",
       "      <td>12266.83</td>\n",
       "      <td>1553.0</td>\n",
       "      <td>0.0</td>\n",
       "    </tr>\n",
       "  </tbody>\n",
       "</table>\n",
       "<p>5 rows × 22 columns</p>\n",
       "</div>"
      ],
      "text/plain": [
       "   btc_total_bitcoins  btc_market_cap  btc_trade_volume  btc_blocks_size  \\\n",
       "0           2043200.0             0.0               0.0              0.0   \n",
       "1           2054650.0             0.0               0.0              0.0   \n",
       "2           2063600.0             0.0               0.0              0.0   \n",
       "3           2074700.0             0.0               0.0              0.0   \n",
       "4           2085400.0             0.0               0.0              0.0   \n",
       "\n",
       "   btc_avg_block_size  btc_n_orphaned_blocks  btc_n_transactions_per_block  \\\n",
       "0            0.000235                      0                           1.0   \n",
       "1            0.000241                      0                           1.0   \n",
       "2            0.000228                      0                           1.0   \n",
       "3            0.000218                      0                           1.0   \n",
       "4            0.000234                      0                           1.0   \n",
       "\n",
       "   btc_median_confirmation_time  btc_hash_rate  btc_difficulty  \\\n",
       "0                           0.0       0.000029        2.527738   \n",
       "1                           0.0       0.000029        2.527738   \n",
       "2                           0.0       0.000023        2.527738   \n",
       "3                           0.0       0.000028        2.527738   \n",
       "4                           0.0       0.000027        2.527738   \n",
       "\n",
       "                   ...                   btc_cost_per_transaction_percent  \\\n",
       "0                  ...                                          31.781022   \n",
       "1                  ...                                         154.463801   \n",
       "2                  ...                                        1278.516635   \n",
       "3                  ...                                       22186.687990   \n",
       "4                  ...                                         689.179876   \n",
       "\n",
       "   btc_cost_per_transaction  btc_n_unique_addresses  btc_n_transactions  \\\n",
       "0                       0.0                     241                 244   \n",
       "1                       0.0                     234                 235   \n",
       "2                       0.0                     185                 183   \n",
       "3                       0.0                     224                 224   \n",
       "4                       0.0                     218                 218   \n",
       "\n",
       "   btc_n_transactions_total  btc_n_transactions_excluding_popular  \\\n",
       "0                     41240                                   244   \n",
       "1                     41475                                   235   \n",
       "2                     41658                                   183   \n",
       "3                     41882                                   224   \n",
       "4                     42100                                   218   \n",
       "\n",
       "   btc_n_transactions_excluding_chains_longer_than_100  btc_output_volume  \\\n",
       "0                                                244             65173.13   \n",
       "1                                                235             18911.74   \n",
       "2                                                183              9749.98   \n",
       "3                                                224             11150.03   \n",
       "4                                                218             12266.83   \n",
       "\n",
       "   btc_estimated_transaction_volume  btc_estimated_transaction_volume_usd  \n",
       "0                           36500.0                                   0.0  \n",
       "1                            7413.0                                   0.0  \n",
       "2                             700.0                                   0.0  \n",
       "3                              50.0                                   0.0  \n",
       "4                            1553.0                                   0.0  \n",
       "\n",
       "[5 rows x 22 columns]"
      ]
     },
     "execution_count": 152,
     "metadata": {},
     "output_type": "execute_result"
    }
   ],
   "source": [
    "#checking the x data \n",
    "x.head()"
   ]
  },
  {
   "cell_type": "code",
   "execution_count": 153,
   "metadata": {},
   "outputs": [
    {
     "data": {
      "text/html": [
       "<div>\n",
       "<style>\n",
       "    .dataframe thead tr:only-child th {\n",
       "        text-align: right;\n",
       "    }\n",
       "\n",
       "    .dataframe thead th {\n",
       "        text-align: left;\n",
       "    }\n",
       "\n",
       "    .dataframe tbody tr th {\n",
       "        vertical-align: top;\n",
       "    }\n",
       "</style>\n",
       "<table border=\"1\" class=\"dataframe\">\n",
       "  <thead>\n",
       "    <tr style=\"text-align: right;\">\n",
       "      <th></th>\n",
       "      <th>btc_market_price</th>\n",
       "    </tr>\n",
       "  </thead>\n",
       "  <tbody>\n",
       "    <tr>\n",
       "      <th>2901</th>\n",
       "      <td>11524.77667</td>\n",
       "    </tr>\n",
       "    <tr>\n",
       "      <th>2902</th>\n",
       "      <td>11765.71000</td>\n",
       "    </tr>\n",
       "    <tr>\n",
       "      <th>2903</th>\n",
       "      <td>11212.65500</td>\n",
       "    </tr>\n",
       "    <tr>\n",
       "      <th>2904</th>\n",
       "      <td>10184.06167</td>\n",
       "    </tr>\n",
       "    <tr>\n",
       "      <th>2905</th>\n",
       "      <td>10125.01333</td>\n",
       "    </tr>\n",
       "  </tbody>\n",
       "</table>\n",
       "</div>"
      ],
      "text/plain": [
       "      btc_market_price\n",
       "2901       11524.77667\n",
       "2902       11765.71000\n",
       "2903       11212.65500\n",
       "2904       10184.06167\n",
       "2905       10125.01333"
      ]
     },
     "execution_count": 153,
     "metadata": {},
     "output_type": "execute_result"
    }
   ],
   "source": [
    "#checking the y target data set for latest pricess as initial prices are zero\n",
    "y.tail()"
   ]
  },
  {
   "cell_type": "code",
   "execution_count": 154,
   "metadata": {},
   "outputs": [
    {
     "data": {
      "text/plain": [
       "btc_total_bitcoins                                      True\n",
       "btc_market_cap                                         False\n",
       "btc_trade_volume                                        True\n",
       "btc_blocks_size                                         True\n",
       "btc_avg_block_size                                     False\n",
       "btc_n_orphaned_blocks                                  False\n",
       "btc_n_transactions_per_block                           False\n",
       "btc_median_confirmation_time                            True\n",
       "btc_hash_rate                                          False\n",
       "btc_difficulty                                          True\n",
       "btc_miners_revenue                                     False\n",
       "btc_transaction_fees                                    True\n",
       "btc_cost_per_transaction_percent                       False\n",
       "btc_cost_per_transaction                               False\n",
       "btc_n_unique_addresses                                 False\n",
       "btc_n_transactions                                     False\n",
       "btc_n_transactions_total                               False\n",
       "btc_n_transactions_excluding_popular                   False\n",
       "btc_n_transactions_excluding_chains_longer_than_100    False\n",
       "btc_output_volume                                      False\n",
       "btc_estimated_transaction_volume                       False\n",
       "btc_estimated_transaction_volume_usd                   False\n",
       "dtype: bool"
      ]
     },
     "execution_count": 154,
     "metadata": {},
     "output_type": "execute_result"
    }
   ],
   "source": [
    "#checking for null value in x set which is dataset\n",
    "\n",
    "x.isnull().any()"
   ]
  },
  {
   "cell_type": "code",
   "execution_count": 155,
   "metadata": {
    "collapsed": true
   },
   "outputs": [],
   "source": [
    "#check show we have null values in several blocks\n",
    "#we need to clean the data\n",
    "#we can fix ths problem by filling null value by mean value and thus cleaning the data\n",
    "\n",
    "x=x.fillna(x.mean())"
   ]
  },
  {
   "cell_type": "code",
   "execution_count": 156,
   "metadata": {
    "collapsed": true
   },
   "outputs": [],
   "source": [
    "x_test=x_test.fillna(x_test.mean())"
   ]
  },
  {
   "cell_type": "code",
   "execution_count": 157,
   "metadata": {},
   "outputs": [
    {
     "data": {
      "text/plain": [
       "btc_total_bitcoins                                     False\n",
       "btc_market_cap                                         False\n",
       "btc_trade_volume                                       False\n",
       "btc_blocks_size                                        False\n",
       "btc_avg_block_size                                     False\n",
       "btc_n_orphaned_blocks                                  False\n",
       "btc_n_transactions_per_block                           False\n",
       "btc_median_confirmation_time                           False\n",
       "btc_hash_rate                                          False\n",
       "btc_difficulty                                         False\n",
       "btc_miners_revenue                                     False\n",
       "btc_transaction_fees                                   False\n",
       "btc_cost_per_transaction_percent                       False\n",
       "btc_cost_per_transaction                               False\n",
       "btc_n_unique_addresses                                 False\n",
       "btc_n_transactions                                     False\n",
       "btc_n_transactions_total                               False\n",
       "btc_n_transactions_excluding_popular                   False\n",
       "btc_n_transactions_excluding_chains_longer_than_100    False\n",
       "btc_output_volume                                      False\n",
       "btc_estimated_transaction_volume                       False\n",
       "btc_estimated_transaction_volume_usd                   False\n",
       "dtype: bool"
      ]
     },
     "execution_count": 157,
     "metadata": {},
     "output_type": "execute_result"
    }
   ],
   "source": [
    "# again checking for null value in x set which is dataset\n",
    "\n",
    "x.isnull().any()"
   ]
  },
  {
   "cell_type": "code",
   "execution_count": 158,
   "metadata": {},
   "outputs": [
    {
     "data": {
      "text/plain": [
       "btc_market_price    False\n",
       "dtype: bool"
      ]
     },
     "execution_count": 158,
     "metadata": {},
     "output_type": "execute_result"
    }
   ],
   "source": [
    "y_test.isnull().any()"
   ]
  },
  {
   "cell_type": "code",
   "execution_count": 159,
   "metadata": {
    "collapsed": true
   },
   "outputs": [],
   "source": [
    "#thus our x data is clean now and ready"
   ]
  },
  {
   "cell_type": "code",
   "execution_count": 160,
   "metadata": {},
   "outputs": [
    {
     "data": {
      "text/plain": [
       "btc_total_bitcoins                                     False\n",
       "btc_market_cap                                         False\n",
       "btc_trade_volume                                       False\n",
       "btc_blocks_size                                        False\n",
       "btc_avg_block_size                                     False\n",
       "btc_n_orphaned_blocks                                  False\n",
       "btc_n_transactions_per_block                           False\n",
       "btc_median_confirmation_time                           False\n",
       "btc_hash_rate                                          False\n",
       "btc_difficulty                                         False\n",
       "btc_miners_revenue                                     False\n",
       "btc_transaction_fees                                   False\n",
       "btc_cost_per_transaction_percent                       False\n",
       "btc_cost_per_transaction                               False\n",
       "btc_n_unique_addresses                                 False\n",
       "btc_n_transactions                                     False\n",
       "btc_n_transactions_total                               False\n",
       "btc_n_transactions_excluding_popular                   False\n",
       "btc_n_transactions_excluding_chains_longer_than_100    False\n",
       "btc_output_volume                                      False\n",
       "btc_estimated_transaction_volume                       False\n",
       "btc_estimated_transaction_volume_usd                   False\n",
       "dtype: bool"
      ]
     },
     "execution_count": 160,
     "metadata": {},
     "output_type": "execute_result"
    }
   ],
   "source": [
    "x_test.isnull().any()"
   ]
  },
  {
   "cell_type": "code",
   "execution_count": 161,
   "metadata": {},
   "outputs": [
    {
     "data": {
      "text/plain": [
       "btc_market_price    False\n",
       "dtype: bool"
      ]
     },
     "execution_count": 161,
     "metadata": {},
     "output_type": "execute_result"
    }
   ],
   "source": [
    "#cheacking the y or target set for null values \n",
    "y.isnull().any()"
   ]
  },
  {
   "cell_type": "code",
   "execution_count": 162,
   "metadata": {
    "collapsed": true
   },
   "outputs": [],
   "source": [
    "#our y set is cleanand ready"
   ]
  },
  {
   "cell_type": "code",
   "execution_count": 163,
   "metadata": {},
   "outputs": [
    {
     "data": {
      "text/plain": [
       "Date    False\n",
       "dtype: bool"
      ]
     },
     "execution_count": 163,
     "metadata": {},
     "output_type": "execute_result"
    }
   ],
   "source": [
    "#checking date set\n",
    "date.isnull().any()"
   ]
  },
  {
   "cell_type": "code",
   "execution_count": 164,
   "metadata": {
    "collapsed": true
   },
   "outputs": [],
   "source": [
    "#date set is also clean"
   ]
  },
  {
   "cell_type": "code",
   "execution_count": 165,
   "metadata": {},
   "outputs": [
    {
     "data": {
      "text/plain": [
       "btc_total_bitcoins                                     1.151138e+07\n",
       "btc_market_cap                                         1.344352e+10\n",
       "btc_trade_volume                                       7.398381e+07\n",
       "btc_blocks_size                                        3.550550e+04\n",
       "btc_avg_block_size                                     3.503659e-01\n",
       "btc_n_orphaned_blocks                                  3.640743e-01\n",
       "btc_n_transactions_per_block                           6.716737e+02\n",
       "btc_median_confirmation_time                           7.501113e+00\n",
       "btc_hash_rate                                          1.244070e+06\n",
       "btc_difficulty                                         1.606360e+11\n",
       "btc_miners_revenue                                     2.184353e+06\n",
       "btc_transaction_fees                                   6.043450e+01\n",
       "btc_cost_per_transaction_percent                       6.674782e+01\n",
       "btc_cost_per_transaction                               1.463913e+01\n",
       "btc_n_unique_addresses                                 1.937861e+05\n",
       "btc_n_transactions                                     1.020811e+05\n",
       "btc_n_transactions_total                               6.844558e+07\n",
       "btc_n_transactions_excluding_popular                   9.434885e+04\n",
       "btc_n_transactions_excluding_chains_longer_than_100    6.314032e+04\n",
       "btc_output_volume                                      1.566216e+06\n",
       "btc_estimated_transaction_volume                       2.036475e+05\n",
       "btc_estimated_transaction_volume_usd                   2.024338e+08\n",
       "dtype: float64"
      ]
     },
     "execution_count": 165,
     "metadata": {},
     "output_type": "execute_result"
    }
   ],
   "source": [
    "#checkin the mean values\n",
    "x.mean()"
   ]
  },
  {
   "cell_type": "code",
   "execution_count": 166,
   "metadata": {},
   "outputs": [
    {
     "data": {
      "text/plain": [
       "btc_market_price    839.104218\n",
       "dtype: float64"
      ]
     },
     "execution_count": 166,
     "metadata": {},
     "output_type": "execute_result"
    }
   ],
   "source": [
    "#checking y mean\n",
    "y.mean()"
   ]
  },
  {
   "cell_type": "code",
   "execution_count": 167,
   "metadata": {
    "collapsed": true
   },
   "outputs": [],
   "source": [
    "#average price is thus  839.104218 USD for bitcoin for its lifetime"
   ]
  },
  {
   "cell_type": "code",
   "execution_count": 168,
   "metadata": {},
   "outputs": [
    {
     "data": {
      "text/html": [
       "<div>\n",
       "<style>\n",
       "    .dataframe thead tr:only-child th {\n",
       "        text-align: right;\n",
       "    }\n",
       "\n",
       "    .dataframe thead th {\n",
       "        text-align: left;\n",
       "    }\n",
       "\n",
       "    .dataframe tbody tr th {\n",
       "        vertical-align: top;\n",
       "    }\n",
       "</style>\n",
       "<table border=\"1\" class=\"dataframe\">\n",
       "  <thead>\n",
       "    <tr style=\"text-align: right;\">\n",
       "      <th></th>\n",
       "      <th>btc_total_bitcoins</th>\n",
       "      <th>btc_market_cap</th>\n",
       "      <th>btc_trade_volume</th>\n",
       "      <th>btc_blocks_size</th>\n",
       "      <th>btc_avg_block_size</th>\n",
       "      <th>btc_n_orphaned_blocks</th>\n",
       "      <th>btc_n_transactions_per_block</th>\n",
       "      <th>btc_median_confirmation_time</th>\n",
       "      <th>btc_hash_rate</th>\n",
       "      <th>btc_difficulty</th>\n",
       "      <th>...</th>\n",
       "      <th>btc_cost_per_transaction_percent</th>\n",
       "      <th>btc_cost_per_transaction</th>\n",
       "      <th>btc_n_unique_addresses</th>\n",
       "      <th>btc_n_transactions</th>\n",
       "      <th>btc_n_transactions_total</th>\n",
       "      <th>btc_n_transactions_excluding_popular</th>\n",
       "      <th>btc_n_transactions_excluding_chains_longer_than_100</th>\n",
       "      <th>btc_output_volume</th>\n",
       "      <th>btc_estimated_transaction_volume</th>\n",
       "      <th>btc_estimated_transaction_volume_usd</th>\n",
       "    </tr>\n",
       "  </thead>\n",
       "  <tbody>\n",
       "    <tr>\n",
       "      <th>count</th>\n",
       "      <td>2.906000e+03</td>\n",
       "      <td>2.906000e+03</td>\n",
       "      <td>2.906000e+03</td>\n",
       "      <td>2906.000000</td>\n",
       "      <td>2906.000000</td>\n",
       "      <td>2906.000000</td>\n",
       "      <td>2906.000000</td>\n",
       "      <td>2906.000000</td>\n",
       "      <td>2.906000e+03</td>\n",
       "      <td>2.906000e+03</td>\n",
       "      <td>...</td>\n",
       "      <td>2906.000000</td>\n",
       "      <td>2906.000000</td>\n",
       "      <td>2.906000e+03</td>\n",
       "      <td>2906.000000</td>\n",
       "      <td>2.906000e+03</td>\n",
       "      <td>2906.000000</td>\n",
       "      <td>2906.000000</td>\n",
       "      <td>2.906000e+03</td>\n",
       "      <td>2.906000e+03</td>\n",
       "      <td>2.906000e+03</td>\n",
       "    </tr>\n",
       "    <tr>\n",
       "      <th>mean</th>\n",
       "      <td>1.151138e+07</td>\n",
       "      <td>1.344352e+10</td>\n",
       "      <td>7.398381e+07</td>\n",
       "      <td>35505.502848</td>\n",
       "      <td>0.350366</td>\n",
       "      <td>0.364074</td>\n",
       "      <td>671.673651</td>\n",
       "      <td>7.501113</td>\n",
       "      <td>1.244070e+06</td>\n",
       "      <td>1.606360e+11</td>\n",
       "      <td>...</td>\n",
       "      <td>66.747821</td>\n",
       "      <td>14.639125</td>\n",
       "      <td>1.937861e+05</td>\n",
       "      <td>102081.138334</td>\n",
       "      <td>6.844558e+07</td>\n",
       "      <td>94348.852374</td>\n",
       "      <td>63140.320028</td>\n",
       "      <td>1.566216e+06</td>\n",
       "      <td>2.036475e+05</td>\n",
       "      <td>2.024338e+08</td>\n",
       "    </tr>\n",
       "    <tr>\n",
       "      <th>std</th>\n",
       "      <td>4.180461e+06</td>\n",
       "      <td>3.866841e+10</td>\n",
       "      <td>2.913639e+08</td>\n",
       "      <td>43400.369940</td>\n",
       "      <td>0.353168</td>\n",
       "      <td>0.842259</td>\n",
       "      <td>689.561322</td>\n",
       "      <td>4.964264</td>\n",
       "      <td>2.924141e+06</td>\n",
       "      <td>3.714886e+11</td>\n",
       "      <td>...</td>\n",
       "      <td>1761.894646</td>\n",
       "      <td>20.536083</td>\n",
       "      <td>2.089146e+05</td>\n",
       "      <td>103896.929350</td>\n",
       "      <td>8.285341e+07</td>\n",
       "      <td>103966.111763</td>\n",
       "      <td>69687.052174</td>\n",
       "      <td>2.278910e+06</td>\n",
       "      <td>2.682781e+05</td>\n",
       "      <td>5.800513e+08</td>\n",
       "    </tr>\n",
       "    <tr>\n",
       "      <th>min</th>\n",
       "      <td>2.043200e+06</td>\n",
       "      <td>0.000000e+00</td>\n",
       "      <td>0.000000e+00</td>\n",
       "      <td>0.000000</td>\n",
       "      <td>0.000216</td>\n",
       "      <td>0.000000</td>\n",
       "      <td>1.000000</td>\n",
       "      <td>0.000000</td>\n",
       "      <td>2.250000e-05</td>\n",
       "      <td>2.527738e+00</td>\n",
       "      <td>...</td>\n",
       "      <td>0.136531</td>\n",
       "      <td>0.000000</td>\n",
       "      <td>1.100000e+02</td>\n",
       "      <td>118.000000</td>\n",
       "      <td>4.124000e+04</td>\n",
       "      <td>118.000000</td>\n",
       "      <td>118.000000</td>\n",
       "      <td>6.150000e+03</td>\n",
       "      <td>7.000000e+00</td>\n",
       "      <td>0.000000e+00</td>\n",
       "    </tr>\n",
       "    <tr>\n",
       "      <th>25%</th>\n",
       "      <td>8.536962e+06</td>\n",
       "      <td>5.363081e+07</td>\n",
       "      <td>2.968431e+05</td>\n",
       "      <td>801.500000</td>\n",
       "      <td>0.024177</td>\n",
       "      <td>0.000000</td>\n",
       "      <td>54.000000</td>\n",
       "      <td>6.066667</td>\n",
       "      <td>1.160880e+01</td>\n",
       "      <td>1.591075e+06</td>\n",
       "      <td>...</td>\n",
       "      <td>1.181945</td>\n",
       "      <td>4.156470</td>\n",
       "      <td>1.675475e+04</td>\n",
       "      <td>8025.250000</td>\n",
       "      <td>2.413376e+06</td>\n",
       "      <td>6813.500000</td>\n",
       "      <td>6765.500000</td>\n",
       "      <td>4.901712e+05</td>\n",
       "      <td>9.600325e+04</td>\n",
       "      <td>9.581680e+05</td>\n",
       "    </tr>\n",
       "    <tr>\n",
       "      <th>50%</th>\n",
       "      <td>1.237281e+07</td>\n",
       "      <td>3.346869e+09</td>\n",
       "      <td>1.024046e+07</td>\n",
       "      <td>15782.500000</td>\n",
       "      <td>0.196022</td>\n",
       "      <td>0.000000</td>\n",
       "      <td>375.000000</td>\n",
       "      <td>7.900000</td>\n",
       "      <td>2.176189e+04</td>\n",
       "      <td>2.621404e+09</td>\n",
       "      <td>...</td>\n",
       "      <td>2.493564</td>\n",
       "      <td>7.822430</td>\n",
       "      <td>1.304450e+05</td>\n",
       "      <td>62337.000000</td>\n",
       "      <td>3.255271e+07</td>\n",
       "      <td>53483.000000</td>\n",
       "      <td>35283.500000</td>\n",
       "      <td>1.105205e+06</td>\n",
       "      <td>1.784685e+05</td>\n",
       "      <td>3.742576e+07</td>\n",
       "    </tr>\n",
       "    <tr>\n",
       "      <th>75%</th>\n",
       "      <td>1.517080e+07</td>\n",
       "      <td>8.075525e+09</td>\n",
       "      <td>2.932135e+07</td>\n",
       "      <td>57426.500000</td>\n",
       "      <td>0.676065</td>\n",
       "      <td>0.000000</td>\n",
       "      <td>1232.995223</td>\n",
       "      <td>10.150000</td>\n",
       "      <td>1.035363e+06</td>\n",
       "      <td>1.200000e+11</td>\n",
       "      <td>...</td>\n",
       "      <td>5.915591</td>\n",
       "      <td>14.800589</td>\n",
       "      <td>3.603765e+05</td>\n",
       "      <td>190471.250000</td>\n",
       "      <td>1.080663e+08</td>\n",
       "      <td>185901.750000</td>\n",
       "      <td>113793.250000</td>\n",
       "      <td>2.031654e+06</td>\n",
       "      <td>2.588046e+05</td>\n",
       "      <td>1.312499e+08</td>\n",
       "    </tr>\n",
       "    <tr>\n",
       "      <th>max</th>\n",
       "      <td>1.683769e+07</td>\n",
       "      <td>3.270000e+11</td>\n",
       "      <td>5.352016e+09</td>\n",
       "      <td>154444.590300</td>\n",
       "      <td>1.110327</td>\n",
       "      <td>7.000000</td>\n",
       "      <td>2722.625000</td>\n",
       "      <td>47.733333</td>\n",
       "      <td>2.160975e+07</td>\n",
       "      <td>2.600000e+12</td>\n",
       "      <td>...</td>\n",
       "      <td>88571.428570</td>\n",
       "      <td>161.686071</td>\n",
       "      <td>1.072861e+06</td>\n",
       "      <td>490644.000000</td>\n",
       "      <td>2.966888e+08</td>\n",
       "      <td>470650.000000</td>\n",
       "      <td>318896.000000</td>\n",
       "      <td>4.599222e+07</td>\n",
       "      <td>5.825066e+06</td>\n",
       "      <td>5.760245e+09</td>\n",
       "    </tr>\n",
       "  </tbody>\n",
       "</table>\n",
       "<p>8 rows × 22 columns</p>\n",
       "</div>"
      ],
      "text/plain": [
       "       btc_total_bitcoins  btc_market_cap  btc_trade_volume  btc_blocks_size  \\\n",
       "count        2.906000e+03    2.906000e+03      2.906000e+03      2906.000000   \n",
       "mean         1.151138e+07    1.344352e+10      7.398381e+07     35505.502848   \n",
       "std          4.180461e+06    3.866841e+10      2.913639e+08     43400.369940   \n",
       "min          2.043200e+06    0.000000e+00      0.000000e+00         0.000000   \n",
       "25%          8.536962e+06    5.363081e+07      2.968431e+05       801.500000   \n",
       "50%          1.237281e+07    3.346869e+09      1.024046e+07     15782.500000   \n",
       "75%          1.517080e+07    8.075525e+09      2.932135e+07     57426.500000   \n",
       "max          1.683769e+07    3.270000e+11      5.352016e+09    154444.590300   \n",
       "\n",
       "       btc_avg_block_size  btc_n_orphaned_blocks  \\\n",
       "count         2906.000000            2906.000000   \n",
       "mean             0.350366               0.364074   \n",
       "std              0.353168               0.842259   \n",
       "min              0.000216               0.000000   \n",
       "25%              0.024177               0.000000   \n",
       "50%              0.196022               0.000000   \n",
       "75%              0.676065               0.000000   \n",
       "max              1.110327               7.000000   \n",
       "\n",
       "       btc_n_transactions_per_block  btc_median_confirmation_time  \\\n",
       "count                   2906.000000                   2906.000000   \n",
       "mean                     671.673651                      7.501113   \n",
       "std                      689.561322                      4.964264   \n",
       "min                        1.000000                      0.000000   \n",
       "25%                       54.000000                      6.066667   \n",
       "50%                      375.000000                      7.900000   \n",
       "75%                     1232.995223                     10.150000   \n",
       "max                     2722.625000                     47.733333   \n",
       "\n",
       "       btc_hash_rate  btc_difficulty                  ...                   \\\n",
       "count   2.906000e+03    2.906000e+03                  ...                    \n",
       "mean    1.244070e+06    1.606360e+11                  ...                    \n",
       "std     2.924141e+06    3.714886e+11                  ...                    \n",
       "min     2.250000e-05    2.527738e+00                  ...                    \n",
       "25%     1.160880e+01    1.591075e+06                  ...                    \n",
       "50%     2.176189e+04    2.621404e+09                  ...                    \n",
       "75%     1.035363e+06    1.200000e+11                  ...                    \n",
       "max     2.160975e+07    2.600000e+12                  ...                    \n",
       "\n",
       "       btc_cost_per_transaction_percent  btc_cost_per_transaction  \\\n",
       "count                       2906.000000               2906.000000   \n",
       "mean                          66.747821                 14.639125   \n",
       "std                         1761.894646                 20.536083   \n",
       "min                            0.136531                  0.000000   \n",
       "25%                            1.181945                  4.156470   \n",
       "50%                            2.493564                  7.822430   \n",
       "75%                            5.915591                 14.800589   \n",
       "max                        88571.428570                161.686071   \n",
       "\n",
       "       btc_n_unique_addresses  btc_n_transactions  btc_n_transactions_total  \\\n",
       "count            2.906000e+03         2906.000000              2.906000e+03   \n",
       "mean             1.937861e+05       102081.138334              6.844558e+07   \n",
       "std              2.089146e+05       103896.929350              8.285341e+07   \n",
       "min              1.100000e+02          118.000000              4.124000e+04   \n",
       "25%              1.675475e+04         8025.250000              2.413376e+06   \n",
       "50%              1.304450e+05        62337.000000              3.255271e+07   \n",
       "75%              3.603765e+05       190471.250000              1.080663e+08   \n",
       "max              1.072861e+06       490644.000000              2.966888e+08   \n",
       "\n",
       "       btc_n_transactions_excluding_popular  \\\n",
       "count                           2906.000000   \n",
       "mean                           94348.852374   \n",
       "std                           103966.111763   \n",
       "min                              118.000000   \n",
       "25%                             6813.500000   \n",
       "50%                            53483.000000   \n",
       "75%                           185901.750000   \n",
       "max                           470650.000000   \n",
       "\n",
       "       btc_n_transactions_excluding_chains_longer_than_100  btc_output_volume  \\\n",
       "count                                        2906.000000         2.906000e+03   \n",
       "mean                                        63140.320028         1.566216e+06   \n",
       "std                                         69687.052174         2.278910e+06   \n",
       "min                                           118.000000         6.150000e+03   \n",
       "25%                                          6765.500000         4.901712e+05   \n",
       "50%                                         35283.500000         1.105205e+06   \n",
       "75%                                        113793.250000         2.031654e+06   \n",
       "max                                        318896.000000         4.599222e+07   \n",
       "\n",
       "       btc_estimated_transaction_volume  btc_estimated_transaction_volume_usd  \n",
       "count                      2.906000e+03                          2.906000e+03  \n",
       "mean                       2.036475e+05                          2.024338e+08  \n",
       "std                        2.682781e+05                          5.800513e+08  \n",
       "min                        7.000000e+00                          0.000000e+00  \n",
       "25%                        9.600325e+04                          9.581680e+05  \n",
       "50%                        1.784685e+05                          3.742576e+07  \n",
       "75%                        2.588046e+05                          1.312499e+08  \n",
       "max                        5.825066e+06                          5.760245e+09  \n",
       "\n",
       "[8 rows x 22 columns]"
      ]
     },
     "execution_count": 168,
     "metadata": {},
     "output_type": "execute_result"
    }
   ],
   "source": [
    "#more description of x data\n",
    "x.describe()"
   ]
  },
  {
   "cell_type": "code",
   "execution_count": 169,
   "metadata": {},
   "outputs": [
    {
     "data": {
      "text/html": [
       "<div>\n",
       "<style>\n",
       "    .dataframe thead tr:only-child th {\n",
       "        text-align: right;\n",
       "    }\n",
       "\n",
       "    .dataframe thead th {\n",
       "        text-align: left;\n",
       "    }\n",
       "\n",
       "    .dataframe tbody tr th {\n",
       "        vertical-align: top;\n",
       "    }\n",
       "</style>\n",
       "<table border=\"1\" class=\"dataframe\">\n",
       "  <thead>\n",
       "    <tr style=\"text-align: right;\">\n",
       "      <th></th>\n",
       "      <th>btc_market_price</th>\n",
       "    </tr>\n",
       "  </thead>\n",
       "  <tbody>\n",
       "    <tr>\n",
       "      <th>count</th>\n",
       "      <td>2906.000000</td>\n",
       "    </tr>\n",
       "    <tr>\n",
       "      <th>mean</th>\n",
       "      <td>839.104218</td>\n",
       "    </tr>\n",
       "    <tr>\n",
       "      <th>std</th>\n",
       "      <td>2304.972497</td>\n",
       "    </tr>\n",
       "    <tr>\n",
       "      <th>min</th>\n",
       "      <td>0.000000</td>\n",
       "    </tr>\n",
       "    <tr>\n",
       "      <th>25%</th>\n",
       "      <td>6.653465</td>\n",
       "    </tr>\n",
       "    <tr>\n",
       "      <th>50%</th>\n",
       "      <td>235.130000</td>\n",
       "    </tr>\n",
       "    <tr>\n",
       "      <th>75%</th>\n",
       "      <td>594.191164</td>\n",
       "    </tr>\n",
       "    <tr>\n",
       "      <th>max</th>\n",
       "      <td>19498.683330</td>\n",
       "    </tr>\n",
       "  </tbody>\n",
       "</table>\n",
       "</div>"
      ],
      "text/plain": [
       "       btc_market_price\n",
       "count       2906.000000\n",
       "mean         839.104218\n",
       "std         2304.972497\n",
       "min            0.000000\n",
       "25%            6.653465\n",
       "50%          235.130000\n",
       "75%          594.191164\n",
       "max        19498.683330"
      ]
     },
     "execution_count": 169,
     "metadata": {},
     "output_type": "execute_result"
    }
   ],
   "source": [
    "#more description of y target data\n",
    "y.describe()"
   ]
  },
  {
   "cell_type": "markdown",
   "metadata": {},
   "source": [
    "# #VISUALISING AND ANALYSIS FROM GRAPH AND DIFFERNET PLOTS\n",
    "\n",
    "with matplotlib and seaborn differnt visuals"
   ]
  },
  {
   "cell_type": "code",
   "execution_count": 170,
   "metadata": {},
   "outputs": [
    {
     "data": {
      "text/plain": [
       "<matplotlib.text.Text at 0x1a54bbb0b8>"
      ]
     },
     "execution_count": 170,
     "metadata": {},
     "output_type": "execute_result"
    },
    {
     "data": {
      "image/png": "[encoded data removed]",
      "text/plain": [
       "<matplotlib.figure.Figure at 0x1a54bb82b0>"
      ]
     },
     "metadata": {},
     "output_type": "display_data"
    }
   ],
   "source": [
    "plt.grid()\n",
    "plt.plot_date(date['Date'],y['btc_market_price'],fmt='-')\n",
    "plt.xlabel(\"TIME SCALE\")\n",
    "plt.ylabel(\"PRICE BITCOIN\")"
   ]
  },
  {
   "cell_type": "code",
   "execution_count": 171,
   "metadata": {},
   "outputs": [
    {
     "data": {
      "text/plain": [
       "<matplotlib.text.Text at 0x1a54c07da0>"
      ]
     },
     "execution_count": 171,
     "metadata": {},
     "output_type": "execute_result"
    },
    {
     "data": {
      "image/png": "[encoded data removed]",
      "text/plain": [
       "<matplotlib.figure.Figure at 0x1a54bf54a8>"
      ]
     },
     "metadata": {},
     "output_type": "display_data"
    }
   ],
   "source": [
    "plt.grid()\n",
    "plt.plot_date(date['Date'],x['btc_total_bitcoins'],fmt='-')\n",
    "plt.xlabel(\"TIME SCALE\")\n",
    "plt.ylabel(\"TOTAL BITCOIN\")"
   ]
  },
  {
   "cell_type": "code",
   "execution_count": 172,
   "metadata": {},
   "outputs": [
    {
     "data": {
      "text/plain": [
       "<matplotlib.text.Text at 0x1a54c55898>"
      ]
     },
     "execution_count": 172,
     "metadata": {},
     "output_type": "execute_result"
    },
    {
     "data": {
      "image/png": "[encoded data removed]",
      "text/plain": [
       "<matplotlib.figure.Figure at 0x1a54c4eb00>"
      ]
     },
     "metadata": {},
     "output_type": "display_data"
    }
   ],
   "source": [
    "plt.grid()\n",
    "plt.plot_date(date['Date'],x['btc_difficulty'],fmt='-')\n",
    "plt.xlabel(\"TIME SCALE\")\n",
    "plt.ylabel(\"TOTAL BITCOIN\")"
   ]
  },
  {
   "cell_type": "code",
   "execution_count": 173,
   "metadata": {
    "collapsed": true
   },
   "outputs": [],
   "source": [
    "#the difficulty is proportional to price as price increase the difficulty also increse"
   ]
  },
  {
   "cell_type": "code",
   "execution_count": 174,
   "metadata": {},
   "outputs": [
    {
     "data": {
      "text/plain": [
       "<matplotlib.text.Text at 0x1a54ccabe0>"
      ]
     },
     "execution_count": 174,
     "metadata": {},
     "output_type": "execute_result"
    },
    {
     "data": {
      "image/png": "[encoded data removed]",
      "text/plain": [
       "<matplotlib.figure.Figure at 0x1a54cc1588>"
      ]
     },
     "metadata": {},
     "output_type": "display_data"
    }
   ],
   "source": [
    "plt.grid()\n",
    "plt.plot_date(date['Date'],x['btc_hash_rate'],fmt='-')\n",
    "plt.xlabel(\"TIME SCALE\")\n",
    "plt.ylabel(\"TOTAL BITCOIN\")"
   ]
  },
  {
   "cell_type": "code",
   "execution_count": 175,
   "metadata": {
    "collapsed": true
   },
   "outputs": [],
   "source": [
    "#hash rate and price and difficulty look same in plot and must have some relation"
   ]
  },
  {
   "cell_type": "code",
   "execution_count": 176,
   "metadata": {
    "collapsed": true
   },
   "outputs": [],
   "source": [
    "#looking for some typr of realtion or so called corelation"
   ]
  },
  {
   "cell_type": "code",
   "execution_count": 177,
   "metadata": {},
   "outputs": [
    {
     "data": {
      "text/plain": [
       "<matplotlib.axes._subplots.AxesSubplot at 0x1a54ce51d0>"
      ]
     },
     "execution_count": 177,
     "metadata": {},
     "output_type": "execute_result"
    },
    {
     "data": {
      "image/png": "[encoded data removed]",
      "text/plain": [
       "<matplotlib.figure.Figure at 0x1a54bf8630>"
      ]
     },
     "metadata": {},
     "output_type": "display_data"
    }
   ],
   "source": [
    "#watching with heat map for differnt relation\n",
    "sns.heatmap(x.corr())"
   ]
  },
  {
   "cell_type": "code",
   "execution_count": 178,
   "metadata": {},
   "outputs": [
    {
     "data": {
      "text/plain": [
       "<seaborn.matrix.ClusterGrid at 0x1a52053e10>"
      ]
     },
     "execution_count": 178,
     "metadata": {},
     "output_type": "execute_result"
    },
    {
     "data": {
      "image/png": "[encoded data removed]",
      "text/plain": [
       "<matplotlib.figure.Figure at 0x1a54e11668>"
      ]
     },
     "metadata": {},
     "output_type": "display_data"
    }
   ],
   "source": [
    "#better view with cluster map\n",
    "sns.clustermap(x.corr(), center=0,cmap='coolwarm' ,linewidths=.75, figsize=(13, 13))"
   ]
  },
  {
   "cell_type": "code",
   "execution_count": 179,
   "metadata": {
    "collapsed": true
   },
   "outputs": [],
   "source": [
    "#differnt conclusion can be made with this cluster plot for relation bewteen different labels for x data set\n",
    "#dificuly and hash rate are related as above said\n",
    "#and price also \n",
    "#mostly dependency can be seen by these \n",
    "#and others are also realated and can effect price by miner effect\n"
   ]
  },
  {
   "cell_type": "code",
   "execution_count": 180,
   "metadata": {},
   "outputs": [
    {
     "data": {
      "text/plain": [
       "<seaborn.axisgrid.JointGrid at 0x1a54e11748>"
      ]
     },
     "execution_count": 180,
     "metadata": {},
     "output_type": "execute_result"
    },
    {
     "data": {
      "image/png": "[encoded data removed]",
      "text/plain": [
       "<matplotlib.figure.Figure at 0x1a54e11550>"
      ]
     },
     "metadata": {},
     "output_type": "display_data"
    }
   ],
   "source": [
    "sns.jointplot(x['btc_hash_rate'], y['btc_market_price'])"
   ]
  },
  {
   "cell_type": "code",
   "execution_count": 181,
   "metadata": {},
   "outputs": [
    {
     "data": {
      "text/plain": [
       "<seaborn.axisgrid.JointGrid at 0x1a549e7470>"
      ]
     },
     "execution_count": 181,
     "metadata": {},
     "output_type": "execute_result"
    },
    {
     "data": {
      "image/png": "[encoded data removed]",
      "text/plain": [
       "<matplotlib.figure.Figure at 0x1a54de8278>"
      ]
     },
     "metadata": {},
     "output_type": "display_data"
    }
   ],
   "source": [
    "sns.jointplot(x['btc_hash_rate'], x['btc_difficulty'])"
   ]
  },
  {
   "cell_type": "code",
   "execution_count": 182,
   "metadata": {},
   "outputs": [
    {
     "data": {
      "text/plain": [
       "<seaborn.axisgrid.JointGrid at 0x1a55a0dbe0>"
      ]
     },
     "execution_count": 182,
     "metadata": {},
     "output_type": "execute_result"
    },
    {
     "data": {
      "image/png": "[encoded data removed]",
      "text/plain": [
       "<matplotlib.figure.Figure at 0x1a559ce438>"
      ]
     },
     "metadata": {},
     "output_type": "display_data"
    }
   ],
   "source": [
    "sns.jointplot(x['btc_difficulty'], x['btc_total_bitcoins'])"
   ]
  },
  {
   "cell_type": "code",
   "execution_count": 183,
   "metadata": {
    "collapsed": true
   },
   "outputs": [],
   "source": [
    "#thus it lloks as the as difficulty increase the number of coin become constant"
   ]
  },
  {
   "cell_type": "markdown",
   "metadata": {},
   "source": [
    "# data fitting processing and prediction \n",
    "using sklearn and regression models"
   ]
  },
  {
   "cell_type": "code",
   "execution_count": 184,
   "metadata": {
    "collapsed": true
   },
   "outputs": [],
   "source": [
    "#ls be the linear model\n",
    "\n",
    "ls=LinearRegression()"
   ]
  },
  {
   "cell_type": "code",
   "execution_count": 190,
   "metadata": {},
   "outputs": [],
   "source": [
    "X_train, X_test, y_train, y_test = train_test_split(x, y, test_size=0.33, random_state=42)\n"
   ]
  },
  {
   "cell_type": "code",
   "execution_count": 192,
   "metadata": {},
   "outputs": [
    {
     "data": {
      "text/plain": [
       "LinearRegression(copy_X=True, fit_intercept=True, n_jobs=1, normalize=False)"
      ]
     },
     "execution_count": 192,
     "metadata": {},
     "output_type": "execute_result"
    }
   ],
   "source": [
    "#fitting the data \n",
    "#learniing\n",
    "#training the model over data\n",
    "ls.fit(X_train,y_train)"
   ]
  },
  {
   "cell_type": "code",
   "execution_count": 193,
   "metadata": {},
   "outputs": [
    {
     "data": {
      "text/plain": [
       "0.99992605664515399"
      ]
     },
     "execution_count": 193,
     "metadata": {},
     "output_type": "execute_result"
    }
   ],
   "source": [
    "ls.score(X_test,y_test)"
   ]
  },
  {
   "cell_type": "markdown",
   "metadata": {},
   "source": [
    "# FINAL ANALYSIS FOR PRDICTION\n"
   ]
  },
  {
   "cell_type": "code",
   "execution_count": 194,
   "metadata": {
    "collapsed": true
   },
   "outputs": [],
   "source": [
    "prediction=ls.predict(x_test)"
   ]
  },
  {
   "cell_type": "code",
   "execution_count": 199,
   "metadata": {},
   "outputs": [
    {
     "data": {
      "text/plain": [
       "array([[ 9055.60839704],\n",
       "       [ 8899.26520669],\n",
       "       [ 9085.87407082],\n",
       "       [ 8430.32406693],\n",
       "       [ 6767.38603044],\n",
       "       [ 7596.14335545],\n",
       "       [ 8057.60842947],\n",
       "       [ 8259.13824677],\n",
       "       [ 8555.37539682],\n",
       "       [ 8298.70337302],\n",
       "       [ 8377.15699236],\n",
       "       [ 8801.15783021],\n",
       "       [ 8582.58843328],\n",
       "       [ 9309.214738  ]])"
      ]
     },
     "execution_count": 199,
     "metadata": {},
     "output_type": "execute_result"
    }
   ],
   "source": [
    "prediction"
   ]
  },
  {
   "cell_type": "code",
   "execution_count": 203,
   "metadata": {},
   "outputs": [
    {
     "data": {
      "text/plain": [
       "[<matplotlib.lines.Line2D at 0x1a55edd128>]"
      ]
     },
     "execution_count": 203,
     "metadata": {},
     "output_type": "execute_result"
    },
    {
     "data": {
      "image/png": "[encoded data removed]",
      "text/plain": [
       "<matplotlib.figure.Figure at 0x1a56164748>"
      ]
     },
     "metadata": {},
     "output_type": "display_data"
    }
   ],
   "source": [
    "plt.plot(prediction,'-')"
   ]
  },
  {
   "cell_type": "code",
   "execution_count": null,
   "metadata": {
    "collapsed": true
   },
   "outputs": [],
   "source": []
  }
 ],
 "metadata": {
  "kernelspec": {
   "display_name": "Python 3",
   "language": "python",
   "name": "python3"
  },
  "language_info": {
   "codemirror_mode": {
    "name": "ipython",
    "version": 3
   },
   "file_extension": ".py",
   "mimetype": "text/x-python",
   "name": "python",
   "nbconvert_exporter": "python",
   "pygments_lexer": "ipython3",
   "version": "3.5.4"
  }
 },
 "nbformat": 4,
 "nbformat_minor": 2
}
