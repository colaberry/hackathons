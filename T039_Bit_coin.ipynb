{
 "cells": [
  {
   "cell_type": "markdown",
   "metadata": {
    "tags": [
     "s1",
     "content"
    ]
   },
   "source": [
    "\n",
    "                \n",
    "                                  Bitcoin Price Analysis\n",
    "                \n",
    "           bitcoin is a cryptocurrency and world wide payment system\n",
    "importing libraries"
   ]
  },
  {
   "cell_type": "code",
   "execution_count": 7,
   "metadata": {
    "collapsed": true,
    "tags": [
     "s1",
     "ce"
    ]
   },
   "outputs": [],
   "source": [
    "#initial_code, the code written here will be shown to user, write here initial setup to help \n",
    "%matplotlib inline \n",
    "from matplotlib.offsetbox import AnchoredText\n",
    "import numpy as np \n",
    "import pandas as pd \n",
    "import datetime as dt\n",
    "import itertools\n",
    "import matplotlib.pyplot as plt \n",
    "import matplotlib.dates as mdates\n",
    "import seaborn as sns"
   ]
  },
  {
   "cell_type": "markdown",
   "metadata": {
    "tags": [
     "s1",
     "hint"
    ]
   },
   "source": [
    "datasets into dataframes and their time series analysis"
   ]
  },
  {
   "cell_type": "code",
   "execution_count": 30,
   "metadata": {
    "tags": [
     "s1",
     "ans"
    ]
   },
   "outputs": [
    {
     "name": "stdout",
     "output_type": "stream",
     "text": [
      "        Date  btc_market_price  btc_total_bitcoins  btc_market_cap  \\\n",
      "0  2/17/2010               0.0           2043200.0             0.0   \n",
      "1  2/18/2010               0.0           2054650.0             0.0   \n",
      "2  2/19/2010               0.0           2063600.0             0.0   \n",
      "3  2/20/2010               0.0           2074700.0             0.0   \n",
      "4  2/21/2010               0.0           2085400.0             0.0   \n",
      "\n",
      "   btc_trade_volume  btc_blocks_size  btc_avg_block_size  \\\n",
      "0               0.0              0.0            0.000235   \n",
      "1               0.0              0.0            0.000241   \n",
      "2               0.0              0.0            0.000228   \n",
      "3               0.0              0.0            0.000218   \n",
      "4               0.0              0.0            0.000234   \n",
      "\n",
      "   btc_n_orphaned_blocks  btc_n_transactions_per_block  \\\n",
      "0                      0                           1.0   \n",
      "1                      0                           1.0   \n",
      "2                      0                           1.0   \n",
      "3                      0                           1.0   \n",
      "4                      0                           1.0   \n",
      "\n",
      "   btc_median_confirmation_time                  ...                   \\\n",
      "0                           0.0                  ...                    \n",
      "1                           0.0                  ...                    \n",
      "2                           0.0                  ...                    \n",
      "3                           0.0                  ...                    \n",
      "4                           0.0                  ...                    \n",
      "\n",
      "   btc_cost_per_transaction_percent  btc_cost_per_transaction  \\\n",
      "0                         31.781022                       0.0   \n",
      "1                        154.463801                       0.0   \n",
      "2                       1278.516635                       0.0   \n",
      "3                      22186.687990                       0.0   \n",
      "4                        689.179876                       0.0   \n",
      "\n",
      "   btc_n_unique_addresses  btc_n_transactions  btc_n_transactions_total  \\\n",
      "0                     241                 244                     41240   \n",
      "1                     234                 235                     41475   \n",
      "2                     185                 183                     41658   \n",
      "3                     224                 224                     41882   \n",
      "4                     218                 218                     42100   \n",
      "\n",
      "   btc_n_transactions_excluding_popular  \\\n",
      "0                                   244   \n",
      "1                                   235   \n",
      "2                                   183   \n",
      "3                                   224   \n",
      "4                                   218   \n",
      "\n",
      "   btc_n_transactions_excluding_chains_longer_than_100  btc_output_volume  \\\n",
      "0                                                244             65173.13   \n",
      "1                                                235             18911.74   \n",
      "2                                                183              9749.98   \n",
      "3                                                224             11150.03   \n",
      "4                                                218             12266.83   \n",
      "\n",
      "   btc_estimated_transaction_volume  btc_estimated_transaction_volume_usd  \n",
      "0                           36500.0                                   0.0  \n",
      "1                            7413.0                                   0.0  \n",
      "2                             700.0                                   0.0  \n",
      "3                              50.0                                   0.0  \n",
      "4                            1553.0                                   0.0  \n",
      "\n",
      "[5 rows x 24 columns]\n",
      "            btc_market_price\n",
      "Date                        \n",
      "2010-02-17               0.0\n",
      "2010-02-18               0.0\n",
      "2010-02-19               0.0\n",
      "2010-02-20               0.0\n",
      "2010-02-21               0.0\n"
     ]
    }
   ],
   "source": [
    "#answer, write code which is a solution for above question.\n",
    "plt.style.use('ggplot')\n",
    "btc_url=\"https://raw.githubusercontent.com/colaberry/data/master/Bitcoin/bitcoin_dataset.csv\"\n",
    "btc1=pd.read_csv(btc_url)\n",
    "print(btc1.head())\n",
    "btc1['Date'] = pd.to_datetime(btc1['Date'])\n",
    "btc1.index=btc1['Date'].values\n",
    "btc1.head()\n",
    "btc2=pd.DataFrame(btc1[['btc_market_price','Date']].groupby('Date').sum())\n",
    "print(btc2.head())"
   ]
  }
 ],
 "metadata": {
  "executed_sections": [],
  "kernelspec": {
   "display_name": "Python 3",
   "language": "python",
   "name": "python3"
  },
  "language_info": {
   "codemirror_mode": {
    "name": "ipython",
    "version": 3
   },
   "file_extension": ".py",
   "mimetype": "text/x-python",
   "name": "python",
   "nbconvert_exporter": "python",
   "pygments_lexer": "ipython3",
   "version": "3.5.2"
  }
 },
 "nbformat": 4,
 "nbformat_minor": 2
}