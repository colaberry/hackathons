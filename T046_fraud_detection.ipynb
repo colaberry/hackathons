{
 "cells": [
  {
   "cell_type": "markdown",
   "metadata": {
    "tags": [
     "s1",
     "content"
    ]
   },
   "source": [
    "      \n",
    "Fraud is the event of illegal access or execution of a transaction. Fraud modeling is the process where large amounts of transactional data is analyzed to identify observations which do not generally follow the regular patterns. Due to this nature of the problem, anamoly detection and some classification techniques are most suited to analyze such problems and draw valuable insights."
   ]
  },
  {
   "cell_type": "code",
   "execution_count": 4,
   "metadata": {
    "tags": [
     "s1",
     "ce"
    ]
   },
   "outputs": [
    {
     "name": "stdout",
     "output_type": "stream",
     "text": [
      "      S  A  F  J  G\n",
      "0     0  2  1  0  1\n",
      "1     0  0  1  0  1\n",
      "2     0  2  1  0  1\n",
      "3     0  1  1  0  1\n",
      "4     0  2  0  1  1\n",
      "5     0  1  1  0  1\n",
      "6     0  1  0  1  1\n",
      "7     1  1  1  1  1\n",
      "8     1  2  1  0  1\n",
      "9     1  0  1  0  0\n",
      "10    0  1  0  1  0\n",
      "11    1  1  1  0  1\n",
      "12    1  1  0  1  1\n",
      "13    0  0  1  0  1\n",
      "14    1  1  1  0  1\n",
      "15    1  1  0  1  0\n",
      "16    0  1  1  1  1\n",
      "17    0  2  1  0  1\n",
      "18    0  1  1  0  1\n",
      "19    1  0  1  0  1\n",
      "20    0  1  1  0  1\n",
      "21    0  2  1  0  1\n",
      "22    0  0  1  1  1\n",
      "23    0  0  1  0  1\n",
      "24    0  1  1  0  1\n",
      "25    1  0  0  1  0\n",
      "26    0  1  0  1  1\n",
      "27    1  2  1  0  1\n",
      "28    0  2  1  0  1\n",
      "29    0  1  1  0  1\n",
      "...  .. .. .. .. ..\n",
      "9970  0  0  1  0  1\n",
      "9971  0  2  1  0  1\n",
      "9972  0  1  1  0  1\n",
      "9973  1  1  1  0  1\n",
      "9974  1  1  1  0  1\n",
      "9975  0  2  1  0  1\n",
      "9976  1  1  1  0  1\n",
      "9977  1  2  0  1  1\n",
      "9978  0  0  1  0  1\n",
      "9979  1  2  1  0  1\n",
      "9980  0  0  1  0  1\n",
      "9981  0  1  1  0  1\n",
      "9982  1  1  1  0  1\n",
      "9983  1  1  1  0  1\n",
      "9984  1  2  1  0  1\n",
      "9985  1  0  1  0  1\n",
      "9986  1  1  1  0  1\n",
      "9987  0  1  1  0  1\n",
      "9988  1  2  1  0  1\n",
      "9989  0  1  0  1  1\n",
      "9990  0  1  1  0  1\n",
      "9991  0  2  0  1  1\n",
      "9992  0  0  1  0  1\n",
      "9993  0  0  0  1  1\n",
      "9994  0  1  1  0  1\n",
      "9995  0  0  0  1  1\n",
      "9996  1  0  1  0  1\n",
      "9997  0  0  1  0  1\n",
      "9998  1  2  1  1  1\n",
      "9999  0  1  1  0  1\n",
      "\n",
      "[10000 rows x 5 columns]\n"
     ]
    }
   ],
   "source": [
    "import pandas as pd\n",
    "import seaborn as sns\n",
    "import statsmodels.formula.api as sm\n",
    "sns.set()\n",
    "sns.set_style(\"whitegrid\")\n",
    "\n",
    "fraud_data = pd.read_csv(\"https://raw.githubusercontent.com/colaberry/data/master/Fraud/fraud_data.csv\")\n",
    "print(fraud_data)"
   ]
  },
  {
   "cell_type": "markdown",
   "metadata": {
    "tags": [
     "s1",
     "hint"
    ]
   },
   "source": [
    "use pandas to retreive data"
   ]
  },
  {
   "cell_type": "code",
   "execution_count": null,
   "metadata": {
    "collapsed": true,
    "tags": [
     "s1",
     "ans"
    ]
   },
   "outputs": [],
   "source": [
    "fraud_data = pd.read_csv(\"https://raw.githubusercontent.com/colaberry/data/master/Fraud/fraud_data.csv\")"
   ]
  }
 ],
 "metadata": {
  "executed_sections": [],
  "kernelspec": {
   "display_name": "Python 3",
   "language": "python",
   "name": "python3"
  },
  "language_info": {
   "codemirror_mode": {
    "name": "ipython",
    "version": 3
   },
   "file_extension": ".py",
   "mimetype": "text/x-python",
   "name": "python",
   "nbconvert_exporter": "python",
   "pygments_lexer": "ipython3",
   "version": "3.5.2"
  }
 },
 "nbformat": 4,
 "nbformat_minor": 2
}