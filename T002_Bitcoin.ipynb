{
 "cells": [
  {
   "cell_type": "markdown",
   "metadata": {
    "tags": [
     "s1",
     "content"
    ]
   },
   "source": [
    "# ## BITCOIN PRICE ANALYSIS  \n",
    "                \n",
    "### DATA ACQUISITION\n",
    "\n",
    "The data will be acquired, and we are going to perform transformaions on this data to make it more understandable for future analysis.\n",
    "->Take data1 as your dataframe variable and read the .csv file into this dataframe."
   ]
  },
  {
   "cell_type": "code",
   "execution_count": 2,
   "metadata": {
    "collapsed": true,
    "has_completed": true,
    "tags": [
     "s1",
     "ce"
    ]
   },
   "outputs": [],
   "source": [
    "import pandas as pd\n",
    "import numpy as np\n",
    "import seaborn as sns\n",
    "\n",
    "\n",
    "\n",
    "data1 = pd.read_csv('https://raw.githubusercontent.com/colaberry/data/master/Bitcoin/bitcoin_dataset.csv')\n"
   ]
  },
  {
   "cell_type": "markdown",
   "metadata": {
    "tags": [
     "s1",
     "hint"
    ]
   },
   "source": [
    "Use read_csv to read the data"
   ]
  },
  {
   "cell_type": "code",
   "execution_count": null,
   "metadata": {
    "collapsed": true,
    "tags": [
     "s1",
     "ans"
    ]
   },
   "outputs": [],
   "source": [
    "import pandas as pd\n",
    "import numpy as np\n",
    "import seaborn as sns\n",
    "data1 = pd.read_csv('https://raw.githubusercontent.com/colaberry/data/master/Bitcoin/bitcoin_dataset.csv')"
   ]
  },
  {
   "cell_type": "code",
   "execution_count": null,
   "metadata": {
    "collapsed": true,
    "tags": [
     "s1",
     "hid"
    ]
   },
   "outputs": [],
   "source": [
    "print(\"continue\")"
   ]
  },
  {
   "cell_type": "markdown",
   "metadata": {
    "tags": [
     "s2",
     "content"
    ]
   },
   "source": [
    " Check the first ten rows of the data set.We can do it using head().Checking for null values.\n",
    "Check the data for null values using isnull(). Check for non null objects using .info()"
   ]
  },
  {
   "cell_type": "code",
   "execution_count": null,
   "metadata": {
    "collapsed": true,
    "tags": [
     "s2",
     "ce"
    ]
   },
   "outputs": [],
   "source": [
    "data1.head(10)\n",
    "data1.isnull()\n",
    "data1.info()"
   ]
  },
  {
   "cell_type": "markdown",
   "metadata": {
    "tags": [
     "s2",
     "hint"
    ]
   },
   "source": [
    "use .isnull() and .info()"
   ]
  },
  {
   "cell_type": "code",
   "execution_count": null,
   "metadata": {
    "collapsed": true,
    "tags": [
     "s2",
     "ans"
    ]
   },
   "outputs": [],
   "source": [
    "data1.head(10)\n",
    "data1.isnull()\n",
    "data1.info()"
   ]
  },
  {
   "cell_type": "code",
   "execution_count": null,
   "metadata": {
    "collapsed": true,
    "tags": [
     "s2",
     "hid"
    ]
   },
   "outputs": [],
   "source": [
    "print(\"continue\")"
   ]
  },
  {
   "cell_type": "markdown",
   "metadata": {
    "tags": [
     "s3",
     "content"
    ]
   },
   "source": [
    "Cleaning data.\n",
    "Removing nan valued rows from the dataset. This can be done using .dropna() method.Remove rows with nan values.use .dropna() method"
   ]
  },
  {
   "cell_type": "code",
   "execution_count": null,
   "metadata": {
    "collapsed": true,
    "tags": [
     "s3",
     "ce"
    ]
   },
   "outputs": [],
   "source": [
    "data1=data1.dropna()\n",
    "data1"
   ]
  },
  {
   "cell_type": "markdown",
   "metadata": {
    "tags": [
     "s3",
     "hint"
    ]
   },
   "source": [
    "print data frame"
   ]
  },
  {
   "cell_type": "code",
   "execution_count": null,
   "metadata": {
    "collapsed": true,
    "tags": [
     "s3",
     "ans"
    ]
   },
   "outputs": [],
   "source": [
    "data1=data1.dropna()\n",
    "data1"
   ]
  },
  {
   "cell_type": "code",
   "execution_count": null,
   "metadata": {
    "collapsed": true,
    "tags": [
     "s3",
     "hid"
    ]
   },
   "outputs": [],
   "source": [
    "print(\"continue\")"
   ]
  },
  {
   "cell_type": "markdown",
   "metadata": {
    "tags": [
     "s4",
     "content"
    ]
   },
   "source": [
    "Data Visualization.\n",
    "After cleaning data by removing nan valued rows. We now visualize it by observing numerical distribution of all the numerical variables in the data set.Put all the numerical variables to data1_num variable.Then get the histogram plots of all the numerical variables."
   ]
  },
  {
   "cell_type": "code",
   "execution_count": null,
   "metadata": {
    "collapsed": true,
    "tags": [
     "s4",
     "ce"
    ]
   },
   "outputs": [],
   "source": [
    "list(set(data1.dtypes.tolist()))\n",
    "data1_num = data1.select_dtypes(include=['float64','int64'] )\n",
    "data1_num.head()\n",
    "data1_num.hist(figsize=(16,20),bins=50, xlabelsize=8, ylabelsize=8);\n"
   ]
  },
  {
   "cell_type": "markdown",
   "metadata": {
    "tags": [
     "s4",
     "hint"
    ]
   },
   "source": [
    "use .hist()"
   ]
  },
  {
   "cell_type": "code",
   "execution_count": null,
   "metadata": {
    "collapsed": true,
    "tags": [
     "s4",
     "ans"
    ]
   },
   "outputs": [],
   "source": [
    "list(set(data1.dtypes.tolist()))\n",
    "data1_num = data1.select_dtypes(include=['float64','int64'] )\n",
    "data1_num.head()\n",
    "data1_num.hist(figsize=(16,20),bins=50, xlabelsize=8, ylabelsize=8);"
   ]
  },
  {
   "cell_type": "code",
   "execution_count": null,
   "metadata": {
    "collapsed": true,
    "tags": [
     "s4",
     "hid"
    ]
   },
   "outputs": [],
   "source": [
    "print(\"continue\")"
   ]
  },
  {
   "cell_type": "markdown",
   "metadata": {
    "tags": [
     "s5",
     "content"
    ]
   },
   "source": [
    "from the graphs,we can analyse the distribution of variables.\n",
    "Note that we do this because we saw in the result of the .info() method that the 'Date' column was actually an of data type object. Now, that generic data type encapsulates everything from strings to integers, etc. That's not exactly what you want when you want to be looking at time series data. That's why you'll use .to_datetime() to convert the 'month' column in your DataFrame to a DateTime."
   ]
  },
  {
   "cell_type": "code",
   "execution_count": null,
   "metadata": {
    "collapsed": true,
    "tags": [
     "s5",
     "ce"
    ]
   },
   "outputs": [],
   "source": [
    "data1.Date = pd.to_datetime(data1.Date)\n",
    "data1.set_index('Date',inplace=True)\n",
    "data1.head()"
   ]
  },
  {
   "cell_type": "markdown",
   "metadata": {
    "tags": [
     "s5",
     "hint"
    ]
   },
   "source": [
    "check the dataset rows using .head()"
   ]
  },
  {
   "cell_type": "code",
   "execution_count": null,
   "metadata": {
    "collapsed": true,
    "tags": [
     "s5",
     "ans"
    ]
   },
   "outputs": [],
   "source": [
    "data1.Date = pd.to_datetime(data1.Date)\n",
    "data1.set_index('Date',inplace=True)\n",
    "data1.head()"
   ]
  },
  {
   "cell_type": "code",
   "execution_count": null,
   "metadata": {
    "collapsed": true,
    "tags": [
     "s5",
     "hid"
    ]
   },
   "outputs": [],
   "source": [
    "print(\"continue\")"
   ]
  },
  {
   "cell_type": "markdown",
   "metadata": {
    "tags": [
     "s6",
     "content"
    ]
   },
   "source": [
    "Identifying Trends in Time Series:\n",
    "\n",
    "By taking rolling average, which means, for each time point you take the average of the points on either side of it. Note that the number of points is specified by a window size that you need to choose.\n",
    "When it comes to determining the window size here, it makes sense to first try out one of 12 months.\n",
    "Now we must see trends of every variable during the years.\n"
   ]
  },
  {
   "cell_type": "code",
   "execution_count": null,
   "metadata": {
    "collapsed": true,
    "tags": [
     "s6",
     "ce"
    ]
   },
   "outputs": [],
   "source": [
    "btc_market_price = data1[['btc_market_price']]\n",
    "btc_market_price.rolling(12).mean().plot(figsize=(20,10), linewidth=5, fontsize=20)\n",
    "plt.xlabel('Year', fontsize=20);\n",
    "btc_total_bitcoins = data1[['btc_total_bitcoins']]\n",
    "btc_total_bitcoins.rolling(12).mean().plot(figsize=(20,10), linewidth=5, fontsize=20)\n",
    "plt.xlabel('Year', fontsize=20);\n",
    "btc_avg_block_size= data1[['btc_avg_block_size']]\n",
    "btc_avg_block_size.rolling(12).mean().plot(figsize=(10,5), linewidth=5, fontsize=20)\n",
    "plt.xlabel('Year', fontsize=20);\n",
    "btc_blocks_size= data1[['btc_blocks_size']]\n",
    "btc_blocks_size.rolling(12).mean().plot(figsize=(10,5), linewidth=5, fontsize=20)\n",
    "plt.xlabel('Year', fontsize=20);\n",
    "btc_trade_volume= data1[['btc_trade_volume']]\n",
    "btc_trade_volume.rolling(12).mean().plot(figsize=(10,5), linewidth=5, fontsize=20)\n",
    "plt.xlabel('Year', fontsize=20);\n",
    "btc_n_orphaned_blocks= data1[['btc_n_orphaned_blocks']]\n",
    "btc_n_orphaned_blocks.rolling(12).mean().plot(figsize=(10,5), linewidth=5, fontsize=20)\n",
    "plt.xlabel('Year', fontsize=20);\n",
    "\n",
    "btc_n_transactions_per_block= data1[['btc_n_transactions_per_block']]\n",
    "btc_n_transactions_per_block.rolling(12).mean().plot(figsize=(10,5), linewidth=5, fontsize=20)\n",
    "plt.xlabel('Year', fontsize=20);\n",
    "btc_median_confirmation_time= data1[['btc_median_confirmation_time']]\n",
    "btc_median_confirmation_time.rolling(12).mean().plot(figsize=(10,5), linewidth=5, fontsize=20)\n",
    "plt.xlabel('Year', fontsize=20);\n",
    "btc_hash_rate= data1[['btc_hash_rate']]\n",
    "btc_hash_rate.rolling(12).mean().plot(figsize=(10,5), linewidth=5, fontsize=20)\n",
    "plt.xlabel('Year', fontsize=20);\n",
    "btc_difficulty= data1[['btc_difficulty']]\n",
    "btc_difficulty.rolling(12).mean().plot(figsize=(10,5), linewidth=5, fontsize=20)\n",
    "plt.xlabel('Year', fontsize=20);\n",
    "btc_miners_revenue= data1[['btc_miners_revenue']]\n",
    "btc_miners_revenue.rolling(12).mean().plot(figsize=(10,5), linewidth=5, fontsize=20)\n",
    "plt.xlabel('Year', fontsize=20);\n",
    "\n",
    "btc_transaction_fees= data1[['btc_transaction_fees']]\n",
    "btc_transaction_fees.rolling(12).mean().plot(figsize=(10,5), linewidth=5, fontsize=20)\n",
    "plt.xlabel('Year', fontsize=20);\n",
    "\n",
    "btc_cost_per_transaction_percent= data1[['btc_cost_per_transaction_percent']]\n",
    "btc_cost_per_transaction_percent.rolling(12).mean().plot(figsize=(10,5), linewidth=5, fontsize=20)\n",
    "plt.xlabel('Year', fontsize=20);\n",
    "\n",
    "btc_cost_per_transaction= data1[['btc_cost_per_transaction']]\n",
    "btc_cost_per_transaction.rolling(12).mean().plot(figsize=(10,5), linewidth=5, fontsize=20)\n",
    "plt.xlabel('Year', fontsize=20);\n",
    "\n",
    "btc_n_unique_addresses= data1[['btc_n_unique_addresses']]\n",
    "btc_n_unique_addresses.rolling(12).mean().plot(figsize=(10,5), linewidth=5, fontsize=20)\n",
    "plt.xlabel('Year', fontsize=20);\n",
    "\n",
    "btc_n_transactions= data1[['btc_n_transactions']]\n",
    "btc_n_transactions.rolling(12).mean().plot(figsize=(10,5), linewidth=5, fontsize=20)\n",
    "plt.xlabel('Year', fontsize=20);\n",
    "\n",
    "btc_n_transactions_total= data1[['btc_n_transactions_total']]\n",
    "btc_n_transactions_total.rolling(12).mean().plot(figsize=(10,5), linewidth=5, fontsize=20)\n",
    "plt.xlabel('Year', fontsize=20);\n",
    "\n",
    "\n",
    "\n",
    "btc_n_transactions_excluding_popular= data1[['btc_n_transactions_excluding_popular']]\n",
    "btc_n_transactions_excluding_popular.rolling(12).mean().plot(figsize=(10,5), linewidth=5, fontsize=20)\n",
    "plt.xlabel('Year', fontsize=20);\n",
    "\n",
    "btc_n_transactions_excluding_chains_longer_than_100= data1[['btc_n_transactions_excluding_chains_longer_than_100']]\n",
    "btc_n_transactions_excluding_chains_longer_than_100.rolling(12).mean().plot(figsize=(10,5), linewidth=5, fontsize=20)\n",
    "plt.xlabel('Year', fontsize=20);\n",
    "\n",
    "btc_output_volume= data1[['btc_output_volume']]\n",
    "btc_output_volume.rolling(12).mean().plot(figsize=(10,5), linewidth=5, fontsize=20)\n",
    "plt.xlabel('Year', fontsize=20);\n",
    "btc_estimated_transaction_volume= data1[['btc_estimated_transaction_volume']]\n",
    "btc_estimated_transaction_volume.rolling(12).mean().plot(figsize=(10,5), linewidth=5, fontsize=20)\n",
    "plt.xlabel('Year', fontsize=20);\n",
    "\n",
    "\n"
   ]
  },
  {
   "cell_type": "markdown",
   "metadata": {
    "tags": [
     "s6",
     "hint"
    ]
   },
   "source": [
    "try the same for btc_estimated_transaction_volume"
   ]
  },
  {
   "cell_type": "code",
   "execution_count": null,
   "metadata": {
    "collapsed": true,
    "tags": [
     "s6",
     "ans"
    ]
   },
   "outputs": [],
   "source": [
    "btc_market_price = data1[['btc_market_price']]\n",
    "btc_market_price.rolling(12).mean().plot(figsize=(20,10), linewidth=5, fontsize=20)\n",
    "plt.xlabel('Year', fontsize=20);\n",
    "btc_total_bitcoins = data1[['btc_total_bitcoins']]\n",
    "btc_total_bitcoins.rolling(12).mean().plot(figsize=(20,10), linewidth=5, fontsize=20)\n",
    "plt.xlabel('Year', fontsize=20);\n",
    "btc_avg_block_size= data1[['btc_avg_block_size']]\n",
    "btc_avg_block_size.rolling(12).mean().plot(figsize=(10,5), linewidth=5, fontsize=20)\n",
    "plt.xlabel('Year', fontsize=20);\n",
    "btc_blocks_size= data1[['btc_blocks_size']]\n",
    "btc_blocks_size.rolling(12).mean().plot(figsize=(10,5), linewidth=5, fontsize=20)\n",
    "plt.xlabel('Year', fontsize=20);\n",
    "btc_trade_volume= data1[['btc_trade_volume']]\n",
    "btc_trade_volume.rolling(12).mean().plot(figsize=(10,5), linewidth=5, fontsize=20)\n",
    "plt.xlabel('Year', fontsize=20);\n",
    "btc_n_orphaned_blocks= data1[['btc_n_orphaned_blocks']]\n",
    "btc_n_orphaned_blocks.rolling(12).mean().plot(figsize=(10,5), linewidth=5, fontsize=20)\n",
    "plt.xlabel('Year', fontsize=20);\n",
    "\n",
    "btc_n_transactions_per_block= data1[['btc_n_transactions_per_block']]\n",
    "btc_n_transactions_per_block.rolling(12).mean().plot(figsize=(10,5), linewidth=5, fontsize=20)\n",
    "plt.xlabel('Year', fontsize=20);\n",
    "btc_median_confirmation_time= data1[['btc_median_confirmation_time']]\n",
    "btc_median_confirmation_time.rolling(12).mean().plot(figsize=(10,5), linewidth=5, fontsize=20)\n",
    "plt.xlabel('Year', fontsize=20);\n",
    "btc_hash_rate= data1[['btc_hash_rate']]\n",
    "btc_hash_rate.rolling(12).mean().plot(figsize=(10,5), linewidth=5, fontsize=20)\n",
    "plt.xlabel('Year', fontsize=20);\n",
    "btc_difficulty= data1[['btc_difficulty']]\n",
    "btc_difficulty.rolling(12).mean().plot(figsize=(10,5), linewidth=5, fontsize=20)\n",
    "plt.xlabel('Year', fontsize=20);\n",
    "btc_miners_revenue= data1[['btc_miners_revenue']]\n",
    "btc_miners_revenue.rolling(12).mean().plot(figsize=(10,5), linewidth=5, fontsize=20)\n",
    "plt.xlabel('Year', fontsize=20);\n",
    "\n",
    "btc_transaction_fees= data1[['btc_transaction_fees']]\n",
    "btc_transaction_fees.rolling(12).mean().plot(figsize=(10,5), linewidth=5, fontsize=20)\n",
    "plt.xlabel('Year', fontsize=20);\n",
    "\n",
    "btc_cost_per_transaction_percent= data1[['btc_cost_per_transaction_percent']]\n",
    "btc_cost_per_transaction_percent.rolling(12).mean().plot(figsize=(10,5), linewidth=5, fontsize=20)\n",
    "plt.xlabel('Year', fontsize=20);\n",
    "\n",
    "btc_cost_per_transaction= data1[['btc_cost_per_transaction']]\n",
    "btc_cost_per_transaction.rolling(12).mean().plot(figsize=(10,5), linewidth=5, fontsize=20)\n",
    "plt.xlabel('Year', fontsize=20);\n",
    "\n",
    "btc_n_unique_addresses= data1[['btc_n_unique_addresses']]\n",
    "btc_n_unique_addresses.rolling(12).mean().plot(figsize=(10,5), linewidth=5, fontsize=20)\n",
    "plt.xlabel('Year', fontsize=20);\n",
    "\n",
    "btc_n_transactions= data1[['btc_n_transactions']]\n",
    "btc_n_transactions.rolling(12).mean().plot(figsize=(10,5), linewidth=5, fontsize=20)\n",
    "plt.xlabel('Year', fontsize=20);\n",
    "\n",
    "btc_n_transactions_total= data1[['btc_n_transactions_total']]\n",
    "btc_n_transactions_total.rolling(12).mean().plot(figsize=(10,5), linewidth=5, fontsize=20)\n",
    "plt.xlabel('Year', fontsize=20);\n",
    "\n",
    "\n",
    "\n",
    "btc_n_transactions_excluding_popular= data1[['btc_n_transactions_excluding_popular']]\n",
    "btc_n_transactions_excluding_popular.rolling(12).mean().plot(figsize=(10,5), linewidth=5, fontsize=20)\n",
    "plt.xlabel('Year', fontsize=20);\n",
    "\n",
    "btc_n_transactions_excluding_chains_longer_than_100= data1[['btc_n_transactions_excluding_chains_longer_than_100']]\n",
    "btc_n_transactions_excluding_chains_longer_than_100.rolling(12).mean().plot(figsize=(10,5), linewidth=5, fontsize=20)\n",
    "plt.xlabel('Year', fontsize=20);\n",
    "\n",
    "btc_output_volume= data1[['btc_output_volume']]\n",
    "btc_output_volume.rolling(12).mean().plot(figsize=(10,5), linewidth=5, fontsize=20)\n",
    "plt.xlabel('Year', fontsize=20);\n",
    "btc_estimated_transaction_volume= data1[['btc_estimated_transaction_volume']]\n",
    "btc_estimated_transaction_volume.rolling(12).mean().plot(figsize=(10,5), linewidth=5, fontsize=20)\n",
    "plt.xlabel('Year', fontsize=20);"
   ]
  },
  {
   "cell_type": "code",
   "execution_count": null,
   "metadata": {
    "collapsed": true,
    "tags": [
     "s6",
     "hid"
    ]
   },
   "outputs": [],
   "source": [
    "print(\"continue\")"
   ]
  },
  {
   "cell_type": "markdown",
   "metadata": {
    "tags": [
     "s7",
     "content"
    ]
   },
   "source": [
    "MODEL SEARCH.\n",
    "Since we have more than one independent variable,we go for Mmultilinear Regression using STATS MODELS.\n",
    "Here the code is provided.\n",
    "including all the variables to train.\n",
    "using lm=sm.ols(formula=\"x~y+z+....).fit()\n",
    "predicting over the features\n",
    "y_hat=lm.predict(data1[['y','z',....]])\n"
   ]
  },
  {
   "cell_type": "code",
   "execution_count": null,
   "metadata": {
    "collapsed": true,
    "tags": [
     "s7",
     "ce"
    ]
   },
   "outputs": [],
   "source": [
    "from sklearn import linear_model\n",
    "import statsmodels.formula.api as sm\n",
    "\n",
    "from sklearn.metrics import mean_squared_error\n",
    "\n",
    "lm = sm.ols(formula='btc_market_price ~ btc_total_bitcoins + btc_market_cap + btc_trade_volume + btc_blocks_size + btc_n_orphaned_blocks + btc_n_transactions_per_block + btc_median_confirmation_time + btc_hash_rate + btc_difficulty + btc_miners_revenue + btc_transaction_fees + btc_cost_per_transaction_percent + btc_cost_per_transaction + btc_n_unique_addresses + btc_n_transactions + btc_n_transactions_total + btc_n_transactions_excluding_popular + btc_n_transactions_excluding_chains_longer_than_100 + btc_output_volume + btc_estimated_transaction_volume',data=data1).fit()\n",
    "y_hat = lm.predict(data1[['btc_total_bitcoins' , 'btc_market_cap' , 'btc_trade_volume' , 'btc_blocks_size' , 'btc_n_orphaned_blocks' , 'btc_n_transactions_per_block' , 'btc_median_confirmation_time' , 'btc_hash_rate' , 'btc_difficulty' , 'btc_miners_revenue' , 'btc_transaction_fees' , 'btc_cost_per_transaction_percent' , 'btc_cost_per_transaction' , 'btc_n_unique_addresses' , 'btc_n_transactions' , 'btc_n_transactions_total' , 'btc_n_transactions_excluding_popular' , 'btc_n_transactions_excluding_chains_longer_than_100' , 'btc_output_volume' , 'btc_estimated_transaction_volume']])\n",
    "print(\"MSE:\",mean_squared_error(data1['btc_market_price'].values,y_hat))\n",
    "r_squared=lm.rsquared\n",
    "print(\"r_squared:\",r_squared)"
   ]
  },
  {
   "cell_type": "markdown",
   "metadata": {
    "tags": [
     "s7",
     "hint"
    ]
   },
   "source": [
    "print r_squared value too"
   ]
  },
  {
   "cell_type": "code",
   "execution_count": null,
   "metadata": {
    "collapsed": true,
    "tags": [
     "s7",
     "ans"
    ]
   },
   "outputs": [],
   "source": [
    "from sklearn import linear_model\n",
    "import statsmodels.formula.api as sm\n",
    "\n",
    "from sklearn.metrics import mean_squared_error\n",
    "\n",
    "lm = sm.ols(formula='btc_market_price ~ btc_total_bitcoins + btc_market_cap + btc_trade_volume + btc_blocks_size + btc_n_orphaned_blocks + btc_n_transactions_per_block + btc_median_confirmation_time + btc_hash_rate + btc_difficulty + btc_miners_revenue + btc_transaction_fees + btc_cost_per_transaction_percent + btc_cost_per_transaction + btc_n_unique_addresses + btc_n_transactions + btc_n_transactions_total + btc_n_transactions_excluding_popular + btc_n_transactions_excluding_chains_longer_than_100 + btc_output_volume + btc_estimated_transaction_volume',data=data1).fit()\n",
    "y_hat = lm.predict(data1[['btc_total_bitcoins' , 'btc_market_cap' , 'btc_trade_volume' , 'btc_blocks_size' , 'btc_n_orphaned_blocks' , 'btc_n_transactions_per_block' , 'btc_median_confirmation_time' , 'btc_hash_rate' , 'btc_difficulty' , 'btc_miners_revenue' , 'btc_transaction_fees' , 'btc_cost_per_transaction_percent' , 'btc_cost_per_transaction' , 'btc_n_unique_addresses' , 'btc_n_transactions' , 'btc_n_transactions_total' , 'btc_n_transactions_excluding_popular' , 'btc_n_transactions_excluding_chains_longer_than_100' , 'btc_output_volume' , 'btc_estimated_transaction_volume']])\n",
    "print(\"MSE:\",mean_squared_error(data1['btc_market_price'].values,y_hat))\n",
    "r_squared=lm.rsquared\n",
    "print(\"r_squared:\",r_squared)\n",
    "print(\"r_squared:\",r_squared)"
   ]
  }
 ],
 "metadata": {
  "executed_sections": [],
  "kernelspec": {
   "display_name": "Python 3",
   "language": "python",
   "name": "python3"
  },
  "language_info": {
   "codemirror_mode": {
    "name": "ipython",
    "version": 3
   },
   "file_extension": ".py",
   "mimetype": "text/x-python",
   "name": "python",
   "nbconvert_exporter": "python",
   "pygments_lexer": "ipython3",
   "version": "3.5.2"
  }
 },
 "nbformat": 4,
 "nbformat_minor": 2
}