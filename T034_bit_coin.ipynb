{
 "cells": [
  {
   "cell_type": "markdown",
   "metadata": {
    "tags": [
     "s1",
     "content"
    ]
   },
   "source": [
    "# Bitcoin price analysis\n",
    "\n",
    "## About the dataset\n",
    "### We have used the dataset(bicoin_dataset.csv)provided by Colaberry from its github's repository.\n",
    "\n",
    "The data set consist of 22 variables\n",
    "        <ul>\n",
    "\t\t<li>btc_market_price </li>\n",
    "\t\t<li>btc_total_bitcoins</li>\n",
    "\t\t<li>btc_market_cap</li>\n",
    "\t\t<li>btc_trade_volume</li>\n",
    "\t\t<li>btc_blocks_size</li>\n",
    "\t\t<li>btc_avg_block_size</li>\n",
    "\t\t<li>btc_n_orphaned_blocks</li>\n",
    "\t\t<li>btc_n_transactions_per_block</li>\n",
    "\t\t<li>btc_median_confirmation_time</li>\n",
    "\t\t<li>btc_hash_rate</li>\n",
    "\t\t<li>btc_difficulty</li>\n",
    "\t\t<li>btc_miners_revenue</li>\n",
    "\t\t<li>btc_transaction_fees</li>\n",
    "\t\t<li>btc_cost_per_transaction_percent</li>\n",
    "\t\t<li>btc_cost_per_transaction</li>\n",
    "\t\t<li>btc_n_unique_addresses</li>\n",
    "\t\t<li>btc_n_transactions</li>\n",
    "\t\t<li>btc_n_transactions_total</li>\n",
    "\t\t<li>btc_n_transactions_excluding_popular</li>\n",
    "\t\t<li>btc_n_transactions_excluding_chains_longer_than_100</li>\n",
    "\t\t<li>btc_output_volume</li>\n",
    "\t\t<li>btc_estimated_transaction_volume</li>\n",
    "\t\t</ul>\n",
    "## Problem Statement   \n",
    "Historic price of bitcoins are provided for analysis. Your task is to\n",
    "        <ol>\n",
    "\t\t<li>Ingest the data into a format that is easy for analysis.</li>\n",
    "        <li>Perform Exploratory Data Analysis on the dataset.</li>\n",
    "        <li>Can you predict the future price of the dataset?</li>\n",
    "        </ol>\n",
    "### Exercise\n",
    "**Let's get started!**\n",
    "## Check out the data\n",
    "Read the values from the dataset and see the columns, let's get our environment ready with the libraries we'll need and then import the data!\n",
    "### Import Libraries\n",
    "\n",
    "    "
   ]
  },
  {
   "cell_type": "code",
   "execution_count": 393,
   "metadata": {
    "collapsed": true,
    "has_completed": true,
    "tags": [
     "s1",
     "ce"
    ]
   },
   "outputs": [],
   "source": [
    "import pandas as pd\n",
    "import seaborn as sns\n",
    "import matplotlib.pyplot as plt\n",
    "%matplotlib inline"
   ]
  },
  {
   "cell_type": "markdown",
   "metadata": {
    "tags": [
     "s1",
     "hint"
    ]
   },
   "source": [
    "### Check out the Data"
   ]
  },
  {
   "cell_type": "code",
   "execution_count": 394,
   "metadata": {
    "tags": [
     "s1",
     "ans"
    ]
   },
   "outputs": [
    {
     "name": "stdout",
     "output_type": "stream",
     "text": [
      "        Date  btc_market_price  btc_total_bitcoins  btc_market_cap  \\\n",
      "0  2/17/2010               0.0           2043200.0             0.0   \n",
      "1  2/18/2010               0.0           2054650.0             0.0   \n",
      "2  2/19/2010               0.0           2063600.0             0.0   \n",
      "3  2/20/2010               0.0           2074700.0             0.0   \n",
      "4  2/21/2010               0.0           2085400.0             0.0   \n",
      "\n",
      "   btc_trade_volume  btc_blocks_size  btc_avg_block_size  \\\n",
      "0               0.0              0.0            0.000235   \n",
      "1               0.0              0.0            0.000241   \n",
      "2               0.0              0.0            0.000228   \n",
      "3               0.0              0.0            0.000218   \n",
      "4               0.0              0.0            0.000234   \n",
      "\n",
      "   btc_n_orphaned_blocks  btc_n_transactions_per_block  \\\n",
      "0                      0                           1.0   \n",
      "1                      0                           1.0   \n",
      "2                      0                           1.0   \n",
      "3                      0                           1.0   \n",
      "4                      0                           1.0   \n",
      "\n",
      "   btc_median_confirmation_time                  ...                   \\\n",
      "0                           0.0                  ...                    \n",
      "1                           0.0                  ...                    \n",
      "2                           0.0                  ...                    \n",
      "3                           0.0                  ...                    \n",
      "4                           0.0                  ...                    \n",
      "\n",
      "   btc_cost_per_transaction_percent  btc_cost_per_transaction  \\\n",
      "0                         31.781022                       0.0   \n",
      "1                        154.463801                       0.0   \n",
      "2                       1278.516635                       0.0   \n",
      "3                      22186.687990                       0.0   \n",
      "4                        689.179876                       0.0   \n",
      "\n",
      "   btc_n_unique_addresses  btc_n_transactions  btc_n_transactions_total  \\\n",
      "0                     241                 244                     41240   \n",
      "1                     234                 235                     41475   \n",
      "2                     185                 183                     41658   \n",
      "3                     224                 224                     41882   \n",
      "4                     218                 218                     42100   \n",
      "\n",
      "   btc_n_transactions_excluding_popular  \\\n",
      "0                                   244   \n",
      "1                                   235   \n",
      "2                                   183   \n",
      "3                                   224   \n",
      "4                                   218   \n",
      "\n",
      "   btc_n_transactions_excluding_chains_longer_than_100  btc_output_volume  \\\n",
      "0                                                244             65173.13   \n",
      "1                                                235             18911.74   \n",
      "2                                                183              9749.98   \n",
      "3                                                224             11150.03   \n",
      "4                                                218             12266.83   \n",
      "\n",
      "   btc_estimated_transaction_volume  btc_estimated_transaction_volume_usd  \n",
      "0                           36500.0                                   0.0  \n",
      "1                            7413.0                                   0.0  \n",
      "2                             700.0                                   0.0  \n",
      "3                              50.0                                   0.0  \n",
      "4                            1553.0                                   0.0  \n",
      "\n",
      "[5 rows x 24 columns]\n"
     ]
    }
   ],
   "source": [
    "bit=pd.read_csv('https://raw.githubusercontent.com/colaberry/hackathons/master/data/Bitcoin/bitcoin_dataset.csv')\n",
    "print(bit.head())"
   ]
  },
  {
   "cell_type": "code",
   "execution_count": 395,
   "metadata": {
    "tags": [
     "s1",
     "hid"
    ]
   },
   "outputs": [
    {
     "name": "stdout",
     "output_type": "stream",
     "text": [
      "continue\n"
     ]
    }
   ],
   "source": [
    "try:\n",
    "    def verify_answer():\n",
    "        coin=pd.read_csv('https://raw.githubusercontent.com/colaberry/hackathons/master/data/Bitcoin/bitcoin_dataset.csv')\n",
    "        if coin.equals(bit):\n",
    "            return True\n",
    "        else:\n",
    "            return False\n",
    "\n",
    "    ref_assert_var = verify_answer()\n",
    "except Exception as e: \n",
    "    print('Your assertion block throws error: ' + str(e))\n",
    "else:\n",
    "    if ref_assert_var:\n",
    "        print('continue')\n",
    "    else:\n",
    "        print('The answer did not pass the test.')"
   ]
  },
  {
   "cell_type": "markdown",
   "metadata": {
    "tags": [
     "s2",
     "content"
    ]
   },
   "source": [
    "# EDA\n",
    "Let's create some simple plots to check out the data!\n",
    "### save the unique values of year into a variable called \"unique\" and print its value"
   ]
  },
  {
   "cell_type": "code",
   "execution_count": 396,
   "metadata": {
    "collapsed": true,
    "has_completed": true,
    "tags": [
     "s2",
     "ce"
    ]
   },
   "outputs": [],
   "source": [
    "import datetime\n",
    "bit['Date'] = pd.to_datetime(bit['Date'])\n",
    "bit['year']=bit['Date'].dt.year\n",
    "bit['month']=bit['Date'].dt.month\n",
    "bit['date']=bit['Date'].dt.day"
   ]
  },
  {
   "cell_type": "markdown",
   "metadata": {
    "tags": [
     "s2",
     "hint"
    ]
   },
   "source": [
    "# null"
   ]
  },
  {
   "cell_type": "code",
   "execution_count": 397,
   "metadata": {
    "tags": [
     "s2",
     "ans"
    ]
   },
   "outputs": [
    {
     "name": "stdout",
     "output_type": "stream",
     "text": [
      "[2010 2011 2012 2013 2014 2015 2016 2017 2018]\n"
     ]
    }
   ],
   "source": [
    "unique=bit['year'].unique()\n",
    "print(unique)"
   ]
  },
  {
   "cell_type": "code",
   "execution_count": 398,
   "metadata": {
    "tags": [
     "s2",
     "hid"
    ]
   },
   "outputs": [
    {
     "name": "stdout",
     "output_type": "stream",
     "text": [
      "continue\n"
     ]
    }
   ],
   "source": [
    "try:\n",
    "    def verify_answer():\n",
    "        y=bit['year'].unique()\n",
    "        c=(unique==y)\n",
    "        if c.all():\n",
    "            return True\n",
    "        else:\n",
    "            return False\n",
    "\n",
    "    ref_assert_var = verify_answer()\n",
    "except Exception as e: \n",
    "    print('Your assertion block throws error: ' + str(e))\n",
    "else:\n",
    "    if ref_assert_var:\n",
    "        print('continue')\n",
    "    else:\n",
    "        print('The answer did not pass the test.')"
   ]
  },
  {
   "cell_type": "markdown",
   "metadata": {
    "tags": [
     "s3",
     "content"
    ]
   },
   "source": [
    "### Plot a bar graph to compare market price of the bitcoin with corresponding years. Save the values of year into x_intercept and market price into y_intercept"
   ]
  },
  {
   "cell_type": "code",
   "execution_count": 399,
   "metadata": {
    "collapsed": true,
    "has_completed": true,
    "tags": [
     "s3",
     "ce"
    ]
   },
   "outputs": [],
   "source": [
    "#insert ur code"
   ]
  },
  {
   "cell_type": "markdown",
   "metadata": {
    "tags": [
     "s3",
     "hint"
    ]
   },
   "source": [
    "#a"
   ]
  },
  {
   "cell_type": "code",
   "execution_count": 400,
   "metadata": {
    "scrolled": true,
    "tags": [
     "s3",
     "ans"
    ]
   },
   "outputs": [
    {
     "data": {
      "image/png": "[encoded data removed]",
      "text/plain": [
       "<matplotlib.figure.Figure at 0x7fac95b230f0>"
      ]
     },
     "metadata": {},
     "output_type": "display_data"
    }
   ],
   "source": [
    "x_intercept=bit['year']\n",
    "y_intercept=bit['btc_market_price']\n",
    "x=plt.bar(x_intercept, y_intercept, align='center', alpha=0.5)"
   ]
  },
  {
   "cell_type": "code",
   "execution_count": 401,
   "metadata": {
    "tags": [
     "s3",
     "hid"
    ]
   },
   "outputs": [
    {
     "name": "stdout",
     "output_type": "stream",
     "text": [
      "continue\n"
     ]
    }
   ],
   "source": [
    "try:\n",
    "    def verify_answer():\n",
    "        x=bit['year']\n",
    "        y=bit['btc_market_price']\n",
    "        c=(x==x_intercept)\n",
    "        d=(y==y_intercept)\n",
    "        if c.all() & d.all():\n",
    "            return True\n",
    "        else:\n",
    "            return False\n",
    "\n",
    "    ref_assert_var = verify_answer()\n",
    "except Exception as e: \n",
    "    print('Your assertion block throws error: ' + str(e))\n",
    "else:\n",
    "    if ref_assert_var:\n",
    "        print('continue')\n",
    "    else:\n",
    "        print('The answer did not pass the test.')"
   ]
  },
  {
   "cell_type": "markdown",
   "metadata": {
    "tags": [
     "s4",
     "content"
    ]
   },
   "source": [
    "### Now we need to check for nan values and remove the corresponding tuples.\n",
    "### Plot the heat map to understand the distribution of nan values"
   ]
  },
  {
   "cell_type": "code",
   "execution_count": 402,
   "metadata": {
    "collapsed": true,
    "has_completed": true,
    "tags": [
     "s4",
     "ce"
    ]
   },
   "outputs": [],
   "source": [
    "#code\n",
    "sns.set_palette(\"Set1\", 8, .75)\n",
    "sns.set_style('whitegrid')"
   ]
  },
  {
   "cell_type": "markdown",
   "metadata": {
    "tags": [
     "s4",
     "hint"
    ]
   },
   "source": [
    "# hi"
   ]
  },
  {
   "cell_type": "code",
   "execution_count": 403,
   "metadata": {
    "tags": [
     "s4",
     "ans"
    ]
   },
   "outputs": [
    {
     "data": {
      "text/plain": [
       "<matplotlib.axes._subplots.AxesSubplot at 0x7fac9490ee48>"
      ]
     },
     "execution_count": 403,
     "metadata": {},
     "output_type": "execute_result"
    },
    {
     "data": {
      "image/png": "[encoded data removed]",
      "text/plain": [
       "<matplotlib.figure.Figure at 0x7fac8e159e10>"
      ]
     },
     "metadata": {},
     "output_type": "display_data"
    }
   ],
   "source": [
    "null_val=bit.isnull()\n",
    "sns.heatmap(null_val,yticklabels=False,cbar=False,cmap='viridis')"
   ]
  },
  {
   "cell_type": "code",
   "execution_count": 404,
   "metadata": {
    "tags": [
     "s4",
     "hid"
    ]
   },
   "outputs": [
    {
     "name": "stdout",
     "output_type": "stream",
     "text": [
      "continue\n"
     ]
    }
   ],
   "source": [
    "try:\n",
    "    def verify_answer():\n",
    "        x=bit.isnull()\n",
    "        c=(x.all()==null_val.all())\n",
    "        if c.all():\n",
    "            return True\n",
    "        else:\n",
    "            return False\n",
    "\n",
    "    ref_assert_var = verify_answer()\n",
    "except Exception as e: \n",
    "    print('Your assertion block throws error: ' + str(e))\n",
    "else:\n",
    "    if ref_assert_var:\n",
    "        print('continue')\n",
    "    else:\n",
    "        print('The answer did not pass the test.')"
   ]
  },
  {
   "cell_type": "markdown",
   "metadata": {
    "tags": [
     "s5",
     "content"
    ]
   },
   "source": [
    "### Remove the tuples which consists of nan values and drop them permanently"
   ]
  },
  {
   "cell_type": "code",
   "execution_count": 405,
   "metadata": {
    "collapsed": true,
    "has_completed": true,
    "tags": [
     "s5",
     "ce"
    ]
   },
   "outputs": [],
   "source": [
    "#code"
   ]
  },
  {
   "cell_type": "markdown",
   "metadata": {
    "tags": [
     "s5",
     "hint"
    ]
   },
   "source": [
    "# hi"
   ]
  },
  {
   "cell_type": "code",
   "execution_count": 406,
   "metadata": {
    "collapsed": true,
    "tags": [
     "s5",
     "ans"
    ]
   },
   "outputs": [],
   "source": [
    "bit.drop('Date',axis=1,inplace=True)\n",
    "bit.dropna(axis=0,inplace=True)"
   ]
  },
  {
   "cell_type": "code",
   "execution_count": 407,
   "metadata": {
    "tags": [
     "s5",
     "hid"
    ]
   },
   "outputs": [
    {
     "name": "stdout",
     "output_type": "stream",
     "text": [
      "continue\n"
     ]
    }
   ],
   "source": [
    "try:\n",
    "    def verify_answer():\n",
    "        if 'Date' in bit.columns:\n",
    "            return False\n",
    "        else:\n",
    "            return True\n",
    "\n",
    "    ref_assert_var = verify_answer()\n",
    "except Exception as e: \n",
    "    print('Your assertion block throws error: ' + str(e))\n",
    "else:\n",
    "    if ref_assert_var:\n",
    "        print('continue')\n",
    "    else:\n",
    "        print('The answer did not pass the test.')"
   ]
  },
  {
   "cell_type": "markdown",
   "metadata": {
    "tags": [
     "s6",
     "content"
    ]
   },
   "source": [
    "## Training a Linear Regression Model\n",
    "\n",
    "Let's now begin to train out regression model! We will need to first split up our data into an X array that contains the features to train on, and a y array with the target variable, in this case the btc_market_price column. \n",
    "\n",
    "### except_price and price arrays"
   ]
  },
  {
   "cell_type": "code",
   "execution_count": 408,
   "metadata": {
    "collapsed": true,
    "has_completed": true,
    "tags": [
     "s6",
     "ce"
    ]
   },
   "outputs": [],
   "source": [
    "# code"
   ]
  },
  {
   "cell_type": "markdown",
   "metadata": {
    "tags": [
     "s6",
     "hint"
    ]
   },
   "source": [
    "# hi"
   ]
  },
  {
   "cell_type": "code",
   "execution_count": 409,
   "metadata": {
    "collapsed": true,
    "tags": [
     "s6",
     "ans"
    ]
   },
   "outputs": [],
   "source": [
    "except_price=bit.drop('btc_market_price',axis=1)\n",
    "price=bit['btc_market_price']\n",
    "from sklearn.model_selection import train_test_split\n",
    "X_train, X_test, y_train, y_test = train_test_split(except_price,price, test_size=0.33, random_state=101)"
   ]
  },
  {
   "cell_type": "code",
   "execution_count": 410,
   "metadata": {
    "tags": [
     "s6",
     "hid"
    ]
   },
   "outputs": [
    {
     "name": "stdout",
     "output_type": "stream",
     "text": [
      "continue\n"
     ]
    }
   ],
   "source": [
    "try:\n",
    "    def verify_answer():\n",
    "        x=bit.drop('btc_market_price',axis=1)\n",
    "        y=bit['btc_market_price']\n",
    "        c=(x.all()==except_price.all())\n",
    "        d=(y.all()==price.all())\n",
    "        if c.all() & d.all():\n",
    "            return True\n",
    "        else:\n",
    "            return False\n",
    "\n",
    "    ref_assert_var = verify_answer()\n",
    "except Exception as e: \n",
    "    print('Your assertion block throws error: ' + str(e))\n",
    "else:\n",
    "    if ref_assert_var:\n",
    "        print('continue')\n",
    "    else:\n",
    "        print('The answer did not pass the test.')"
   ]
  },
  {
   "cell_type": "markdown",
   "metadata": {
    "tags": [
     "s7",
     "content"
    ]
   },
   "source": [
    "## Creating and Training the Model"
   ]
  },
  {
   "cell_type": "code",
   "execution_count": 411,
   "metadata": {
    "collapsed": true,
    "has_completed": true,
    "tags": [
     "s7",
     "ce"
    ]
   },
   "outputs": [],
   "source": [
    "#code"
   ]
  },
  {
   "cell_type": "markdown",
   "metadata": {
    "tags": [
     "s7",
     "hint"
    ]
   },
   "source": [
    "# hi"
   ]
  },
  {
   "cell_type": "code",
   "execution_count": 412,
   "metadata": {
    "tags": [
     "s7",
     "ans"
    ]
   },
   "outputs": [
    {
     "data": {
      "text/plain": [
       "LinearRegression(copy_X=True, fit_intercept=True, n_jobs=1, normalize=False)"
      ]
     },
     "execution_count": 412,
     "metadata": {},
     "output_type": "execute_result"
    }
   ],
   "source": [
    "from sklearn.linear_model import LinearRegression\n",
    "lm = LinearRegression()\n",
    "lm.fit(X_train,y_train)\n"
   ]
  },
  {
   "cell_type": "code",
   "execution_count": 413,
   "metadata": {
    "tags": [
     "s7",
     "hid"
    ]
   },
   "outputs": [
    {
     "name": "stdout",
     "output_type": "stream",
     "text": [
      "continue\n"
     ]
    }
   ],
   "source": [
    "try:\n",
    "    x=LinearRegression()\n",
    "    def verify_answer():\n",
    "        x = LinearRegression()\n",
    "        if type(lm)==type(x):\n",
    "            return True\n",
    "        else:\n",
    "            return False\n",
    "\n",
    "    ref_assert_var = verify_answer()\n",
    "except Exception as e: \n",
    "    print('Your assertion block throws error: ' + str(e))\n",
    "else:\n",
    "    if ref_assert_var:\n",
    "        print('continue')\n",
    "    else:\n",
    "        print('The answer did not pass the test.')"
   ]
  },
  {
   "cell_type": "markdown",
   "metadata": {
    "tags": [
     "s8",
     "content"
    ]
   },
   "source": [
    "## Model Evaluation\n",
    "\n",
    "Let's evaluate the model by checking out it's coefficients and how we can interpret them."
   ]
  },
  {
   "cell_type": "code",
   "execution_count": 414,
   "metadata": {
    "tags": [
     "s8",
     "ce"
    ]
   },
   "outputs": [
    {
     "name": "stdout",
     "output_type": "stream",
     "text": [
      "-25689.1668909\n"
     ]
    }
   ],
   "source": [
    "print(lm.intercept_)\n",
    "#check coefficients"
   ]
  },
  {
   "cell_type": "markdown",
   "metadata": {
    "tags": [
     "s8",
     "hint"
    ]
   },
   "source": []
  },
  {
   "cell_type": "code",
   "execution_count": 415,
   "metadata": {
    "tags": [
     "s8",
     "ans"
    ]
   },
   "outputs": [
    {
     "data": {
      "text/html": [
       "<div>\n",
       "<table border=\"1\" class=\"dataframe\">\n",
       "  <thead>\n",
       "    <tr style=\"text-align: right;\">\n",
       "      <th></th>\n",
       "      <th>Coefficient</th>\n",
       "    </tr>\n",
       "  </thead>\n",
       "  <tbody>\n",
       "    <tr>\n",
       "      <th>btc_total_bitcoins</th>\n",
       "      <td>-9.334194e-06</td>\n",
       "    </tr>\n",
       "    <tr>\n",
       "      <th>btc_market_cap</th>\n",
       "      <td>5.751835e-08</td>\n",
       "    </tr>\n",
       "    <tr>\n",
       "      <th>btc_trade_volume</th>\n",
       "      <td>-1.710442e-09</td>\n",
       "    </tr>\n",
       "    <tr>\n",
       "      <th>btc_blocks_size</th>\n",
       "      <td>-2.182623e-02</td>\n",
       "    </tr>\n",
       "    <tr>\n",
       "      <th>btc_avg_block_size</th>\n",
       "      <td>1.207840e+01</td>\n",
       "    </tr>\n",
       "    <tr>\n",
       "      <th>btc_n_orphaned_blocks</th>\n",
       "      <td>-1.655986e+00</td>\n",
       "    </tr>\n",
       "    <tr>\n",
       "      <th>btc_n_transactions_per_block</th>\n",
       "      <td>-9.103876e-03</td>\n",
       "    </tr>\n",
       "    <tr>\n",
       "      <th>btc_median_confirmation_time</th>\n",
       "      <td>6.568538e-01</td>\n",
       "    </tr>\n",
       "    <tr>\n",
       "      <th>btc_hash_rate</th>\n",
       "      <td>-2.222866e-05</td>\n",
       "    </tr>\n",
       "    <tr>\n",
       "      <th>btc_difficulty</th>\n",
       "      <td>8.505633e-11</td>\n",
       "    </tr>\n",
       "    <tr>\n",
       "      <th>btc_miners_revenue</th>\n",
       "      <td>5.714482e-06</td>\n",
       "    </tr>\n",
       "    <tr>\n",
       "      <th>btc_transaction_fees</th>\n",
       "      <td>-1.736913e-01</td>\n",
       "    </tr>\n",
       "    <tr>\n",
       "      <th>btc_cost_per_transaction_percent</th>\n",
       "      <td>5.751598e-05</td>\n",
       "    </tr>\n",
       "    <tr>\n",
       "      <th>btc_cost_per_transaction</th>\n",
       "      <td>2.643285e+00</td>\n",
       "    </tr>\n",
       "    <tr>\n",
       "      <th>btc_n_unique_addresses</th>\n",
       "      <td>1.203718e-04</td>\n",
       "    </tr>\n",
       "    <tr>\n",
       "      <th>btc_n_transactions</th>\n",
       "      <td>1.625351e-04</td>\n",
       "    </tr>\n",
       "    <tr>\n",
       "      <th>btc_n_transactions_total</th>\n",
       "      <td>1.165490e-05</td>\n",
       "    </tr>\n",
       "    <tr>\n",
       "      <th>btc_n_transactions_excluding_popular</th>\n",
       "      <td>-5.451766e-05</td>\n",
       "    </tr>\n",
       "    <tr>\n",
       "      <th>btc_n_transactions_excluding_chains_longer_than_100</th>\n",
       "      <td>1.747749e-05</td>\n",
       "    </tr>\n",
       "    <tr>\n",
       "      <th>btc_output_volume</th>\n",
       "      <td>1.832352e-07</td>\n",
       "    </tr>\n",
       "    <tr>\n",
       "      <th>btc_estimated_transaction_volume</th>\n",
       "      <td>3.117539e-07</td>\n",
       "    </tr>\n",
       "    <tr>\n",
       "      <th>btc_estimated_transaction_volume_usd</th>\n",
       "      <td>2.461992e-08</td>\n",
       "    </tr>\n",
       "    <tr>\n",
       "      <th>year</th>\n",
       "      <td>1.278706e+01</td>\n",
       "    </tr>\n",
       "    <tr>\n",
       "      <th>month</th>\n",
       "      <td>1.680349e+00</td>\n",
       "    </tr>\n",
       "    <tr>\n",
       "      <th>date</th>\n",
       "      <td>1.222063e-01</td>\n",
       "    </tr>\n",
       "  </tbody>\n",
       "</table>\n",
       "</div>"
      ],
      "text/plain": [
       "                                                     Coefficient\n",
       "btc_total_bitcoins                                 -9.334194e-06\n",
       "btc_market_cap                                      5.751835e-08\n",
       "btc_trade_volume                                   -1.710442e-09\n",
       "btc_blocks_size                                    -2.182623e-02\n",
       "btc_avg_block_size                                  1.207840e+01\n",
       "btc_n_orphaned_blocks                              -1.655986e+00\n",
       "btc_n_transactions_per_block                       -9.103876e-03\n",
       "btc_median_confirmation_time                        6.568538e-01\n",
       "btc_hash_rate                                      -2.222866e-05\n",
       "btc_difficulty                                      8.505633e-11\n",
       "btc_miners_revenue                                  5.714482e-06\n",
       "btc_transaction_fees                               -1.736913e-01\n",
       "btc_cost_per_transaction_percent                    5.751598e-05\n",
       "btc_cost_per_transaction                            2.643285e+00\n",
       "btc_n_unique_addresses                              1.203718e-04\n",
       "btc_n_transactions                                  1.625351e-04\n",
       "btc_n_transactions_total                            1.165490e-05\n",
       "btc_n_transactions_excluding_popular               -5.451766e-05\n",
       "btc_n_transactions_excluding_chains_longer_than...  1.747749e-05\n",
       "btc_output_volume                                   1.832352e-07\n",
       "btc_estimated_transaction_volume                    3.117539e-07\n",
       "btc_estimated_transaction_volume_usd                2.461992e-08\n",
       "year                                                1.278706e+01\n",
       "month                                               1.680349e+00\n",
       "date                                                1.222063e-01"
      ]
     },
     "execution_count": 415,
     "metadata": {},
     "output_type": "execute_result"
    }
   ],
   "source": [
    "coeff_df = pd.DataFrame(lm.coef_,except_price.columns,columns=['Coefficient'])\n",
    "coeff_df"
   ]
  },
  {
   "cell_type": "code",
   "execution_count": null,
   "metadata": {
    "collapsed": true,
    "tags": [
     "s8",
     "hid"
    ]
   },
   "outputs": [],
   "source": []
  },
  {
   "cell_type": "markdown",
   "metadata": {
    "tags": [
     "s9",
     "content"
    ]
   },
   "source": [
    "# Interpreting the coefficients:\n",
    "\n",
    "Holding all other features fixed, a 1 unit increase in btc_total_bitcoins is associated with  decrease of -9.334194e-06.\n",
    "\n",
    "This procedure implies for the rest of the coefficients as well.\n",
    "\n",
    "## Regression Evaluation Metrics\n",
    "\n",
    "\n",
    "Here are three common evaluation metrics for regression problems:\n",
    "\n",
    "**Mean Absolute Error** (MAE) is the mean of the absolute value of the errors:\n",
    "\n",
    "$$\\frac 1n\\sum_{i=1}^n|y_i-\\hat{y}_i|$$\n",
    "\n",
    "**Mean Squared Error** (MSE) is the mean of the squared errors:\n",
    "\n",
    "$$\\frac 1n\\sum_{i=1}^n(y_i-\\hat{y}_i)^2$$\n",
    "\n",
    "**Root Mean Squared Error** (RMSE) is the square root of the mean of the squared errors:\n",
    "\n",
    "$$\\sqrt{\\frac 1n\\sum_{i=1}^n(y_i-\\hat{y}_i)^2}$$\n",
    "\n",
    "Comparing these metrics:\n",
    "\n",
    "- **MAE** is the easiest to understand, because it's the average error.\n",
    "- **MSE** is more popular than MAE, because MSE \"punishes\" larger errors, which tends to be useful in the real world.\n",
    "- **RMSE** is even more popular than MSE, because RMSE is interpretable in the \"y\" units.\n",
    "\n",
    "All of these are **loss functions**, because we want to minimize them."
   ]
  },
  {
   "cell_type": "code",
   "execution_count": 416,
   "metadata": {
    "collapsed": true,
    "has_completed": true,
    "tags": [
     "s9",
     "ce"
    ]
   },
   "outputs": [],
   "source": [
    "from sklearn import metrics"
   ]
  },
  {
   "cell_type": "markdown",
   "metadata": {
    "tags": [
     "s9",
     "hint"
    ]
   },
   "source": [
    "# hi"
   ]
  },
  {
   "cell_type": "code",
   "execution_count": 417,
   "metadata": {
    "tags": [
     "s9",
     "ans"
    ]
   },
   "outputs": [
    {
     "name": "stdout",
     "output_type": "stream",
     "text": [
      "MAE:9.92095056119\n",
      "MSE:261.743721848\n",
      "RMSE:16.1784956608\n"
     ]
    }
   ],
   "source": [
    "MAE=metrics.mean_absolute_error(y_test, predictions)\n",
    "MSE=metrics.mean_squared_error(y_test, predictions)\n",
    "RMSE=np.sqrt(metrics.mean_squared_error(y_test, predictions))\n",
    "print(\"MAE:%s\\nMSE:%s\\nRMSE:%s\" % (MAE,MSE,RMSE))"
   ]
  },
  {
   "cell_type": "code",
   "execution_count": 418,
   "metadata": {
    "tags": [
     "s9",
     "hid"
    ]
   },
   "outputs": [
    {
     "name": "stdout",
     "output_type": "stream",
     "text": [
      "continue\n"
     ]
    }
   ],
   "source": [
    "try:\n",
    "    def verify_answer():\n",
    "        x=metrics.mean_absolute_error(y_test, predictions)\n",
    "        y=metrics.mean_squared_error(y_test, predictions)\n",
    "        z=np.sqrt(metrics.mean_squared_error(y_test, predictions))\n",
    "        if type(MAE)==type(x) :\n",
    "            if  type(MSE)==type(y):\n",
    "                if type(RMSE)==type(z):\n",
    "                    return True\n",
    "        else:\n",
    "            return False\n",
    "\n",
    "    ref_assert_var = verify_answer()\n",
    "except Exception as e: \n",
    "    print('Your assertion block throws error: ' + str(e))\n",
    "else:\n",
    "    if ref_assert_var:\n",
    "        print('continue')\n",
    "    else:\n",
    "        print('The answer did not pass the test.')"
   ]
  },
  {
   "cell_type": "markdown",
   "metadata": {
    "tags": [
     "s10",
     "content"
    ]
   },
   "source": [
    "# A random forest regressor.\n",
    "\n",
    "A random forest is a meta estimator that fits a number of classifying decision trees on various sub-samples of the dataset and use averaging to improve the predictive accuracy and control over-fitting. The sub-sample size is always the same as the original input sample size."
   ]
  },
  {
   "cell_type": "code",
   "execution_count": 431,
   "metadata": {
    "has_completed": true,
    "tags": [
     "s10",
     "ce"
    ]
   },
   "outputs": [
    {
     "data": {
      "text/plain": [
       "0.99917097657464393"
      ]
     },
     "execution_count": 431,
     "metadata": {},
     "output_type": "execute_result"
    }
   ],
   "source": [
    "# code\n",
    "from sklearn.ensemble import RandomForestClassifier, RandomForestRegressor, ExtraTreesRegressor, GradientBoostingRegressor\n",
    "clf = RandomForestRegressor(n_estimators=10)\n",
    "clf.fit(X_train, y_train)\n",
    "y_pred = clf.predict(X_test)\n",
    "clf.score(X_test, y_test)"
   ]
  },
  {
   "cell_type": "markdown",
   "metadata": {
    "tags": [
     "s10",
     "hint"
    ]
   },
   "source": [
    "# hi"
   ]
  },
  {
   "cell_type": "code",
   "execution_count": 427,
   "metadata": {
    "tags": [
     "s10",
     "ans"
    ]
   },
   "outputs": [
    {
     "data": {
      "text/plain": [
       "0.99929683280333703"
      ]
     },
     "execution_count": 427,
     "metadata": {},
     "output_type": "execute_result"
    }
   ],
   "source": [
    "clf = RandomForestRegressor(n_estimators=10)\n",
    "clf.fit(X_train, y_train)\n",
    "y_pred = clf.predict(X_test)\n",
    "clf.score(X_test, y_test)"
   ]
  },
  {
   "cell_type": "code",
   "execution_count": 421,
   "metadata": {
    "tags": [
     "s10",
     "hid"
    ]
   },
   "outputs": [
    {
     "name": "stdout",
     "output_type": "stream",
     "text": [
      "continue\n"
     ]
    }
   ],
   "source": [
    "try:\n",
    "    def verify_answer():\n",
    "        x= RandomForestRegressor(n_estimators=10)\n",
    "        y=clf.predict(X_test)\n",
    "        if type(clf)==type(x) :\n",
    "            if  type(y_pred)==type(y):\n",
    "                    return True\n",
    "        else:\n",
    "            return False\n",
    "\n",
    "    ref_assert_var = verify_answer()\n",
    "except Exception as e: \n",
    "    print('Your assertion block throws error: ' + str(e))\n",
    "else:\n",
    "    if ref_assert_var:\n",
    "        print('continue')\n",
    "    else:\n",
    "        print('The answer did not pass the test.')"
   ]
  }
 ],
 "metadata": {
  "executed_sections": [],
  "kernelspec": {
   "display_name": "Python 3",
   "language": "python",
   "name": "python3"
  },
  "language_info": {
   "codemirror_mode": {
    "name": "ipython",
    "version": 3
   },
   "file_extension": ".py",
   "mimetype": "text/x-python",
   "name": "python",
   "nbconvert_exporter": "python",
   "pygments_lexer": "ipython3",
   "version": "3.5.2"
  }
 },
 "nbformat": 4,
 "nbformat_minor": 2
}
