{
 "cells": [
  {
   "cell_type": "markdown",
   "metadata": {
    "tags": [
     "s1",
     "content"
    ]
   },
   "source": [
    "\n",
    "                \n",
    "## Loading the fraud_data\n",
    "                \n",
    "            The data should be read into fraud_data\n",
    "\n"
   ]
  },
  {
   "cell_type": "code",
   "execution_count": 5,
   "metadata": {
    "tags": [
     "s1",
     "ce"
    ]
   },
   "outputs": [
    {
     "name": "stdout",
     "output_type": "stream",
     "text": [
      "      S  A  F  J  G\n",
      "0     0  2  1  0  1\n",
      "1     0  0  1  0  1\n",
      "2     0  2  1  0  1\n",
      "3     0  1  1  0  1\n",
      "4     0  2  0  1  1\n",
      "5     0  1  1  0  1\n",
      "6     0  1  0  1  1\n",
      "7     1  1  1  1  1\n",
      "8     1  2  1  0  1\n",
      "9     1  0  1  0  0\n",
      "10    0  1  0  1  0\n",
      "11    1  1  1  0  1\n",
      "12    1  1  0  1  1\n",
      "13    0  0  1  0  1\n",
      "14    1  1  1  0  1\n",
      "15    1  1  0  1  0\n",
      "16    0  1  1  1  1\n",
      "17    0  2  1  0  1\n",
      "18    0  1  1  0  1\n",
      "19    1  0  1  0  1\n",
      "20    0  1  1  0  1\n",
      "21    0  2  1  0  1\n",
      "22    0  0  1  1  1\n",
      "23    0  0  1  0  1\n",
      "24    0  1  1  0  1\n",
      "25    1  0  0  1  0\n",
      "26    0  1  0  1  1\n",
      "27    1  2  1  0  1\n",
      "28    0  2  1  0  1\n",
      "29    0  1  1  0  1\n",
      "...  .. .. .. .. ..\n",
      "9970  0  0  1  0  1\n",
      "9971  0  2  1  0  1\n",
      "9972  0  1  1  0  1\n",
      "9973  1  1  1  0  1\n",
      "9974  1  1  1  0  1\n",
      "9975  0  2  1  0  1\n",
      "9976  1  1  1  0  1\n",
      "9977  1  2  0  1  1\n",
      "9978  0  0  1  0  1\n",
      "9979  1  2  1  0  1\n",
      "9980  0  0  1  0  1\n",
      "9981  0  1  1  0  1\n",
      "9982  1  1  1  0  1\n",
      "9983  1  1  1  0  1\n",
      "9984  1  2  1  0  1\n",
      "9985  1  0  1  0  1\n",
      "9986  1  1  1  0  1\n",
      "9987  0  1  1  0  1\n",
      "9988  1  2  1  0  1\n",
      "9989  0  1  0  1  1\n",
      "9990  0  1  1  0  1\n",
      "9991  0  2  0  1  1\n",
      "9992  0  0  1  0  1\n",
      "9993  0  0  0  1  1\n",
      "9994  0  1  1  0  1\n",
      "9995  0  0  0  1  1\n",
      "9996  1  0  1  0  1\n",
      "9997  0  0  1  0  1\n",
      "9998  1  2  1  1  1\n",
      "9999  0  1  1  0  1\n",
      "\n",
      "[10000 rows x 5 columns]\n"
     ]
    }
   ],
   "source": [
    "#initial_code, the code written here will be shown to user, write here initial setup to help user get started.\n",
    "import pandas as pd\n",
    "import numpy as np\n",
    "import seaborn as sns\n",
    "fraud_data = pd.read_csv(\"https://raw.githubusercontent.com/colaberry/data/master/Fraud/fraud_data.csv\")\n",
    "print(fraud_data)\n",
    "\n"
   ]
  },
  {
   "cell_type": "markdown",
   "metadata": {
    "tags": [
     "s1",
     "hint"
    ]
   },
   "source": [
    "Think of a command that can be used to print the unique values in a column"
   ]
  },
  {
   "cell_type": "code",
   "execution_count": null,
   "metadata": {
    "collapsed": true,
    "tags": [
     "s1",
     "ans"
    ]
   },
   "outputs": [],
   "source": [
    "    \n",
    "fraud_data = pd.read_csv(\"https://raw.githubusercontent.com/colaberry/data/master/Fraud/fraud_data.csv\")\n",
    "print(fraud_data)\n",
    "\n",
    "\n"
   ]
  },
  {
   "cell_type": "code",
   "execution_count": null,
   "metadata": {
    "collapsed": true,
    "tags": [
     "s1",
     "hid"
    ]
   },
   "outputs": [],
   "source": [
    "#this is assertion block which verifies the solution.\n",
    "\n",
    "try:\n",
    "    def verify_answer():\n",
    "        \"\"\"\n",
    "        enter your verification code here.\n",
    "        return true if your checks pass\n",
    "        eg: \n",
    "        if above_user_answer_var > 100: \n",
    "            return True\n",
    "        else:\n",
    "            return False\n",
    "        \"\"\"\n",
    "\n",
    "    ref_assert_var = verify_answer()\n",
    "except Exception as e:\n",
    "    print('Your assertion block throws error: ' + str(e))\n",
    "else:\n",
    "    if ref_assert_var:\n",
    "        print('continue')\n",
    "    else:\n",
    "        print('The answer did not pass the test.')"
   ]
  },
  {
   "cell_type": "markdown",
   "metadata": {
    "tags": [
     "s2",
     "content"
    ]
   },
   "source": [
    "\n",
    "\n",
    "## Analysis of Dataset\n",
    "                \n",
    "    seaborn is used to analyze the dataset"
   ]
  },
  {
   "cell_type": "code",
   "execution_count": 6,
   "metadata": {
    "tags": [
     "s2",
     "ce"
    ]
   },
   "outputs": [
    {
     "name": "stderr",
     "output_type": "stream",
     "text": [
      "/usr/local/lib/python3.5/dist-packages/sklearn/cross_validation.py:44: DeprecationWarning: This module was deprecated in version 0.18 in favor of the model_selection module into which all the refactored classes and functions are moved. Also note that the interface of the new CV iterators are different from that of this module. This module will be removed in 0.20.\n",
      "  \"This module will be removed in 0.20.\", DeprecationWarning)\n"
     ]
    }
   ],
   "source": [
    "%matplotlib inline\n",
    "\n",
    "from sklearn.metrics import roc_curve, roc_auc_score\n",
    "from sklearn.cross_validation import train_test_split\n",
    "\n",
    "import pandas as pd\n",
    "import seaborn as sns\n",
    "import statsmodels.formula.api as sm"
   ]
  },
  {
   "cell_type": "markdown",
   "metadata": {
    "tags": [
     "s2",
     "hint"
    ]
   },
   "source": [
    " use set_style and other models for graphical visualization"
   ]
  },
  {
   "cell_type": "code",
   "execution_count": 7,
   "metadata": {
    "tags": [
     "s2",
     "ans"
    ]
   },
   "outputs": [
    {
     "data": {
      "text/plain": [
       "<matplotlib.axes._subplots.AxesSubplot at 0x7f2350e3a208>"
      ]
     },
     "execution_count": 7,
     "metadata": {},
     "output_type": "execute_result"
    },
    {
     "data": {
      "image/png": "[encoded data removed]",
      "text/plain": [
       "<matplotlib.figure.Figure at 0x7f2350e2f3c8>"
      ]
     },
     "metadata": {},
     "output_type": "display_data"
    }
   ],
   "source": [
    "#answer, write code which is a solution for above question.\n",
    "# Import libraries\n",
    "%matplotlib inline\n",
    "\n",
    "from sklearn.metrics import roc_curve, roc_auc_score\n",
    "from sklearn.cross_validation import train_test_split\n",
    "\n",
    "import pandas as pd\n",
    "import seaborn as sns\n",
    "import statsmodels.formula.api as sm\n",
    "sns.set()\n",
    "sns.set_style(\"whitegrid\")\n",
    "train_data = pd.read_csv(\"https://raw.githubusercontent.com/colaberry/data/master/Fraud/fraud_data.csv\")\n",
    "test_data = pd.read_csv(\"https://raw.githubusercontent.com/colaberry/data/master/Fraud/fraud_data.csv\")\n",
    "train_data.head()\n",
    "sns.distplot(fraud_data['J'])"
   ]
  },
  {
   "cell_type": "code",
   "execution_count": null,
   "metadata": {
    "collapsed": true,
    "tags": [
     "s2",
     "hid"
    ]
   },
   "outputs": [],
   "source": [
    "#this is assertion block which verifies the solution.\n",
    "\n",
    "try:\n",
    "    def verify_answer():\n",
    "        \"\"\"\n",
    "        enter your verification code here.\n",
    "        return true if your checks pass\n",
    "        eg: \n",
    "        if above_user_answer_var > 100: \n",
    "            return True\n",
    "        else:\n",
    "            return False\n",
    "        \"\"\"\n",
    "\n",
    "    ref_assert_var = verify_answer()\n",
    "except Exception as e:\n",
    "    print('Your assertion block throws error: ' + str(e))\n",
    "else:\n",
    "    if ref_assert_var:\n",
    "        print('continue')\n",
    "    else:\n",
    "        print('The answer did not pass the test.')"
   ]
  },
  {
   "cell_type": "markdown",
   "metadata": {
    "tags": [
     "s3",
     "content"
    ]
   },
   "source": [
    "\n",
    "\n",
    "## Exploratory Data Analysis (EDA)\n",
    "            \n",
    "Let us define functions to categorize the age into these two categories with age<30 and age>50 as the defining separators from the graph.\n"
   ]
  },
  {
   "cell_type": "code",
   "execution_count": null,
   "metadata": {
    "collapsed": true,
    "tags": [
     "s3",
     "ce"
    ]
   },
   "outputs": [],
   "source": [
    "def person_type(x):"
   ]
  },
  {
   "cell_type": "markdown",
   "metadata": {
    "tags": [
     "s3",
     "hint"
    ]
   },
   "source": [
    "hint, write any hint here for the above question.\n",
    "use conditions "
   ]
  },
  {
   "cell_type": "code",
   "execution_count": null,
   "metadata": {
    "collapsed": true,
    "tags": [
     "s3",
     "ans"
    ]
   },
   "outputs": [],
   "source": [
    "#answer, write code which is a solution for above question.\n",
    "def person_type(x):\n",
    "   if x <30:\n",
    "    return 'Y'\n",
    "   elif x in range(30,51):\n",
    "        return 'M'\n",
    "\n",
    "fraud_data['Person'] = fraud_data['A'].apply(person_type)\n",
    "g = sns.factorplot(x='Person', y='J', data=fraud_data,  size=5, kind='bar', palette='muted')\n",
    "\n",
    "\n"
   ]
  },
  {
   "cell_type": "code",
   "execution_count": null,
   "metadata": {
    "collapsed": true,
    "tags": [
     "s3",
     "hid"
    ]
   },
   "outputs": [],
   "source": [
    "#this is assertion block which verifies the solution.\n",
    "\n",
    "try:\n",
    "    def verify_answer():\n",
    "        \"\"\"\n",
    "        enter your verification code here.\n",
    "        return true if your checks pass\n",
    "        eg: \n",
    "        if above_user_answer_var > 100: \n",
    "            return True\n",
    "        else:\n",
    "            return False\n",
    "        \"\"\"\n",
    "\n",
    "    ref_assert_var = verify_answer()\n",
    "except Exception as e:\n",
    "    print('Your assertion block throws error: ' + str(e))\n",
    "else:\n",
    "    if ref_assert_var:\n",
    "        print('continue')\n",
    "    else:\n",
    "        print('The answer did not pass the test.')"
   ]
  },
  {
   "cell_type": "markdown",
   "metadata": {
    "tags": [
     "s4",
     "content"
    ]
   },
   "source": [
    "\n",
    "\n",
    "## Logistic Regression: Model Building and Implementation\n",
    "\n",
    "\n",
    "Generate a plot to visualize\n"
   ]
  },
  {
   "cell_type": "code",
   "execution_count": null,
   "metadata": {
    "collapsed": true,
    "tags": [
     "s4",
     "ce"
    ]
   },
   "outputs": [],
   "source": [
    "import pandas as pd\n",
    "import numpy as np\n",
    "import seaborn as sns\n",
    "train_data = pd.read_csv(\"https://raw.githubusercontent.com/colaberry/data/master/Fraud/fraud_data.csv\")\n",
    "test_data = pd.read_csv(\"https://raw.githubusercontent.com/colaberry/data/master/Fraud/fraud_data.csv\")"
   ]
  },
  {
   "cell_type": "markdown",
   "metadata": {
    "tags": [
     "s4",
     "hint"
    ]
   },
   "source": [
    "hint, write any hint here for the above question.\n",
    "split the data into train_data and test_data"
   ]
  },
  {
   "cell_type": "code",
   "execution_count": null,
   "metadata": {
    "collapsed": true,
    "tags": [
     "s4",
     "ans"
    ]
   },
   "outputs": [],
   "source": [
    "#answer, write code which is a solution for above question.\n",
    "ind_var = fraud_data[fraud_data['A'].notnull()].A\n",
    "fare_plot = sns.distplot(ind_var)\n",
    "ind_var = fraud_data['J']\n",
    "fare_plot = sns.distplot(ind_var)\n"
   ]
  },
  {
   "cell_type": "code",
   "execution_count": null,
   "metadata": {
    "collapsed": true,
    "tags": [
     "s4",
     "hid"
    ]
   },
   "outputs": [],
   "source": [
    "#this is assertion block which verifies the solution.\n",
    "\n",
    "try:\n",
    "    def verify_answer():\n",
    "        \"\"\"\n",
    "        enter your verification code here.\n",
    "        return true if your checks pass\n",
    "        eg: \n",
    "        if above_user_answer_var > 100: \n",
    "            return True\n",
    "        else:\n",
    "            return False\n",
    "        \"\"\"\n",
    "\n",
    "    ref_assert_var = verify_answer()\n",
    "except Exception as e:\n",
    "    print('Your assertion block throws error: ' + str(e))\n",
    "else:\n",
    "    if ref_assert_var:\n",
    "        print('continue')\n",
    "    else:\n",
    "        print('The answer did not pass the test.')"
   ]
  },
  {
   "cell_type": "markdown",
   "metadata": {
    "tags": [
     "s5",
     "content"
    ]
   },
   "source": [
    "\n",
    "\n",
    "## Statistical Imputations\n"
   ]
  },
  {
   "cell_type": "code",
   "execution_count": null,
   "metadata": {
    "collapsed": true,
    "tags": [
     "s5",
     "ce"
    ]
   },
   "outputs": [],
   "source": [
    "import math\n",
    "import statsmodels.api as sm\n",
    "import pandas as pd\n",
    "from sklearn.metrics import roc_curve, roc_auc_score\n",
    "train_data = pd.read_csv(\"https://raw.githubusercontent.com/colaberry/data/master/Fraud/fraud_data.csv\")\n",
    "test_data = pd.read_csv(\"https://raw.githubusercontent.com/colaberry/data/master/Fraud/fraud_data.csv\")"
   ]
  },
  {
   "cell_type": "markdown",
   "metadata": {
    "tags": [
     "s5",
     "hint"
    ]
   },
   "source": [
    "hint, write any hint here for the above question.\n",
    "use train_data.head() or .columns to determine the index of age in each row and use that with math.isnan(x)"
   ]
  },
  {
   "cell_type": "code",
   "execution_count": null,
   "metadata": {
    "collapsed": true,
    "tags": [
     "s5",
     "ans"
    ]
   },
   "outputs": [],
   "source": [
    "#answer, write code which is a solution for above question.\n",
    "\n",
    "f= train_data[([train_data['A']] in range(50,100))].A.mean()\n",
    "def impute_age(row):\n",
    "    if math.isnan(row[3]):\n",
    "        if ((('J ') in row[4]) and (row[2]>=3) and (row[1]>=2)):\n",
    "            return f\n",
    "    else:\n",
    "        return row[3]\n",
    "\n",
    "train_data['A'] = train_data.apply(impute_age, axis=1)\n",
    "test_data['A'] = test_data.apply(impute_age, axis=1)\n",
    "\n",
    "imputed_age = train_data['A']\n",
    "train_data.head()"
   ]
  },
  {
   "cell_type": "code",
   "execution_count": null,
   "metadata": {
    "collapsed": true,
    "tags": [
     "s5",
     "hid"
    ]
   },
   "outputs": [],
   "source": [
    "#this is assertion block which verifies the solution.\n",
    "\n",
    "try:\n",
    "    def verify_answer():\n",
    "        \"\"\"\n",
    "        enter your verification code here.\n",
    "        return true if your checks pass\n",
    "        eg: \n",
    "        if above_user_answer_var > 100: \n",
    "            return True\n",
    "        else:\n",
    "            return False\n",
    "        \"\"\"\n",
    "\n",
    "    ref_assert_var = verify_answer()\n",
    "except Exception as e:\n",
    "    print('Your assertion block throws error: ' + str(e))\n",
    "else:\n",
    "    if ref_assert_var:\n",
    "        print('continue')\n",
    "    else:\n",
    "        print('The answer did not pass the test.')"
   ]
  },
  {
   "cell_type": "markdown",
   "metadata": {
    "tags": [
     "s6",
     "content"
    ]
   },
   "source": [
    "\n",
    "\n",
    "## Logistic Regression using Scikit-Learn\n",
    "Here we shall learn how to perform modeling using scikit-learn.\n",
    "\n",
    "from sklearn import metrics\n",
    "from sklearn.linear_model import LogisticRegression\n"
   ]
  },
  {
   "cell_type": "code",
   "execution_count": null,
   "metadata": {
    "collapsed": true,
    "tags": [
     "s6",
     "ce"
    ]
   },
   "outputs": [],
   "source": [
    "from sklearn import metrics, cross_validation\n",
    "from sklearn.linear_model import LogisticRegression"
   ]
  },
  {
   "cell_type": "markdown",
   "metadata": {
    "tags": [
     "s6",
     "hint"
    ]
   },
   "source": [
    "hint, write any hint here for the above question.\n",
    "change features list\n"
   ]
  },
  {
   "cell_type": "code",
   "execution_count": null,
   "metadata": {
    "collapsed": true,
    "tags": [
     "s6",
     "ans"
    ]
   },
   "outputs": [],
   "source": [
    "#answer, write code which is a solution for above question.\n",
    "\n",
    "\n",
    "# Modify the code below to include all possible features.\n",
    "\n",
    "features = ['F']\n",
    "\n",
    "log_sci_model = LogisticRegression()\n",
    "log_sci_model = log_sci_model.fit(train_data[features], train_data['J'])\n",
    "log_sci_model.score(train_data[features], train_data['J'])\n",
    "features = ['S', 'A', 'F', 'J', 'G']\n",
    "\n",
    "log_sci_model = LogisticRegression()\n",
    "log_sci_model = log_sci_model.fit(train_data[features], train_data['J'])\n",
    "log_score = log_sci_model.score(train_data[features], train_data['J'])\n",
    "print(log_score)"
   ]
  }
 ],
 "metadata": {
  "executed_sections": [],
  "kernelspec": {
   "display_name": "Python 3",
   "language": "python",
   "name": "python3"
  },
  "language_info": {
   "codemirror_mode": {
    "name": "ipython",
    "version": 3
   },
   "file_extension": ".py",
   "mimetype": "text/x-python",
   "name": "python",
   "nbconvert_exporter": "python",
   "pygments_lexer": "ipython3",
   "version": "3.5.2"
  }
 },
 "nbformat": 4,
 "nbformat_minor": 2
}