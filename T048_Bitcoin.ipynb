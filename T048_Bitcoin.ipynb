{
 "cells": [
  {
   "cell_type": "markdown",
   "metadata": {
    "tags": [
     "s1",
     "content"
    ]
   },
   "source": [
    "# Problem 1: Bitcoin Price Analysis\n",
    "                \n",
    "### Ingest the data into a format that is easy for analysis.\n",
    "\n",
    "            \n",
    "Before we build the model, we need to obtain some data for it.There’s a dataset that details minute by minute Bitcoin prices.  The issue here is that we may have not sufficient data. In deep learning, no model can overcome a severe lack of data. \n"
   ]
  },
  {
   "cell_type": "code",
   "execution_count": null,
   "metadata": {
    "collapsed": true,
    "tags": [
     "s1",
     "ce"
    ]
   },
   "outputs": [],
   "source": [
    "#initial_code, the code written here will be shown to user, write here initial setup to help user get started.\n",
    "# Import libraries\n",
    "import numpy as np\n",
    "import pandas as pd\n",
    "import seaborn as sns\n",
    "import matplotlib.pyplot as plt\n",
    "import statsmodels.api as sm\n",
    "import datetime\n",
    "import time\n"
   ]
  },
  {
   "cell_type": "markdown",
   "metadata": {
    "tags": [
     "s1",
     "hint"
    ]
   },
   "source": [
    "Read data from the provided csv file and retrieve the data\n"
   ]
  },
  {
   "cell_type": "code",
   "execution_count": null,
   "metadata": {
    "collapsed": true,
    "tags": [
     "s1",
     "ans"
    ]
   },
   "outputs": [],
   "source": [
    "bitcoin_df = pd.read_csv('https://raw.githubusercontent.com/VamshiVBV/data/master/Bitcoin/bitcoin_dataset.csv',encoding='utf-8')\n",
    "\n",
    "bitcoin_df.head()"
   ]
  },
  {
   "cell_type": "code",
   "execution_count": null,
   "metadata": {
    "collapsed": true,
    "tags": [
     "s1",
     "hid"
    ]
   },
   "outputs": [],
   "source": [
    "#this is assertion block which verifies the solution.\n",
    "\n",
    "try:\n",
    "    def verify_answer():\n",
    "        \"\"\"\n",
    "        enter your verification code here.\n",
    "        return true if your checks pass\n",
    "        eg:\n",
    "        \n",
    "        if above_user_answer_var > 100: \n",
    "            return True\n",
    "        else:\n",
    "            return False\n",
    "        \"\"\"\n",
    "        return True\n",
    "\n",
    "    ref_assert_var = verify_answer()\n",
    "except Exception as e:\n",
    "    print('Your assertion block throws error: ' + str(e))\n",
    "else:\n",
    "    if ref_assert_var:\n",
    "        print('continue')\n",
    "    else:\n",
    "        print('The answer did not pass the test.')"
   ]
  },
  {
   "cell_type": "markdown",
   "metadata": {
    "tags": [
     "s2",
     "content"
    ]
   },
   "source": [
    "##2 Perform Exploratory Data Analysis on the dataset.\n",
    "  \n",
    "The EDA approach is precisely that--an approach--not a set of techniques, but an attitude/philosophy about how a data analysis should be carried out.\n",
    "\n",
    " Once you have cleaned your data, you probably want to run some basic statistics and calculations on your pandas DataFrame.\n",
    "            \n"
   ]
  },
  {
   "cell_type": "code",
   "execution_count": null,
   "metadata": {
    "collapsed": true,
    "tags": [
     "s2",
     "ce"
    ]
   },
   "outputs": [],
   "source": [
    "import numpy as np\n",
    "import pandas as pd\n",
    "\n",
    "bitcoin_df = pd.read_csv('https://raw.githubusercontent.com/VamshiVBV/data/master/Bitcoin/bitcoin_dataset.csv',encoding='utf-8')\n"
   ]
  },
  {
   "cell_type": "markdown",
   "metadata": {
    "tags": [
     "s2",
     "hint"
    ]
   },
   "source": [
    "extract important variables;\n"
   ]
  },
  {
   "cell_type": "code",
   "execution_count": null,
   "metadata": {
    "collapsed": true,
    "tags": [
     "s2",
     "ans"
    ]
   },
   "outputs": [],
   "source": [
    "bitcoin_df.describe()\n"
   ]
  },
  {
   "cell_type": "code",
   "execution_count": null,
   "metadata": {
    "collapsed": true,
    "tags": [
     "s2",
     "hid"
    ]
   },
   "outputs": [],
   "source": [
    "#this is assertion block which verifies the solution.\n",
    "\n",
    "try:\n",
    "    def verify_answer():\n",
    "        \"\"\"\n",
    "        enter your verification code here.\n",
    "        return true if your checks pass\n",
    "        eg: \n",
    "        if above_user_answer_var > 100: \n",
    "            return True\n",
    "        else:\n",
    "            return False\n",
    "        \"\"\"\n",
    "            return True\n",
    "\n",
    "    ref_assert_var = verify_answer()\n",
    "except Exception as e:\n",
    "    print('Your assertion block throws error: ' + str(e))\n",
    "else:\n",
    "    if ref_assert_var:\n",
    "        print('continue')\n",
    "    else:\n",
    "        print('The answer did not pass the test.')"
   ]
  },
  {
   "cell_type": "markdown",
   "metadata": {
    "tags": [
     "s3",
     "content"
    ]
   },
   "source": [
    "3 info about the dataset\n"
   ]
  },
  {
   "cell_type": "code",
   "execution_count": null,
   "metadata": {
    "collapsed": true,
    "tags": [
     "s3",
     "ce"
    ]
   },
   "outputs": [],
   "source": [
    "#code"
   ]
  },
  {
   "cell_type": "markdown",
   "metadata": {
    "tags": [
     "s3",
     "hint"
    ]
   },
   "source": []
  },
  {
   "cell_type": "code",
   "execution_count": null,
   "metadata": {
    "collapsed": true,
    "tags": [
     "s3",
     "ans"
    ]
   },
   "outputs": [],
   "source": [
    "bitcoin_df.info()\n"
   ]
  },
  {
   "cell_type": "code",
   "execution_count": null,
   "metadata": {
    "collapsed": true,
    "tags": [
     "s3",
     "hid"
    ]
   },
   "outputs": [],
   "source": [
    "#this is assertion block which verifies the solution.\n",
    "\n",
    "try:\n",
    "    def verify_answer():\n",
    "        \"\"\"\n",
    "        enter your verification code here.\n",
    "        return true if your checks pass\n",
    "        eg: \n",
    "        if above_user_answer_var > 100: \n",
    "            return True\n",
    "        else:\n",
    "            return False\n",
    "        \"\"\"\n",
    "            return True\n",
    "\n",
    "    ref_assert_var = verify_answer()\n",
    "except Exception as e:\n",
    "    print('Your assertion block throws error: ' + str(e))\n",
    "else:\n",
    "    if ref_assert_var:\n",
    "        print('continue')\n",
    "    else:\n",
    "        print('The answer did not pass the test.')"
   ]
  },
  {
   "cell_type": "markdown",
   "metadata": {
    "tags": [
     "s4",
     "content"
    ]
   },
   "source": [
    "4 Data Visualization\n",
    "Data Visualization is an important part of Data Science. It is an effective way to communicate your findings about the dataset post exploratory analysis as well as results through powerful visualizations."
   ]
  },
  {
   "cell_type": "code",
   "execution_count": null,
   "metadata": {
    "collapsed": true,
    "tags": [
     "s4",
     "ce"
    ]
   },
   "outputs": [],
   "source": [
    "import numpy as np\n",
    "import pandas as pd\n",
    "import seaborn as sns\n",
    "import matplotlib.pyplot as plt\n",
    "import statsmodels.api as sm\n",
    "import datetime\n",
    "import time\n",
    "plt.style.use('ggplot')\n",
    "# reading in data from the provided csv file\n",
    "bitcoin_df = pd.read_csv('https://raw.githubusercontent.com/VamshiVBV/data/master/Bitcoin/bitcoin_dataset.csv',encoding='utf-8')\n",
    "bitcoin_df.head(10)"
   ]
  },
  {
   "cell_type": "markdown",
   "metadata": {
    "tags": [
     "s4",
     "hint"
    ]
   },
   "source": []
  },
  {
   "cell_type": "code",
   "execution_count": null,
   "metadata": {
    "collapsed": true,
    "tags": [
     "s4",
     "ans"
    ]
   },
   "outputs": [],
   "source": [
    "fig = plt.figure(figsize=[15, 7])\n",
    "plt.suptitle('Bitcoin transaction', fontsize=22)\n",
    "\n",
    "plt.subplot(221)\n",
    "plt.plot(bitcoin_df.btc_market_price, '-', label='By Days')\n",
    "plt.legend()\n",
    "\n",
    "plt.subplot(222)\n",
    "plt.plot(bitcoin_df.btc_market_price, '-', label='By Months')\n",
    "plt.legend()\n",
    "\n",
    "plt.subplot(223)\n",
    "plt.plot(bitcoin_df.btc_market_price, '-', label='By Quarters')\n",
    "plt.legend()\n",
    "\n",
    "plt.subplot(224)\n",
    "plt.plot(bitcoin_df.btc_market_price, '-', label='By Years')\n",
    "plt.legend()\n",
    "\n",
    "plt.show()"
   ]
  },
  {
   "cell_type": "code",
   "execution_count": null,
   "metadata": {
    "collapsed": true,
    "tags": [
     "s4",
     "hid"
    ]
   },
   "outputs": [],
   "source": [
    "#this is assertion block which verifies the solution.\n",
    "\n",
    "try:\n",
    "    def verify_answer():\n",
    "        \"\"\"\n",
    "        enter your verification code here.\n",
    "        return true if your checks pass\n",
    "        eg: \n",
    "        if above_user_answer_var > 100: \n",
    "            return True\n",
    "        else:\n",
    "            return False\n",
    "        \"\"\"\n",
    "                     return True\n",
    "\n",
    "    ref_assert_var = verify_answer()\n",
    "except Exception as e:\n",
    "    print('Your assertion block throws error: ' + str(e))\n",
    "else:\n",
    "    if ref_assert_var:\n",
    "        print('continue')\n",
    "    else:\n",
    "        print('The answer did not pass the test.')"
   ]
  },
  {
   "cell_type": "markdown",
   "metadata": {
    "tags": [
     "s5",
     "content"
    ]
   },
   "source": [
    "###5 Seaborn\n",
    "Seaborn is a Python visualization library based on matplotlib. It provides a high-level interface for drawing attractive statistical graphics."
   ]
  },
  {
   "cell_type": "code",
   "execution_count": null,
   "metadata": {
    "collapsed": true,
    "tags": [
     "s5",
     "ce"
    ]
   },
   "outputs": [],
   "source": [
    "import numpy as np\n",
    "import pandas as pd\n",
    "import seaborn as sns\n",
    "import matplotlib.pyplot as plt\n",
    "import statsmodels.api as sm\n",
    "import datetime\n",
    "import time\n",
    "plt.style.use('ggplot')\n",
    "# reading in data from the provided csv file\n",
    "bitcoin_df = pd.read_csv('https://raw.githubusercontent.com/VamshiVBV/data/master/Bitcoin/bitcoin_dataset.csv',encoding='utf-8')\n",
    "\n",
    "from sklearn import datasets, linear_model\n",
    "import statsmodels.formula.api as sm\n",
    "import seaborn as sns"
   ]
  },
  {
   "cell_type": "markdown",
   "metadata": {
    "tags": [
     "s5",
     "hint"
    ]
   },
   "source": [
    "hint, write any hint here for the above question."
   ]
  },
  {
   "cell_type": "code",
   "execution_count": null,
   "metadata": {
    "collapsed": true,
    "tags": [
     "s5",
     "ans"
    ]
   },
   "outputs": [],
   "source": [
    "g = sns.jointplot(\"btc_difficulty\",\"btc_market_price\", data=bitcoin_df, color=\"r\", size=7)"
   ]
  },
  {
   "cell_type": "code",
   "execution_count": null,
   "metadata": {
    "collapsed": true,
    "tags": [
     "s5",
     "hid"
    ]
   },
   "outputs": [],
   "source": [
    "#this is assertion block which verifies the solution.\n",
    "\n",
    "try:\n",
    "    def verify_answer():\n",
    "        \"\"\"\n",
    "        enter your verification code here.\n",
    "        return true if your checks pass\n",
    "        eg: \n",
    "        if above_user_answer_var > 100: \n",
    "            return True\n",
    "        else:\n",
    "            return False\n",
    "        \"\"\"\n",
    "\n",
    "    ref_assert_var = verify_answer()\n",
    "except Exception as e:\n",
    "    print('Your assertion block throws error: ' + str(e))\n",
    "else:\n",
    "    if ref_assert_var:\n",
    "        print('continue')\n",
    "    else:\n",
    "        print('The answer did not pass the test.')"
   ]
  },
  {
   "cell_type": "markdown",
   "metadata": {
    "tags": [
     "s6",
     "content"
    ]
   },
   "source": [
    "seaborn."
   ]
  },
  {
   "cell_type": "code",
   "execution_count": null,
   "metadata": {
    "collapsed": true,
    "tags": [
     "s6",
     "ce"
    ]
   },
   "outputs": [],
   "source": [
    "import numpy as np\n",
    "import pandas as pd\n",
    "import seaborn as sns\n",
    "import matplotlib.pyplot as plt\n",
    "import statsmodels.api as sm\n",
    "import datetime\n",
    "import time\n",
    "plt.style.use('ggplot')\n",
    "# reading in data from the provided csv file\n",
    "bitcoin_df = pd.read_csv('https://raw.githubusercontent.com/VamshiVBV/data/master/Bitcoin/bitcoin_dataset.csv',encoding='utf-8')\n",
    "\n",
    "from sklearn import datasets, linear_model\n",
    "import statsmodels.formula.api as sm\n",
    "import seaborn as sns"
   ]
  },
  {
   "cell_type": "markdown",
   "metadata": {
    "tags": [
     "s6",
     "hint"
    ]
   },
   "source": [
    "Plot a graph for btc_market_price using jointplot "
   ]
  },
  {
   "cell_type": "code",
   "execution_count": null,
   "metadata": {
    "collapsed": true,
    "tags": [
     "s6",
     "ans"
    ]
   },
   "outputs": [],
   "source": [
    "\n",
    "g = sns.jointplot(\"btc_total_bitcoins\",\"btc_market_price\", data=bitcoin_df, color=\"r\", size=7)"
   ]
  },
  {
   "cell_type": "code",
   "execution_count": null,
   "metadata": {
    "collapsed": true,
    "tags": [
     "s6",
     "hid"
    ]
   },
   "outputs": [],
   "source": [
    "#this is assertion block which verifies the solution.\n",
    "\n",
    "try:\n",
    "    def verify_answer():\n",
    "        \"\"\"\n",
    "        enter your verification code here.\n",
    "        return true if your checks pass\n",
    "        eg: \n",
    "        if above_user_answer_var > 100: \n",
    "            return True\n",
    "        else:\n",
    "            return False\n",
    "        \"\"\"\n",
    "\n",
    "    ref_assert_var = verify_answer()\n",
    "except Exception as e:\n",
    "    print('Your assertion block throws error: ' + str(e))\n",
    "else:\n",
    "    if ref_assert_var:\n",
    "        print('continue')\n",
    "    else:\n",
    "        print('The answer did not pass the test.')"
   ]
  },
  {
   "cell_type": "markdown",
   "metadata": {
    "tags": [
     "s7",
     "content"
    ]
   },
   "source": [
    "seaborn"
   ]
  },
  {
   "cell_type": "code",
   "execution_count": null,
   "metadata": {
    "collapsed": true,
    "tags": [
     "s7",
     "ce"
    ]
   },
   "outputs": [],
   "source": [
    "import numpy as np\n",
    "import pandas as pd\n",
    "import seaborn as sns\n",
    "import matplotlib.pyplot as plt\n",
    "import statsmodels.api as sm\n",
    "import datetime\n",
    "import time\n",
    "plt.style.use('ggplot')\n",
    "# reading in data from the provided csv file\n",
    "bitcoin_df = pd.read_csv('https://raw.githubusercontent.com/VamshiVBV/data/master/Bitcoin/bitcoin_dataset.csv',encoding='utf-8')\n",
    "\n",
    "from sklearn import datasets, linear_model\n",
    "import statsmodels.formula.api as sm\n",
    "import seaborn as sns"
   ]
  },
  {
   "cell_type": "markdown",
   "metadata": {
    "tags": [
     "s7",
     "hint"
    ]
   },
   "source": [
    "Plot a graph for btc_market_price using jointplot "
   ]
  },
  {
   "cell_type": "code",
   "execution_count": null,
   "metadata": {
    "collapsed": true,
    "tags": [
     "s7",
     "ans"
    ]
   },
   "outputs": [],
   "source": [
    "g = sns.jointplot(\"btc_market_price\",\"btc_market_price\", data=bitcoin_df, color=\"r\", size=7)"
   ]
  },
  {
   "cell_type": "code",
   "execution_count": null,
   "metadata": {
    "collapsed": true,
    "tags": [
     "s7",
     "hid"
    ]
   },
   "outputs": [],
   "source": [
    "#this is assertion block which verifies the solution.\n",
    "\n",
    "try:\n",
    "    def verify_answer():\n",
    "        \"\"\"\n",
    "        enter your verification code here.\n",
    "        return true if your checks pass\n",
    "        eg: \n",
    "        if above_user_answer_var > 100: \n",
    "            return True\n",
    "        else:\n",
    "            return False\n",
    "        \"\"\"\n",
    "\n",
    "    ref_assert_var = verify_answer()\n",
    "except Exception as e:\n",
    "    print('Your assertion block throws error: ' + str(e))\n",
    "else:\n",
    "    if ref_assert_var:\n",
    "        print('continue')\n",
    "    else:\n",
    "        print('The answer did not pass the test.')"
   ]
  },
  {
   "cell_type": "markdown",
   "metadata": {
    "tags": [
     "s8",
     "content"
    ]
   },
   "source": [
    "seaborn."
   ]
  },
  {
   "cell_type": "code",
   "execution_count": null,
   "metadata": {
    "collapsed": true,
    "tags": [
     "s8",
     "ce"
    ]
   },
   "outputs": [],
   "source": [
    "import numpy as np\n",
    "import pandas as pd\n",
    "import seaborn as sns\n",
    "import matplotlib.pyplot as plt\n",
    "import statsmodels.api as sm\n",
    "import datetime\n",
    "import time\n",
    "plt.style.use('ggplot')\n",
    "# reading in data from the provided csv file\n",
    "bitcoin_df = pd.read_csv('https://raw.githubusercontent.com/VamshiVBV/data/master/Bitcoin/bitcoin_dataset.csv',encoding='utf-8')\n",
    "\n",
    "from sklearn import datasets, linear_model\n",
    "import statsmodels.formula.api as sm\n",
    "import seaborn as sns"
   ]
  },
  {
   "cell_type": "markdown",
   "metadata": {
    "tags": [
     "s8",
     "hint"
    ]
   },
   "source": [
    "Plot a graph for btc_market_price using jointplot "
   ]
  },
  {
   "cell_type": "code",
   "execution_count": null,
   "metadata": {
    "collapsed": true,
    "tags": [
     "s8",
     "ans"
    ]
   },
   "outputs": [],
   "source": [
    "g = sns.jointplot(\"btc_hash_rate\",\"btc_market_price\", data=bitcoin_df, color=\"r\", size=7)"
   ]
  },
  {
   "cell_type": "code",
   "execution_count": null,
   "metadata": {
    "collapsed": true,
    "tags": [
     "s8",
     "hid"
    ]
   },
   "outputs": [],
   "source": [
    "#this is assertion block which verifies the solution.\n",
    "\n",
    "try:\n",
    "    def verify_answer():\n",
    "        \"\"\"\n",
    "        enter your verification code here.\n",
    "        return true if your checks pass\n",
    "        eg: \n",
    "        if above_user_answer_var > 100: \n",
    "            return True\n",
    "        else:\n",
    "            return False\n",
    "        \"\"\"\n",
    "\n",
    "    ref_assert_var = verify_answer()\n",
    "except Exception as e:\n",
    "    print('Your assertion block throws error: ' + str(e))\n",
    "else:\n",
    "    if ref_assert_var:\n",
    "        print('continue')\n",
    "    else:\n",
    "        print('The answer did not pass the test.')"
   ]
  },
  {
   "cell_type": "markdown",
   "metadata": {
    "tags": [
     "s9",
     "content"
    ]
   },
   "source": [
    "To identify categorical variables, you can study the scatter plots to see a fixed set of limited values or can look up the unique values in the feature \n",
    "\n"
   ]
  },
  {
   "cell_type": "code",
   "execution_count": null,
   "metadata": {
    "collapsed": true,
    "tags": [
     "s9",
     "ce"
    ]
   },
   "outputs": [],
   "source": [
    "from sklearn import datasets, linear_model\n",
    "import statsmodels.formula.api as sm\n",
    "import seaborn as sns"
   ]
  },
  {
   "cell_type": "markdown",
   "metadata": {
    "tags": [
     "s9",
     "hint"
    ]
   },
   "source": [
    "Use sns.stripplot()"
   ]
  },
  {
   "cell_type": "code",
   "execution_count": null,
   "metadata": {
    "collapsed": true,
    "tags": [
     "s9",
     "ans"
    ]
   },
   "outputs": [],
   "source": [
    "g = sns.stripplot(x=\"btc_total_bitcoins\",y=\"btc_market_price\", data=bitcoin_df,jitter=True)"
   ]
  },
  {
   "cell_type": "code",
   "execution_count": null,
   "metadata": {
    "collapsed": true,
    "tags": [
     "s9",
     "hid"
    ]
   },
   "outputs": [],
   "source": [
    "#this is assertion block which verifies the solution.\n",
    "\n",
    "try:\n",
    "    def verify_answer():\n",
    "        \"\"\"\n",
    "        enter your verification code here.\n",
    "        return true if your checks pass\n",
    "        eg: \n",
    "        if above_user_answer_var > 100: \n",
    "            return True\n",
    "        else:\n",
    "            return False\n",
    "        \"\"\"\n",
    "            return True\n",
    "\n",
    "    ref_assert_var = verify_answer()\n",
    "except Exception as e:\n",
    "    print('Your assertion block throws error: ' + str(e))\n",
    "else:\n",
    "    if ref_assert_var:\n",
    "        print('continue')\n",
    "    else:\n",
    "        print('The answer did not pass the test.')"
   ]
  },
  {
   "cell_type": "markdown",
   "metadata": {
    "tags": [
     "s10",
     "content"
    ]
   },
   "source": [
    "## Predicting the values through linear regression model \n",
    "Linear regression is a supervised learning algorithm. Given a single feature, a line is fit that best predicts the independent variable. When many features are involved, a hyperplane is fit that minimizes the error between predicted values and the ground truth. Given an input vector Xn = (X1, X2, ..., Xn) that we want to use to predict the output y, the regression equation is given by:\n",
    "\n",
    "y=β0+∑i=1nXiβi\n",
    "https://refactored.ai/user/rf645/notebooks/images/linear_regression.png\n"
   ]
  },
  {
   "cell_type": "code",
   "execution_count": null,
   "metadata": {
    "collapsed": true,
    "tags": [
     "s10",
     "ce"
    ]
   },
   "outputs": [],
   "source": [
    "import statsmodels.formula.api as sm\n",
    "from sklearn import datasets, linear_model\n",
    "from sklearn.metrics import mean_squared_error\n"
   ]
  },
  {
   "cell_type": "markdown",
   "metadata": {
    "tags": [
     "s10",
     "hint"
    ]
   },
   "source": [
    "Use statsmodels library function"
   ]
  },
  {
   "cell_type": "code",
   "execution_count": null,
   "metadata": {
    "collapsed": true,
    "tags": [
     "s10",
     "ans"
    ]
   },
   "outputs": [],
   "source": [
    "lm = sm.ols(formula='btc_market_price ~ btc_total_bitcoins+btc_market_cap+btc_blocks_size+btc_avg_block_size+btc_n_orphaned_blocks+btc_n_transactions_per_block+btc_median_confirmation_time+btc_hash_rate+btc_difficulty+btc_miners_revenue+btc_transaction_fees+btc_cost_per_transaction+btc_n_unique_addresses+btc_n_transactions+btc_n_transactions_total+btc_estimated_transaction_volume_usd',data=bitcoin_df).fit()\n",
    "y_hat=lm.predict(bitcoin_df[['btc_total_bitcoins','btc_market_cap','btc_blocks_size','btc_avg_block_size','btc_n_orphaned_blocks','btc_n_transactions_per_block','btc_median_confirmation_time','btc_hash_rate','btc_difficulty','btc_miners_revenue','btc_transaction_fees','btc_cost_per_transaction','btc_n_unique_addresses','btc_n_transactions','btc_n_transactions_total','btc_estimated_transaction_volume_usd']])\n",
    "print(y_hat)\n",
    "\n",
    "lm.summary()"
   ]
  },
  {
   "cell_type": "code",
   "execution_count": null,
   "metadata": {
    "collapsed": true,
    "tags": [
     "s10",
     "hid"
    ]
   },
   "outputs": [],
   "source": [
    "#this is assertion block which verifies the solution.\n",
    "\n",
    "try:\n",
    "    def verify_answer():\n",
    "        \"\"\"\n",
    "        enter your verification code here.\n",
    "        return true if your checks pass\n",
    "        eg: \n",
    "        if above_user_answer_var > 100: \n",
    "            return True\n",
    "        else:\n",
    "            return False\n",
    "        \"\"\"\n",
    "            return True\n",
    "\n",
    "    ref_assert_var = verify_answer()\n",
    "except Exception as e:\n",
    "    print('Your assertion block throws error: ' + str(e))\n",
    "else:\n",
    "    if ref_assert_var:\n",
    "        print('continue')\n",
    "    else:\n",
    "        print('The answer did not pass the test.')"
   ]
  },
  {
   "cell_type": "markdown",
   "metadata": {
    "tags": [
     "s11",
     "content"
    ]
   },
   "source": [
    "Removing the column whose P values are greater than 0.05"
   ]
  },
  {
   "cell_type": "code",
   "execution_count": null,
   "metadata": {
    "collapsed": true,
    "tags": [
     "s11",
     "ce"
    ]
   },
   "outputs": [],
   "source": [
    "import statsmodels.formula.api as sm\n",
    "from sklearn import datasets, linear_model\n",
    "from sklearn.metrics import mean_squared_error"
   ]
  },
  {
   "cell_type": "markdown",
   "metadata": {
    "tags": [
     "s11",
     "hint"
    ]
   },
   "source": []
  },
  {
   "cell_type": "code",
   "execution_count": null,
   "metadata": {
    "collapsed": true,
    "tags": [
     "s11",
     "ans"
    ]
   },
   "outputs": [],
   "source": [
    "lm = sm.ols(formula='btc_market_price ~ btc_total_bitcoins+btc_market_cap+btc_blocks_size+btc_avg_block_size+btc_n_orphaned_blocks+btc_n_transactions_per_block+btc_median_confirmation_time+btc_hash_rate+btc_difficulty+btc_miners_revenue+btc_transaction_fees+btc_cost_per_transaction+btc_n_unique_addresses+btc_n_transactions+btc_n_transactions_total+btc_estimated_transaction_volume_usd',data=bt_df).fit()\n",
    "y_hat=lm.predict(bt_df[['btc_total_bitcoins','btc_market_cap','btc_blocks_size','btc_avg_block_size','btc_n_orphaned_blocks','btc_n_transactions_per_block','btc_median_confirmation_time','btc_hash_rate','btc_difficulty','btc_miners_revenue','btc_transaction_fees','btc_cost_per_transaction','btc_n_unique_addresses','btc_n_transactions','btc_n_transactions_total','btc_estimated_transaction_volume_usd']])\n",
    "print(y_hat)\n",
    "lm.summary()"
   ]
  },
  {
   "cell_type": "code",
   "execution_count": null,
   "metadata": {
    "collapsed": true,
    "tags": [
     "s11",
     "hid"
    ]
   },
   "outputs": [],
   "source": [
    "#this is assertion block which verifies the solution.\n",
    "\n",
    "try:\n",
    "    def verify_answer():\n",
    "        \"\"\"\n",
    "        enter your verification code here.\n",
    "        return true if your checks pass\n",
    "        eg: \n",
    "        if above_user_answer_var > 100: \n",
    "            return True\n",
    "        else:\n",
    "            return False\n",
    "        \"\"\"\n",
    "            return True\n",
    "\n",
    "    ref_assert_var = verify_answer()\n",
    "except Exception as e:\n",
    "    print('Your assertion block throws error: ' + str(e))\n",
    "else:\n",
    "    if ref_assert_var:\n",
    "        print('continue')\n",
    "    else:\n",
    "        print('The answer did not pass the test.')"
   ]
  },
  {
   "cell_type": "markdown",
   "metadata": {
    "tags": [
     "s12",
     "content"
    ]
   },
   "source": [
    "Validation for prediction model"
   ]
  },
  {
   "cell_type": "code",
   "execution_count": null,
   "metadata": {
    "collapsed": true,
    "tags": [
     "s12",
     "ce"
    ]
   },
   "outputs": [],
   "source": [
    "x=bt_df['btc_market_price'].head(93)\n",
    "y=y_hat.head(93)\n",
    "mse_lm = mean_squared_error(x,y)\n"
   ]
  },
  {
   "cell_type": "markdown",
   "metadata": {
    "tags": [
     "s12",
     "hint"
    ]
   },
   "source": [
    "Finding mean squared error and R squared values "
   ]
  },
  {
   "cell_type": "code",
   "execution_count": null,
   "metadata": {
    "collapsed": true,
    "tags": [
     "s12",
     "ans"
    ]
   },
   "outputs": [],
   "source": [
    "r_squared = lm.rsquared\n",
    "print(\"mse:\", mse_lm,\"R-Squared:\", r_squared)"
   ]
  },
  {
   "cell_type": "code",
   "execution_count": null,
   "metadata": {
    "collapsed": true,
    "tags": [
     "s12",
     "hid"
    ]
   },
   "outputs": [],
   "source": [
    "#this is assertion block which verifies the solution.\n",
    "\n",
    "try:\n",
    "    def verify_answer():\n",
    "        \"\"\"\n",
    "        enter your verification code here.\n",
    "        return true if your checks pass\n",
    "        eg: \n",
    "        if above_user_answer_var > 100: \n",
    "            return True\n",
    "        else:\n",
    "            return False\n",
    "        \"\"\"\n",
    "            return True\n",
    "\n",
    "    ref_assert_var = verify_answer()\n",
    "except Exception as e:\n",
    "    print('Your assertion block throws error: ' + str(e))\n",
    "else:\n",
    "    if ref_assert_var:\n",
    "        print('continue')\n",
    "    else:\n",
    "        print('The answer did not pass the test.')"
   ]
  },
  {
   "cell_type": "markdown",
   "metadata": {
    "tags": [
     "s13",
     "content"
    ]
   },
   "source": [
    "### Predicted value of Bitcoin"
   ]
  },
  {
   "cell_type": "code",
   "execution_count": null,
   "metadata": {
    "collapsed": true,
    "tags": [
     "s13",
     "ce"
    ]
   },
   "outputs": [],
   "source": [
    "plt.subplots(figsize=(14, 7))\n",
    "sns.tsplot(Y_hat, time=bt_df.index)\n",
    "\n"
   ]
  },
  {
   "cell_type": "markdown",
   "metadata": {
    "tags": [
     "s13",
     "hint"
    ]
   },
   "source": []
  },
  {
   "cell_type": "code",
   "execution_count": null,
   "metadata": {
    "collapsed": true,
    "tags": [
     "s13",
     "ans"
    ]
   },
   "outputs": [],
   "source": [
    "plt.ylabel(\"predicted values\")\n",
    "plt.xlabel('Date') \n",
    "plt.title('Bitcoin price')"
   ]
  }
 ],
 "metadata": {
  "executed_sections": [],
  "kernelspec": {
   "display_name": "Python 3",
   "language": "python",
   "name": "python3"
  },
  "language_info": {
   "codemirror_mode": {
    "name": "ipython",
    "version": 3
   },
   "file_extension": ".py",
   "mimetype": "text/x-python",
   "name": "python",
   "nbconvert_exporter": "python",
   "pygments_lexer": "ipython3",
   "version": "3.5.2"
  }
 },
 "nbformat": 4,
 "nbformat_minor": 2
}