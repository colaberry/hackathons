{
 "cells": [
  {
   "cell_type": "markdown",
   "metadata": {},
   "source": [
    "# Somerville Happiness Survey"
   ]
  },
  {
   "cell_type": "code",
   "execution_count": 1,
   "metadata": {},
   "outputs": [],
   "source": [
    "# imports\n",
    "import numpy as np\n",
    "import pandas as pd\n",
    "\n",
    "import matplotlib\n",
    "import seaborn as sns\n",
    "\n",
    "from sklearn.preprocessing import LabelEncoder\n",
    "from sklearn.linear_model import LogisticRegression\n",
    "from sklearn.model_selection import StratifiedShuffleSplit\n",
    "from sklearn.metrics import mean_squared_error\n",
    "\n",
    "%matplotlib inline"
   ]
  },
  {
   "cell_type": "code",
   "execution_count": 2,
   "metadata": {},
   "outputs": [
    {
     "data": {
      "text/html": [
       "<div>\n",
       "<style scoped>\n",
       "    .dataframe tbody tr th:only-of-type {\n",
       "        vertical-align: middle;\n",
       "    }\n",
       "\n",
       "    .dataframe tbody tr th {\n",
       "        vertical-align: top;\n",
       "    }\n",
       "\n",
       "    .dataframe thead th {\n",
       "        text-align: right;\n",
       "    }\n",
       "</style>\n",
       "<table border=\"1\" class=\"dataframe\">\n",
       "  <thead>\n",
       "    <tr style=\"text-align: right;\">\n",
       "      <th></th>\n",
       "      <th>Combined_ID</th>\n",
       "      <th>Year</th>\n",
       "      <th>How.happy.do.you.feel.right.now.</th>\n",
       "      <th>How.satisfied.are.you.with.your.life.in.general.</th>\n",
       "      <th>How.satisfied.are.you.with.Somerville.as.a.place.to.live.</th>\n",
       "      <th>In.general..how.similar.are.you.to.other.people.you.know._2011</th>\n",
       "      <th>When.making.decisions..are.you.more.likely.to.seek.advice.or.decide.for.yourself._2011.</th>\n",
       "      <th>How.satisfied.are.you.with.your.neighborhood.</th>\n",
       "      <th>How.proud.are.you.to.be.a.Somerville.resident._2015</th>\n",
       "      <th>How.would.you.rate.the.following..The.availability.of.information.about.city.services._2015</th>\n",
       "      <th>...</th>\n",
       "      <th>What.is.your.race.or.ethnicity._2015</th>\n",
       "      <th>Do.you.have.children.age.18.or.younger.who.live.with.you.</th>\n",
       "      <th>Describe.your.housing.status.in.Somerville.</th>\n",
       "      <th>Do.you.plan.to.move.away.from.Somerville.in.the.next.two.years.</th>\n",
       "      <th>How.long.have.you.lived.here.</th>\n",
       "      <th>What.is.your.annual.household.income.</th>\n",
       "      <th>What.neighborhood.do.you.live.in.</th>\n",
       "      <th>Are.you.a.student.</th>\n",
       "      <th>Ward</th>\n",
       "      <th>Precinct</th>\n",
       "    </tr>\n",
       "  </thead>\n",
       "  <tbody>\n",
       "    <tr>\n",
       "      <th>0</th>\n",
       "      <td>1</td>\n",
       "      <td>2015</td>\n",
       "      <td>7</td>\n",
       "      <td>5</td>\n",
       "      <td>7</td>\n",
       "      <td>NaN</td>\n",
       "      <td>NaN</td>\n",
       "      <td>5.0</td>\n",
       "      <td>9.0</td>\n",
       "      <td>3.0</td>\n",
       "      <td>...</td>\n",
       "      <td>White, Hispanic / Latino</td>\n",
       "      <td>No</td>\n",
       "      <td>Rent</td>\n",
       "      <td>No</td>\n",
       "      <td>4-7 years</td>\n",
       "      <td>$100,000 to $149,999</td>\n",
       "      <td>Winter Hill</td>\n",
       "      <td>No</td>\n",
       "      <td>4.0</td>\n",
       "      <td>3.0</td>\n",
       "    </tr>\n",
       "    <tr>\n",
       "      <th>1</th>\n",
       "      <td>2</td>\n",
       "      <td>2015</td>\n",
       "      <td>8</td>\n",
       "      <td>8</td>\n",
       "      <td>7</td>\n",
       "      <td>NaN</td>\n",
       "      <td>NaN</td>\n",
       "      <td>8.0</td>\n",
       "      <td>7.0</td>\n",
       "      <td>3.0</td>\n",
       "      <td>...</td>\n",
       "      <td>White</td>\n",
       "      <td>No</td>\n",
       "      <td>Rent</td>\n",
       "      <td>Yes</td>\n",
       "      <td>1-3 years</td>\n",
       "      <td>$25,000 to $49,999</td>\n",
       "      <td>Teele Square</td>\n",
       "      <td>Yes</td>\n",
       "      <td>7.0</td>\n",
       "      <td>2.0</td>\n",
       "    </tr>\n",
       "    <tr>\n",
       "      <th>2</th>\n",
       "      <td>3</td>\n",
       "      <td>2015</td>\n",
       "      <td>5</td>\n",
       "      <td>9</td>\n",
       "      <td>6</td>\n",
       "      <td>NaN</td>\n",
       "      <td>NaN</td>\n",
       "      <td>7.0</td>\n",
       "      <td>5.0</td>\n",
       "      <td>3.0</td>\n",
       "      <td>...</td>\n",
       "      <td>White</td>\n",
       "      <td>No</td>\n",
       "      <td>Rent</td>\n",
       "      <td>No</td>\n",
       "      <td>21 years or more</td>\n",
       "      <td>$25,000 to $49,999</td>\n",
       "      <td>Ward 3</td>\n",
       "      <td>No</td>\n",
       "      <td>3.0</td>\n",
       "      <td>2.0</td>\n",
       "    </tr>\n",
       "    <tr>\n",
       "      <th>3</th>\n",
       "      <td>4</td>\n",
       "      <td>2015</td>\n",
       "      <td>5</td>\n",
       "      <td>8</td>\n",
       "      <td>9</td>\n",
       "      <td>NaN</td>\n",
       "      <td>NaN</td>\n",
       "      <td>9.0</td>\n",
       "      <td>9.0</td>\n",
       "      <td>5.0</td>\n",
       "      <td>...</td>\n",
       "      <td>White</td>\n",
       "      <td>No</td>\n",
       "      <td>Own</td>\n",
       "      <td>No</td>\n",
       "      <td>16-20 years</td>\n",
       "      <td>NaN</td>\n",
       "      <td>Union Square</td>\n",
       "      <td>No</td>\n",
       "      <td>3.0</td>\n",
       "      <td>1.0</td>\n",
       "    </tr>\n",
       "    <tr>\n",
       "      <th>4</th>\n",
       "      <td>5</td>\n",
       "      <td>2015</td>\n",
       "      <td>7</td>\n",
       "      <td>9</td>\n",
       "      <td>8</td>\n",
       "      <td>NaN</td>\n",
       "      <td>NaN</td>\n",
       "      <td>7.0</td>\n",
       "      <td>7.0</td>\n",
       "      <td>5.0</td>\n",
       "      <td>...</td>\n",
       "      <td>White</td>\n",
       "      <td>Yes</td>\n",
       "      <td>Own</td>\n",
       "      <td>No</td>\n",
       "      <td>4-7 years</td>\n",
       "      <td>$150,000 or more</td>\n",
       "      <td>Near the hospital</td>\n",
       "      <td>No</td>\n",
       "      <td>5.0</td>\n",
       "      <td>3.0</td>\n",
       "    </tr>\n",
       "  </tbody>\n",
       "</table>\n",
       "<p>5 rows × 43 columns</p>\n",
       "</div>"
      ],
      "text/plain": [
       "   Combined_ID  Year How.happy.do.you.feel.right.now.  \\\n",
       "0            1  2015                                7   \n",
       "1            2  2015                                8   \n",
       "2            3  2015                                5   \n",
       "3            4  2015                                5   \n",
       "4            5  2015                                7   \n",
       "\n",
       "  How.satisfied.are.you.with.your.life.in.general.  \\\n",
       "0                                                5   \n",
       "1                                                8   \n",
       "2                                                9   \n",
       "3                                                8   \n",
       "4                                                9   \n",
       "\n",
       "  How.satisfied.are.you.with.Somerville.as.a.place.to.live.  \\\n",
       "0                                                  7          \n",
       "1                                                  7          \n",
       "2                                                  6          \n",
       "3                                                  9          \n",
       "4                                                  8          \n",
       "\n",
       "  In.general..how.similar.are.you.to.other.people.you.know._2011  \\\n",
       "0                                                NaN               \n",
       "1                                                NaN               \n",
       "2                                                NaN               \n",
       "3                                                NaN               \n",
       "4                                                NaN               \n",
       "\n",
       "  When.making.decisions..are.you.more.likely.to.seek.advice.or.decide.for.yourself._2011.  \\\n",
       "0                                                NaN                                        \n",
       "1                                                NaN                                        \n",
       "2                                                NaN                                        \n",
       "3                                                NaN                                        \n",
       "4                                                NaN                                        \n",
       "\n",
       "   How.satisfied.are.you.with.your.neighborhood.  \\\n",
       "0                                            5.0   \n",
       "1                                            8.0   \n",
       "2                                            7.0   \n",
       "3                                            9.0   \n",
       "4                                            7.0   \n",
       "\n",
       "   How.proud.are.you.to.be.a.Somerville.resident._2015  \\\n",
       "0                                                9.0     \n",
       "1                                                7.0     \n",
       "2                                                5.0     \n",
       "3                                                9.0     \n",
       "4                                                7.0     \n",
       "\n",
       "   How.would.you.rate.the.following..The.availability.of.information.about.city.services._2015  \\\n",
       "0                                                3.0                                             \n",
       "1                                                3.0                                             \n",
       "2                                                3.0                                             \n",
       "3                                                5.0                                             \n",
       "4                                                5.0                                             \n",
       "\n",
       "     ...    What.is.your.race.or.ethnicity._2015  \\\n",
       "0    ...                White, Hispanic / Latino   \n",
       "1    ...                                   White   \n",
       "2    ...                                   White   \n",
       "3    ...                                   White   \n",
       "4    ...                                   White   \n",
       "\n",
       "   Do.you.have.children.age.18.or.younger.who.live.with.you.  \\\n",
       "0                                                 No           \n",
       "1                                                 No           \n",
       "2                                                 No           \n",
       "3                                                 No           \n",
       "4                                                Yes           \n",
       "\n",
       "  Describe.your.housing.status.in.Somerville.  \\\n",
       "0                                        Rent   \n",
       "1                                        Rent   \n",
       "2                                        Rent   \n",
       "3                                         Own   \n",
       "4                                         Own   \n",
       "\n",
       "   Do.you.plan.to.move.away.from.Somerville.in.the.next.two.years.  \\\n",
       "0                                                 No                 \n",
       "1                                                Yes                 \n",
       "2                                                 No                 \n",
       "3                                                 No                 \n",
       "4                                                 No                 \n",
       "\n",
       "  How.long.have.you.lived.here.  What.is.your.annual.household.income.  \\\n",
       "0                     4-7 years                   $100,000 to $149,999   \n",
       "1                     1-3 years                     $25,000 to $49,999   \n",
       "2              21 years or more                     $25,000 to $49,999   \n",
       "3                   16-20 years                                    NaN   \n",
       "4                     4-7 years                       $150,000 or more   \n",
       "\n",
       "  What.neighborhood.do.you.live.in.  Are.you.a.student.  Ward  Precinct  \n",
       "0                       Winter Hill                  No   4.0       3.0  \n",
       "1                      Teele Square                 Yes   7.0       2.0  \n",
       "2                            Ward 3                  No   3.0       2.0  \n",
       "3                      Union Square                  No   3.0       1.0  \n",
       "4                 Near the hospital                  No   5.0       3.0  \n",
       "\n",
       "[5 rows x 43 columns]"
      ]
     },
     "execution_count": 2,
     "metadata": {},
     "output_type": "execute_result"
    }
   ],
   "source": [
    "# read data\n",
    "df = pd.read_csv('happiness.csv')\n",
    "df.head()"
   ]
  },
  {
   "cell_type": "code",
   "execution_count": 3,
   "metadata": {},
   "outputs": [
    {
     "name": "stdout",
     "output_type": "stream",
     "text": [
      "File reading passed\n"
     ]
    }
   ],
   "source": [
    "try:\n",
    "    def assert_read():\n",
    "        \"\"\"Read dataset into variable df\"\"\"\n",
    "        if df.shape[0] == 6545 and df.shape[1] == 43:\n",
    "            return True\n",
    "        else:\n",
    "            return False\n",
    "    val = assert_read()\n",
    "except Exception as e:\n",
    "    print('Your assertion block throws error {}', str(e))\n",
    "else:\n",
    "    if val:\n",
    "        print('File reading passed')"
   ]
  },
  {
   "cell_type": "markdown",
   "metadata": {},
   "source": [
    "### Exploring the data\n",
    "\n",
    "Since this is a survey dataset, many values are likely to be null (or bogus entries). So, it helps to narrow down the variables we should be looking at.\n",
    "\n",
    "- Count the number of null values across different variables in the dataset.\n",
    "- Only analyze the variables with significant data (i.e. not too many null values)."
   ]
  },
  {
   "cell_type": "code",
   "execution_count": 4,
   "metadata": {},
   "outputs": [],
   "source": [
    "cols_to_check_null_for = df.columns[3:]"
   ]
  },
  {
   "cell_type": "code",
   "execution_count": 5,
   "metadata": {},
   "outputs": [],
   "source": [
    "null_df = []\n",
    "\n",
    "for el in cols_to_check_null_for:\n",
    "    null_df.append({'column': el, 'null_count': df[el].isnull().sum(),\n",
    "                    'null_share': df[el].isnull().sum()/df.shape[0]})\n",
    "    \n",
    "null_df = pd.DataFrame(null_df)"
   ]
  },
  {
   "cell_type": "markdown",
   "metadata": {},
   "source": [
    "A lot of variables seem to have more than 90% of null values. It is better to ignore those variables while trying to analyze happiness index as they give us a small sample size to work with, meaning we can't draw any useful conclusions."
   ]
  },
  {
   "cell_type": "code",
   "execution_count": 6,
   "metadata": {},
   "outputs": [
    {
     "data": {
      "text/html": [
       "<div>\n",
       "<style scoped>\n",
       "    .dataframe tbody tr th:only-of-type {\n",
       "        vertical-align: middle;\n",
       "    }\n",
       "\n",
       "    .dataframe tbody tr th {\n",
       "        vertical-align: top;\n",
       "    }\n",
       "\n",
       "    .dataframe thead th {\n",
       "        text-align: right;\n",
       "    }\n",
       "</style>\n",
       "<table border=\"1\" class=\"dataframe\">\n",
       "  <thead>\n",
       "    <tr style=\"text-align: right;\">\n",
       "      <th></th>\n",
       "      <th>column</th>\n",
       "      <th>null_count</th>\n",
       "      <th>null_share</th>\n",
       "    </tr>\n",
       "  </thead>\n",
       "  <tbody>\n",
       "    <tr>\n",
       "      <th>27</th>\n",
       "      <td>What.language..other.than.English..do.you.spea...</td>\n",
       "      <td>6382</td>\n",
       "      <td>0.975095</td>\n",
       "    </tr>\n",
       "    <tr>\n",
       "      <th>14</th>\n",
       "      <td>How.would.you.rate.the.following..Your.trust.i...</td>\n",
       "      <td>6365</td>\n",
       "      <td>0.972498</td>\n",
       "    </tr>\n",
       "    <tr>\n",
       "      <th>32</th>\n",
       "      <td>Describe.your.housing.status.in.Somerville.</td>\n",
       "      <td>6364</td>\n",
       "      <td>0.972345</td>\n",
       "    </tr>\n",
       "    <tr>\n",
       "      <th>30</th>\n",
       "      <td>What.is.your.race.or.ethnicity._2015</td>\n",
       "      <td>6363</td>\n",
       "      <td>0.972193</td>\n",
       "    </tr>\n",
       "    <tr>\n",
       "      <th>6</th>\n",
       "      <td>How.would.you.rate.the.following..The.availabi...</td>\n",
       "      <td>6363</td>\n",
       "      <td>0.972193</td>\n",
       "    </tr>\n",
       "    <tr>\n",
       "      <th>22</th>\n",
       "      <td>How.satisfied.are.you.with.the.appearance.of.p...</td>\n",
       "      <td>6363</td>\n",
       "      <td>0.972193</td>\n",
       "    </tr>\n",
       "    <tr>\n",
       "      <th>5</th>\n",
       "      <td>How.proud.are.you.to.be.a.Somerville.resident....</td>\n",
       "      <td>6363</td>\n",
       "      <td>0.972193</td>\n",
       "    </tr>\n",
       "    <tr>\n",
       "      <th>19</th>\n",
       "      <td>How.safe.do.you.feel.walking.in.your.community...</td>\n",
       "      <td>6362</td>\n",
       "      <td>0.972040</td>\n",
       "    </tr>\n",
       "    <tr>\n",
       "      <th>16</th>\n",
       "      <td>How.would.you.rate.the.following..The.maintena...</td>\n",
       "      <td>6361</td>\n",
       "      <td>0.971887</td>\n",
       "    </tr>\n",
       "    <tr>\n",
       "      <th>29</th>\n",
       "      <td>Are.you.of.Hispanic..Latino..or.Spanish.origin...</td>\n",
       "      <td>6359</td>\n",
       "      <td>0.971581</td>\n",
       "    </tr>\n",
       "    <tr>\n",
       "      <th>21</th>\n",
       "      <td>How.satisfied.are.you.with.the.appearance.of.p...</td>\n",
       "      <td>6355</td>\n",
       "      <td>0.970970</td>\n",
       "    </tr>\n",
       "    <tr>\n",
       "      <th>18</th>\n",
       "      <td>How.safe.do.you.feel.walking.in.your.neighborh...</td>\n",
       "      <td>6353</td>\n",
       "      <td>0.970665</td>\n",
       "    </tr>\n",
       "    <tr>\n",
       "      <th>15</th>\n",
       "      <td>How.would.you.rate.the.following..The.maintena...</td>\n",
       "      <td>6353</td>\n",
       "      <td>0.970665</td>\n",
       "    </tr>\n",
       "    <tr>\n",
       "      <th>12</th>\n",
       "      <td>How.would.you.rate.the.following..The.beauty.o...</td>\n",
       "      <td>6352</td>\n",
       "      <td>0.970512</td>\n",
       "    </tr>\n",
       "    <tr>\n",
       "      <th>10</th>\n",
       "      <td>How.would.you.rate.the.following..The.overall....</td>\n",
       "      <td>6264</td>\n",
       "      <td>0.957066</td>\n",
       "    </tr>\n",
       "    <tr>\n",
       "      <th>36</th>\n",
       "      <td>What.neighborhood.do.you.live.in.</td>\n",
       "      <td>6186</td>\n",
       "      <td>0.945149</td>\n",
       "    </tr>\n",
       "    <tr>\n",
       "      <th>33</th>\n",
       "      <td>Do.you.plan.to.move.away.from.Somerville.in.th...</td>\n",
       "      <td>6186</td>\n",
       "      <td>0.945149</td>\n",
       "    </tr>\n",
       "    <tr>\n",
       "      <th>17</th>\n",
       "      <td>How.would.you.rate.the.following..The.availabi...</td>\n",
       "      <td>6182</td>\n",
       "      <td>0.944538</td>\n",
       "    </tr>\n",
       "    <tr>\n",
       "      <th>37</th>\n",
       "      <td>Are.you.a.student.</td>\n",
       "      <td>6178</td>\n",
       "      <td>0.943927</td>\n",
       "    </tr>\n",
       "    <tr>\n",
       "      <th>38</th>\n",
       "      <td>Ward</td>\n",
       "      <td>6175</td>\n",
       "      <td>0.943468</td>\n",
       "    </tr>\n",
       "    <tr>\n",
       "      <th>31</th>\n",
       "      <td>Do.you.have.children.age.18.or.younger.who.liv...</td>\n",
       "      <td>6175</td>\n",
       "      <td>0.943468</td>\n",
       "    </tr>\n",
       "    <tr>\n",
       "      <th>39</th>\n",
       "      <td>Precinct</td>\n",
       "      <td>6175</td>\n",
       "      <td>0.943468</td>\n",
       "    </tr>\n",
       "    <tr>\n",
       "      <th>23</th>\n",
       "      <td>What.is.your.sex.</td>\n",
       "      <td>6174</td>\n",
       "      <td>0.943316</td>\n",
       "    </tr>\n",
       "    <tr>\n",
       "      <th>20</th>\n",
       "      <td>How.satisfied.are.you.with.the.beauty.or.physi...</td>\n",
       "      <td>6171</td>\n",
       "      <td>0.942857</td>\n",
       "    </tr>\n",
       "    <tr>\n",
       "      <th>8</th>\n",
       "      <td>How.would.you.rate.the.following..The.cost.of....</td>\n",
       "      <td>6170</td>\n",
       "      <td>0.942704</td>\n",
       "    </tr>\n",
       "    <tr>\n",
       "      <th>4</th>\n",
       "      <td>How.satisfied.are.you.with.your.neighborhood.</td>\n",
       "      <td>6167</td>\n",
       "      <td>0.942246</td>\n",
       "    </tr>\n",
       "    <tr>\n",
       "      <th>24</th>\n",
       "      <td>What.is.your.gender._2011</td>\n",
       "      <td>378</td>\n",
       "      <td>0.057754</td>\n",
       "    </tr>\n",
       "    <tr>\n",
       "      <th>26</th>\n",
       "      <td>Marital.status._2011</td>\n",
       "      <td>378</td>\n",
       "      <td>0.057754</td>\n",
       "    </tr>\n",
       "    <tr>\n",
       "      <th>11</th>\n",
       "      <td>How.would.you.rate.the.following..The.beauty.o...</td>\n",
       "      <td>378</td>\n",
       "      <td>0.057754</td>\n",
       "    </tr>\n",
       "    <tr>\n",
       "      <th>9</th>\n",
       "      <td>How.would.you.rate.the.following..The.overall....</td>\n",
       "      <td>378</td>\n",
       "      <td>0.057754</td>\n",
       "    </tr>\n",
       "    <tr>\n",
       "      <th>7</th>\n",
       "      <td>The.availability.of.affordable.housing_2011</td>\n",
       "      <td>378</td>\n",
       "      <td>0.057754</td>\n",
       "    </tr>\n",
       "    <tr>\n",
       "      <th>3</th>\n",
       "      <td>When.making.decisions..are.you.more.likely.to....</td>\n",
       "      <td>378</td>\n",
       "      <td>0.057754</td>\n",
       "    </tr>\n",
       "    <tr>\n",
       "      <th>2</th>\n",
       "      <td>In.general..how.similar.are.you.to.other.peopl...</td>\n",
       "      <td>378</td>\n",
       "      <td>0.057754</td>\n",
       "    </tr>\n",
       "    <tr>\n",
       "      <th>28</th>\n",
       "      <td>What.is.your.race_2011_2013</td>\n",
       "      <td>198</td>\n",
       "      <td>0.030252</td>\n",
       "    </tr>\n",
       "    <tr>\n",
       "      <th>13</th>\n",
       "      <td>How.would.you.rate.the.following..The.effectiv...</td>\n",
       "      <td>193</td>\n",
       "      <td>0.029488</td>\n",
       "    </tr>\n",
       "    <tr>\n",
       "      <th>35</th>\n",
       "      <td>What.is.your.annual.household.income.</td>\n",
       "      <td>61</td>\n",
       "      <td>0.009320</td>\n",
       "    </tr>\n",
       "    <tr>\n",
       "      <th>34</th>\n",
       "      <td>How.long.have.you.lived.here.</td>\n",
       "      <td>12</td>\n",
       "      <td>0.001833</td>\n",
       "    </tr>\n",
       "    <tr>\n",
       "      <th>25</th>\n",
       "      <td>Age.</td>\n",
       "      <td>6</td>\n",
       "      <td>0.000917</td>\n",
       "    </tr>\n",
       "    <tr>\n",
       "      <th>0</th>\n",
       "      <td>How.satisfied.are.you.with.your.life.in.general.</td>\n",
       "      <td>2</td>\n",
       "      <td>0.000306</td>\n",
       "    </tr>\n",
       "    <tr>\n",
       "      <th>1</th>\n",
       "      <td>How.satisfied.are.you.with.Somerville.as.a.pla...</td>\n",
       "      <td>0</td>\n",
       "      <td>0.000000</td>\n",
       "    </tr>\n",
       "  </tbody>\n",
       "</table>\n",
       "</div>"
      ],
      "text/plain": [
       "                                               column  null_count  null_share\n",
       "27  What.language..other.than.English..do.you.spea...        6382    0.975095\n",
       "14  How.would.you.rate.the.following..Your.trust.i...        6365    0.972498\n",
       "32        Describe.your.housing.status.in.Somerville.        6364    0.972345\n",
       "30               What.is.your.race.or.ethnicity._2015        6363    0.972193\n",
       "6   How.would.you.rate.the.following..The.availabi...        6363    0.972193\n",
       "22  How.satisfied.are.you.with.the.appearance.of.p...        6363    0.972193\n",
       "5   How.proud.are.you.to.be.a.Somerville.resident....        6363    0.972193\n",
       "19  How.safe.do.you.feel.walking.in.your.community...        6362    0.972040\n",
       "16  How.would.you.rate.the.following..The.maintena...        6361    0.971887\n",
       "29  Are.you.of.Hispanic..Latino..or.Spanish.origin...        6359    0.971581\n",
       "21  How.satisfied.are.you.with.the.appearance.of.p...        6355    0.970970\n",
       "18  How.safe.do.you.feel.walking.in.your.neighborh...        6353    0.970665\n",
       "15  How.would.you.rate.the.following..The.maintena...        6353    0.970665\n",
       "12  How.would.you.rate.the.following..The.beauty.o...        6352    0.970512\n",
       "10  How.would.you.rate.the.following..The.overall....        6264    0.957066\n",
       "36                  What.neighborhood.do.you.live.in.        6186    0.945149\n",
       "33  Do.you.plan.to.move.away.from.Somerville.in.th...        6186    0.945149\n",
       "17  How.would.you.rate.the.following..The.availabi...        6182    0.944538\n",
       "37                                 Are.you.a.student.        6178    0.943927\n",
       "38                                               Ward        6175    0.943468\n",
       "31  Do.you.have.children.age.18.or.younger.who.liv...        6175    0.943468\n",
       "39                                           Precinct        6175    0.943468\n",
       "23                                  What.is.your.sex.        6174    0.943316\n",
       "20  How.satisfied.are.you.with.the.beauty.or.physi...        6171    0.942857\n",
       "8   How.would.you.rate.the.following..The.cost.of....        6170    0.942704\n",
       "4       How.satisfied.are.you.with.your.neighborhood.        6167    0.942246\n",
       "24                          What.is.your.gender._2011         378    0.057754\n",
       "26                               Marital.status._2011         378    0.057754\n",
       "11  How.would.you.rate.the.following..The.beauty.o...         378    0.057754\n",
       "9   How.would.you.rate.the.following..The.overall....         378    0.057754\n",
       "7         The.availability.of.affordable.housing_2011         378    0.057754\n",
       "3   When.making.decisions..are.you.more.likely.to....         378    0.057754\n",
       "2   In.general..how.similar.are.you.to.other.peopl...         378    0.057754\n",
       "28                        What.is.your.race_2011_2013         198    0.030252\n",
       "13  How.would.you.rate.the.following..The.effectiv...         193    0.029488\n",
       "35              What.is.your.annual.household.income.          61    0.009320\n",
       "34                      How.long.have.you.lived.here.          12    0.001833\n",
       "25                                               Age.           6    0.000917\n",
       "0    How.satisfied.are.you.with.your.life.in.general.           2    0.000306\n",
       "1   How.satisfied.are.you.with.Somerville.as.a.pla...           0    0.000000"
      ]
     },
     "execution_count": 6,
     "metadata": {},
     "output_type": "execute_result"
    }
   ],
   "source": [
    "null_df.sort_values(ascending=False, by='null_share')"
   ]
  },
  {
   "cell_type": "markdown",
   "metadata": {},
   "source": [
    "Retain only those variables with less than 10% null values."
   ]
  },
  {
   "cell_type": "code",
   "execution_count": 7,
   "metadata": {},
   "outputs": [],
   "source": [
    "cols_to_focus_on = null_df.loc[null_df['null_share'] <  0.1, 'column'].tolist()"
   ]
  },
  {
   "cell_type": "code",
   "execution_count": 8,
   "metadata": {},
   "outputs": [
    {
     "name": "stdout",
     "output_type": "stream",
     "text": [
      "How.satisfied.are.you.with.your.life.in.general.\n",
      "How.satisfied.are.you.with.Somerville.as.a.place.to.live.\n",
      "In.general..how.similar.are.you.to.other.people.you.know._2011\n",
      "When.making.decisions..are.you.more.likely.to.seek.advice.or.decide.for.yourself._2011.\n",
      "The.availability.of.affordable.housing_2011\n",
      "How.would.you.rate.the.following..The.overall.quality.of.public.schools.in.your.community._2011\n",
      "How.would.you.rate.the.following..The.beauty.or.physical.setting_2011\n",
      "How.would.you.rate.the.following..The.effectiveness.of.the.local.police_2011_2013\n",
      "What.is.your.gender._2011\n",
      "Age.\n",
      "Marital.status._2011\n",
      "What.is.your.race_2011_2013\n",
      "How.long.have.you.lived.here.\n",
      "What.is.your.annual.household.income.\n"
     ]
    }
   ],
   "source": [
    "for el in cols_to_focus_on:\n",
    "    print(el)"
   ]
  },
  {
   "cell_type": "code",
   "execution_count": 9,
   "metadata": {},
   "outputs": [
    {
     "data": {
      "text/plain": [
       "2011    6167\n",
       "2013     193\n",
       "2015     185\n",
       "Name: Year, dtype: int64"
      ]
     },
     "execution_count": 9,
     "metadata": {},
     "output_type": "execute_result"
    }
   ],
   "source": [
    "df['Year'].value_counts()"
   ]
  },
  {
   "cell_type": "markdown",
   "metadata": {},
   "source": [
    "### Data cleaning strategy\n",
    "\n",
    "A lot of values are bogus entries, typos and are unsuitable for building a prediction model.\n",
    "\n",
    "We take the following approach to clean the columns which ask for user ratings on a particular scale.\n",
    "- Replace all decimals (5.5) with floor integer values (5)\n",
    "- Anything else could be a bogus entry. Replace with 'R' (which is just a representation for missing values). Since bogus entries as few, they should not affect the model much.\n",
    "\n",
    "Note that we can do a thorough data cleaning job but this provides us with a good enough base.\n",
    "\n",
    "Since most responses are from 2011 (a mere 167 from 2013), we can just work with 2011 data."
   ]
  },
  {
   "cell_type": "code",
   "execution_count": 10,
   "metadata": {},
   "outputs": [],
   "source": [
    "df = df[df['Year'] == 2011]"
   ]
  },
  {
   "cell_type": "code",
   "execution_count": 11,
   "metadata": {},
   "outputs": [],
   "source": [
    "# function to clean ratings data\n",
    "def _clean_ratings(x):\n",
    "    if x in ['1.5', '2.5', '3.5', '4.5', '5.5', '6.5', '7.5', '8.5', '9.5']:\n",
    "        # take floor integer\n",
    "        return x[0]\n",
    "    elif x in ['1', '2', '3', '4', '5', '6', '7', '8', '9', '10']:\n",
    "        return x\n",
    "    else:\n",
    "        return 'R'"
   ]
  },
  {
   "cell_type": "code",
   "execution_count": 12,
   "metadata": {},
   "outputs": [],
   "source": [
    "rating_cols = ['How.satisfied.are.you.with.your.life.in.general.',\n",
    "               'How.satisfied.are.you.with.Somerville.as.a.place.to.live.',\n",
    "               'In.general..how.similar.are.you.to.other.people.you.know._2011',\n",
    "               'When.making.decisions..are.you.more.likely.to.seek.advice.or.decide.for.yourself._2011.',\n",
    "               'The.availability.of.affordable.housing_2011',\n",
    "               'How.would.you.rate.the.following..The.overall.quality.of.public.schools.in.your.community._2011',\n",
    "               'How.would.you.rate.the.following..The.beauty.or.physical.setting_2011',\n",
    "               'How.would.you.rate.the.following..The.effectiveness.of.the.local.police_2011_2013']"
   ]
  },
  {
   "cell_type": "code",
   "execution_count": 13,
   "metadata": {},
   "outputs": [],
   "source": [
    "# cleaning all rating columns\n",
    "for col in rating_cols:\n",
    "    df[col] = df[col].apply(_clean_ratings)"
   ]
  },
  {
   "cell_type": "code",
   "execution_count": 14,
   "metadata": {},
   "outputs": [],
   "source": [
    "df['How.happy.do.you.feel.right.now.'] = df['How.happy.do.you.feel.right.now.'].apply(_clean_ratings)"
   ]
  },
  {
   "cell_type": "markdown",
   "metadata": {},
   "source": [
    "#### Sanity check for other important features\n",
    "\n",
    "Checking the value counts for any bogus entries or if any feature needs more cleaning."
   ]
  },
  {
   "cell_type": "code",
   "execution_count": 15,
   "metadata": {},
   "outputs": [
    {
     "data": {
      "text/plain": [
       "100,000 and up       1584\n",
       "50,000 - $59,999      531\n",
       "R                     520\n",
       "40,000 - $49,999      513\n",
       "60,000 - $69,999      462\n",
       "30,000 - $39,999      456\n",
       "20,000 - $29,999      420\n",
       "70,000 - $79,999      396\n",
       "80,000 - $89,999      358\n",
       "10,000 - $19,999      350\n",
       "90,000 - $99,999      324\n",
       "Less than $10,000     253\n",
       "Name: What.is.your.annual.household.income., dtype: int64"
      ]
     },
     "execution_count": 15,
     "metadata": {},
     "output_type": "execute_result"
    }
   ],
   "source": [
    "df['What.is.your.annual.household.income.'].value_counts()"
   ]
  },
  {
   "cell_type": "code",
   "execution_count": 16,
   "metadata": {},
   "outputs": [
    {
     "data": {
      "text/plain": [
       "31-40    1564\n",
       "26-30    1289\n",
       "61+       992\n",
       "41-50     847\n",
       "51-60     679\n",
       "22-25     479\n",
       "R         262\n",
       "18-21      55\n",
       "Name: Age., dtype: int64"
      ]
     },
     "execution_count": 16,
     "metadata": {},
     "output_type": "execute_result"
    }
   ],
   "source": [
    "df['Age.'].value_counts()"
   ]
  },
  {
   "cell_type": "code",
   "execution_count": 17,
   "metadata": {},
   "outputs": [
    {
     "data": {
      "text/plain": [
       "Female         3607\n",
       "Male           2233\n",
       "R               307\n",
       "Transgender      20\n",
       "Name: What.is.your.gender._2011, dtype: int64"
      ]
     },
     "execution_count": 17,
     "metadata": {},
     "output_type": "execute_result"
    }
   ],
   "source": [
    "df['What.is.your.gender._2011'].value_counts()"
   ]
  },
  {
   "cell_type": "code",
   "execution_count": 18,
   "metadata": {},
   "outputs": [
    {
     "data": {
      "text/plain": [
       "Single, Never Married    2732\n",
       "Married                  2314\n",
       "Divorced                  528\n",
       "Widowed                   307\n",
       "R                         286\n",
       "Name: Marital.status._2011, dtype: int64"
      ]
     },
     "execution_count": 18,
     "metadata": {},
     "output_type": "execute_result"
    }
   ],
   "source": [
    "df['Marital.status._2011'].value_counts()"
   ]
  },
  {
   "cell_type": "code",
   "execution_count": 19,
   "metadata": {},
   "outputs": [
    {
     "data": {
      "text/html": [
       "<div>\n",
       "<style scoped>\n",
       "    .dataframe tbody tr th:only-of-type {\n",
       "        vertical-align: middle;\n",
       "    }\n",
       "\n",
       "    .dataframe tbody tr th {\n",
       "        vertical-align: top;\n",
       "    }\n",
       "\n",
       "    .dataframe thead th {\n",
       "        text-align: right;\n",
       "    }\n",
       "</style>\n",
       "<table border=\"1\" class=\"dataframe\">\n",
       "  <thead>\n",
       "    <tr style=\"text-align: right;\">\n",
       "      <th></th>\n",
       "      <th>index</th>\n",
       "      <th>What.is.your.race_2011_2013</th>\n",
       "    </tr>\n",
       "  </thead>\n",
       "  <tbody>\n",
       "    <tr>\n",
       "      <th>0</th>\n",
       "      <td>White, non-Hispanic</td>\n",
       "      <td>4974</td>\n",
       "    </tr>\n",
       "    <tr>\n",
       "      <th>1</th>\n",
       "      <td>Asian/Pacific Islander</td>\n",
       "      <td>332</td>\n",
       "    </tr>\n",
       "    <tr>\n",
       "      <th>2</th>\n",
       "      <td>R</td>\n",
       "      <td>315</td>\n",
       "    </tr>\n",
       "    <tr>\n",
       "      <th>3</th>\n",
       "      <td>White, Hispanic Origin</td>\n",
       "      <td>168</td>\n",
       "    </tr>\n",
       "    <tr>\n",
       "      <th>4</th>\n",
       "      <td>African-American</td>\n",
       "      <td>161</td>\n",
       "    </tr>\n",
       "    <tr>\n",
       "      <th>5</th>\n",
       "      <td>Hispanic</td>\n",
       "      <td>88</td>\n",
       "    </tr>\n",
       "    <tr>\n",
       "      <th>6</th>\n",
       "      <td>Native American</td>\n",
       "      <td>46</td>\n",
       "    </tr>\n",
       "    <tr>\n",
       "      <th>7</th>\n",
       "      <td>White, non-Hispanic, Native American</td>\n",
       "      <td>29</td>\n",
       "    </tr>\n",
       "    <tr>\n",
       "      <th>8</th>\n",
       "      <td>White, non-Hispanic, Asian/Pacific Islander</td>\n",
       "      <td>26</td>\n",
       "    </tr>\n",
       "    <tr>\n",
       "      <th>9</th>\n",
       "      <td>White, non-Hispanic, African-American</td>\n",
       "      <td>7</td>\n",
       "    </tr>\n",
       "    <tr>\n",
       "      <th>10</th>\n",
       "      <td>White, non-Hispanic, White, Hispanic Origin</td>\n",
       "      <td>4</td>\n",
       "    </tr>\n",
       "    <tr>\n",
       "      <th>11</th>\n",
       "      <td>White, Hispanic Origin, Hispanic</td>\n",
       "      <td>3</td>\n",
       "    </tr>\n",
       "    <tr>\n",
       "      <th>12</th>\n",
       "      <td>White, non-Hispanic, Hispanic</td>\n",
       "      <td>3</td>\n",
       "    </tr>\n",
       "    <tr>\n",
       "      <th>13</th>\n",
       "      <td>White, non-Hispanic, African-American, Native ...</td>\n",
       "      <td>2</td>\n",
       "    </tr>\n",
       "    <tr>\n",
       "      <th>14</th>\n",
       "      <td>White, Hispanic Origin, Asian/Pacific Islander</td>\n",
       "      <td>2</td>\n",
       "    </tr>\n",
       "    <tr>\n",
       "      <th>15</th>\n",
       "      <td>White, non-Hispanic, White, Hispanic Origin, A...</td>\n",
       "      <td>1</td>\n",
       "    </tr>\n",
       "    <tr>\n",
       "      <th>16</th>\n",
       "      <td>African-American, Asian/Pacific Islander</td>\n",
       "      <td>1</td>\n",
       "    </tr>\n",
       "    <tr>\n",
       "      <th>17</th>\n",
       "      <td>Hispanic, Asian/Pacific Islander</td>\n",
       "      <td>1</td>\n",
       "    </tr>\n",
       "    <tr>\n",
       "      <th>18</th>\n",
       "      <td>African-American, Hispanic</td>\n",
       "      <td>1</td>\n",
       "    </tr>\n",
       "    <tr>\n",
       "      <th>19</th>\n",
       "      <td>Hispanic, Native American</td>\n",
       "      <td>1</td>\n",
       "    </tr>\n",
       "    <tr>\n",
       "      <th>20</th>\n",
       "      <td>White, non-Hispanic, White, Hispanic Origin, H...</td>\n",
       "      <td>1</td>\n",
       "    </tr>\n",
       "    <tr>\n",
       "      <th>21</th>\n",
       "      <td>White, non-Hispanic, White, Hispanic Origin, A...</td>\n",
       "      <td>1</td>\n",
       "    </tr>\n",
       "  </tbody>\n",
       "</table>\n",
       "</div>"
      ],
      "text/plain": [
       "                                                index  \\\n",
       "0                                 White, non-Hispanic   \n",
       "1                              Asian/Pacific Islander   \n",
       "2                                                   R   \n",
       "3                              White, Hispanic Origin   \n",
       "4                                    African-American   \n",
       "5                                            Hispanic   \n",
       "6                                     Native American   \n",
       "7                White, non-Hispanic, Native American   \n",
       "8         White, non-Hispanic, Asian/Pacific Islander   \n",
       "9               White, non-Hispanic, African-American   \n",
       "10        White, non-Hispanic, White, Hispanic Origin   \n",
       "11                   White, Hispanic Origin, Hispanic   \n",
       "12                      White, non-Hispanic, Hispanic   \n",
       "13  White, non-Hispanic, African-American, Native ...   \n",
       "14     White, Hispanic Origin, Asian/Pacific Islander   \n",
       "15  White, non-Hispanic, White, Hispanic Origin, A...   \n",
       "16           African-American, Asian/Pacific Islander   \n",
       "17                   Hispanic, Asian/Pacific Islander   \n",
       "18                         African-American, Hispanic   \n",
       "19                          Hispanic, Native American   \n",
       "20  White, non-Hispanic, White, Hispanic Origin, H...   \n",
       "21  White, non-Hispanic, White, Hispanic Origin, A...   \n",
       "\n",
       "    What.is.your.race_2011_2013  \n",
       "0                          4974  \n",
       "1                           332  \n",
       "2                           315  \n",
       "3                           168  \n",
       "4                           161  \n",
       "5                            88  \n",
       "6                            46  \n",
       "7                            29  \n",
       "8                            26  \n",
       "9                             7  \n",
       "10                            4  \n",
       "11                            3  \n",
       "12                            3  \n",
       "13                            2  \n",
       "14                            2  \n",
       "15                            1  \n",
       "16                            1  \n",
       "17                            1  \n",
       "18                            1  \n",
       "19                            1  \n",
       "20                            1  \n",
       "21                            1  "
      ]
     },
     "execution_count": 19,
     "metadata": {},
     "output_type": "execute_result"
    }
   ],
   "source": [
    "pd.DataFrame(df['What.is.your.race_2011_2013'].value_counts()).reset_index()"
   ]
  },
  {
   "cell_type": "markdown",
   "metadata": {},
   "source": [
    "We would be better off cleaning **race** feature, that gives us broad categories to work with."
   ]
  },
  {
   "cell_type": "code",
   "execution_count": 20,
   "metadata": {},
   "outputs": [
    {
     "data": {
      "text/plain": [
       "White, non-Hispanic       5048\n",
       "Asian/Pacific Islander     332\n",
       "R                          315\n",
       "White, Hispanic Origin     173\n",
       "African-American           161\n",
       "Hispanic                    88\n",
       "Native American             46\n",
       "Others                       4\n",
       "Name: What.is.your.race_2011_2013, dtype: int64"
      ]
     },
     "execution_count": 20,
     "metadata": {},
     "output_type": "execute_result"
    }
   ],
   "source": [
    "def _clean_race(x):\n",
    "    if 'White, non-Hispanic' in x:\n",
    "        return 'White, non-Hispanic'\n",
    "    elif 'White, Hispanic Origin' in x:\n",
    "        return 'White, Hispanic Origin'\n",
    "    elif x in ['Asian/Pacific Islander', 'R', 'African-American', 'Hispanic', 'Native American']:\n",
    "        return x\n",
    "    else:\n",
    "        return 'Others'\n",
    "\n",
    "df['What.is.your.race_2011_2013'] = df['What.is.your.race_2011_2013'].apply(_clean_race)\n",
    "\n",
    "df['What.is.your.race_2011_2013'].value_counts()"
   ]
  },
  {
   "cell_type": "markdown",
   "metadata": {},
   "source": [
    "### Data visualization"
   ]
  },
  {
   "cell_type": "markdown",
   "metadata": {},
   "source": [
    "Plot a distribution of the happiness index to get a general idea of how happy the Somerville residents are."
   ]
  },
  {
   "cell_type": "code",
   "execution_count": 21,
   "metadata": {},
   "outputs": [
    {
     "data": {
      "text/plain": [
       "[Text(0,0.5,'Count of residents'), Text(0.5,0,'Happiness index')]"
      ]
     },
     "execution_count": 21,
     "metadata": {},
     "output_type": "execute_result"
    },
    {
     "data": {
      "image/png": "[encoded data removed]",
      "text/plain": [
       "<matplotlib.figure.Figure at 0x7f04e98fe828>"
      ]
     },
     "metadata": {},
     "output_type": "display_data"
    }
   ],
   "source": [
    "plt = sns.distplot(\n",
    "    df.loc[df['How.happy.do.you.feel.right.now.'] != 'R', 'How.happy.do.you.feel.right.now.'].astype(int),\n",
    "    kde=False)\n",
    "plt.set(xlabel='Happiness index', ylabel='Count of residents')"
   ]
  },
  {
   "cell_type": "markdown",
   "metadata": {},
   "source": [
    "### Logistic Regression Training"
   ]
  },
  {
   "cell_type": "markdown",
   "metadata": {},
   "source": [
    "We fit a multi-class logistic regression to the dataset. Since this is a multi-class problem, we use the one-vs-all strategy to build our model and evaluate the predictions using mean squared error.\n",
    "\n",
    "We ignore all null values in output variable while building the model."
   ]
  },
  {
   "cell_type": "code",
   "execution_count": 22,
   "metadata": {
    "scrolled": false
   },
   "outputs": [],
   "source": [
    "# for prediction, drop cases where happiness index is not a valid rating.\n",
    "df = df.loc[df['How.happy.do.you.feel.right.now.'] != 'R', :]"
   ]
  },
  {
   "cell_type": "code",
   "execution_count": 23,
   "metadata": {},
   "outputs": [],
   "source": [
    "# label encode for all features, all of which are categorical variables\n",
    "le  = LabelEncoder()\n",
    "X = pd.DataFrame()\n",
    "\n",
    "# fill null with R\n",
    "for col in cols_to_focus_on:\n",
    "    X[col] = le.fit_transform(df[col].fillna('R'))\n",
    "\n",
    "y = df['How.happy.do.you.feel.right.now.']"
   ]
  },
  {
   "cell_type": "markdown",
   "metadata": {},
   "source": [
    "A stratified split ensures classes are balanced in the training and test set. Split the dataset as 20% test, 80% train."
   ]
  },
  {
   "cell_type": "code",
   "execution_count": 24,
   "metadata": {},
   "outputs": [],
   "source": [
    "sss = StratifiedShuffleSplit(n_splits=3, test_size=0.2, random_state=0)\n",
    "sss.get_n_splits(X, y)\n",
    "for train_index, test_index in sss.split(X, y):\n",
    "    X_train, X_test = X.iloc[train_index], X.iloc[test_index]\n",
    "    y_train, y_test = y.iloc[train_index], y.iloc[test_index]"
   ]
  },
  {
   "cell_type": "code",
   "execution_count": 25,
   "metadata": {},
   "outputs": [],
   "source": [
    "# fit the multi-class logistic regression model\n",
    "happiness_model = LogisticRegression(multi_class='ovr', max_iter=1000, solver='liblinear')\n",
    "happiness_model.fit(X_train, y_train)\n",
    "y_HAT = happiness_model.predict(X_test)"
   ]
  },
  {
   "cell_type": "markdown",
   "metadata": {},
   "source": [
    "#### Evaluation using mean squared error"
   ]
  },
  {
   "cell_type": "code",
   "execution_count": 26,
   "metadata": {},
   "outputs": [
    {
     "name": "stdout",
     "output_type": "stream",
     "text": [
      "MSE: 4.7988410596\n"
     ]
    }
   ],
   "source": [
    "# calculate mean squared error\n",
    "# convert y_HAT and y_pred to integers\n",
    "y_HAT = y_HAT.astype(int)\n",
    "y_test = y_test.astype(int)\n",
    "MSE_Test = mean_squared_error(y_HAT, y_test)\n",
    "print('MSE:', MSE_Test)"
   ]
  },
  {
   "cell_type": "code",
   "execution_count": 27,
   "metadata": {},
   "outputs": [
    {
     "name": "stdout",
     "output_type": "stream",
     "text": [
      "Congratulations! Your model passed the test\n"
     ]
    }
   ],
   "source": [
    "# assertion block\n",
    "try:\n",
    "    def verify_answer():\n",
    "        \"\"\"Returns true if MSE < 5.\"\"\"\n",
    "        if MSE_Test < 6:\n",
    "            return True\n",
    "        else:\n",
    "            return False\n",
    "        \n",
    "    ref_assert_var = verify_answer()\n",
    "except Exception as e:\n",
    "    print('Your assertion block throws error: {}'.format(e))\n",
    "else:\n",
    "    if ref_assert_var:\n",
    "        print('Congratulations! Your model passed the test')"
   ]
  }
 ],
 "metadata": {
  "kernelspec": {
   "display_name": "Python 3",
   "language": "python",
   "name": "python3"
  },
  "language_info": {
   "codemirror_mode": {
    "name": "ipython",
    "version": 3
   },
   "file_extension": ".py",
   "mimetype": "text/x-python",
   "name": "python",
   "nbconvert_exporter": "python",
   "pygments_lexer": "ipython3",
   "version": "3.5.3"
  }
 },
 "nbformat": 4,
 "nbformat_minor": 2
}
