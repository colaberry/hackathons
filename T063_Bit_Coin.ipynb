{
 "cells": [
  {
   "cell_type": "markdown",
   "metadata": {
    "tags": [
     "s1",
     "content"
    ]
   },
   "source": [
    "\n",
    "                \n",
    "## Bitcoin Price Analysis \n",
    "            Data Science using Python hackathon in JNTUH was held on March 11th 2018. This involved learning Python, Machine Learning algorithms needed for Data Science. This was done with the help of online self-learning platform : http://refactored.ai \n",
    "            This problem is about predicting future price of Bitcoin using historic data\n",
    "### Importing libraries and Loading data\n",
    "            \n",
    "import required libraries\n"
   ]
  },
  {
   "cell_type": "code",
   "execution_count": 5,
   "metadata": {
    "collapsed": true,
    "tags": [
     "s1",
     "ce"
    ]
   },
   "outputs": [],
   "source": [
    "import pandas as pd\n",
    "import numpy as np\n",
    "import matplotlib.pyplot as plt\n",
    "%matplotlib inline"
   ]
  },
  {
   "cell_type": "markdown",
   "metadata": {
    "tags": [
     "s1",
     "hint"
    ]
   },
   "source": [
    "import data from below links using read_csv()\n",
    "https://raw.githubusercontent.com/colaberry/data/master/Bitcoin/bitcoin_dataset.csv\n",
    "https://raw.githubusercontent.com/colaberry/data/master/Bitcoin/test_set.csv\n",
    "use variables _dataset_ and _testdata_\n"
   ]
  },
  {
   "cell_type": "code",
   "execution_count": 6,
   "metadata": {
    "collapsed": true,
    "tags": [
     "s1",
     "ans"
    ]
   },
   "outputs": [],
   "source": [
    "dataset = pd.read_csv(\"https://raw.githubusercontent.com/colaberry/data/master/Bitcoin/bitcoin_dataset.csv\")\n",
    "testdata = pd.read_csv(\"https://raw.githubusercontent.com/colaberry/data/master/Bitcoin/test_set.csv\")"
   ]
  },
  {
   "cell_type": "code",
   "execution_count": 7,
   "metadata": {
    "tags": [
     "s1",
     "hid"
    ]
   },
   "outputs": [
    {
     "name": "stdout",
     "output_type": "stream",
     "text": [
      "continue\n"
     ]
    }
   ],
   "source": [
    "#this is assertion block which verifies the solution.\n",
    "\n",
    "try:\n",
    "    def verify_answer():\n",
    "        if dataset.empty: \n",
    "            return False\n",
    "        else:\n",
    "            return True\n",
    "\n",
    "    ref_assert_var = verify_answer()\n",
    "except Exception as e:\n",
    "    print('Your assertion block throws error: ' + str(e))\n",
    "else:\n",
    "    if ref_assert_var:\n",
    "        print('continue')\n",
    "    else:\n",
    "        print('The answer did not pass the test.')"
   ]
  },
  {
   "cell_type": "markdown",
   "metadata": {
    "tags": [
     "s2",
     "content"
    ]
   },
   "source": [
    "\n",
    "                \n",
    "### visualization\n",
    "            \n",
    "plot different features against _btc_market_price_ considering correlation values of market_price\n"
   ]
  },
  {
   "cell_type": "code",
   "execution_count": 68,
   "metadata": {
    "tags": [
     "s2",
     "ce"
    ]
   },
   "outputs": [
    {
     "data": {
      "text/html": [
       "<div>\n",
       "<table border=\"1\" class=\"dataframe\">\n",
       "  <thead>\n",
       "    <tr style=\"text-align: right;\">\n",
       "      <th></th>\n",
       "      <th>btc_market_price</th>\n",
       "      <th>btc_total_bitcoins</th>\n",
       "      <th>btc_market_cap</th>\n",
       "      <th>btc_trade_volume</th>\n",
       "      <th>btc_blocks_size</th>\n",
       "      <th>btc_avg_block_size</th>\n",
       "      <th>btc_n_orphaned_blocks</th>\n",
       "      <th>btc_n_transactions_per_block</th>\n",
       "      <th>btc_median_confirmation_time</th>\n",
       "      <th>btc_hash_rate</th>\n",
       "      <th>...</th>\n",
       "      <th>btc_cost_per_transaction_percent</th>\n",
       "      <th>btc_cost_per_transaction</th>\n",
       "      <th>btc_n_unique_addresses</th>\n",
       "      <th>btc_n_transactions</th>\n",
       "      <th>btc_n_transactions_total</th>\n",
       "      <th>btc_n_transactions_excluding_popular</th>\n",
       "      <th>btc_n_transactions_excluding_chains_longer_than_100</th>\n",
       "      <th>btc_output_volume</th>\n",
       "      <th>btc_estimated_transaction_volume</th>\n",
       "      <th>btc_estimated_transaction_volume_usd</th>\n",
       "    </tr>\n",
       "  </thead>\n",
       "  <tbody>\n",
       "    <tr>\n",
       "      <th>btc_market_price</th>\n",
       "      <td>1.000000</td>\n",
       "      <td>0.392474</td>\n",
       "      <td>0.999783</td>\n",
       "      <td>0.868813</td>\n",
       "      <td>0.674507</td>\n",
       "      <td>0.544033</td>\n",
       "      <td>-0.076400</td>\n",
       "      <td>0.544125</td>\n",
       "      <td>0.275250</td>\n",
       "      <td>0.920876</td>\n",
       "      <td>...</td>\n",
       "      <td>-0.013517</td>\n",
       "      <td>0.815507</td>\n",
       "      <td>0.663917</td>\n",
       "      <td>0.569603</td>\n",
       "      <td>0.680048</td>\n",
       "      <td>0.558416</td>\n",
       "      <td>0.567281</td>\n",
       "      <td>0.111734</td>\n",
       "      <td>0.050894</td>\n",
       "      <td>0.968308</td>\n",
       "    </tr>\n",
       "    <tr>\n",
       "      <th>btc_total_bitcoins</th>\n",
       "      <td>0.392474</td>\n",
       "      <td>1.000000</td>\n",
       "      <td>0.384568</td>\n",
       "      <td>0.285815</td>\n",
       "      <td>0.779705</td>\n",
       "      <td>0.851554</td>\n",
       "      <td>0.274925</td>\n",
       "      <td>0.831414</td>\n",
       "      <td>0.668119</td>\n",
       "      <td>0.488668</td>\n",
       "      <td>...</td>\n",
       "      <td>-0.079864</td>\n",
       "      <td>0.372758</td>\n",
       "      <td>0.820595</td>\n",
       "      <td>0.832865</td>\n",
       "      <td>0.782652</td>\n",
       "      <td>0.814721</td>\n",
       "      <td>0.800405</td>\n",
       "      <td>0.290952</td>\n",
       "      <td>0.211814</td>\n",
       "      <td>0.387920</td>\n",
       "    </tr>\n",
       "    <tr>\n",
       "      <th>btc_market_cap</th>\n",
       "      <td>0.999783</td>\n",
       "      <td>0.384568</td>\n",
       "      <td>1.000000</td>\n",
       "      <td>0.869316</td>\n",
       "      <td>0.672863</td>\n",
       "      <td>0.541310</td>\n",
       "      <td>-0.080742</td>\n",
       "      <td>0.541702</td>\n",
       "      <td>0.271929</td>\n",
       "      <td>0.922073</td>\n",
       "      <td>...</td>\n",
       "      <td>-0.012923</td>\n",
       "      <td>0.805645</td>\n",
       "      <td>0.660720</td>\n",
       "      <td>0.566857</td>\n",
       "      <td>0.678081</td>\n",
       "      <td>0.555674</td>\n",
       "      <td>0.564791</td>\n",
       "      <td>0.112410</td>\n",
       "      <td>0.051356</td>\n",
       "      <td>0.968533</td>\n",
       "    </tr>\n",
       "    <tr>\n",
       "      <th>btc_trade_volume</th>\n",
       "      <td>0.868813</td>\n",
       "      <td>0.285815</td>\n",
       "      <td>0.869316</td>\n",
       "      <td>1.000000</td>\n",
       "      <td>0.521061</td>\n",
       "      <td>0.416060</td>\n",
       "      <td>-0.068798</td>\n",
       "      <td>0.430265</td>\n",
       "      <td>0.216617</td>\n",
       "      <td>0.758304</td>\n",
       "      <td>...</td>\n",
       "      <td>-0.009456</td>\n",
       "      <td>0.691630</td>\n",
       "      <td>0.539430</td>\n",
       "      <td>0.453644</td>\n",
       "      <td>0.525484</td>\n",
       "      <td>0.441964</td>\n",
       "      <td>0.449660</td>\n",
       "      <td>0.097722</td>\n",
       "      <td>0.056079</td>\n",
       "      <td>0.896016</td>\n",
       "    </tr>\n",
       "    <tr>\n",
       "      <th>btc_blocks_size</th>\n",
       "      <td>0.674507</td>\n",
       "      <td>0.779705</td>\n",
       "      <td>0.672863</td>\n",
       "      <td>0.521061</td>\n",
       "      <td>1.000000</td>\n",
       "      <td>0.955978</td>\n",
       "      <td>0.050864</td>\n",
       "      <td>0.946702</td>\n",
       "      <td>0.511763</td>\n",
       "      <td>0.826119</td>\n",
       "      <td>...</td>\n",
       "      <td>-0.030112</td>\n",
       "      <td>0.443102</td>\n",
       "      <td>0.966650</td>\n",
       "      <td>0.950189</td>\n",
       "      <td>0.999785</td>\n",
       "      <td>0.951959</td>\n",
       "      <td>0.961206</td>\n",
       "      <td>0.251049</td>\n",
       "      <td>0.152055</td>\n",
       "      <td>0.672394</td>\n",
       "    </tr>\n",
       "    <tr>\n",
       "      <th>btc_avg_block_size</th>\n",
       "      <td>0.544033</td>\n",
       "      <td>0.851554</td>\n",
       "      <td>0.541310</td>\n",
       "      <td>0.416060</td>\n",
       "      <td>0.955978</td>\n",
       "      <td>1.000000</td>\n",
       "      <td>0.147514</td>\n",
       "      <td>0.977887</td>\n",
       "      <td>0.555426</td>\n",
       "      <td>0.687581</td>\n",
       "      <td>...</td>\n",
       "      <td>-0.036717</td>\n",
       "      <td>0.335611</td>\n",
       "      <td>0.967663</td>\n",
       "      <td>0.977940</td>\n",
       "      <td>0.954478</td>\n",
       "      <td>0.976108</td>\n",
       "      <td>0.969182</td>\n",
       "      <td>0.296547</td>\n",
       "      <td>0.191663</td>\n",
       "      <td>0.553090</td>\n",
       "    </tr>\n",
       "    <tr>\n",
       "      <th>btc_n_orphaned_blocks</th>\n",
       "      <td>-0.076400</td>\n",
       "      <td>0.274925</td>\n",
       "      <td>-0.080742</td>\n",
       "      <td>-0.068798</td>\n",
       "      <td>0.050864</td>\n",
       "      <td>0.147514</td>\n",
       "      <td>1.000000</td>\n",
       "      <td>0.114178</td>\n",
       "      <td>0.071636</td>\n",
       "      <td>-0.092103</td>\n",
       "      <td>...</td>\n",
       "      <td>-0.015803</td>\n",
       "      <td>0.009497</td>\n",
       "      <td>0.122447</td>\n",
       "      <td>0.108167</td>\n",
       "      <td>0.054493</td>\n",
       "      <td>0.115909</td>\n",
       "      <td>0.073792</td>\n",
       "      <td>-0.006275</td>\n",
       "      <td>0.018300</td>\n",
       "      <td>-0.080944</td>\n",
       "    </tr>\n",
       "    <tr>\n",
       "      <th>btc_n_transactions_per_block</th>\n",
       "      <td>0.544125</td>\n",
       "      <td>0.831414</td>\n",
       "      <td>0.541702</td>\n",
       "      <td>0.430265</td>\n",
       "      <td>0.946702</td>\n",
       "      <td>0.977887</td>\n",
       "      <td>0.114178</td>\n",
       "      <td>1.000000</td>\n",
       "      <td>0.560052</td>\n",
       "      <td>0.670598</td>\n",
       "      <td>...</td>\n",
       "      <td>-0.036007</td>\n",
       "      <td>0.318210</td>\n",
       "      <td>0.966663</td>\n",
       "      <td>0.980739</td>\n",
       "      <td>0.945276</td>\n",
       "      <td>0.976423</td>\n",
       "      <td>0.975156</td>\n",
       "      <td>0.298024</td>\n",
       "      <td>0.188603</td>\n",
       "      <td>0.563285</td>\n",
       "    </tr>\n",
       "    <tr>\n",
       "      <th>btc_median_confirmation_time</th>\n",
       "      <td>0.275250</td>\n",
       "      <td>0.668119</td>\n",
       "      <td>0.271929</td>\n",
       "      <td>0.216617</td>\n",
       "      <td>0.511763</td>\n",
       "      <td>0.555426</td>\n",
       "      <td>0.071636</td>\n",
       "      <td>0.560052</td>\n",
       "      <td>1.000000</td>\n",
       "      <td>0.346172</td>\n",
       "      <td>...</td>\n",
       "      <td>-0.055222</td>\n",
       "      <td>0.178982</td>\n",
       "      <td>0.514264</td>\n",
       "      <td>0.545911</td>\n",
       "      <td>0.513363</td>\n",
       "      <td>0.510871</td>\n",
       "      <td>0.535190</td>\n",
       "      <td>0.308597</td>\n",
       "      <td>0.217121</td>\n",
       "      <td>0.281442</td>\n",
       "    </tr>\n",
       "    <tr>\n",
       "      <th>btc_hash_rate</th>\n",
       "      <td>0.920876</td>\n",
       "      <td>0.488668</td>\n",
       "      <td>0.922073</td>\n",
       "      <td>0.758304</td>\n",
       "      <td>0.826119</td>\n",
       "      <td>0.687581</td>\n",
       "      <td>-0.092103</td>\n",
       "      <td>0.670598</td>\n",
       "      <td>0.346172</td>\n",
       "      <td>1.000000</td>\n",
       "      <td>...</td>\n",
       "      <td>-0.015868</td>\n",
       "      <td>0.695143</td>\n",
       "      <td>0.769263</td>\n",
       "      <td>0.699357</td>\n",
       "      <td>0.829537</td>\n",
       "      <td>0.692128</td>\n",
       "      <td>0.712023</td>\n",
       "      <td>0.161671</td>\n",
       "      <td>0.081981</td>\n",
       "      <td>0.887864</td>\n",
       "    </tr>\n",
       "    <tr>\n",
       "      <th>btc_difficulty</th>\n",
       "      <td>0.916937</td>\n",
       "      <td>0.497603</td>\n",
       "      <td>0.918065</td>\n",
       "      <td>0.754650</td>\n",
       "      <td>0.841630</td>\n",
       "      <td>0.704751</td>\n",
       "      <td>-0.092185</td>\n",
       "      <td>0.692416</td>\n",
       "      <td>0.368166</td>\n",
       "      <td>0.990243</td>\n",
       "      <td>...</td>\n",
       "      <td>-0.016129</td>\n",
       "      <td>0.687195</td>\n",
       "      <td>0.774720</td>\n",
       "      <td>0.704288</td>\n",
       "      <td>0.845000</td>\n",
       "      <td>0.697864</td>\n",
       "      <td>0.721135</td>\n",
       "      <td>0.161505</td>\n",
       "      <td>0.080909</td>\n",
       "      <td>0.880120</td>\n",
       "    </tr>\n",
       "    <tr>\n",
       "      <th>btc_miners_revenue</th>\n",
       "      <td>0.986732</td>\n",
       "      <td>0.383108</td>\n",
       "      <td>0.985417</td>\n",
       "      <td>0.875005</td>\n",
       "      <td>0.622620</td>\n",
       "      <td>0.505197</td>\n",
       "      <td>-0.052337</td>\n",
       "      <td>0.505025</td>\n",
       "      <td>0.248290</td>\n",
       "      <td>0.879517</td>\n",
       "      <td>...</td>\n",
       "      <td>-0.014251</td>\n",
       "      <td>0.846861</td>\n",
       "      <td>0.637500</td>\n",
       "      <td>0.540910</td>\n",
       "      <td>0.628991</td>\n",
       "      <td>0.529269</td>\n",
       "      <td>0.527986</td>\n",
       "      <td>0.103344</td>\n",
       "      <td>0.047411</td>\n",
       "      <td>0.959096</td>\n",
       "    </tr>\n",
       "    <tr>\n",
       "      <th>btc_transaction_fees</th>\n",
       "      <td>0.806595</td>\n",
       "      <td>0.472122</td>\n",
       "      <td>0.807109</td>\n",
       "      <td>0.733812</td>\n",
       "      <td>0.745205</td>\n",
       "      <td>0.654309</td>\n",
       "      <td>-0.095724</td>\n",
       "      <td>0.672839</td>\n",
       "      <td>0.416289</td>\n",
       "      <td>0.808587</td>\n",
       "      <td>...</td>\n",
       "      <td>-0.019066</td>\n",
       "      <td>0.589450</td>\n",
       "      <td>0.734182</td>\n",
       "      <td>0.686602</td>\n",
       "      <td>0.750664</td>\n",
       "      <td>0.672196</td>\n",
       "      <td>0.692976</td>\n",
       "      <td>0.182745</td>\n",
       "      <td>0.107300</td>\n",
       "      <td>0.818912</td>\n",
       "    </tr>\n",
       "    <tr>\n",
       "      <th>btc_cost_per_transaction_percent</th>\n",
       "      <td>-0.013517</td>\n",
       "      <td>-0.079864</td>\n",
       "      <td>-0.012923</td>\n",
       "      <td>-0.009456</td>\n",
       "      <td>-0.030112</td>\n",
       "      <td>-0.036717</td>\n",
       "      <td>-0.015803</td>\n",
       "      <td>-0.036007</td>\n",
       "      <td>-0.055222</td>\n",
       "      <td>-0.015868</td>\n",
       "      <td>...</td>\n",
       "      <td>1.000000</td>\n",
       "      <td>-0.025573</td>\n",
       "      <td>-0.034307</td>\n",
       "      <td>-0.036311</td>\n",
       "      <td>-0.030633</td>\n",
       "      <td>-0.033570</td>\n",
       "      <td>-0.033477</td>\n",
       "      <td>-0.024984</td>\n",
       "      <td>-0.027676</td>\n",
       "      <td>-0.013007</td>\n",
       "    </tr>\n",
       "    <tr>\n",
       "      <th>btc_cost_per_transaction</th>\n",
       "      <td>0.815507</td>\n",
       "      <td>0.372758</td>\n",
       "      <td>0.805645</td>\n",
       "      <td>0.691630</td>\n",
       "      <td>0.443102</td>\n",
       "      <td>0.335611</td>\n",
       "      <td>0.009497</td>\n",
       "      <td>0.318210</td>\n",
       "      <td>0.178982</td>\n",
       "      <td>0.695143</td>\n",
       "      <td>...</td>\n",
       "      <td>-0.025573</td>\n",
       "      <td>1.000000</td>\n",
       "      <td>0.455411</td>\n",
       "      <td>0.347909</td>\n",
       "      <td>0.457079</td>\n",
       "      <td>0.341980</td>\n",
       "      <td>0.341821</td>\n",
       "      <td>0.007864</td>\n",
       "      <td>-0.017705</td>\n",
       "      <td>0.749755</td>\n",
       "    </tr>\n",
       "    <tr>\n",
       "      <th>btc_n_unique_addresses</th>\n",
       "      <td>0.663917</td>\n",
       "      <td>0.820595</td>\n",
       "      <td>0.660720</td>\n",
       "      <td>0.539430</td>\n",
       "      <td>0.966650</td>\n",
       "      <td>0.967663</td>\n",
       "      <td>0.122447</td>\n",
       "      <td>0.966663</td>\n",
       "      <td>0.514264</td>\n",
       "      <td>0.769263</td>\n",
       "      <td>...</td>\n",
       "      <td>-0.034307</td>\n",
       "      <td>0.455411</td>\n",
       "      <td>1.000000</td>\n",
       "      <td>0.982476</td>\n",
       "      <td>0.966566</td>\n",
       "      <td>0.981633</td>\n",
       "      <td>0.973294</td>\n",
       "      <td>0.285832</td>\n",
       "      <td>0.176977</td>\n",
       "      <td>0.680165</td>\n",
       "    </tr>\n",
       "    <tr>\n",
       "      <th>btc_n_transactions</th>\n",
       "      <td>0.569603</td>\n",
       "      <td>0.832865</td>\n",
       "      <td>0.566857</td>\n",
       "      <td>0.453644</td>\n",
       "      <td>0.950189</td>\n",
       "      <td>0.977940</td>\n",
       "      <td>0.108167</td>\n",
       "      <td>0.980739</td>\n",
       "      <td>0.545911</td>\n",
       "      <td>0.699357</td>\n",
       "      <td>...</td>\n",
       "      <td>-0.036311</td>\n",
       "      <td>0.347909</td>\n",
       "      <td>0.982476</td>\n",
       "      <td>1.000000</td>\n",
       "      <td>0.949288</td>\n",
       "      <td>0.993104</td>\n",
       "      <td>0.989130</td>\n",
       "      <td>0.310919</td>\n",
       "      <td>0.196424</td>\n",
       "      <td>0.592951</td>\n",
       "    </tr>\n",
       "    <tr>\n",
       "      <th>btc_n_transactions_total</th>\n",
       "      <td>0.680048</td>\n",
       "      <td>0.782652</td>\n",
       "      <td>0.678081</td>\n",
       "      <td>0.525484</td>\n",
       "      <td>0.999785</td>\n",
       "      <td>0.954478</td>\n",
       "      <td>0.054493</td>\n",
       "      <td>0.945276</td>\n",
       "      <td>0.513363</td>\n",
       "      <td>0.829537</td>\n",
       "      <td>...</td>\n",
       "      <td>-0.030633</td>\n",
       "      <td>0.457079</td>\n",
       "      <td>0.966566</td>\n",
       "      <td>0.949288</td>\n",
       "      <td>1.000000</td>\n",
       "      <td>0.950284</td>\n",
       "      <td>0.960248</td>\n",
       "      <td>0.250692</td>\n",
       "      <td>0.153575</td>\n",
       "      <td>0.677116</td>\n",
       "    </tr>\n",
       "    <tr>\n",
       "      <th>btc_n_transactions_excluding_popular</th>\n",
       "      <td>0.558416</td>\n",
       "      <td>0.814721</td>\n",
       "      <td>0.555674</td>\n",
       "      <td>0.441964</td>\n",
       "      <td>0.951959</td>\n",
       "      <td>0.976108</td>\n",
       "      <td>0.115909</td>\n",
       "      <td>0.976423</td>\n",
       "      <td>0.510871</td>\n",
       "      <td>0.692128</td>\n",
       "      <td>...</td>\n",
       "      <td>-0.033570</td>\n",
       "      <td>0.341980</td>\n",
       "      <td>0.981633</td>\n",
       "      <td>0.993104</td>\n",
       "      <td>0.950284</td>\n",
       "      <td>1.000000</td>\n",
       "      <td>0.987174</td>\n",
       "      <td>0.295304</td>\n",
       "      <td>0.189311</td>\n",
       "      <td>0.581216</td>\n",
       "    </tr>\n",
       "    <tr>\n",
       "      <th>btc_n_transactions_excluding_chains_longer_than_100</th>\n",
       "      <td>0.567281</td>\n",
       "      <td>0.800405</td>\n",
       "      <td>0.564791</td>\n",
       "      <td>0.449660</td>\n",
       "      <td>0.961206</td>\n",
       "      <td>0.969182</td>\n",
       "      <td>0.073792</td>\n",
       "      <td>0.975156</td>\n",
       "      <td>0.535190</td>\n",
       "      <td>0.712023</td>\n",
       "      <td>...</td>\n",
       "      <td>-0.033477</td>\n",
       "      <td>0.341821</td>\n",
       "      <td>0.973294</td>\n",
       "      <td>0.989130</td>\n",
       "      <td>0.960248</td>\n",
       "      <td>0.987174</td>\n",
       "      <td>1.000000</td>\n",
       "      <td>0.281456</td>\n",
       "      <td>0.185757</td>\n",
       "      <td>0.588318</td>\n",
       "    </tr>\n",
       "    <tr>\n",
       "      <th>btc_output_volume</th>\n",
       "      <td>0.111734</td>\n",
       "      <td>0.290952</td>\n",
       "      <td>0.112410</td>\n",
       "      <td>0.097722</td>\n",
       "      <td>0.251049</td>\n",
       "      <td>0.296547</td>\n",
       "      <td>-0.006275</td>\n",
       "      <td>0.298024</td>\n",
       "      <td>0.308597</td>\n",
       "      <td>0.161671</td>\n",
       "      <td>...</td>\n",
       "      <td>-0.024984</td>\n",
       "      <td>0.007864</td>\n",
       "      <td>0.285832</td>\n",
       "      <td>0.310919</td>\n",
       "      <td>0.250692</td>\n",
       "      <td>0.295304</td>\n",
       "      <td>0.281456</td>\n",
       "      <td>1.000000</td>\n",
       "      <td>0.272328</td>\n",
       "      <td>0.139596</td>\n",
       "    </tr>\n",
       "    <tr>\n",
       "      <th>btc_estimated_transaction_volume</th>\n",
       "      <td>0.050894</td>\n",
       "      <td>0.211814</td>\n",
       "      <td>0.051356</td>\n",
       "      <td>0.056079</td>\n",
       "      <td>0.152055</td>\n",
       "      <td>0.191663</td>\n",
       "      <td>0.018300</td>\n",
       "      <td>0.188603</td>\n",
       "      <td>0.217121</td>\n",
       "      <td>0.081981</td>\n",
       "      <td>...</td>\n",
       "      <td>-0.027676</td>\n",
       "      <td>-0.017705</td>\n",
       "      <td>0.176977</td>\n",
       "      <td>0.196424</td>\n",
       "      <td>0.153575</td>\n",
       "      <td>0.189311</td>\n",
       "      <td>0.185757</td>\n",
       "      <td>0.272328</td>\n",
       "      <td>1.000000</td>\n",
       "      <td>0.086823</td>\n",
       "    </tr>\n",
       "    <tr>\n",
       "      <th>btc_estimated_transaction_volume_usd</th>\n",
       "      <td>0.968308</td>\n",
       "      <td>0.387920</td>\n",
       "      <td>0.968533</td>\n",
       "      <td>0.896016</td>\n",
       "      <td>0.672394</td>\n",
       "      <td>0.553090</td>\n",
       "      <td>-0.080944</td>\n",
       "      <td>0.563285</td>\n",
       "      <td>0.281442</td>\n",
       "      <td>0.887864</td>\n",
       "      <td>...</td>\n",
       "      <td>-0.013007</td>\n",
       "      <td>0.749755</td>\n",
       "      <td>0.680165</td>\n",
       "      <td>0.592951</td>\n",
       "      <td>0.677116</td>\n",
       "      <td>0.581216</td>\n",
       "      <td>0.588318</td>\n",
       "      <td>0.139596</td>\n",
       "      <td>0.086823</td>\n",
       "      <td>1.000000</td>\n",
       "    </tr>\n",
       "  </tbody>\n",
       "</table>\n",
       "<p>23 rows × 23 columns</p>\n",
       "</div>"
      ],
      "text/plain": [
       "                                                    btc_market_price  \\\n",
       "btc_market_price                                            1.000000   \n",
       "btc_total_bitcoins                                          0.392474   \n",
       "btc_market_cap                                              0.999783   \n",
       "btc_trade_volume                                            0.868813   \n",
       "btc_blocks_size                                             0.674507   \n",
       "btc_avg_block_size                                          0.544033   \n",
       "btc_n_orphaned_blocks                                      -0.076400   \n",
       "btc_n_transactions_per_block                                0.544125   \n",
       "btc_median_confirmation_time                                0.275250   \n",
       "btc_hash_rate                                               0.920876   \n",
       "btc_difficulty                                              0.916937   \n",
       "btc_miners_revenue                                          0.986732   \n",
       "btc_transaction_fees                                        0.806595   \n",
       "btc_cost_per_transaction_percent                           -0.013517   \n",
       "btc_cost_per_transaction                                    0.815507   \n",
       "btc_n_unique_addresses                                      0.663917   \n",
       "btc_n_transactions                                          0.569603   \n",
       "btc_n_transactions_total                                    0.680048   \n",
       "btc_n_transactions_excluding_popular                        0.558416   \n",
       "btc_n_transactions_excluding_chains_longer_than...          0.567281   \n",
       "btc_output_volume                                           0.111734   \n",
       "btc_estimated_transaction_volume                            0.050894   \n",
       "btc_estimated_transaction_volume_usd                        0.968308   \n",
       "\n",
       "                                                    btc_total_bitcoins  \\\n",
       "btc_market_price                                              0.392474   \n",
       "btc_total_bitcoins                                            1.000000   \n",
       "btc_market_cap                                                0.384568   \n",
       "btc_trade_volume                                              0.285815   \n",
       "btc_blocks_size                                               0.779705   \n",
       "btc_avg_block_size                                            0.851554   \n",
       "btc_n_orphaned_blocks                                         0.274925   \n",
       "btc_n_transactions_per_block                                  0.831414   \n",
       "btc_median_confirmation_time                                  0.668119   \n",
       "btc_hash_rate                                                 0.488668   \n",
       "btc_difficulty                                                0.497603   \n",
       "btc_miners_revenue                                            0.383108   \n",
       "btc_transaction_fees                                          0.472122   \n",
       "btc_cost_per_transaction_percent                             -0.079864   \n",
       "btc_cost_per_transaction                                      0.372758   \n",
       "btc_n_unique_addresses                                        0.820595   \n",
       "btc_n_transactions                                            0.832865   \n",
       "btc_n_transactions_total                                      0.782652   \n",
       "btc_n_transactions_excluding_popular                          0.814721   \n",
       "btc_n_transactions_excluding_chains_longer_than...            0.800405   \n",
       "btc_output_volume                                             0.290952   \n",
       "btc_estimated_transaction_volume                              0.211814   \n",
       "btc_estimated_transaction_volume_usd                          0.387920   \n",
       "\n",
       "                                                    btc_market_cap  \\\n",
       "btc_market_price                                          0.999783   \n",
       "btc_total_bitcoins                                        0.384568   \n",
       "btc_market_cap                                            1.000000   \n",
       "btc_trade_volume                                          0.869316   \n",
       "btc_blocks_size                                           0.672863   \n",
       "btc_avg_block_size                                        0.541310   \n",
       "btc_n_orphaned_blocks                                    -0.080742   \n",
       "btc_n_transactions_per_block                              0.541702   \n",
       "btc_median_confirmation_time                              0.271929   \n",
       "btc_hash_rate                                             0.922073   \n",
       "btc_difficulty                                            0.918065   \n",
       "btc_miners_revenue                                        0.985417   \n",
       "btc_transaction_fees                                      0.807109   \n",
       "btc_cost_per_transaction_percent                         -0.012923   \n",
       "btc_cost_per_transaction                                  0.805645   \n",
       "btc_n_unique_addresses                                    0.660720   \n",
       "btc_n_transactions                                        0.566857   \n",
       "btc_n_transactions_total                                  0.678081   \n",
       "btc_n_transactions_excluding_popular                      0.555674   \n",
       "btc_n_transactions_excluding_chains_longer_than...        0.564791   \n",
       "btc_output_volume                                         0.112410   \n",
       "btc_estimated_transaction_volume                          0.051356   \n",
       "btc_estimated_transaction_volume_usd                      0.968533   \n",
       "\n",
       "                                                    btc_trade_volume  \\\n",
       "btc_market_price                                            0.868813   \n",
       "btc_total_bitcoins                                          0.285815   \n",
       "btc_market_cap                                              0.869316   \n",
       "btc_trade_volume                                            1.000000   \n",
       "btc_blocks_size                                             0.521061   \n",
       "btc_avg_block_size                                          0.416060   \n",
       "btc_n_orphaned_blocks                                      -0.068798   \n",
       "btc_n_transactions_per_block                                0.430265   \n",
       "btc_median_confirmation_time                                0.216617   \n",
       "btc_hash_rate                                               0.758304   \n",
       "btc_difficulty                                              0.754650   \n",
       "btc_miners_revenue                                          0.875005   \n",
       "btc_transaction_fees                                        0.733812   \n",
       "btc_cost_per_transaction_percent                           -0.009456   \n",
       "btc_cost_per_transaction                                    0.691630   \n",
       "btc_n_unique_addresses                                      0.539430   \n",
       "btc_n_transactions                                          0.453644   \n",
       "btc_n_transactions_total                                    0.525484   \n",
       "btc_n_transactions_excluding_popular                        0.441964   \n",
       "btc_n_transactions_excluding_chains_longer_than...          0.449660   \n",
       "btc_output_volume                                           0.097722   \n",
       "btc_estimated_transaction_volume                            0.056079   \n",
       "btc_estimated_transaction_volume_usd                        0.896016   \n",
       "\n",
       "                                                    btc_blocks_size  \\\n",
       "btc_market_price                                           0.674507   \n",
       "btc_total_bitcoins                                         0.779705   \n",
       "btc_market_cap                                             0.672863   \n",
       "btc_trade_volume                                           0.521061   \n",
       "btc_blocks_size                                            1.000000   \n",
       "btc_avg_block_size                                         0.955978   \n",
       "btc_n_orphaned_blocks                                      0.050864   \n",
       "btc_n_transactions_per_block                               0.946702   \n",
       "btc_median_confirmation_time                               0.511763   \n",
       "btc_hash_rate                                              0.826119   \n",
       "btc_difficulty                                             0.841630   \n",
       "btc_miners_revenue                                         0.622620   \n",
       "btc_transaction_fees                                       0.745205   \n",
       "btc_cost_per_transaction_percent                          -0.030112   \n",
       "btc_cost_per_transaction                                   0.443102   \n",
       "btc_n_unique_addresses                                     0.966650   \n",
       "btc_n_transactions                                         0.950189   \n",
       "btc_n_transactions_total                                   0.999785   \n",
       "btc_n_transactions_excluding_popular                       0.951959   \n",
       "btc_n_transactions_excluding_chains_longer_than...         0.961206   \n",
       "btc_output_volume                                          0.251049   \n",
       "btc_estimated_transaction_volume                           0.152055   \n",
       "btc_estimated_transaction_volume_usd                       0.672394   \n",
       "\n",
       "                                                    btc_avg_block_size  \\\n",
       "btc_market_price                                              0.544033   \n",
       "btc_total_bitcoins                                            0.851554   \n",
       "btc_market_cap                                                0.541310   \n",
       "btc_trade_volume                                              0.416060   \n",
       "btc_blocks_size                                               0.955978   \n",
       "btc_avg_block_size                                            1.000000   \n",
       "btc_n_orphaned_blocks                                         0.147514   \n",
       "btc_n_transactions_per_block                                  0.977887   \n",
       "btc_median_confirmation_time                                  0.555426   \n",
       "btc_hash_rate                                                 0.687581   \n",
       "btc_difficulty                                                0.704751   \n",
       "btc_miners_revenue                                            0.505197   \n",
       "btc_transaction_fees                                          0.654309   \n",
       "btc_cost_per_transaction_percent                             -0.036717   \n",
       "btc_cost_per_transaction                                      0.335611   \n",
       "btc_n_unique_addresses                                        0.967663   \n",
       "btc_n_transactions                                            0.977940   \n",
       "btc_n_transactions_total                                      0.954478   \n",
       "btc_n_transactions_excluding_popular                          0.976108   \n",
       "btc_n_transactions_excluding_chains_longer_than...            0.969182   \n",
       "btc_output_volume                                             0.296547   \n",
       "btc_estimated_transaction_volume                              0.191663   \n",
       "btc_estimated_transaction_volume_usd                          0.553090   \n",
       "\n",
       "                                                    btc_n_orphaned_blocks  \\\n",
       "btc_market_price                                                -0.076400   \n",
       "btc_total_bitcoins                                               0.274925   \n",
       "btc_market_cap                                                  -0.080742   \n",
       "btc_trade_volume                                                -0.068798   \n",
       "btc_blocks_size                                                  0.050864   \n",
       "btc_avg_block_size                                               0.147514   \n",
       "btc_n_orphaned_blocks                                            1.000000   \n",
       "btc_n_transactions_per_block                                     0.114178   \n",
       "btc_median_confirmation_time                                     0.071636   \n",
       "btc_hash_rate                                                   -0.092103   \n",
       "btc_difficulty                                                  -0.092185   \n",
       "btc_miners_revenue                                              -0.052337   \n",
       "btc_transaction_fees                                            -0.095724   \n",
       "btc_cost_per_transaction_percent                                -0.015803   \n",
       "btc_cost_per_transaction                                         0.009497   \n",
       "btc_n_unique_addresses                                           0.122447   \n",
       "btc_n_transactions                                               0.108167   \n",
       "btc_n_transactions_total                                         0.054493   \n",
       "btc_n_transactions_excluding_popular                             0.115909   \n",
       "btc_n_transactions_excluding_chains_longer_than...               0.073792   \n",
       "btc_output_volume                                               -0.006275   \n",
       "btc_estimated_transaction_volume                                 0.018300   \n",
       "btc_estimated_transaction_volume_usd                            -0.080944   \n",
       "\n",
       "                                                    btc_n_transactions_per_block  \\\n",
       "btc_market_price                                                        0.544125   \n",
       "btc_total_bitcoins                                                      0.831414   \n",
       "btc_market_cap                                                          0.541702   \n",
       "btc_trade_volume                                                        0.430265   \n",
       "btc_blocks_size                                                         0.946702   \n",
       "btc_avg_block_size                                                      0.977887   \n",
       "btc_n_orphaned_blocks                                                   0.114178   \n",
       "btc_n_transactions_per_block                                            1.000000   \n",
       "btc_median_confirmation_time                                            0.560052   \n",
       "btc_hash_rate                                                           0.670598   \n",
       "btc_difficulty                                                          0.692416   \n",
       "btc_miners_revenue                                                      0.505025   \n",
       "btc_transaction_fees                                                    0.672839   \n",
       "btc_cost_per_transaction_percent                                       -0.036007   \n",
       "btc_cost_per_transaction                                                0.318210   \n",
       "btc_n_unique_addresses                                                  0.966663   \n",
       "btc_n_transactions                                                      0.980739   \n",
       "btc_n_transactions_total                                                0.945276   \n",
       "btc_n_transactions_excluding_popular                                    0.976423   \n",
       "btc_n_transactions_excluding_chains_longer_than...                      0.975156   \n",
       "btc_output_volume                                                       0.298024   \n",
       "btc_estimated_transaction_volume                                        0.188603   \n",
       "btc_estimated_transaction_volume_usd                                    0.563285   \n",
       "\n",
       "                                                    btc_median_confirmation_time  \\\n",
       "btc_market_price                                                        0.275250   \n",
       "btc_total_bitcoins                                                      0.668119   \n",
       "btc_market_cap                                                          0.271929   \n",
       "btc_trade_volume                                                        0.216617   \n",
       "btc_blocks_size                                                         0.511763   \n",
       "btc_avg_block_size                                                      0.555426   \n",
       "btc_n_orphaned_blocks                                                   0.071636   \n",
       "btc_n_transactions_per_block                                            0.560052   \n",
       "btc_median_confirmation_time                                            1.000000   \n",
       "btc_hash_rate                                                           0.346172   \n",
       "btc_difficulty                                                          0.368166   \n",
       "btc_miners_revenue                                                      0.248290   \n",
       "btc_transaction_fees                                                    0.416289   \n",
       "btc_cost_per_transaction_percent                                       -0.055222   \n",
       "btc_cost_per_transaction                                                0.178982   \n",
       "btc_n_unique_addresses                                                  0.514264   \n",
       "btc_n_transactions                                                      0.545911   \n",
       "btc_n_transactions_total                                                0.513363   \n",
       "btc_n_transactions_excluding_popular                                    0.510871   \n",
       "btc_n_transactions_excluding_chains_longer_than...                      0.535190   \n",
       "btc_output_volume                                                       0.308597   \n",
       "btc_estimated_transaction_volume                                        0.217121   \n",
       "btc_estimated_transaction_volume_usd                                    0.281442   \n",
       "\n",
       "                                                    btc_hash_rate  \\\n",
       "btc_market_price                                         0.920876   \n",
       "btc_total_bitcoins                                       0.488668   \n",
       "btc_market_cap                                           0.922073   \n",
       "btc_trade_volume                                         0.758304   \n",
       "btc_blocks_size                                          0.826119   \n",
       "btc_avg_block_size                                       0.687581   \n",
       "btc_n_orphaned_blocks                                   -0.092103   \n",
       "btc_n_transactions_per_block                             0.670598   \n",
       "btc_median_confirmation_time                             0.346172   \n",
       "btc_hash_rate                                            1.000000   \n",
       "btc_difficulty                                           0.990243   \n",
       "btc_miners_revenue                                       0.879517   \n",
       "btc_transaction_fees                                     0.808587   \n",
       "btc_cost_per_transaction_percent                        -0.015868   \n",
       "btc_cost_per_transaction                                 0.695143   \n",
       "btc_n_unique_addresses                                   0.769263   \n",
       "btc_n_transactions                                       0.699357   \n",
       "btc_n_transactions_total                                 0.829537   \n",
       "btc_n_transactions_excluding_popular                     0.692128   \n",
       "btc_n_transactions_excluding_chains_longer_than...       0.712023   \n",
       "btc_output_volume                                        0.161671   \n",
       "btc_estimated_transaction_volume                         0.081981   \n",
       "btc_estimated_transaction_volume_usd                     0.887864   \n",
       "\n",
       "                                                                    ...                   \\\n",
       "btc_market_price                                                    ...                    \n",
       "btc_total_bitcoins                                                  ...                    \n",
       "btc_market_cap                                                      ...                    \n",
       "btc_trade_volume                                                    ...                    \n",
       "btc_blocks_size                                                     ...                    \n",
       "btc_avg_block_size                                                  ...                    \n",
       "btc_n_orphaned_blocks                                               ...                    \n",
       "btc_n_transactions_per_block                                        ...                    \n",
       "btc_median_confirmation_time                                        ...                    \n",
       "btc_hash_rate                                                       ...                    \n",
       "btc_difficulty                                                      ...                    \n",
       "btc_miners_revenue                                                  ...                    \n",
       "btc_transaction_fees                                                ...                    \n",
       "btc_cost_per_transaction_percent                                    ...                    \n",
       "btc_cost_per_transaction                                            ...                    \n",
       "btc_n_unique_addresses                                              ...                    \n",
       "btc_n_transactions                                                  ...                    \n",
       "btc_n_transactions_total                                            ...                    \n",
       "btc_n_transactions_excluding_popular                                ...                    \n",
       "btc_n_transactions_excluding_chains_longer_than...                  ...                    \n",
       "btc_output_volume                                                   ...                    \n",
       "btc_estimated_transaction_volume                                    ...                    \n",
       "btc_estimated_transaction_volume_usd                                ...                    \n",
       "\n",
       "                                                    btc_cost_per_transaction_percent  \\\n",
       "btc_market_price                                                           -0.013517   \n",
       "btc_total_bitcoins                                                         -0.079864   \n",
       "btc_market_cap                                                             -0.012923   \n",
       "btc_trade_volume                                                           -0.009456   \n",
       "btc_blocks_size                                                            -0.030112   \n",
       "btc_avg_block_size                                                         -0.036717   \n",
       "btc_n_orphaned_blocks                                                      -0.015803   \n",
       "btc_n_transactions_per_block                                               -0.036007   \n",
       "btc_median_confirmation_time                                               -0.055222   \n",
       "btc_hash_rate                                                              -0.015868   \n",
       "btc_difficulty                                                             -0.016129   \n",
       "btc_miners_revenue                                                         -0.014251   \n",
       "btc_transaction_fees                                                       -0.019066   \n",
       "btc_cost_per_transaction_percent                                            1.000000   \n",
       "btc_cost_per_transaction                                                   -0.025573   \n",
       "btc_n_unique_addresses                                                     -0.034307   \n",
       "btc_n_transactions                                                         -0.036311   \n",
       "btc_n_transactions_total                                                   -0.030633   \n",
       "btc_n_transactions_excluding_popular                                       -0.033570   \n",
       "btc_n_transactions_excluding_chains_longer_than...                         -0.033477   \n",
       "btc_output_volume                                                          -0.024984   \n",
       "btc_estimated_transaction_volume                                           -0.027676   \n",
       "btc_estimated_transaction_volume_usd                                       -0.013007   \n",
       "\n",
       "                                                    btc_cost_per_transaction  \\\n",
       "btc_market_price                                                    0.815507   \n",
       "btc_total_bitcoins                                                  0.372758   \n",
       "btc_market_cap                                                      0.805645   \n",
       "btc_trade_volume                                                    0.691630   \n",
       "btc_blocks_size                                                     0.443102   \n",
       "btc_avg_block_size                                                  0.335611   \n",
       "btc_n_orphaned_blocks                                               0.009497   \n",
       "btc_n_transactions_per_block                                        0.318210   \n",
       "btc_median_confirmation_time                                        0.178982   \n",
       "btc_hash_rate                                                       0.695143   \n",
       "btc_difficulty                                                      0.687195   \n",
       "btc_miners_revenue                                                  0.846861   \n",
       "btc_transaction_fees                                                0.589450   \n",
       "btc_cost_per_transaction_percent                                   -0.025573   \n",
       "btc_cost_per_transaction                                            1.000000   \n",
       "btc_n_unique_addresses                                              0.455411   \n",
       "btc_n_transactions                                                  0.347909   \n",
       "btc_n_transactions_total                                            0.457079   \n",
       "btc_n_transactions_excluding_popular                                0.341980   \n",
       "btc_n_transactions_excluding_chains_longer_than...                  0.341821   \n",
       "btc_output_volume                                                   0.007864   \n",
       "btc_estimated_transaction_volume                                   -0.017705   \n",
       "btc_estimated_transaction_volume_usd                                0.749755   \n",
       "\n",
       "                                                    btc_n_unique_addresses  \\\n",
       "btc_market_price                                                  0.663917   \n",
       "btc_total_bitcoins                                                0.820595   \n",
       "btc_market_cap                                                    0.660720   \n",
       "btc_trade_volume                                                  0.539430   \n",
       "btc_blocks_size                                                   0.966650   \n",
       "btc_avg_block_size                                                0.967663   \n",
       "btc_n_orphaned_blocks                                             0.122447   \n",
       "btc_n_transactions_per_block                                      0.966663   \n",
       "btc_median_confirmation_time                                      0.514264   \n",
       "btc_hash_rate                                                     0.769263   \n",
       "btc_difficulty                                                    0.774720   \n",
       "btc_miners_revenue                                                0.637500   \n",
       "btc_transaction_fees                                              0.734182   \n",
       "btc_cost_per_transaction_percent                                 -0.034307   \n",
       "btc_cost_per_transaction                                          0.455411   \n",
       "btc_n_unique_addresses                                            1.000000   \n",
       "btc_n_transactions                                                0.982476   \n",
       "btc_n_transactions_total                                          0.966566   \n",
       "btc_n_transactions_excluding_popular                              0.981633   \n",
       "btc_n_transactions_excluding_chains_longer_than...                0.973294   \n",
       "btc_output_volume                                                 0.285832   \n",
       "btc_estimated_transaction_volume                                  0.176977   \n",
       "btc_estimated_transaction_volume_usd                              0.680165   \n",
       "\n",
       "                                                    btc_n_transactions  \\\n",
       "btc_market_price                                              0.569603   \n",
       "btc_total_bitcoins                                            0.832865   \n",
       "btc_market_cap                                                0.566857   \n",
       "btc_trade_volume                                              0.453644   \n",
       "btc_blocks_size                                               0.950189   \n",
       "btc_avg_block_size                                            0.977940   \n",
       "btc_n_orphaned_blocks                                         0.108167   \n",
       "btc_n_transactions_per_block                                  0.980739   \n",
       "btc_median_confirmation_time                                  0.545911   \n",
       "btc_hash_rate                                                 0.699357   \n",
       "btc_difficulty                                                0.704288   \n",
       "btc_miners_revenue                                            0.540910   \n",
       "btc_transaction_fees                                          0.686602   \n",
       "btc_cost_per_transaction_percent                             -0.036311   \n",
       "btc_cost_per_transaction                                      0.347909   \n",
       "btc_n_unique_addresses                                        0.982476   \n",
       "btc_n_transactions                                            1.000000   \n",
       "btc_n_transactions_total                                      0.949288   \n",
       "btc_n_transactions_excluding_popular                          0.993104   \n",
       "btc_n_transactions_excluding_chains_longer_than...            0.989130   \n",
       "btc_output_volume                                             0.310919   \n",
       "btc_estimated_transaction_volume                              0.196424   \n",
       "btc_estimated_transaction_volume_usd                          0.592951   \n",
       "\n",
       "                                                    btc_n_transactions_total  \\\n",
       "btc_market_price                                                    0.680048   \n",
       "btc_total_bitcoins                                                  0.782652   \n",
       "btc_market_cap                                                      0.678081   \n",
       "btc_trade_volume                                                    0.525484   \n",
       "btc_blocks_size                                                     0.999785   \n",
       "btc_avg_block_size                                                  0.954478   \n",
       "btc_n_orphaned_blocks                                               0.054493   \n",
       "btc_n_transactions_per_block                                        0.945276   \n",
       "btc_median_confirmation_time                                        0.513363   \n",
       "btc_hash_rate                                                       0.829537   \n",
       "btc_difficulty                                                      0.845000   \n",
       "btc_miners_revenue                                                  0.628991   \n",
       "btc_transaction_fees                                                0.750664   \n",
       "btc_cost_per_transaction_percent                                   -0.030633   \n",
       "btc_cost_per_transaction                                            0.457079   \n",
       "btc_n_unique_addresses                                              0.966566   \n",
       "btc_n_transactions                                                  0.949288   \n",
       "btc_n_transactions_total                                            1.000000   \n",
       "btc_n_transactions_excluding_popular                                0.950284   \n",
       "btc_n_transactions_excluding_chains_longer_than...                  0.960248   \n",
       "btc_output_volume                                                   0.250692   \n",
       "btc_estimated_transaction_volume                                    0.153575   \n",
       "btc_estimated_transaction_volume_usd                                0.677116   \n",
       "\n",
       "                                                    btc_n_transactions_excluding_popular  \\\n",
       "btc_market_price                                                                0.558416   \n",
       "btc_total_bitcoins                                                              0.814721   \n",
       "btc_market_cap                                                                  0.555674   \n",
       "btc_trade_volume                                                                0.441964   \n",
       "btc_blocks_size                                                                 0.951959   \n",
       "btc_avg_block_size                                                              0.976108   \n",
       "btc_n_orphaned_blocks                                                           0.115909   \n",
       "btc_n_transactions_per_block                                                    0.976423   \n",
       "btc_median_confirmation_time                                                    0.510871   \n",
       "btc_hash_rate                                                                   0.692128   \n",
       "btc_difficulty                                                                  0.697864   \n",
       "btc_miners_revenue                                                              0.529269   \n",
       "btc_transaction_fees                                                            0.672196   \n",
       "btc_cost_per_transaction_percent                                               -0.033570   \n",
       "btc_cost_per_transaction                                                        0.341980   \n",
       "btc_n_unique_addresses                                                          0.981633   \n",
       "btc_n_transactions                                                              0.993104   \n",
       "btc_n_transactions_total                                                        0.950284   \n",
       "btc_n_transactions_excluding_popular                                            1.000000   \n",
       "btc_n_transactions_excluding_chains_longer_than...                              0.987174   \n",
       "btc_output_volume                                                               0.295304   \n",
       "btc_estimated_transaction_volume                                                0.189311   \n",
       "btc_estimated_transaction_volume_usd                                            0.581216   \n",
       "\n",
       "                                                    btc_n_transactions_excluding_chains_longer_than_100  \\\n",
       "btc_market_price                                                                             0.567281     \n",
       "btc_total_bitcoins                                                                           0.800405     \n",
       "btc_market_cap                                                                               0.564791     \n",
       "btc_trade_volume                                                                             0.449660     \n",
       "btc_blocks_size                                                                              0.961206     \n",
       "btc_avg_block_size                                                                           0.969182     \n",
       "btc_n_orphaned_blocks                                                                        0.073792     \n",
       "btc_n_transactions_per_block                                                                 0.975156     \n",
       "btc_median_confirmation_time                                                                 0.535190     \n",
       "btc_hash_rate                                                                                0.712023     \n",
       "btc_difficulty                                                                               0.721135     \n",
       "btc_miners_revenue                                                                           0.527986     \n",
       "btc_transaction_fees                                                                         0.692976     \n",
       "btc_cost_per_transaction_percent                                                            -0.033477     \n",
       "btc_cost_per_transaction                                                                     0.341821     \n",
       "btc_n_unique_addresses                                                                       0.973294     \n",
       "btc_n_transactions                                                                           0.989130     \n",
       "btc_n_transactions_total                                                                     0.960248     \n",
       "btc_n_transactions_excluding_popular                                                         0.987174     \n",
       "btc_n_transactions_excluding_chains_longer_than...                                           1.000000     \n",
       "btc_output_volume                                                                            0.281456     \n",
       "btc_estimated_transaction_volume                                                             0.185757     \n",
       "btc_estimated_transaction_volume_usd                                                         0.588318     \n",
       "\n",
       "                                                    btc_output_volume  \\\n",
       "btc_market_price                                             0.111734   \n",
       "btc_total_bitcoins                                           0.290952   \n",
       "btc_market_cap                                               0.112410   \n",
       "btc_trade_volume                                             0.097722   \n",
       "btc_blocks_size                                              0.251049   \n",
       "btc_avg_block_size                                           0.296547   \n",
       "btc_n_orphaned_blocks                                       -0.006275   \n",
       "btc_n_transactions_per_block                                 0.298024   \n",
       "btc_median_confirmation_time                                 0.308597   \n",
       "btc_hash_rate                                                0.161671   \n",
       "btc_difficulty                                               0.161505   \n",
       "btc_miners_revenue                                           0.103344   \n",
       "btc_transaction_fees                                         0.182745   \n",
       "btc_cost_per_transaction_percent                            -0.024984   \n",
       "btc_cost_per_transaction                                     0.007864   \n",
       "btc_n_unique_addresses                                       0.285832   \n",
       "btc_n_transactions                                           0.310919   \n",
       "btc_n_transactions_total                                     0.250692   \n",
       "btc_n_transactions_excluding_popular                         0.295304   \n",
       "btc_n_transactions_excluding_chains_longer_than...           0.281456   \n",
       "btc_output_volume                                            1.000000   \n",
       "btc_estimated_transaction_volume                             0.272328   \n",
       "btc_estimated_transaction_volume_usd                         0.139596   \n",
       "\n",
       "                                                    btc_estimated_transaction_volume  \\\n",
       "btc_market_price                                                            0.050894   \n",
       "btc_total_bitcoins                                                          0.211814   \n",
       "btc_market_cap                                                              0.051356   \n",
       "btc_trade_volume                                                            0.056079   \n",
       "btc_blocks_size                                                             0.152055   \n",
       "btc_avg_block_size                                                          0.191663   \n",
       "btc_n_orphaned_blocks                                                       0.018300   \n",
       "btc_n_transactions_per_block                                                0.188603   \n",
       "btc_median_confirmation_time                                                0.217121   \n",
       "btc_hash_rate                                                               0.081981   \n",
       "btc_difficulty                                                              0.080909   \n",
       "btc_miners_revenue                                                          0.047411   \n",
       "btc_transaction_fees                                                        0.107300   \n",
       "btc_cost_per_transaction_percent                                           -0.027676   \n",
       "btc_cost_per_transaction                                                   -0.017705   \n",
       "btc_n_unique_addresses                                                      0.176977   \n",
       "btc_n_transactions                                                          0.196424   \n",
       "btc_n_transactions_total                                                    0.153575   \n",
       "btc_n_transactions_excluding_popular                                        0.189311   \n",
       "btc_n_transactions_excluding_chains_longer_than...                          0.185757   \n",
       "btc_output_volume                                                           0.272328   \n",
       "btc_estimated_transaction_volume                                            1.000000   \n",
       "btc_estimated_transaction_volume_usd                                        0.086823   \n",
       "\n",
       "                                                    btc_estimated_transaction_volume_usd  \n",
       "btc_market_price                                                                0.968308  \n",
       "btc_total_bitcoins                                                              0.387920  \n",
       "btc_market_cap                                                                  0.968533  \n",
       "btc_trade_volume                                                                0.896016  \n",
       "btc_blocks_size                                                                 0.672394  \n",
       "btc_avg_block_size                                                              0.553090  \n",
       "btc_n_orphaned_blocks                                                          -0.080944  \n",
       "btc_n_transactions_per_block                                                    0.563285  \n",
       "btc_median_confirmation_time                                                    0.281442  \n",
       "btc_hash_rate                                                                   0.887864  \n",
       "btc_difficulty                                                                  0.880120  \n",
       "btc_miners_revenue                                                              0.959096  \n",
       "btc_transaction_fees                                                            0.818912  \n",
       "btc_cost_per_transaction_percent                                               -0.013007  \n",
       "btc_cost_per_transaction                                                        0.749755  \n",
       "btc_n_unique_addresses                                                          0.680165  \n",
       "btc_n_transactions                                                              0.592951  \n",
       "btc_n_transactions_total                                                        0.677116  \n",
       "btc_n_transactions_excluding_popular                                            0.581216  \n",
       "btc_n_transactions_excluding_chains_longer_than...                              0.588318  \n",
       "btc_output_volume                                                               0.139596  \n",
       "btc_estimated_transaction_volume                                                0.086823  \n",
       "btc_estimated_transaction_volume_usd                                            1.000000  \n",
       "\n",
       "[23 rows x 23 columns]"
      ]
     },
     "execution_count": 68,
     "metadata": {},
     "output_type": "execute_result"
    }
   ],
   "source": [
    "dataset.corr()"
   ]
  },
  {
   "cell_type": "markdown",
   "metadata": {
    "tags": [
     "s2",
     "hint"
    ]
   },
   "source": [
    "plot using lmplot() on most significant features"
   ]
  },
  {
   "cell_type": "code",
   "execution_count": 69,
   "metadata": {
    "tags": [
     "s2",
     "ans"
    ]
   },
   "outputs": [
    {
     "data": {
      "text/plain": [
       "<seaborn.axisgrid.FacetGrid at 0x7efdb5836240>"
      ]
     },
     "execution_count": 69,
     "metadata": {},
     "output_type": "execute_result"
    },
    {
     "data": {
      "image/png": "[encoded data removed]",
      "text/plain": [
       "<matplotlib.figure.Figure at 0x7efdb5836470>"
      ]
     },
     "metadata": {},
     "output_type": "display_data"
    },
    {
     "data": {
      "image/png": "[encoded data removed]",
      "text/plain": [
       "<matplotlib.figure.Figure at 0x7efdb57d8e80>"
      ]
     },
     "metadata": {},
     "output_type": "display_data"
    }
   ],
   "source": [
    "sns.lmplot(x='btc_market_cap',y='btc_market_price',data=dataset)\n",
    "sns.lmplot(x='btc_miners_revenue',y='btc_market_price',data=dataset)"
   ]
  },
  {
   "cell_type": "code",
   "execution_count": 70,
   "metadata": {
    "tags": [
     "s2",
     "hid"
    ]
   },
   "outputs": [
    {
     "name": "stdout",
     "output_type": "stream",
     "text": [
      "continue\n"
     ]
    }
   ],
   "source": [
    "#this is assertion block which verifies the solution.\n",
    "\n",
    "try:\n",
    "    def verify_answer():\n",
    "        if True: \n",
    "            return True\n",
    "        else:\n",
    "            return False\n",
    "\n",
    "    ref_assert_var = verify_answer()\n",
    "except Exception as e:\n",
    "    print('Your assertion block throws error: ' + str(e))\n",
    "else:\n",
    "    if ref_assert_var:\n",
    "        print('continue')\n",
    "    else:\n",
    "        print('The answer did not pass the test.')"
   ]
  },
  {
   "cell_type": "markdown",
   "metadata": {
    "tags": [
     "s3",
     "content"
    ]
   },
   "source": [
    " \n",
    "### split the data \n",
    "            \n",
    "split the data into dependent and independent features\n"
   ]
  },
  {
   "cell_type": "code",
   "execution_count": 8,
   "metadata": {
    "collapsed": true,
    "tags": [
     "s3",
     "ce"
    ]
   },
   "outputs": [],
   "source": [
    "x = dataset.drop(['Date','btc_market_price'],axis=1)\n"
   ]
  },
  {
   "cell_type": "markdown",
   "metadata": {
    "tags": [
     "s3",
     "hint"
    ]
   },
   "source": [
    "similarly seperate dependent feature into _y_\n",
    "and eliminate Date from _testdata_"
   ]
  },
  {
   "cell_type": "code",
   "execution_count": 10,
   "metadata": {
    "collapsed": true,
    "tags": [
     "s3",
     "ans"
    ]
   },
   "outputs": [],
   "source": [
    "y=dataset['btc_market_price']\n",
    "testdata = testdata.iloc[:,1:].values"
   ]
  },
  {
   "cell_type": "code",
   "execution_count": 11,
   "metadata": {
    "tags": [
     "s3",
     "hid"
    ]
   },
   "outputs": [
    {
     "name": "stdout",
     "output_type": "stream",
     "text": [
      "continue\n"
     ]
    }
   ],
   "source": [
    "#this is assertion block which verifies the solution.\n",
    "\n",
    "try:\n",
    "    def verify_answer():\n",
    "        if y.empty: \n",
    "            return False\n",
    "        else:\n",
    "            return True\n",
    "\n",
    "    ref_assert_var = verify_answer()\n",
    "except Exception as e:\n",
    "    print('Your assertion block throws error: ' + str(e))\n",
    "else:\n",
    "    if ref_assert_var:\n",
    "        print('continue')\n",
    "    else:\n",
    "        print('The answer did not pass the test.')"
   ]
  },
  {
   "cell_type": "markdown",
   "metadata": {
    "tags": [
     "s4",
     "content"
    ]
   },
   "source": [
    "                 \n",
    "### plotting the bit coin market price\n",
    "\n",
    "import seaborn and use plots\n"
   ]
  },
  {
   "cell_type": "code",
   "execution_count": 12,
   "metadata": {
    "collapsed": true,
    "tags": [
     "s4",
     "ce"
    ]
   },
   "outputs": [],
   "source": [
    "import seaborn as sns"
   ]
  },
  {
   "cell_type": "markdown",
   "metadata": {
    "tags": [
     "s4",
     "hint"
    ]
   },
   "source": [
    "use distplot to plot on _y_ set and assign to _d_ "
   ]
  },
  {
   "cell_type": "code",
   "execution_count": 19,
   "metadata": {
    "tags": [
     "s4",
     "ans"
    ]
   },
   "outputs": [
    {
     "data": {
      "text/plain": [
       "<matplotlib.axes._subplots.AxesSubplot at 0x7efe1a2aad30>"
      ]
     },
     "execution_count": 19,
     "metadata": {},
     "output_type": "execute_result"
    },
    {
     "data": {
      "image/png": "[encoded data removed]",
      "text/plain": [
       "<matplotlib.figure.Figure at 0x7efe19d9bf60>"
      ]
     },
     "metadata": {},
     "output_type": "display_data"
    }
   ],
   "source": [
    "d = sns.distplot(y,bins=10)"
   ]
  },
  {
   "cell_type": "code",
   "execution_count": 21,
   "metadata": {
    "tags": [
     "s4",
     "hid"
    ]
   },
   "outputs": [
    {
     "name": "stdout",
     "output_type": "stream",
     "text": [
      "continue\n"
     ]
    }
   ],
   "source": [
    "#this is assertion block which verifies the solution.\n",
    "\n",
    "try:\n",
    "    def verify_answer():\n",
    "        \n",
    "        if True: \n",
    "            return True\n",
    "        else:\n",
    "            return False\n",
    "\n",
    "    ref_assert_var = verify_answer()\n",
    "except Exception as e:\n",
    "    print('Your assertion block throws error: ' + str(e))\n",
    "else:\n",
    "    if ref_assert_var:\n",
    "        print('continue')\n",
    "    else:\n",
    "        print('The answer did not pass the test.')"
   ]
  },
  {
   "cell_type": "markdown",
   "metadata": {
    "tags": [
     "s5",
     "content"
    ]
   },
   "source": [
    "\n",
    "                \n",
    "### Impute missing values\n",
    "            \n",
    "find if there is any missing data using info and plots.\n"
   ]
  },
  {
   "cell_type": "code",
   "execution_count": 22,
   "metadata": {
    "tags": [
     "s5",
     "ce"
    ]
   },
   "outputs": [
    {
     "name": "stdout",
     "output_type": "stream",
     "text": [
      "<class 'pandas.core.frame.DataFrame'>\n",
      "RangeIndex: 2906 entries, 0 to 2905\n",
      "Data columns (total 22 columns):\n",
      "btc_total_bitcoins                                     2879 non-null float64\n",
      "btc_market_cap                                         2906 non-null float64\n",
      "btc_trade_volume                                       2885 non-null float64\n",
      "btc_blocks_size                                        2877 non-null float64\n",
      "btc_avg_block_size                                     2906 non-null float64\n",
      "btc_n_orphaned_blocks                                  2906 non-null int64\n",
      "btc_n_transactions_per_block                           2906 non-null float64\n",
      "btc_median_confirmation_time                           2894 non-null float64\n",
      "btc_hash_rate                                          2906 non-null float64\n",
      "btc_difficulty                                         2890 non-null float64\n",
      "btc_miners_revenue                                     2906 non-null float64\n",
      "btc_transaction_fees                                   2896 non-null float64\n",
      "btc_cost_per_transaction_percent                       2906 non-null float64\n",
      "btc_cost_per_transaction                               2906 non-null float64\n",
      "btc_n_unique_addresses                                 2906 non-null int64\n",
      "btc_n_transactions                                     2906 non-null int64\n",
      "btc_n_transactions_total                               2906 non-null int64\n",
      "btc_n_transactions_excluding_popular                   2906 non-null int64\n",
      "btc_n_transactions_excluding_chains_longer_than_100    2906 non-null int64\n",
      "btc_output_volume                                      2906 non-null float64\n",
      "btc_estimated_transaction_volume                       2906 non-null float64\n",
      "btc_estimated_transaction_volume_usd                   2906 non-null float64\n",
      "dtypes: float64(16), int64(6)\n",
      "memory usage: 499.5 KB\n"
     ]
    }
   ],
   "source": [
    "x.info()"
   ]
  },
  {
   "cell_type": "markdown",
   "metadata": {
    "tags": [
     "s5",
     "hint"
    ]
   },
   "source": [
    "use heatmap to visualize missing data and assign to _h_"
   ]
  },
  {
   "cell_type": "code",
   "execution_count": 25,
   "metadata": {
    "tags": [
     "s5",
     "ans"
    ]
   },
   "outputs": [
    {
     "data": {
      "image/png": "[encoded data removed]",
      "text/plain": [
       "<matplotlib.figure.Figure at 0x7efe19b769e8>"
      ]
     },
     "metadata": {},
     "output_type": "display_data"
    }
   ],
   "source": [
    "h = sns.heatmap(x.isnull(),yticklabels=False,cbar=False,cmap='viridis')"
   ]
  },
  {
   "cell_type": "code",
   "execution_count": 26,
   "metadata": {
    "tags": [
     "s5",
     "hid"
    ]
   },
   "outputs": [
    {
     "name": "stdout",
     "output_type": "stream",
     "text": [
      "continue\n"
     ]
    }
   ],
   "source": [
    "#this is assertion block which verifies the solution.\n",
    "\n",
    "try:\n",
    "    def verify_answer():\n",
    "        if True: \n",
    "            return True\n",
    "        else:\n",
    "            return False\n",
    "\n",
    "    ref_assert_var = verify_answer()\n",
    "except Exception as e:\n",
    "    print('Your assertion block throws error: ' + str(e))\n",
    "else:\n",
    "    if ref_assert_var:\n",
    "        print('continue')\n",
    "    else:\n",
    "        print('The answer did not pass the test.')"
   ]
  },
  {
   "cell_type": "markdown",
   "metadata": {
    "tags": [
     "s6",
     "content"
    ]
   },
   "source": [
    "\n",
    "\n",
    "### fill the missing data  \n",
    "          \n",
    "using imputer class fill the missing values with essential strategy\n"
   ]
  },
  {
   "cell_type": "code",
   "execution_count": 27,
   "metadata": {
    "collapsed": true,
    "tags": [
     "s6",
     "ce"
    ]
   },
   "outputs": [],
   "source": [
    "from sklearn.preprocessing import Imputer\n",
    "imputer=Imputer(missing_values=\"NaN\", strategy=\"mean\", axis=1)"
   ]
  },
  {
   "cell_type": "markdown",
   "metadata": {
    "tags": [
     "s6",
     "hint"
    ]
   },
   "source": [
    "fit and transform the values using fit() and transform() and store the values back in _x_"
   ]
  },
  {
   "cell_type": "code",
   "execution_count": 28,
   "metadata": {
    "collapsed": true,
    "tags": [
     "s6",
     "ans"
    ]
   },
   "outputs": [],
   "source": [
    "imputer=imputer.fit(x)\n",
    "x=imputer.transform(x)"
   ]
  },
  {
   "cell_type": "code",
   "execution_count": 30,
   "metadata": {
    "tags": [
     "s6",
     "hid"
    ]
   },
   "outputs": [
    {
     "name": "stdout",
     "output_type": "stream",
     "text": [
      "continue\n"
     ]
    }
   ],
   "source": [
    "#this is assertion block which verifies the solution.\n",
    "\n",
    "try:\n",
    "    def verify_answer():\n",
    "        if x.size == 0: \n",
    "            return False\n",
    "        else:\n",
    "            return True\n",
    "\n",
    "    ref_assert_var = verify_answer()\n",
    "except Exception as e:\n",
    "    print('Your assertion block throws error: ' + str(e))\n",
    "else:\n",
    "    if ref_assert_var:\n",
    "        print('continue')\n",
    "    else:\n",
    "        print('The answer did not pass the test.')"
   ]
  },
  {
   "cell_type": "markdown",
   "metadata": {
    "tags": [
     "s7",
     "content"
    ]
   },
   "source": [
    "\n",
    "                \n",
    "### p_values\n",
    "            \n",
    "using p values remove the insignificant features.Use statsmodel to get p values\n"
   ]
  },
  {
   "cell_type": "code",
   "execution_count": 31,
   "metadata": {
    "collapsed": true,
    "tags": [
     "s7",
     "ce"
    ]
   },
   "outputs": [],
   "source": [
    "import statsmodels.formula.api as sm\n",
    "reg_opt = sm.OLS(y,x).fit()"
   ]
  },
  {
   "cell_type": "markdown",
   "metadata": {
    "tags": [
     "s7",
     "hint"
    ]
   },
   "source": [
    "use summary() to display various statistical values, from this analyse p values"
   ]
  },
  {
   "cell_type": "code",
   "execution_count": 32,
   "metadata": {
    "tags": [
     "s7",
     "ans"
    ]
   },
   "outputs": [
    {
     "data": {
      "text/html": [
       "<table class=\"simpletable\">\n",
       "<caption>OLS Regression Results</caption>\n",
       "<tr>\n",
       "  <th>Dep. Variable:</th>    <td>btc_market_price</td> <th>  R-squared:         </th> <td>   1.000</td> \n",
       "</tr>\n",
       "<tr>\n",
       "  <th>Model:</th>                   <td>OLS</td>       <th>  Adj. R-squared:    </th> <td>   1.000</td> \n",
       "</tr>\n",
       "<tr>\n",
       "  <th>Method:</th>             <td>Least Squares</td>  <th>  F-statistic:       </th> <td>1.988e+06</td>\n",
       "</tr>\n",
       "<tr>\n",
       "  <th>Date:</th>             <td>Sun, 11 Mar 2018</td> <th>  Prob (F-statistic):</th>  <td>  0.00</td>  \n",
       "</tr>\n",
       "<tr>\n",
       "  <th>Time:</th>                 <td>12:26:09</td>     <th>  Log-Likelihood:    </th> <td> -12703.</td> \n",
       "</tr>\n",
       "<tr>\n",
       "  <th>No. Observations:</th>      <td>  2906</td>      <th>  AIC:               </th> <td>2.545e+04</td>\n",
       "</tr>\n",
       "<tr>\n",
       "  <th>Df Residuals:</th>          <td>  2884</td>      <th>  BIC:               </th> <td>2.558e+04</td>\n",
       "</tr>\n",
       "<tr>\n",
       "  <th>Df Model:</th>              <td>    21</td>      <th>                     </th>     <td> </td>    \n",
       "</tr>\n",
       "<tr>\n",
       "  <th>Covariance Type:</th>      <td>nonrobust</td>    <th>                     </th>     <td> </td>    \n",
       "</tr>\n",
       "</table>\n",
       "<table class=\"simpletable\">\n",
       "<tr>\n",
       "   <td></td>      <th>coef</th>     <th>std err</th>      <th>t</th>      <th>P>|t|</th>  <th>[0.025</th>    <th>0.975]</th>  \n",
       "</tr>\n",
       "<tr>\n",
       "  <th>x1</th>  <td>-1.515e-06</td> <td> 1.08e-07</td> <td>  -14.003</td> <td> 0.000</td> <td>-1.73e-06</td> <td> -1.3e-06</td>\n",
       "</tr>\n",
       "<tr>\n",
       "  <th>x2</th>  <td> 5.881e-08</td> <td> 1.15e-10</td> <td>  512.761</td> <td> 0.000</td> <td> 5.86e-08</td> <td>  5.9e-08</td>\n",
       "</tr>\n",
       "<tr>\n",
       "  <th>x3</th>  <td>-5.165e-10</td> <td> 2.16e-09</td> <td>   -0.239</td> <td> 0.811</td> <td>-4.76e-09</td> <td> 3.73e-09</td>\n",
       "</tr>\n",
       "<tr>\n",
       "  <th>x4</th>  <td> 7.841e-07</td> <td> 1.51e-06</td> <td>    0.521</td> <td> 0.603</td> <td>-2.17e-06</td> <td> 3.74e-06</td>\n",
       "</tr>\n",
       "<tr>\n",
       "  <th>x5</th>  <td>  -21.3858</td> <td>    6.923</td> <td>   -3.089</td> <td> 0.002</td> <td>  -34.961</td> <td>   -7.811</td>\n",
       "</tr>\n",
       "<tr>\n",
       "  <th>x6</th>  <td>    0.6456</td> <td>    0.487</td> <td>    1.326</td> <td> 0.185</td> <td>   -0.309</td> <td>    1.600</td>\n",
       "</tr>\n",
       "<tr>\n",
       "  <th>x7</th>  <td>   -0.0275</td> <td>    0.004</td> <td>   -7.834</td> <td> 0.000</td> <td>   -0.034</td> <td>   -0.021</td>\n",
       "</tr>\n",
       "<tr>\n",
       "  <th>x8</th>  <td> 4.873e-10</td> <td> 1.04e-10</td> <td>    4.672</td> <td> 0.000</td> <td> 2.83e-10</td> <td> 6.92e-10</td>\n",
       "</tr>\n",
       "<tr>\n",
       "  <th>x9</th>  <td>  -1.5e-05</td> <td> 9.75e-07</td> <td>  -15.386</td> <td> 0.000</td> <td>-1.69e-05</td> <td>-1.31e-05</td>\n",
       "</tr>\n",
       "<tr>\n",
       "  <th>x10</th> <td>-3.778e-12</td> <td> 8.11e-12</td> <td>   -0.466</td> <td> 0.642</td> <td>-1.97e-11</td> <td> 1.21e-11</td>\n",
       "</tr>\n",
       "<tr>\n",
       "  <th>x11</th> <td>-5.743e-06</td> <td> 7.06e-07</td> <td>   -8.136</td> <td> 0.000</td> <td>-7.13e-06</td> <td>-4.36e-06</td>\n",
       "</tr>\n",
       "<tr>\n",
       "  <th>x12</th> <td>-2.088e-11</td> <td> 4.43e-10</td> <td>   -0.047</td> <td> 0.962</td> <td> -8.9e-10</td> <td> 8.48e-10</td>\n",
       "</tr>\n",
       "<tr>\n",
       "  <th>x13</th> <td> 5.607e-05</td> <td>    0.000</td> <td>    0.277</td> <td> 0.782</td> <td>   -0.000</td> <td>    0.000</td>\n",
       "</tr>\n",
       "<tr>\n",
       "  <th>x14</th> <td>    3.6674</td> <td>    0.046</td> <td>   80.311</td> <td> 0.000</td> <td>    3.578</td> <td>    3.757</td>\n",
       "</tr>\n",
       "<tr>\n",
       "  <th>x15</th> <td>    0.0001</td> <td> 1.67e-05</td> <td>    8.111</td> <td> 0.000</td> <td>    0.000</td> <td>    0.000</td>\n",
       "</tr>\n",
       "<tr>\n",
       "  <th>x16</th> <td>    0.0005</td> <td> 4.76e-05</td> <td>   10.610</td> <td> 0.000</td> <td>    0.000</td> <td>    0.001</td>\n",
       "</tr>\n",
       "<tr>\n",
       "  <th>x17</th> <td> 3.129e-07</td> <td> 3.53e-08</td> <td>    8.854</td> <td> 0.000</td> <td> 2.44e-07</td> <td> 3.82e-07</td>\n",
       "</tr>\n",
       "<tr>\n",
       "  <th>x18</th> <td>   -0.0004</td> <td> 3.65e-05</td> <td>   -9.630</td> <td> 0.000</td> <td>   -0.000</td> <td>   -0.000</td>\n",
       "</tr>\n",
       "<tr>\n",
       "  <th>x19</th> <td> 4.272e-06</td> <td> 4.87e-05</td> <td>    0.088</td> <td> 0.930</td> <td>-9.11e-05</td> <td> 9.97e-05</td>\n",
       "</tr>\n",
       "<tr>\n",
       "  <th>x20</th> <td>-3.957e-07</td> <td> 1.75e-07</td> <td>   -2.261</td> <td> 0.024</td> <td>-7.39e-07</td> <td>-5.26e-08</td>\n",
       "</tr>\n",
       "<tr>\n",
       "  <th>x21</th> <td> -2.18e-06</td> <td> 1.42e-06</td> <td>   -1.532</td> <td> 0.126</td> <td>-4.97e-06</td> <td> 6.09e-07</td>\n",
       "</tr>\n",
       "<tr>\n",
       "  <th>x22</th> <td> 2.572e-08</td> <td>    3e-09</td> <td>    8.584</td> <td> 0.000</td> <td> 1.98e-08</td> <td> 3.16e-08</td>\n",
       "</tr>\n",
       "</table>\n",
       "<table class=\"simpletable\">\n",
       "<tr>\n",
       "  <th>Omnibus:</th>       <td>528.253</td> <th>  Durbin-Watson:     </th> <td>   0.514</td> \n",
       "</tr>\n",
       "<tr>\n",
       "  <th>Prob(Omnibus):</th> <td> 0.000</td>  <th>  Jarque-Bera (JB):  </th> <td>12317.562</td>\n",
       "</tr>\n",
       "<tr>\n",
       "  <th>Skew:</th>          <td> 0.137</td>  <th>  Prob(JB):          </th> <td>    0.00</td> \n",
       "</tr>\n",
       "<tr>\n",
       "  <th>Kurtosis:</th>      <td>13.082</td>  <th>  Cond. No.          </th> <td>7.89e+12</td> \n",
       "</tr>\n",
       "</table>"
      ],
      "text/plain": [
       "<class 'statsmodels.iolib.summary.Summary'>\n",
       "\"\"\"\n",
       "                            OLS Regression Results                            \n",
       "==============================================================================\n",
       "Dep. Variable:       btc_market_price   R-squared:                       1.000\n",
       "Model:                            OLS   Adj. R-squared:                  1.000\n",
       "Method:                 Least Squares   F-statistic:                 1.988e+06\n",
       "Date:                Sun, 11 Mar 2018   Prob (F-statistic):               0.00\n",
       "Time:                        12:26:09   Log-Likelihood:                -12703.\n",
       "No. Observations:                2906   AIC:                         2.545e+04\n",
       "Df Residuals:                    2884   BIC:                         2.558e+04\n",
       "Df Model:                          21                                         \n",
       "Covariance Type:            nonrobust                                         \n",
       "==============================================================================\n",
       "                 coef    std err          t      P>|t|      [0.025      0.975]\n",
       "------------------------------------------------------------------------------\n",
       "x1         -1.515e-06   1.08e-07    -14.003      0.000   -1.73e-06    -1.3e-06\n",
       "x2          5.881e-08   1.15e-10    512.761      0.000    5.86e-08     5.9e-08\n",
       "x3         -5.165e-10   2.16e-09     -0.239      0.811   -4.76e-09    3.73e-09\n",
       "x4          7.841e-07   1.51e-06      0.521      0.603   -2.17e-06    3.74e-06\n",
       "x5           -21.3858      6.923     -3.089      0.002     -34.961      -7.811\n",
       "x6             0.6456      0.487      1.326      0.185      -0.309       1.600\n",
       "x7            -0.0275      0.004     -7.834      0.000      -0.034      -0.021\n",
       "x8          4.873e-10   1.04e-10      4.672      0.000    2.83e-10    6.92e-10\n",
       "x9           -1.5e-05   9.75e-07    -15.386      0.000   -1.69e-05   -1.31e-05\n",
       "x10        -3.778e-12   8.11e-12     -0.466      0.642   -1.97e-11    1.21e-11\n",
       "x11        -5.743e-06   7.06e-07     -8.136      0.000   -7.13e-06   -4.36e-06\n",
       "x12        -2.088e-11   4.43e-10     -0.047      0.962    -8.9e-10    8.48e-10\n",
       "x13         5.607e-05      0.000      0.277      0.782      -0.000       0.000\n",
       "x14            3.6674      0.046     80.311      0.000       3.578       3.757\n",
       "x15            0.0001   1.67e-05      8.111      0.000       0.000       0.000\n",
       "x16            0.0005   4.76e-05     10.610      0.000       0.000       0.001\n",
       "x17         3.129e-07   3.53e-08      8.854      0.000    2.44e-07    3.82e-07\n",
       "x18           -0.0004   3.65e-05     -9.630      0.000      -0.000      -0.000\n",
       "x19         4.272e-06   4.87e-05      0.088      0.930   -9.11e-05    9.97e-05\n",
       "x20        -3.957e-07   1.75e-07     -2.261      0.024   -7.39e-07   -5.26e-08\n",
       "x21         -2.18e-06   1.42e-06     -1.532      0.126   -4.97e-06    6.09e-07\n",
       "x22         2.572e-08      3e-09      8.584      0.000    1.98e-08    3.16e-08\n",
       "==============================================================================\n",
       "Omnibus:                      528.253   Durbin-Watson:                   0.514\n",
       "Prob(Omnibus):                  0.000   Jarque-Bera (JB):            12317.562\n",
       "Skew:                           0.137   Prob(JB):                         0.00\n",
       "Kurtosis:                      13.082   Cond. No.                     7.89e+12\n",
       "==============================================================================\n",
       "\n",
       "Warnings:\n",
       "[1] Standard Errors assume that the covariance matrix of the errors is correctly specified.\n",
       "[2] The condition number is large, 7.89e+12. This might indicate that there are\n",
       "strong multicollinearity or other numerical problems.\n",
       "\"\"\""
      ]
     },
     "execution_count": 32,
     "metadata": {},
     "output_type": "execute_result"
    }
   ],
   "source": [
    "reg_opt.summary()"
   ]
  },
  {
   "cell_type": "code",
   "execution_count": 34,
   "metadata": {
    "tags": [
     "s7",
     "hid"
    ]
   },
   "outputs": [
    {
     "name": "stdout",
     "output_type": "stream",
     "text": [
      "continue\n"
     ]
    }
   ],
   "source": [
    "#this is assertion block which verifies the solution.\n",
    "\n",
    "try:\n",
    "    def verify_answer():\n",
    "        if 1 == 1: \n",
    "            return True\n",
    "        else:\n",
    "            return False\n",
    "\n",
    "    ref_assert_var = verify_answer()\n",
    "except Exception as e:\n",
    "    print('Your assertion block throws error: ' + str(e))\n",
    "else:\n",
    "    if ref_assert_var:\n",
    "        print('continue')\n",
    "    else:\n",
    "        print('The answer did not pass the test.')"
   ]
  },
  {
   "cell_type": "markdown",
   "metadata": {
    "tags": [
     "s8",
     "content"
    ]
   },
   "source": [
    "              \n",
    "### cleaning the data\n",
    "            \n",
    "remove the features in x whose p values are greater than 0.05\n"
   ]
  },
  {
   "cell_type": "code",
   "execution_count": 35,
   "metadata": {
    "collapsed": true,
    "tags": [
     "s8",
     "ce"
    ]
   },
   "outputs": [],
   "source": [
    "x = pd.DataFrame(x).drop([2,3,5,9,11,12,18,20],axis=1)"
   ]
  },
  {
   "cell_type": "markdown",
   "metadata": {
    "tags": [
     "s8",
     "hint"
    ]
   },
   "source": [
    "do the same with testdata"
   ]
  },
  {
   "cell_type": "code",
   "execution_count": 37,
   "metadata": {
    "tags": [
     "s8",
     "ans"
    ]
   },
   "outputs": [
    {
     "ename": "ValueError",
     "evalue": "labels [ 2  3  5  9 11 12 18 20] not contained in axis",
     "output_type": "error",
     "traceback": [
      "\u001b[0;31m---------------------------------------------------------------------------\u001b[0m",
      "\u001b[0;31mValueError\u001b[0m                                Traceback (most recent call last)",
      "\u001b[0;32m<ipython-input-37-17610f34321f>\u001b[0m in \u001b[0;36m<module>\u001b[0;34m()\u001b[0m\n\u001b[0;32m----> 1\u001b[0;31m \u001b[0mtestdata\u001b[0m \u001b[0;34m=\u001b[0m \u001b[0mpd\u001b[0m\u001b[0;34m.\u001b[0m\u001b[0mDataFrame\u001b[0m\u001b[0;34m(\u001b[0m\u001b[0mtestdata\u001b[0m\u001b[0;34m)\u001b[0m\u001b[0;34m.\u001b[0m\u001b[0mdrop\u001b[0m\u001b[0;34m(\u001b[0m\u001b[0;34m[\u001b[0m\u001b[0;36m2\u001b[0m\u001b[0;34m,\u001b[0m\u001b[0;36m3\u001b[0m\u001b[0;34m,\u001b[0m\u001b[0;36m5\u001b[0m\u001b[0;34m,\u001b[0m\u001b[0;36m9\u001b[0m\u001b[0;34m,\u001b[0m\u001b[0;36m11\u001b[0m\u001b[0;34m,\u001b[0m\u001b[0;36m12\u001b[0m\u001b[0;34m,\u001b[0m\u001b[0;36m18\u001b[0m\u001b[0;34m,\u001b[0m\u001b[0;36m20\u001b[0m\u001b[0;34m]\u001b[0m\u001b[0;34m,\u001b[0m\u001b[0maxis\u001b[0m\u001b[0;34m=\u001b[0m\u001b[0;36m1\u001b[0m\u001b[0;34m)\u001b[0m\u001b[0;34m\u001b[0m\u001b[0m\n\u001b[0m\u001b[1;32m      2\u001b[0m \u001b[0mtestdata\u001b[0m\u001b[0;34m.\u001b[0m\u001b[0mshape\u001b[0m\u001b[0;34m\u001b[0m\u001b[0m\n",
      "\u001b[0;32m/usr/local/lib/python3.5/dist-packages/pandas/core/generic.py\u001b[0m in \u001b[0;36mdrop\u001b[0;34m(self, labels, axis, level, inplace, errors)\u001b[0m\n\u001b[1;32m   1905\u001b[0m                 \u001b[0mnew_axis\u001b[0m \u001b[0;34m=\u001b[0m \u001b[0maxis\u001b[0m\u001b[0;34m.\u001b[0m\u001b[0mdrop\u001b[0m\u001b[0;34m(\u001b[0m\u001b[0mlabels\u001b[0m\u001b[0;34m,\u001b[0m \u001b[0mlevel\u001b[0m\u001b[0;34m=\u001b[0m\u001b[0mlevel\u001b[0m\u001b[0;34m,\u001b[0m \u001b[0merrors\u001b[0m\u001b[0;34m=\u001b[0m\u001b[0merrors\u001b[0m\u001b[0;34m)\u001b[0m\u001b[0;34m\u001b[0m\u001b[0m\n\u001b[1;32m   1906\u001b[0m             \u001b[0;32melse\u001b[0m\u001b[0;34m:\u001b[0m\u001b[0;34m\u001b[0m\u001b[0m\n\u001b[0;32m-> 1907\u001b[0;31m                 \u001b[0mnew_axis\u001b[0m \u001b[0;34m=\u001b[0m \u001b[0maxis\u001b[0m\u001b[0;34m.\u001b[0m\u001b[0mdrop\u001b[0m\u001b[0;34m(\u001b[0m\u001b[0mlabels\u001b[0m\u001b[0;34m,\u001b[0m \u001b[0merrors\u001b[0m\u001b[0;34m=\u001b[0m\u001b[0merrors\u001b[0m\u001b[0;34m)\u001b[0m\u001b[0;34m\u001b[0m\u001b[0m\n\u001b[0m\u001b[1;32m   1908\u001b[0m             \u001b[0mdropped\u001b[0m \u001b[0;34m=\u001b[0m \u001b[0mself\u001b[0m\u001b[0;34m.\u001b[0m\u001b[0mreindex\u001b[0m\u001b[0;34m(\u001b[0m\u001b[0;34m**\u001b[0m\u001b[0;34m{\u001b[0m\u001b[0maxis_name\u001b[0m\u001b[0;34m:\u001b[0m \u001b[0mnew_axis\u001b[0m\u001b[0;34m}\u001b[0m\u001b[0;34m)\u001b[0m\u001b[0;34m\u001b[0m\u001b[0m\n\u001b[1;32m   1909\u001b[0m             \u001b[0;32mtry\u001b[0m\u001b[0;34m:\u001b[0m\u001b[0;34m\u001b[0m\u001b[0m\n",
      "\u001b[0;32m/usr/local/lib/python3.5/dist-packages/pandas/indexes/base.py\u001b[0m in \u001b[0;36mdrop\u001b[0;34m(self, labels, errors)\u001b[0m\n\u001b[1;32m   3260\u001b[0m             \u001b[0;32mif\u001b[0m \u001b[0merrors\u001b[0m \u001b[0;34m!=\u001b[0m \u001b[0;34m'ignore'\u001b[0m\u001b[0;34m:\u001b[0m\u001b[0;34m\u001b[0m\u001b[0m\n\u001b[1;32m   3261\u001b[0m                 raise ValueError('labels %s not contained in axis' %\n\u001b[0;32m-> 3262\u001b[0;31m                                  labels[mask])\n\u001b[0m\u001b[1;32m   3263\u001b[0m             \u001b[0mindexer\u001b[0m \u001b[0;34m=\u001b[0m \u001b[0mindexer\u001b[0m\u001b[0;34m[\u001b[0m\u001b[0;34m~\u001b[0m\u001b[0mmask\u001b[0m\u001b[0;34m]\u001b[0m\u001b[0;34m\u001b[0m\u001b[0m\n\u001b[1;32m   3264\u001b[0m         \u001b[0;32mreturn\u001b[0m \u001b[0mself\u001b[0m\u001b[0;34m.\u001b[0m\u001b[0mdelete\u001b[0m\u001b[0;34m(\u001b[0m\u001b[0mindexer\u001b[0m\u001b[0;34m)\u001b[0m\u001b[0;34m\u001b[0m\u001b[0m\n",
      "\u001b[0;31mValueError\u001b[0m: labels [ 2  3  5  9 11 12 18 20] not contained in axis"
     ]
    }
   ],
   "source": [
    "testdata = pd.DataFrame(testdata).drop([2,3,5,9,11,12,18,20],axis=1)"
   ]
  },
  {
   "cell_type": "code",
   "execution_count": 40,
   "metadata": {
    "tags": [
     "s8",
     "hid"
    ]
   },
   "outputs": [
    {
     "name": "stdout",
     "output_type": "stream",
     "text": [
      "continue\n"
     ]
    }
   ],
   "source": [
    "#this is assertion block which verifies the solution.\n",
    "\n",
    "try:\n",
    "    def verify_answer():\n",
    "        if testdata.shape[1] == 14: \n",
    "            return True\n",
    "        else:\n",
    "            return False\n",
    "\n",
    "    ref_assert_var = verify_answer()\n",
    "except Exception as e:\n",
    "    print('Your assertion block throws error: ' + str(e))\n",
    "else:\n",
    "    if ref_assert_var:\n",
    "        print('continue')\n",
    "    else:\n",
    "        print('The answer did not pass the test.')"
   ]
  },
  {
   "cell_type": "markdown",
   "metadata": {
    "tags": [
     "s9",
     "content"
    ]
   },
   "source": [
    "### Build model\n",
    "build the model using linear regression class present in sklearn library"
   ]
  },
  {
   "cell_type": "code",
   "execution_count": 41,
   "metadata": {
    "collapsed": true,
    "tags": [
     "s9",
     "ce"
    ]
   },
   "outputs": [],
   "source": [
    "from sklearn.linear_model import LinearRegression\n"
   ]
  },
  {
   "cell_type": "markdown",
   "metadata": {
    "tags": [
     "s9",
     "hint"
    ]
   },
   "source": [
    "create object _reg_ and fit the data using fit()"
   ]
  },
  {
   "cell_type": "code",
   "execution_count": 42,
   "metadata": {
    "tags": [
     "s9",
     "ans"
    ]
   },
   "outputs": [
    {
     "data": {
      "text/plain": [
       "LinearRegression(copy_X=True, fit_intercept=True, n_jobs=1, normalize=False)"
      ]
     },
     "execution_count": 42,
     "metadata": {},
     "output_type": "execute_result"
    }
   ],
   "source": [
    "reg=LinearRegression()\n",
    "reg.fit(x,y)"
   ]
  },
  {
   "cell_type": "code",
   "execution_count": 44,
   "metadata": {
    "tags": [
     "s9",
     "hid"
    ]
   },
   "outputs": [
    {
     "name": "stdout",
     "output_type": "stream",
     "text": [
      "continue\n"
     ]
    }
   ],
   "source": [
    "#this is assertion block which verifies the solution.\n",
    "\n",
    "try:\n",
    "    def verify_answer():\n",
    "        if reg.coef_.size > 1: \n",
    "            return True\n",
    "        else:\n",
    "            return False\n",
    "\n",
    "    ref_assert_var = verify_answer()\n",
    "except Exception as e:\n",
    "    print('Your assertion block throws error: ' + str(e))\n",
    "else:\n",
    "    if ref_assert_var:\n",
    "        print('continue')\n",
    "    else:\n",
    "        print('The answer did not pass the test.')"
   ]
  },
  {
   "cell_type": "markdown",
   "metadata": {
    "tags": [
     "s10",
     "content"
    ]
   },
   "source": [
    "\n",
    "### Predictions\n",
    "            \n",
    "predict y values for the testdata using the model built\n"
   ]
  },
  {
   "cell_type": "code",
   "execution_count": 45,
   "metadata": {
    "collapsed": true,
    "tags": [
     "s10",
     "ce"
    ]
   },
   "outputs": [],
   "source": [
    "predictions = []"
   ]
  },
  {
   "cell_type": "markdown",
   "metadata": {
    "tags": [
     "s10",
     "hint"
    ]
   },
   "source": [
    "use predict() method to copy the predicted values into _predictions_ and print it out"
   ]
  },
  {
   "cell_type": "code",
   "execution_count": 46,
   "metadata": {
    "tags": [
     "s10",
     "ans"
    ]
   },
   "outputs": [
    {
     "name": "stdout",
     "output_type": "stream",
     "text": [
      "[ 9045.87196786  8896.55435698  9080.00073878  8422.57670189  6766.37434124\n",
      "  7598.76442379  8049.37737608  8243.96706268  8540.52681303  8288.62902882\n",
      "  8370.00376519  8788.98138488  8568.92577314  9297.23181729]\n"
     ]
    }
   ],
   "source": [
    "predictions = reg.predict(testdata)\n",
    "print(predictions)"
   ]
  }
 ],
 "metadata": {
  "executed_sections": [],
  "kernelspec": {
   "display_name": "Python 3",
   "language": "python",
   "name": "python3"
  },
  "language_info": {
   "codemirror_mode": {
    "name": "ipython",
    "version": 3
   },
   "file_extension": ".py",
   "mimetype": "text/x-python",
   "name": "python",
   "nbconvert_exporter": "python",
   "pygments_lexer": "ipython3",
   "version": "3.5.2"
  }
 },
 "nbformat": 4,
 "nbformat_minor": 2
}