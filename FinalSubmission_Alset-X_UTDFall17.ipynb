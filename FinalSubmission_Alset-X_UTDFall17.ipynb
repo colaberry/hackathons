{
 "cells": [
  {
   "cell_type": "markdown",
   "metadata": {
    "tags": [
     "s1",
     "content"
    ]
   },
   "source": [
    "\n",
    "# Predicting Women in STEM using Linear Regression Model\n",
    "                \n",
    "## History\n",
    "\n",
    "###Data is originally from American Community Survey 2010-2012 Public Use Microdata Series. The dataset consists of 75 STEM major studies divided into 5 categories. It also gives the number of men and women in each major along with the median salary and the proportion of women(ShareWomen) in each STEM major.\n",
    "\n",
    "##Women in STEM dataset can be loaded from the datasets in pandas using read_csv(). To work with linear regression datasets, we need the libraries numpy, pandas and seaborn. For modeling, we would need statsmodels or sklearn. The features are available in feature_names list. We can feed this data into a dataframe to use statsmodels or sklearn for regression modeling.\n",
    "\n"
   ]
  },
  {
   "cell_type": "code",
   "execution_count": 46,
   "metadata": {
    "collapsed": true,
    "tags": [
     "s1",
     "ce"
    ]
   },
   "outputs": [],
   "source": [
    "# import python libraries\n",
    "import numpy as np   # For linear algebra\n",
    "import pandas as pd  # For data preprocessing and CSV File \n",
    "import sklearn  # For training machine learning models!\n",
    "import matplotlib.pyplot as plt\n",
    "import seaborn as sns\n",
    "%matplotlib inline"
   ]
  },
  {
   "cell_type": "markdown",
   "metadata": {},
   "source": [
    "\n",
    "\n",
    "Read csv file \n",
    "\n"
   ]
  },
  {
   "cell_type": "markdown",
   "metadata": {},
   "source": [
    "use read_csv() from pandas "
   ]
  },
  {
   "cell_type": "code",
   "execution_count": 47,
   "metadata": {
    "collapsed": true
   },
   "outputs": [],
   "source": [
    "data = pd.read_csv(\"https://raw.githubusercontent.com/fivethirtyeight/data/master/college-majors/women-stem.csv\")"
   ]
  },
  {
   "cell_type": "markdown",
   "metadata": {},
   "source": [
    "\n",
    "\n",
    "### Exploratory Data Analysis\n",
    "                \n",
    "\n",
    "            \n",
    "\n"
   ]
  },
  {
   "cell_type": "markdown",
   "metadata": {},
   "source": [
    "use describe() from pandas library"
   ]
  },
  {
   "cell_type": "code",
   "execution_count": 48,
   "metadata": {},
   "outputs": [
    {
     "data": {
      "text/html": [
       "<div>\n",
       "<table border=\"1\" class=\"dataframe\">\n",
       "  <thead>\n",
       "    <tr style=\"text-align: right;\">\n",
       "      <th></th>\n",
       "      <th>Rank</th>\n",
       "      <th>Major_code</th>\n",
       "      <th>Total</th>\n",
       "      <th>Men</th>\n",
       "      <th>Women</th>\n",
       "      <th>ShareWomen</th>\n",
       "      <th>Median</th>\n",
       "    </tr>\n",
       "  </thead>\n",
       "  <tbody>\n",
       "    <tr>\n",
       "      <th>count</th>\n",
       "      <td>76.000000</td>\n",
       "      <td>76.000000</td>\n",
       "      <td>76.000000</td>\n",
       "      <td>76.000000</td>\n",
       "      <td>76.000000</td>\n",
       "      <td>76.000000</td>\n",
       "      <td>76.000000</td>\n",
       "    </tr>\n",
       "    <tr>\n",
       "      <th>mean</th>\n",
       "      <td>38.500000</td>\n",
       "      <td>3580.026316</td>\n",
       "      <td>25515.289474</td>\n",
       "      <td>12800.763158</td>\n",
       "      <td>12714.526316</td>\n",
       "      <td>0.436929</td>\n",
       "      <td>46118.421053</td>\n",
       "    </tr>\n",
       "    <tr>\n",
       "      <th>std</th>\n",
       "      <td>22.083176</td>\n",
       "      <td>1437.455038</td>\n",
       "      <td>43998.008553</td>\n",
       "      <td>21307.554101</td>\n",
       "      <td>29056.014723</td>\n",
       "      <td>0.232176</td>\n",
       "      <td>13187.223216</td>\n",
       "    </tr>\n",
       "    <tr>\n",
       "      <th>min</th>\n",
       "      <td>1.000000</td>\n",
       "      <td>1301.000000</td>\n",
       "      <td>609.000000</td>\n",
       "      <td>488.000000</td>\n",
       "      <td>77.000000</td>\n",
       "      <td>0.077453</td>\n",
       "      <td>26000.000000</td>\n",
       "    </tr>\n",
       "    <tr>\n",
       "      <th>25%</th>\n",
       "      <td>19.750000</td>\n",
       "      <td>2409.750000</td>\n",
       "      <td>3782.000000</td>\n",
       "      <td>2047.750000</td>\n",
       "      <td>1227.500000</td>\n",
       "      <td>0.247918</td>\n",
       "      <td>36150.000000</td>\n",
       "    </tr>\n",
       "    <tr>\n",
       "      <th>50%</th>\n",
       "      <td>38.500000</td>\n",
       "      <td>3601.500000</td>\n",
       "      <td>11047.500000</td>\n",
       "      <td>4583.000000</td>\n",
       "      <td>5217.500000</td>\n",
       "      <td>0.405868</td>\n",
       "      <td>44350.000000</td>\n",
       "    </tr>\n",
       "    <tr>\n",
       "      <th>75%</th>\n",
       "      <td>57.250000</td>\n",
       "      <td>5002.250000</td>\n",
       "      <td>27509.250000</td>\n",
       "      <td>11686.500000</td>\n",
       "      <td>12463.500000</td>\n",
       "      <td>0.591803</td>\n",
       "      <td>52250.000000</td>\n",
       "    </tr>\n",
       "    <tr>\n",
       "      <th>max</th>\n",
       "      <td>76.000000</td>\n",
       "      <td>6199.000000</td>\n",
       "      <td>280709.000000</td>\n",
       "      <td>111762.000000</td>\n",
       "      <td>187621.000000</td>\n",
       "      <td>0.967998</td>\n",
       "      <td>110000.000000</td>\n",
       "    </tr>\n",
       "  </tbody>\n",
       "</table>\n",
       "</div>"
      ],
      "text/plain": [
       "            Rank   Major_code          Total            Men          Women  \\\n",
       "count  76.000000    76.000000      76.000000      76.000000      76.000000   \n",
       "mean   38.500000  3580.026316   25515.289474   12800.763158   12714.526316   \n",
       "std    22.083176  1437.455038   43998.008553   21307.554101   29056.014723   \n",
       "min     1.000000  1301.000000     609.000000     488.000000      77.000000   \n",
       "25%    19.750000  2409.750000    3782.000000    2047.750000    1227.500000   \n",
       "50%    38.500000  3601.500000   11047.500000    4583.000000    5217.500000   \n",
       "75%    57.250000  5002.250000   27509.250000   11686.500000   12463.500000   \n",
       "max    76.000000  6199.000000  280709.000000  111762.000000  187621.000000   \n",
       "\n",
       "       ShareWomen         Median  \n",
       "count   76.000000      76.000000  \n",
       "mean     0.436929   46118.421053  \n",
       "std      0.232176   13187.223216  \n",
       "min      0.077453   26000.000000  \n",
       "25%      0.247918   36150.000000  \n",
       "50%      0.405868   44350.000000  \n",
       "75%      0.591803   52250.000000  \n",
       "max      0.967998  110000.000000  "
      ]
     },
     "execution_count": 48,
     "metadata": {},
     "output_type": "execute_result"
    }
   ],
   "source": [
    "data.describe()"
   ]
  },
  {
   "cell_type": "markdown",
   "metadata": {},
   "source": [
    "\n",
    "### Coverting Categorical varibles to dummy variables\n"
   ]
  },
  {
   "cell_type": "code",
   "execution_count": 49,
   "metadata": {
    "collapsed": true
   },
   "outputs": [],
   "source": [
    "data = pd.get_dummies(data,drop_first =True)"
   ]
  },
  {
   "cell_type": "markdown",
   "metadata": {},
   "source": [
    "\n",
    "\n",
    "               \n",
    "### Simple preprocessing\n",
    "Now we are going to do a little bit of preprocessing and split our data into a set of features (X) and a set of target labels (y).\n",
    "            \n",
    "\n"
   ]
  },
  {
   "cell_type": "code",
   "execution_count": 50,
   "metadata": {
    "collapsed": true
   },
   "outputs": [],
   "source": [
    "X = data.drop(['Major_code','Rank','Total','ShareWomen'], axis=1)\n",
    "y = data['ShareWomen']"
   ]
  },
  {
   "cell_type": "markdown",
   "metadata": {},
   "source": [
    "\n",
    "\n",
    " \n",
    "                \n",
    "### Train, Test, Split\n",
    "In order to train the model , we need a way to evaluate our models. In order to do this, we want to split our data into a training set and a testing set. Rather than training our model on the entire dataset for the purpose evaluation, we only train the model on the training test first and then evaluate the model's performance in predicting the class of samples on the test set.\n",
    "\n",
    "\n"
   ]
  },
  {
   "cell_type": "markdown",
   "metadata": {},
   "source": [
    "use train_test_split() from scikit learn library"
   ]
  },
  {
   "cell_type": "code",
   "execution_count": 51,
   "metadata": {
    "collapsed": true
   },
   "outputs": [],
   "source": [
    "from sklearn.model_selection import train_test_split # This function is necessary to split the data\n",
    "X_train, X_test, y_train, y_test = train_test_split(X, y, test_size=0.2, random_state=12345)"
   ]
  },
  {
   "cell_type": "markdown",
   "metadata": {},
   "source": [
    "### What train_test_split does:\n",
    "\n",
    "Takes in two dataframes, X and y as parameters corresponding to the features and target column.\n",
    "Contains a parameter called test_size that allows you to specify the proportion of the data that is used for the test set. In the case we will make the test set 30% of our data, which is usually pretty standard.\n",
    "The random_state parameter allows us to specify the random seed so that the results are reproducible.\n",
    "\n",
    "The function returns a tuple of four objects:\n",
    "\n",
    "<li>X_train: Dataframe with feature values for training set.\n",
    "<li>X_test: Dataframe with feature values for testing set.\n",
    "<li>y_train: Dataframe with labels (diagnosis) for training samples.\n",
    "<li>y_test: Dataframe with labels (diagnosis) for testing set."
   ]
  },
  {
   "cell_type": "markdown",
   "metadata": {},
   "source": [
    "\n",
    "### Training a Machine Learning Model - Linear Regression\n",
    "\n",
    "Now that we have split our data into training and test sets, we are ready to train a machine learning model using scikit-learn! We will be using a Linear Regression model \n",
    "\n"
   ]
  },
  {
   "cell_type": "code",
   "execution_count": 52,
   "metadata": {},
   "outputs": [
    {
     "data": {
      "text/plain": [
       "LinearRegression(copy_X=True, fit_intercept=True, n_jobs=1, normalize=False)"
      ]
     },
     "execution_count": 52,
     "metadata": {},
     "output_type": "execute_result"
    }
   ],
   "source": [
    "from sklearn.linear_model import LinearRegression\n",
    "stem_model= LinearRegression()\n",
    "var1=stem_model.fit(X_train, y_train)\n",
    "var1"
   ]
  },
  {
   "cell_type": "code",
   "execution_count": 53,
   "metadata": {},
   "outputs": [
    {
     "name": "stdout",
     "output_type": "stream",
     "text": [
      "continue\n"
     ]
    }
   ],
   "source": [
    "#this is assertion block which verifies the solution.\n",
    "\n",
    "try:\n",
    "    def verify_answer():\n",
    "      \n",
    "        if 1 == 1: \n",
    "            return True\n",
    "        else:\n",
    "            return False\n",
    "      \n",
    "\n",
    "    ref_assert_var = verify_answer()\n",
    "except Exception as e:\n",
    "    print('Your assertion block throws error: ' + str(e))\n",
    "else:\n",
    "    if ref_assert_var:\n",
    "        print('continue')\n",
    "    else:\n",
    "        print('The answer did not pass the test.')"
   ]
  },
  {
   "cell_type": "markdown",
   "metadata": {},
   "source": [
    "\n",
    "\n",
    "## Predict the value of share of women on Train and Test Data\n"
   ]
  },
  {
   "cell_type": "markdown",
   "metadata": {},
   "source": [
    "hint, write any hint here for the above question."
   ]
  },
  {
   "cell_type": "markdown",
   "metadata": {},
   "source": [
    "hint, write any hint here for the above question."
   ]
  },
  {
   "cell_type": "markdown",
   "metadata": {},
   "source": [
    "use predict() in regression model"
   ]
  },
  {
   "cell_type": "code",
   "execution_count": 58,
   "metadata": {
    "collapsed": true
   },
   "outputs": [],
   "source": [
    "# make predictions on the train set\n",
    "y_train_pred = stem_model.predict(X_train)\n",
    "\n",
    "# make predictions on the testing set\n",
    "y_test_pred = stem_model.predict(X_test)"
   ]
  },
  {
   "cell_type": "code",
   "execution_count": 59,
   "metadata": {},
   "outputs": [
    {
     "name": "stdout",
     "output_type": "stream",
     "text": [
      "continue\n"
     ]
    }
   ],
   "source": [
    "#this is assertion block which verifies the solution.\n",
    "\n",
    "try:\n",
    "    def verify_answer():\n",
    "      \n",
    "        if 1 == 1: \n",
    "            return True\n",
    "        else:\n",
    "            return False\n",
    "      \n",
    "\n",
    "    ref_assert_var = verify_answer()\n",
    "except Exception as e:\n",
    "    print('Your assertion block throws error: ' + str(e))\n",
    "else:\n",
    "    if ref_assert_var:\n",
    "        print('continue')\n",
    "    else:\n",
    "        print('The answer did not pass the test.')"
   ]
  },
  {
   "cell_type": "markdown",
   "metadata": {},
   "source": [
    "\n",
    "\n",
    "## Calculate Mean Squared error  for training dataset\n",
    "\n",
    "\n"
   ]
  },
  {
   "cell_type": "code",
   "execution_count": 61,
   "metadata": {},
   "outputs": [
    {
     "data": {
      "text/plain": [
       "1.2196914337804364e-31"
      ]
     },
     "execution_count": 61,
     "metadata": {},
     "output_type": "execute_result"
    }
   ],
   "source": [
    "from sklearn import metrics\n",
    "MSE_Train= metrics.mean_squared_error(y_train, y_train_pred)\n",
    "MSE_Train\n"
   ]
  },
  {
   "cell_type": "code",
   "execution_count": 63,
   "metadata": {},
   "outputs": [
    {
     "name": "stdout",
     "output_type": "stream",
     "text": [
      "continue\n"
     ]
    }
   ],
   "source": [
    "#this is assertion block which verifies the solution.\n",
    "\n",
    "try:\n",
    "    def verify_answer():\n",
    "       \n",
    "        if MSE_Train == 1.2196914337804364e-31 : \n",
    "            return True\n",
    "        else:\n",
    "            return False\n",
    "     \n",
    "\n",
    "    ref_assert_var = verify_answer()\n",
    "except Exception as e:\n",
    "    print('Your assertion block throws error: ' + str(e))\n",
    "else:\n",
    "    if ref_assert_var:\n",
    "        print('continue')\n",
    "    else:\n",
    "        print('The answer did not pass the test.')"
   ]
  },
  {
   "cell_type": "markdown",
   "metadata": {},
   "source": [
    "\n",
    "## Calculate Mean Squared error  for test dataset\n"
   ]
  },
  {
   "cell_type": "code",
   "execution_count": 72,
   "metadata": {},
   "outputs": [
    {
     "name": "stdout",
     "output_type": "stream",
     "text": [
      "0.0175823010414\n"
     ]
    }
   ],
   "source": [
    "MSE_Test = metrics.mean_squared_error(y_test, y_test_pred)\n",
    "print(MSE_Test)"
   ]
  },
  {
   "cell_type": "code",
   "execution_count": 77,
   "metadata": {},
   "outputs": [
    {
     "name": "stdout",
     "output_type": "stream",
     "text": [
      "continue\n"
     ]
    }
   ],
   "source": [
    "#this is assertion block which verifies the solution.\n",
    "\n",
    "try:\n",
    "    def verify_answer():\n",
    "       \n",
    "        if 1 == 1: \n",
    "            return True\n",
    "        else:\n",
    "            return False\n",
    "     \n",
    "\n",
    "    ref_assert_var = verify_answer()\n",
    "except Exception as e:\n",
    "    print('Your assertion block throws error: ' + str(e))\n",
    "else:\n",
    "    if ref_assert_var:\n",
    "        print('continue')\n",
    "    else:\n",
    "        print('The answer did not pass the test.')"
   ]
  },
  {
   "cell_type": "markdown",
   "metadata": {},
   "source": [
    "\n",
    "\n",
    "## Predicting the accuracy of the model\n",
    "                \n",
    "\n"
   ]
  },
  {
   "cell_type": "code",
   "execution_count": 78,
   "metadata": {},
   "outputs": [
    {
     "data": {
      "text/plain": [
       "0.76140758167225142"
      ]
     },
     "execution_count": 78,
     "metadata": {},
     "output_type": "execute_result"
    }
   ],
   "source": [
    "# print the R-squared value for the model\n",
    "# calculate the R-squared\n",
    "\n",
    "accuracy = stem_model.score(X_test, y_test)"
   ]
  }
 ],
 "metadata": {
  "executed_sections": [],
  "kernelspec": {
   "display_name": "Python 3",
   "language": "python",
   "name": "python3"
  },
  "language_info": {
   "codemirror_mode": {
    "name": "ipython",
    "version": 3
   },
   "file_extension": ".py",
   "mimetype": "text/x-python",
   "name": "python",
   "nbconvert_exporter": "python",
   "pygments_lexer": "ipython3",
   "version": "3.5.2"
  }
 },
 "nbformat": 4,
 "nbformat_minor": 2
}