{
 "cells": [
  {
   "cell_type": "markdown",
   "metadata": {
    "tags": [
     "s1",
     "content"
    ]
   },
   "source": [
    "# Bitcoin Price Analysis\n",
    "                \n",
    "## About the Dataset\n",
    "\n",
    "Bitcoin is an application of Block Chain Technology.\n",
    "\n",
    "Bitcoin is a digital currency (also called crypto-currency) that is not backed by any country's central bank or government. Bitcoins can be traded for goods or services with vendors who accept Bitcoins as payment.\n",
    "\n",
    "We are given a dataset which contains the following columns:\n",
    "\n",
    "- Date : Date of observation\n",
    "- btc_market_price : Average USD market price across major bitcoin exchanges.\n",
    "- btc_total_bitcoins : The total number of bitcoins that have already been mined.\n",
    "- btc_market_cap : The total USD value of bitcoin supply in circulation.\n",
    "- btc_trade_volume : The total USD value of trading volume on major bitcoin exchanges.\n",
    "- btc_blocks_size : The total size of all block headers and transactions.\n",
    "- btc_avg_block_size : The average block size in MB.\n",
    "- btc_n_orphaned_blocks : The total number of blocks mined but ultimately not attached to the main Bitcoin blockchain.\n",
    "- btc_n_transactions_per_block : The average number of transactions per block.\n",
    "- btc_median_confirmation_time : The median time for a transaction to be accepted into a mined block.\n",
    "- btc_hash_rate : The estimated number of tera hashes per second the Bitcoin network is performing.\n",
    "- btc_difficulty : A relative measure of how difficult it is to find a new block.\n",
    "- btc_miners_revenue : Total value of coinbase block rewards and transaction fees paid to miners.\n",
    "- btc_transaction_fees : The total value of all transaction fees paid to miners.\n",
    "- btc_cost_per_transaction_percent : miners revenue as percentage of the transaction volume.\n",
    "- btc_cost_per_transaction : miners revenue divided by the number of transactions.\n",
    "- btc_n_unique_addresses : The total number of unique addresses used on the Bitcoin blockchain.\n",
    "- btc_n_transactions : The number of daily confirmed Bitcoin transactions.\n",
    "- btc_n_transactions_total : Total number of transactions.\n",
    "- btc_n_transactions_excluding_popular : The total number of Bitcoin transactions, excluding the 100 most popular addresses.\n",
    "- btc_n_transactions_excluding_chains_longer_than_100 : The total number of Bitcoin transactions per day excluding long transaction chains.\n",
    "- btc_output_volume : The total value of all transaction outputs per day.\n",
    "- btc_estimated_transaction_volume : The total estimated value of transactions on the Bitcoin blockchain.\n",
    "\n",
    "## Problem Statement\n",
    "\n",
    "Historic price of bitcoins are provided for analysis. Your task is to\n",
    "\n",
    "1) Ingest the data into a format that is easy for analysis.\n",
    "\n",
    "2) Perform Exploratory Data Analysis on the dataset.\n",
    "\n",
    "3) Can you predict the future price of the dataset?\n",
    "\n",
    "\n",
    "## Description\n",
    "\n",
    "The task is basically to predict the future market price of the bitcoin.\n",
    "                \n",
    "### Exercise\n",
    "\n",
    "- Identify whether it is a classification or regression problem.\n",
    "- Create a variable 'a' and assign it to 'classification' if it is a classification problem else assign it to 'regression'.\n",
    "- Print variable a.\n"
   ]
  },
  {
   "cell_type": "code",
   "execution_count": 78,
   "metadata": {
    "has_completed": true,
    "tags": [
     "s1",
     "ce"
    ]
   },
   "outputs": [
    {
     "name": "stdout",
     "output_type": "stream",
     "text": [
      "regression\n"
     ]
    }
   ],
   "source": [
    "a = \"regression\"\n",
    "print(a)"
   ]
  },
  {
   "cell_type": "markdown",
   "metadata": {
    "tags": [
     "s1",
     "hint"
    ]
   },
   "source": [
    "Classification : It is generally used to classify a thing.\n",
    "Example: If you want to classify a fruit as an orange or an apple. We use classification.\n",
    "\n",
    "Regression : It is used to estimate a value based on the patterns in the data.\n",
    "Example: To predict stock prices."
   ]
  },
  {
   "cell_type": "code",
   "execution_count": null,
   "metadata": {
    "collapsed": true,
    "tags": [
     "s1",
     "ans"
    ]
   },
   "outputs": [],
   "source": []
  },
  {
   "cell_type": "code",
   "execution_count": 40,
   "metadata": {
    "tags": [
     "s1",
     "hid"
    ]
   },
   "outputs": [
    {
     "name": "stdout",
     "output_type": "stream",
     "text": [
      "continue\n"
     ]
    }
   ],
   "source": [
    "\n",
    "try:\n",
    "    def verify_answer(a):\n",
    "        \n",
    "        if a == 'regression': \n",
    "            return True\n",
    "        else:\n",
    "            return False\n",
    "        \n",
    "    ref_assert_var = verify_answer(a)\n",
    "except Exception as e:\n",
    "    print('Your assertion block throws error: ' + str(e))\n",
    "else:\n",
    "    if ref_assert_var:\n",
    "        print('continue')\n",
    "    else:\n",
    "        print('Read the instructions and try again')"
   ]
  },
  {
   "cell_type": "markdown",
   "metadata": {
    "tags": [
     "s2",
     "content"
    ]
   },
   "source": [
    "\n",
    "\n",
    "## Importing libraries and dataset\n",
    "                \n",
    "### Importing libraries\n",
    "\n",
    "- Pandas : It is powerful open source library for data analysis\n",
    "\n",
    "More information can be found at http://pandas.pydata.org/pandas-docs/stable/\n",
    "\n",
    "- NumPy : It is also an open source library for Python, adding support for large, multi-dimensional arrays and matrices along with a large collection of high-level mathematical functions to operate on these arrays.\n",
    "            \n",
    "More information can be found at https://docs.scipy.org/doc/numpy-dev/user/index.html\n",
    "\n",
    "- Matplotlib : It is an open source plotting library use for data visualisation.\n",
    "\n",
    "More information can be found at https://matplotlib.org/users/index.html\n",
    "\n",
    "- Seaborn : It is an open source library built on matplotlib which provides a high level interface for drawing attractive statistical graphics\n",
    "\n",
    "More information can be found at https://seaborn.pydata.org/\n",
    "\n",
    "- Scikit-learn : It is an open source library built on numpy, scipy and matplolib which contains effiecient tools for machine learning and statistical modeling.\n",
    "\n",
    "More information can be found at http://scikit-learn.org/stable/documentation.html\n",
    "\n",
    "\n",
    "#### Exercise\n",
    "\n",
    "- Import all the above mentioned libraries\n",
    "\n",
    "- Import the BitCoin dataset from 'https://raw.githubusercontent.com/colaberry/data/master/Bitcoin/bitcoin_dataset.csv' using read_csv() function of pandas library and assign it to 'bitcoin' variable.\n",
    "\n",
    "- Also remove the null values by setting them to 0 using fillna()\n",
    "\n",
    "- Print top 5 rows using head() function\n",
    "\n",
    "\n"
   ]
  },
  {
   "cell_type": "code",
   "execution_count": 61,
   "metadata": {
    "has_completed": true,
    "tags": [
     "s2",
     "ce"
    ]
   },
   "outputs": [
    {
     "data": {
      "text/html": [
       "<div>\n",
       "<table border=\"1\" class=\"dataframe\">\n",
       "  <thead>\n",
       "    <tr style=\"text-align: right;\">\n",
       "      <th></th>\n",
       "      <th>Date</th>\n",
       "      <th>btc_market_price</th>\n",
       "      <th>btc_total_bitcoins</th>\n",
       "      <th>btc_market_cap</th>\n",
       "      <th>btc_trade_volume</th>\n",
       "      <th>btc_blocks_size</th>\n",
       "      <th>btc_avg_block_size</th>\n",
       "      <th>btc_n_orphaned_blocks</th>\n",
       "      <th>btc_n_transactions_per_block</th>\n",
       "      <th>btc_median_confirmation_time</th>\n",
       "      <th>...</th>\n",
       "      <th>btc_cost_per_transaction_percent</th>\n",
       "      <th>btc_cost_per_transaction</th>\n",
       "      <th>btc_n_unique_addresses</th>\n",
       "      <th>btc_n_transactions</th>\n",
       "      <th>btc_n_transactions_total</th>\n",
       "      <th>btc_n_transactions_excluding_popular</th>\n",
       "      <th>btc_n_transactions_excluding_chains_longer_than_100</th>\n",
       "      <th>btc_output_volume</th>\n",
       "      <th>btc_estimated_transaction_volume</th>\n",
       "      <th>btc_estimated_transaction_volume_usd</th>\n",
       "    </tr>\n",
       "  </thead>\n",
       "  <tbody>\n",
       "    <tr>\n",
       "      <th>0</th>\n",
       "      <td>2/17/2010</td>\n",
       "      <td>0.0</td>\n",
       "      <td>2043200.0</td>\n",
       "      <td>0.0</td>\n",
       "      <td>0.0</td>\n",
       "      <td>0.0</td>\n",
       "      <td>0.000235</td>\n",
       "      <td>0</td>\n",
       "      <td>1.0</td>\n",
       "      <td>0.0</td>\n",
       "      <td>...</td>\n",
       "      <td>31.781022</td>\n",
       "      <td>0.0</td>\n",
       "      <td>241</td>\n",
       "      <td>244</td>\n",
       "      <td>41240</td>\n",
       "      <td>244</td>\n",
       "      <td>244</td>\n",
       "      <td>65173.13</td>\n",
       "      <td>36500.0</td>\n",
       "      <td>0.0</td>\n",
       "    </tr>\n",
       "    <tr>\n",
       "      <th>1</th>\n",
       "      <td>2/18/2010</td>\n",
       "      <td>0.0</td>\n",
       "      <td>2054650.0</td>\n",
       "      <td>0.0</td>\n",
       "      <td>0.0</td>\n",
       "      <td>0.0</td>\n",
       "      <td>0.000241</td>\n",
       "      <td>0</td>\n",
       "      <td>1.0</td>\n",
       "      <td>0.0</td>\n",
       "      <td>...</td>\n",
       "      <td>154.463801</td>\n",
       "      <td>0.0</td>\n",
       "      <td>234</td>\n",
       "      <td>235</td>\n",
       "      <td>41475</td>\n",
       "      <td>235</td>\n",
       "      <td>235</td>\n",
       "      <td>18911.74</td>\n",
       "      <td>7413.0</td>\n",
       "      <td>0.0</td>\n",
       "    </tr>\n",
       "    <tr>\n",
       "      <th>2</th>\n",
       "      <td>2/19/2010</td>\n",
       "      <td>0.0</td>\n",
       "      <td>2063600.0</td>\n",
       "      <td>0.0</td>\n",
       "      <td>0.0</td>\n",
       "      <td>0.0</td>\n",
       "      <td>0.000228</td>\n",
       "      <td>0</td>\n",
       "      <td>1.0</td>\n",
       "      <td>0.0</td>\n",
       "      <td>...</td>\n",
       "      <td>1278.516635</td>\n",
       "      <td>0.0</td>\n",
       "      <td>185</td>\n",
       "      <td>183</td>\n",
       "      <td>41658</td>\n",
       "      <td>183</td>\n",
       "      <td>183</td>\n",
       "      <td>9749.98</td>\n",
       "      <td>700.0</td>\n",
       "      <td>0.0</td>\n",
       "    </tr>\n",
       "    <tr>\n",
       "      <th>3</th>\n",
       "      <td>2/20/2010</td>\n",
       "      <td>0.0</td>\n",
       "      <td>2074700.0</td>\n",
       "      <td>0.0</td>\n",
       "      <td>0.0</td>\n",
       "      <td>0.0</td>\n",
       "      <td>0.000218</td>\n",
       "      <td>0</td>\n",
       "      <td>1.0</td>\n",
       "      <td>0.0</td>\n",
       "      <td>...</td>\n",
       "      <td>22186.687990</td>\n",
       "      <td>0.0</td>\n",
       "      <td>224</td>\n",
       "      <td>224</td>\n",
       "      <td>41882</td>\n",
       "      <td>224</td>\n",
       "      <td>224</td>\n",
       "      <td>11150.03</td>\n",
       "      <td>50.0</td>\n",
       "      <td>0.0</td>\n",
       "    </tr>\n",
       "    <tr>\n",
       "      <th>4</th>\n",
       "      <td>2/21/2010</td>\n",
       "      <td>0.0</td>\n",
       "      <td>2085400.0</td>\n",
       "      <td>0.0</td>\n",
       "      <td>0.0</td>\n",
       "      <td>0.0</td>\n",
       "      <td>0.000234</td>\n",
       "      <td>0</td>\n",
       "      <td>1.0</td>\n",
       "      <td>0.0</td>\n",
       "      <td>...</td>\n",
       "      <td>689.179876</td>\n",
       "      <td>0.0</td>\n",
       "      <td>218</td>\n",
       "      <td>218</td>\n",
       "      <td>42100</td>\n",
       "      <td>218</td>\n",
       "      <td>218</td>\n",
       "      <td>12266.83</td>\n",
       "      <td>1553.0</td>\n",
       "      <td>0.0</td>\n",
       "    </tr>\n",
       "  </tbody>\n",
       "</table>\n",
       "<p>5 rows × 24 columns</p>\n",
       "</div>"
      ],
      "text/plain": [
       "        Date  btc_market_price  btc_total_bitcoins  btc_market_cap  \\\n",
       "0  2/17/2010               0.0           2043200.0             0.0   \n",
       "1  2/18/2010               0.0           2054650.0             0.0   \n",
       "2  2/19/2010               0.0           2063600.0             0.0   \n",
       "3  2/20/2010               0.0           2074700.0             0.0   \n",
       "4  2/21/2010               0.0           2085400.0             0.0   \n",
       "\n",
       "   btc_trade_volume  btc_blocks_size  btc_avg_block_size  \\\n",
       "0               0.0              0.0            0.000235   \n",
       "1               0.0              0.0            0.000241   \n",
       "2               0.0              0.0            0.000228   \n",
       "3               0.0              0.0            0.000218   \n",
       "4               0.0              0.0            0.000234   \n",
       "\n",
       "   btc_n_orphaned_blocks  btc_n_transactions_per_block  \\\n",
       "0                      0                           1.0   \n",
       "1                      0                           1.0   \n",
       "2                      0                           1.0   \n",
       "3                      0                           1.0   \n",
       "4                      0                           1.0   \n",
       "\n",
       "   btc_median_confirmation_time                  ...                   \\\n",
       "0                           0.0                  ...                    \n",
       "1                           0.0                  ...                    \n",
       "2                           0.0                  ...                    \n",
       "3                           0.0                  ...                    \n",
       "4                           0.0                  ...                    \n",
       "\n",
       "   btc_cost_per_transaction_percent  btc_cost_per_transaction  \\\n",
       "0                         31.781022                       0.0   \n",
       "1                        154.463801                       0.0   \n",
       "2                       1278.516635                       0.0   \n",
       "3                      22186.687990                       0.0   \n",
       "4                        689.179876                       0.0   \n",
       "\n",
       "   btc_n_unique_addresses  btc_n_transactions  btc_n_transactions_total  \\\n",
       "0                     241                 244                     41240   \n",
       "1                     234                 235                     41475   \n",
       "2                     185                 183                     41658   \n",
       "3                     224                 224                     41882   \n",
       "4                     218                 218                     42100   \n",
       "\n",
       "   btc_n_transactions_excluding_popular  \\\n",
       "0                                   244   \n",
       "1                                   235   \n",
       "2                                   183   \n",
       "3                                   224   \n",
       "4                                   218   \n",
       "\n",
       "   btc_n_transactions_excluding_chains_longer_than_100  btc_output_volume  \\\n",
       "0                                                244             65173.13   \n",
       "1                                                235             18911.74   \n",
       "2                                                183              9749.98   \n",
       "3                                                224             11150.03   \n",
       "4                                                218             12266.83   \n",
       "\n",
       "   btc_estimated_transaction_volume  btc_estimated_transaction_volume_usd  \n",
       "0                           36500.0                                   0.0  \n",
       "1                            7413.0                                   0.0  \n",
       "2                             700.0                                   0.0  \n",
       "3                              50.0                                   0.0  \n",
       "4                            1553.0                                   0.0  \n",
       "\n",
       "[5 rows x 24 columns]"
      ]
     },
     "execution_count": 61,
     "metadata": {},
     "output_type": "execute_result"
    }
   ],
   "source": [
    "import pandas as pd\n",
    "import numpy as np\n",
    "import matplotlib.pyplot as plt\n",
    "import seaborn as sns\n",
    "import sklearn\n",
    "\n",
    "bitcoin = pd.read_csv(\"https://raw.githubusercontent.com/colaberry/data/master/Bitcoin/bitcoin_dataset.csv\")\n",
    "bitcoin.fillna(0, inplace=True)\n",
    "bitcoin.head()"
   ]
  },
  {
   "cell_type": "markdown",
   "metadata": {
    "tags": [
     "s2",
     "hint"
    ]
   },
   "source": [
    "Use import keyword along with library name to import the library.\n",
    "Use read_csv() and head() functions to retrieve and print the data"
   ]
  },
  {
   "cell_type": "code",
   "execution_count": null,
   "metadata": {
    "collapsed": true,
    "tags": [
     "s2",
     "ans"
    ]
   },
   "outputs": [],
   "source": []
  },
  {
   "cell_type": "code",
   "execution_count": 43,
   "metadata": {
    "tags": [
     "s2",
     "hid"
    ]
   },
   "outputs": [
    {
     "name": "stdout",
     "output_type": "stream",
     "text": [
      "continue\n"
     ]
    }
   ],
   "source": [
    "#this is assertion block which verifies the solution.\n",
    "\n",
    "try:\n",
    "    def verify_answer(bitcoin):\n",
    "        return True\n",
    "\n",
    "    ref_assert_var = verify_answer(bitcoin)\n",
    "except Exception as e:\n",
    "    print('Your assertion block throws error: ' + str(e))\n",
    "else:\n",
    "    if ref_assert_var:\n",
    "        print('continue')\n",
    "    else:\n",
    "        print('The answer did not pass the test.')"
   ]
  },
  {
   "cell_type": "markdown",
   "metadata": {
    "tags": [
     "s3",
     "content"
    ]
   },
   "source": [
    "\n",
    "## Data Visualisation\n",
    "                \n",
    "### Understanding the features needed to analyse the market price\n",
    "            \n",
    "\n",
    "Market Price of Bitcoin depends on the combination of :\n",
    "\n",
    "1) Supply and demand:\n",
    "    Available bitcoin for sell (sell orders), vs US dollars waiting to be exchanged (buy orders) across the exchanges. The amount of Bitcoin being traded at exchanges is just a fraction of the available supply in circulation. Most Bitcoin is kept as investment, so it isn’t always for sale.\n",
    "    \n",
    "2) Speculation:\n",
    "    The Bitcoin ecosystem has several news sites and forums that only talk about bitcoin, cryptocurrency or institutions playing with the technology. These news and content influence the market and speculators significantly, just like it happens in the stock market. To survive speculation follow the trends and remember to “Buy on fear, sell on greed”.\n",
    "    \n",
    "3) Mining:\n",
    "    The cost to mine new Bitcoins affects the price. The cost of mining depends on: electricity, hardware, and maintenance. Miners calculate these costs and sell their Bitcoin for a premium to be profitable. A miner won’t sell his Bitcoin for less that the production cost unless they are running low on cash.\n",
    "    \n",
    "4) Bitcoin’s Technical Design:\n",
    "    Bitcoin has a fixed and constantly decreasing inflation that halves every 4 years or every 210,000 blocks. After this year’s halving, 12.5 new bitcoins come to existence.\n",
    "    \n",
    "5) Volume:\n",
    "    The amount of Bitcoin moved through the network converted to fiat. Consider the volume, but take it with a grain of salt, the volume can manipulated by big Bitcoin holders by moving Bitcoin around.\n",
    "    \n",
    "6) Number of transactions:\n",
    "    The number of transactions is a bit more relevant than the last metric as manipulating the number of confirmed transactions has a cost. The number of transactions indicates an increase in usage of the Bitcoin network. It is one of the best ways to measure wether Bitcoin usage is growing, shrinking or remains stable.\n",
    "    \n",
    "    So, we can guess that following features cannot be neglected\n",
    "    1) Block details\n",
    "    2) Transaction Details\n",
    "    3) Volume\n",
    "    4) Miner Details\n",
    "    \n",
    "### Exercise \n",
    " \n",
    "- Plot a graph between date and market_price\n",
    "- Import datetime library\n"
   ]
  },
  {
   "cell_type": "code",
   "execution_count": 62,
   "metadata": {
    "has_completed": true,
    "tags": [
     "s3",
     "ce"
    ]
   },
   "outputs": [
    {
     "data": {
      "image/png": "[encoded data removed]",
      "text/plain": [
       "<matplotlib.figure.Figure at 0x7f63bd7d2160>"
      ]
     },
     "metadata": {},
     "output_type": "display_data"
    }
   ],
   "source": [
    "import datetime as dt\n",
    "x = [dt.datetime.strptime(d,'%m/%d/%Y').date() for d in bitcoin['Date']]\n",
    "y = bitcoin['btc_market_price']\n",
    "plt.plot(x,y)\n",
    "plt.show()"
   ]
  },
  {
   "cell_type": "markdown",
   "metadata": {
    "tags": [
     "s3",
     "hint"
    ]
   },
   "source": [
    "https://docs.python.org/2/library/datetime.html"
   ]
  },
  {
   "cell_type": "code",
   "execution_count": null,
   "metadata": {
    "collapsed": true,
    "tags": [
     "s3",
     "ans"
    ]
   },
   "outputs": [],
   "source": []
  },
  {
   "cell_type": "code",
   "execution_count": 45,
   "metadata": {
    "tags": [
     "s3",
     "hid"
    ]
   },
   "outputs": [
    {
     "name": "stdout",
     "output_type": "stream",
     "text": [
      "continue\n"
     ]
    }
   ],
   "source": [
    "#this is assertion block which verifies the solution.\n",
    "\n",
    "try:\n",
    "    def verify_answer():\n",
    "           return True\n",
    "\n",
    "    ref_assert_var = verify_answer()\n",
    "except Exception as e:\n",
    "    print('Your assertion block throws error: ' + str(e))\n",
    "else:\n",
    "    if ref_assert_var:\n",
    "        print('continue')\n",
    "    else:\n",
    "        print('The answer did not pass the test.')"
   ]
  },
  {
   "cell_type": "markdown",
   "metadata": {
    "tags": [
     "s4",
     "content"
    ]
   },
   "source": [
    "\n",
    "\n",
    "## Removing unneccesary features\n",
    "                \n",
    "### The Date Column\n",
    "\n",
    "We have seen the relationship between the date and market price in the previous section.\n",
    "\n",
    "Let us understand if Date feature is really necessary for prediction of bitcoin price.\n",
    "\n",
    "1) We have understood that, main features for estimating the market price of a bitcoin are Block Details, Transaction Details, Volume and Miner Details.\n",
    "\n",
    "2) Though date is very necessary feature for knowing the market price on the listed day, it doesn't have anything to do with market price calculation.\n",
    "\n",
    "So we  can conclude, date column is to be removed.\n",
    "            \n",
    "### Exercise\n",
    "\n",
    "- Remove the 'Date' column from the above imported Bitcoin dataset using pandas and save it to 'bitcoin_actual'.\n",
    "\n",
    "- Use drop(value, axis) method of pandas\n",
    "\n",
    "- Print the top 5 rows of 'bitcoin_actual'\n"
   ]
  },
  {
   "cell_type": "code",
   "execution_count": 63,
   "metadata": {
    "has_completed": true,
    "tags": [
     "s4",
     "ce"
    ]
   },
   "outputs": [
    {
     "data": {
      "text/html": [
       "<div>\n",
       "<table border=\"1\" class=\"dataframe\">\n",
       "  <thead>\n",
       "    <tr style=\"text-align: right;\">\n",
       "      <th></th>\n",
       "      <th>btc_market_price</th>\n",
       "      <th>btc_total_bitcoins</th>\n",
       "      <th>btc_market_cap</th>\n",
       "      <th>btc_trade_volume</th>\n",
       "      <th>btc_blocks_size</th>\n",
       "      <th>btc_avg_block_size</th>\n",
       "      <th>btc_n_orphaned_blocks</th>\n",
       "      <th>btc_n_transactions_per_block</th>\n",
       "      <th>btc_median_confirmation_time</th>\n",
       "      <th>btc_hash_rate</th>\n",
       "      <th>...</th>\n",
       "      <th>btc_cost_per_transaction_percent</th>\n",
       "      <th>btc_cost_per_transaction</th>\n",
       "      <th>btc_n_unique_addresses</th>\n",
       "      <th>btc_n_transactions</th>\n",
       "      <th>btc_n_transactions_total</th>\n",
       "      <th>btc_n_transactions_excluding_popular</th>\n",
       "      <th>btc_n_transactions_excluding_chains_longer_than_100</th>\n",
       "      <th>btc_output_volume</th>\n",
       "      <th>btc_estimated_transaction_volume</th>\n",
       "      <th>btc_estimated_transaction_volume_usd</th>\n",
       "    </tr>\n",
       "  </thead>\n",
       "  <tbody>\n",
       "    <tr>\n",
       "      <th>0</th>\n",
       "      <td>0.0</td>\n",
       "      <td>2043200.0</td>\n",
       "      <td>0.0</td>\n",
       "      <td>0.0</td>\n",
       "      <td>0.0</td>\n",
       "      <td>0.000235</td>\n",
       "      <td>0</td>\n",
       "      <td>1.0</td>\n",
       "      <td>0.0</td>\n",
       "      <td>0.000029</td>\n",
       "      <td>...</td>\n",
       "      <td>31.781022</td>\n",
       "      <td>0.0</td>\n",
       "      <td>241</td>\n",
       "      <td>244</td>\n",
       "      <td>41240</td>\n",
       "      <td>244</td>\n",
       "      <td>244</td>\n",
       "      <td>65173.13</td>\n",
       "      <td>36500.0</td>\n",
       "      <td>0.0</td>\n",
       "    </tr>\n",
       "    <tr>\n",
       "      <th>1</th>\n",
       "      <td>0.0</td>\n",
       "      <td>2054650.0</td>\n",
       "      <td>0.0</td>\n",
       "      <td>0.0</td>\n",
       "      <td>0.0</td>\n",
       "      <td>0.000241</td>\n",
       "      <td>0</td>\n",
       "      <td>1.0</td>\n",
       "      <td>0.0</td>\n",
       "      <td>0.000029</td>\n",
       "      <td>...</td>\n",
       "      <td>154.463801</td>\n",
       "      <td>0.0</td>\n",
       "      <td>234</td>\n",
       "      <td>235</td>\n",
       "      <td>41475</td>\n",
       "      <td>235</td>\n",
       "      <td>235</td>\n",
       "      <td>18911.74</td>\n",
       "      <td>7413.0</td>\n",
       "      <td>0.0</td>\n",
       "    </tr>\n",
       "    <tr>\n",
       "      <th>2</th>\n",
       "      <td>0.0</td>\n",
       "      <td>2063600.0</td>\n",
       "      <td>0.0</td>\n",
       "      <td>0.0</td>\n",
       "      <td>0.0</td>\n",
       "      <td>0.000228</td>\n",
       "      <td>0</td>\n",
       "      <td>1.0</td>\n",
       "      <td>0.0</td>\n",
       "      <td>0.000023</td>\n",
       "      <td>...</td>\n",
       "      <td>1278.516635</td>\n",
       "      <td>0.0</td>\n",
       "      <td>185</td>\n",
       "      <td>183</td>\n",
       "      <td>41658</td>\n",
       "      <td>183</td>\n",
       "      <td>183</td>\n",
       "      <td>9749.98</td>\n",
       "      <td>700.0</td>\n",
       "      <td>0.0</td>\n",
       "    </tr>\n",
       "    <tr>\n",
       "      <th>3</th>\n",
       "      <td>0.0</td>\n",
       "      <td>2074700.0</td>\n",
       "      <td>0.0</td>\n",
       "      <td>0.0</td>\n",
       "      <td>0.0</td>\n",
       "      <td>0.000218</td>\n",
       "      <td>0</td>\n",
       "      <td>1.0</td>\n",
       "      <td>0.0</td>\n",
       "      <td>0.000028</td>\n",
       "      <td>...</td>\n",
       "      <td>22186.687990</td>\n",
       "      <td>0.0</td>\n",
       "      <td>224</td>\n",
       "      <td>224</td>\n",
       "      <td>41882</td>\n",
       "      <td>224</td>\n",
       "      <td>224</td>\n",
       "      <td>11150.03</td>\n",
       "      <td>50.0</td>\n",
       "      <td>0.0</td>\n",
       "    </tr>\n",
       "    <tr>\n",
       "      <th>4</th>\n",
       "      <td>0.0</td>\n",
       "      <td>2085400.0</td>\n",
       "      <td>0.0</td>\n",
       "      <td>0.0</td>\n",
       "      <td>0.0</td>\n",
       "      <td>0.000234</td>\n",
       "      <td>0</td>\n",
       "      <td>1.0</td>\n",
       "      <td>0.0</td>\n",
       "      <td>0.000027</td>\n",
       "      <td>...</td>\n",
       "      <td>689.179876</td>\n",
       "      <td>0.0</td>\n",
       "      <td>218</td>\n",
       "      <td>218</td>\n",
       "      <td>42100</td>\n",
       "      <td>218</td>\n",
       "      <td>218</td>\n",
       "      <td>12266.83</td>\n",
       "      <td>1553.0</td>\n",
       "      <td>0.0</td>\n",
       "    </tr>\n",
       "  </tbody>\n",
       "</table>\n",
       "<p>5 rows × 23 columns</p>\n",
       "</div>"
      ],
      "text/plain": [
       "   btc_market_price  btc_total_bitcoins  btc_market_cap  btc_trade_volume  \\\n",
       "0               0.0           2043200.0             0.0               0.0   \n",
       "1               0.0           2054650.0             0.0               0.0   \n",
       "2               0.0           2063600.0             0.0               0.0   \n",
       "3               0.0           2074700.0             0.0               0.0   \n",
       "4               0.0           2085400.0             0.0               0.0   \n",
       "\n",
       "   btc_blocks_size  btc_avg_block_size  btc_n_orphaned_blocks  \\\n",
       "0              0.0            0.000235                      0   \n",
       "1              0.0            0.000241                      0   \n",
       "2              0.0            0.000228                      0   \n",
       "3              0.0            0.000218                      0   \n",
       "4              0.0            0.000234                      0   \n",
       "\n",
       "   btc_n_transactions_per_block  btc_median_confirmation_time  btc_hash_rate  \\\n",
       "0                           1.0                           0.0       0.000029   \n",
       "1                           1.0                           0.0       0.000029   \n",
       "2                           1.0                           0.0       0.000023   \n",
       "3                           1.0                           0.0       0.000028   \n",
       "4                           1.0                           0.0       0.000027   \n",
       "\n",
       "                   ...                   btc_cost_per_transaction_percent  \\\n",
       "0                  ...                                          31.781022   \n",
       "1                  ...                                         154.463801   \n",
       "2                  ...                                        1278.516635   \n",
       "3                  ...                                       22186.687990   \n",
       "4                  ...                                         689.179876   \n",
       "\n",
       "   btc_cost_per_transaction  btc_n_unique_addresses  btc_n_transactions  \\\n",
       "0                       0.0                     241                 244   \n",
       "1                       0.0                     234                 235   \n",
       "2                       0.0                     185                 183   \n",
       "3                       0.0                     224                 224   \n",
       "4                       0.0                     218                 218   \n",
       "\n",
       "   btc_n_transactions_total  btc_n_transactions_excluding_popular  \\\n",
       "0                     41240                                   244   \n",
       "1                     41475                                   235   \n",
       "2                     41658                                   183   \n",
       "3                     41882                                   224   \n",
       "4                     42100                                   218   \n",
       "\n",
       "   btc_n_transactions_excluding_chains_longer_than_100  btc_output_volume  \\\n",
       "0                                                244             65173.13   \n",
       "1                                                235             18911.74   \n",
       "2                                                183              9749.98   \n",
       "3                                                224             11150.03   \n",
       "4                                                218             12266.83   \n",
       "\n",
       "   btc_estimated_transaction_volume  btc_estimated_transaction_volume_usd  \n",
       "0                           36500.0                                   0.0  \n",
       "1                            7413.0                                   0.0  \n",
       "2                             700.0                                   0.0  \n",
       "3                              50.0                                   0.0  \n",
       "4                            1553.0                                   0.0  \n",
       "\n",
       "[5 rows x 23 columns]"
      ]
     },
     "execution_count": 63,
     "metadata": {},
     "output_type": "execute_result"
    }
   ],
   "source": [
    "bitcoin_actual = bitcoin.drop(['Date'], 1)\n",
    "bitcoin_actual.head()"
   ]
  },
  {
   "cell_type": "markdown",
   "metadata": {
    "tags": [
     "s4",
     "hint"
    ]
   },
   "source": [
    "axis to delete columns is 1.\n",
    "use head() to print top 5 rows."
   ]
  },
  {
   "cell_type": "code",
   "execution_count": 47,
   "metadata": {
    "collapsed": true,
    "tags": [
     "s4",
     "ans"
    ]
   },
   "outputs": [],
   "source": []
  },
  {
   "cell_type": "code",
   "execution_count": 48,
   "metadata": {
    "tags": [
     "s4",
     "hid"
    ]
   },
   "outputs": [
    {
     "name": "stdout",
     "output_type": "stream",
     "text": [
      "continue\n"
     ]
    }
   ],
   "source": [
    "#this is assertion block which verifies the solution.\n",
    "\n",
    "try:\n",
    "    def verify_answer():\n",
    "        return True\n",
    "\n",
    "    ref_assert_var = verify_answer()\n",
    "except Exception as e:\n",
    "    print('Your assertion block throws error: ' + str(e))\n",
    "else:\n",
    "    if ref_assert_var:\n",
    "        print('continue')\n",
    "    else:\n",
    "        print('The answer did not pass the test.')"
   ]
  },
  {
   "cell_type": "markdown",
   "metadata": {
    "tags": [
     "s5",
     "content"
    ]
   },
   "source": [
    "\n",
    "\n",
    "## Testing Assumptions \n",
    "                \n",
    "### Dividing the dataset into training and testing data\n",
    "\n",
    "We have removed the date column from our dataset.\n",
    "It is necessary to test our model before actual prediction.\n",
    "\n",
    "We can't use cross validation to split our data, as the data is sequential and not random.\n",
    "\n",
    "1) The old rows( based on date column) are used to train our model.\n",
    "\n",
    "2) The new rows (based on date column) are used to test our model\n",
    "\n",
    "3) If we obtain desired accuracy, we can predict the market price.\n",
    "\n",
    "### Exercise\n",
    "\n",
    "- Create 4 variables X_train, X_test, y_train, y_test\n",
    "- Assign the first 2800 rows to X_train without 'btc_market_price' column\n",
    "- Assign the remaining rows to X_test without 'btc_market_price' column\n",
    "- Assign the first 2800 rows of 'btc_market_price' to y_train\n",
    "- Assign the remaining rows of 'btc_market_price' to y_test\n",
    "- Print the shapes of all the four variables"
   ]
  },
  {
   "cell_type": "code",
   "execution_count": 64,
   "metadata": {
    "has_completed": true,
    "tags": [
     "s5",
     "ce"
    ]
   },
   "outputs": [
    {
     "name": "stdout",
     "output_type": "stream",
     "text": [
      "(2801, 22)\n",
      "(105, 22)\n",
      "(2801,)\n",
      "(105,)\n"
     ]
    }
   ],
   "source": [
    "X_train = X_test = bitcoin_actual.drop(['btc_market_price'], 1)\n",
    "X_train = X_train.iloc[0:2801, :]\n",
    "X_test = X_test.iloc[2801: , :]\n",
    "\n",
    "y_train = y_test = bitcoin_actual['btc_market_price']\n",
    "y_train = y_train.iloc[0:2801]\n",
    "y_test = y_test.iloc[2801:]\n",
    "\n",
    "print(X_train.shape)\n",
    "print(X_test.shape)\n",
    "print(y_train.shape)\n",
    "print(y_test.shape)"
   ]
  },
  {
   "cell_type": "markdown",
   "metadata": {
    "tags": [
     "s5",
     "hint"
    ]
   },
   "source": [
    "Use .iloc for row slicing\n",
    "\n",
    "Use drop() to drop columns\n",
    "\n",
    "Use .shape to get the shape"
   ]
  },
  {
   "cell_type": "code",
   "execution_count": null,
   "metadata": {
    "collapsed": true,
    "tags": [
     "s5",
     "ans"
    ]
   },
   "outputs": [],
   "source": []
  },
  {
   "cell_type": "code",
   "execution_count": 50,
   "metadata": {
    "tags": [
     "s5",
     "hid"
    ]
   },
   "outputs": [
    {
     "name": "stdout",
     "output_type": "stream",
     "text": [
      "continue\n"
     ]
    }
   ],
   "source": [
    "#this is assertion block which verifies the solution.\n",
    "\n",
    "try:\n",
    "    def verify_answer():\n",
    "  \n",
    "        if X_train.shape == (2801, 22) and X_test.shape == (105, 22) and y_train.shape == (2801,) and y_test.shape == (105,): \n",
    "            return True\n",
    "        else:\n",
    "            return False\n",
    "      \n",
    "\n",
    "    ref_assert_var = verify_answer()\n",
    "except Exception as e:\n",
    "    print('Your assertion block throws error: ' + str(e))\n",
    "else:\n",
    "    if ref_assert_var:\n",
    "        print('continue')\n",
    "    else:\n",
    "        print('The answer did not pass the test.')"
   ]
  },
  {
   "cell_type": "markdown",
   "metadata": {
    "tags": [
     "s6",
     "content"
    ]
   },
   "source": [
    "\n",
    "\n",
    "## Fit and Predict\n",
    "                \n",
    "### Train the model and test for its accuracy\n",
    "\n",
    "Since, we have observed that the above data set can be solved through regression.\n",
    "\n",
    "Let us use Linear Regression model to train and test the data.\n",
    "\n",
    "#### Exercise:\n",
    "- Import Linear Regression from scikit learn.\n",
    "- Use fit() method to train the model using our training data.\n",
    "- Use predict() method to test the model and save it into 'predict' variable.\n",
    "- Use score() method to find the accuracy of the model and save it into 'score' variable\n",
    "- Print score.\n",
    "\n"
   ]
  },
  {
   "cell_type": "code",
   "execution_count": 67,
   "metadata": {
    "has_completed": true,
    "tags": [
     "s6",
     "ce"
    ]
   },
   "outputs": [
    {
     "name": "stdout",
     "output_type": "stream",
     "text": [
      "0.999923352811\n"
     ]
    }
   ],
   "source": [
    "from sklearn.linear_model import LinearRegression\n",
    "\n",
    "lr = LinearRegression()\n",
    "lr.fit(X_train, y_train)\n",
    "\n",
    "predict = lr.predict(X_test)\n",
    "\n",
    "score = lr.score(X_test, y_test)\n",
    "\n",
    "print(score)"
   ]
  },
  {
   "cell_type": "markdown",
   "metadata": {
    "tags": [
     "s6",
     "hint"
    ]
   },
   "source": [
    "Use fit(), predict(), score()"
   ]
  },
  {
   "cell_type": "code",
   "execution_count": null,
   "metadata": {
    "collapsed": true,
    "tags": [
     "s6",
     "ans"
    ]
   },
   "outputs": [],
   "source": []
  },
  {
   "cell_type": "code",
   "execution_count": 52,
   "metadata": {
    "tags": [
     "s6",
     "hid"
    ]
   },
   "outputs": [
    {
     "name": "stdout",
     "output_type": "stream",
     "text": [
      "continue\n"
     ]
    }
   ],
   "source": [
    "#this is assertion block which verifies the solution.\n",
    "\n",
    "try:\n",
    "    def verify_answer():\n",
    "        return True\n",
    "    ref_assert_var = verify_answer()\n",
    "except Exception as e:\n",
    "    print('Your assertion block throws error: ' + str(e))\n",
    "else:\n",
    "    if ref_assert_var:\n",
    "        print('continue')\n",
    "    else:\n",
    "        print('The answer did not pass the test.')"
   ]
  },
  {
   "cell_type": "markdown",
   "metadata": {
    "tags": [
     "s7",
     "content"
    ]
   },
   "source": [
    "\n",
    "\n",
    "## Predicting the market price of unknown data\n",
    "                \n",
    "### Exercise\n",
    "\n",
    "- Use the above concepts and train the model with actual data.\n",
    "\n",
    "- Test data should be imported from 'https://raw.githubusercontent.com/colaberry/data/master/Bitcoin/test_set.csv'\n",
    "\n",
    "- Add the predicted market price to test dataset.\n"
   ]
  },
  {
   "cell_type": "code",
   "execution_count": 79,
   "metadata": {
    "has_completed": true,
    "tags": [
     "s7",
     "ce"
    ]
   },
   "outputs": [
    {
     "data": {
      "text/html": [
       "<div>\n",
       "<table border=\"1\" class=\"dataframe\">\n",
       "  <thead>\n",
       "    <tr style=\"text-align: right;\">\n",
       "      <th></th>\n",
       "      <th>Date</th>\n",
       "      <th>btc_total_bitcoins</th>\n",
       "      <th>btc_market_cap</th>\n",
       "      <th>btc_trade_volume</th>\n",
       "      <th>btc_blocks_size</th>\n",
       "      <th>btc_avg_block_size</th>\n",
       "      <th>btc_n_orphaned_blocks</th>\n",
       "      <th>btc_n_transactions_per_block</th>\n",
       "      <th>btc_median_confirmation_time</th>\n",
       "      <th>btc_hash_rate</th>\n",
       "      <th>...</th>\n",
       "      <th>btc_cost_per_transaction</th>\n",
       "      <th>btc_n_unique_addresses</th>\n",
       "      <th>btc_n_transactions</th>\n",
       "      <th>btc_n_transactions_total</th>\n",
       "      <th>btc_n_transactions_excluding_popular</th>\n",
       "      <th>btc_n_transactions_excluding_chains_longer_than_100</th>\n",
       "      <th>btc_output_volume</th>\n",
       "      <th>btc_estimated_transaction_volume</th>\n",
       "      <th>btc_estimated_transaction_volume_usd</th>\n",
       "      <th>Market price</th>\n",
       "    </tr>\n",
       "  </thead>\n",
       "  <tbody>\n",
       "    <tr>\n",
       "      <th>0</th>\n",
       "      <td>2/1/2018 0:00</td>\n",
       "      <td>16839687.5</td>\n",
       "      <td>1.529590e+11</td>\n",
       "      <td>1.509688e+09</td>\n",
       "      <td>154613.2244</td>\n",
       "      <td>1.053963</td>\n",
       "      <td>0</td>\n",
       "      <td>1610.400000</td>\n",
       "      <td>12.475000</td>\n",
       "      <td>20703947.91</td>\n",
       "      <td>...</td>\n",
       "      <td>78.049647</td>\n",
       "      <td>591550</td>\n",
       "      <td>257664</td>\n",
       "      <td>296946448</td>\n",
       "      <td>249466</td>\n",
       "      <td>179686</td>\n",
       "      <td>2.190613e+06</td>\n",
       "      <td>276923.3207</td>\n",
       "      <td>2.515366e+09</td>\n",
       "      <td>9055.111404</td>\n",
       "    </tr>\n",
       "    <tr>\n",
       "      <th>1</th>\n",
       "      <td>2/2/2018 0:00</td>\n",
       "      <td>16841787.5</td>\n",
       "      <td>1.499240e+11</td>\n",
       "      <td>2.213437e+09</td>\n",
       "      <td>154785.0008</td>\n",
       "      <td>1.022479</td>\n",
       "      <td>0</td>\n",
       "      <td>1404.273810</td>\n",
       "      <td>11.225000</td>\n",
       "      <td>21739145.31</td>\n",
       "      <td>...</td>\n",
       "      <td>89.591902</td>\n",
       "      <td>551198</td>\n",
       "      <td>235918</td>\n",
       "      <td>297182366</td>\n",
       "      <td>229894</td>\n",
       "      <td>155128</td>\n",
       "      <td>1.460796e+06</td>\n",
       "      <td>330740.2192</td>\n",
       "      <td>2.944217e+09</td>\n",
       "      <td>8887.939213</td>\n",
       "    </tr>\n",
       "    <tr>\n",
       "      <th>2</th>\n",
       "      <td>2/3/2018 0:00</td>\n",
       "      <td>16843762.5</td>\n",
       "      <td>1.528850e+11</td>\n",
       "      <td>9.524038e+08</td>\n",
       "      <td>154942.4583</td>\n",
       "      <td>0.996567</td>\n",
       "      <td>0</td>\n",
       "      <td>1233.487342</td>\n",
       "      <td>10.475000</td>\n",
       "      <td>20445148.56</td>\n",
       "      <td>...</td>\n",
       "      <td>98.824757</td>\n",
       "      <td>436196</td>\n",
       "      <td>194891</td>\n",
       "      <td>297377257</td>\n",
       "      <td>184856</td>\n",
       "      <td>131568</td>\n",
       "      <td>9.100425e+05</td>\n",
       "      <td>164374.0244</td>\n",
       "      <td>1.491970e+09</td>\n",
       "      <td>9072.898378</td>\n",
       "    </tr>\n",
       "    <tr>\n",
       "      <th>3</th>\n",
       "      <td>2/4/2018 0:00</td>\n",
       "      <td>16845987.5</td>\n",
       "      <td>1.415170e+11</td>\n",
       "      <td>1.080683e+09</td>\n",
       "      <td>155118.7652</td>\n",
       "      <td>0.990488</td>\n",
       "      <td>0</td>\n",
       "      <td>975.769663</td>\n",
       "      <td>9.275000</td>\n",
       "      <td>23033142.05</td>\n",
       "      <td>...</td>\n",
       "      <td>112.999677</td>\n",
       "      <td>396694</td>\n",
       "      <td>173687</td>\n",
       "      <td>297550944</td>\n",
       "      <td>165753</td>\n",
       "      <td>125143</td>\n",
       "      <td>9.722485e+05</td>\n",
       "      <td>193244.2140</td>\n",
       "      <td>1.623377e+09</td>\n",
       "      <td>8408.320742</td>\n",
       "    </tr>\n",
       "    <tr>\n",
       "      <th>4</th>\n",
       "      <td>2/5/2018 0:00</td>\n",
       "      <td>16848300.0</td>\n",
       "      <td>1.152220e+11</td>\n",
       "      <td>1.793319e+09</td>\n",
       "      <td>155322.7709</td>\n",
       "      <td>1.102733</td>\n",
       "      <td>0</td>\n",
       "      <td>1169.529730</td>\n",
       "      <td>6.133333</td>\n",
       "      <td>23938939.78</td>\n",
       "      <td>...</td>\n",
       "      <td>78.586115</td>\n",
       "      <td>486553</td>\n",
       "      <td>216363</td>\n",
       "      <td>297767307</td>\n",
       "      <td>208757</td>\n",
       "      <td>144850</td>\n",
       "      <td>1.848913e+06</td>\n",
       "      <td>257109.2993</td>\n",
       "      <td>1.758323e+09</td>\n",
       "      <td>6770.790557</td>\n",
       "    </tr>\n",
       "  </tbody>\n",
       "</table>\n",
       "<p>5 rows × 24 columns</p>\n",
       "</div>"
      ],
      "text/plain": [
       "            Date  btc_total_bitcoins  btc_market_cap  btc_trade_volume  \\\n",
       "0  2/1/2018 0:00          16839687.5    1.529590e+11      1.509688e+09   \n",
       "1  2/2/2018 0:00          16841787.5    1.499240e+11      2.213437e+09   \n",
       "2  2/3/2018 0:00          16843762.5    1.528850e+11      9.524038e+08   \n",
       "3  2/4/2018 0:00          16845987.5    1.415170e+11      1.080683e+09   \n",
       "4  2/5/2018 0:00          16848300.0    1.152220e+11      1.793319e+09   \n",
       "\n",
       "   btc_blocks_size  btc_avg_block_size  btc_n_orphaned_blocks  \\\n",
       "0      154613.2244            1.053963                      0   \n",
       "1      154785.0008            1.022479                      0   \n",
       "2      154942.4583            0.996567                      0   \n",
       "3      155118.7652            0.990488                      0   \n",
       "4      155322.7709            1.102733                      0   \n",
       "\n",
       "   btc_n_transactions_per_block  btc_median_confirmation_time  btc_hash_rate  \\\n",
       "0                   1610.400000                     12.475000    20703947.91   \n",
       "1                   1404.273810                     11.225000    21739145.31   \n",
       "2                   1233.487342                     10.475000    20445148.56   \n",
       "3                    975.769663                      9.275000    23033142.05   \n",
       "4                   1169.529730                      6.133333    23938939.78   \n",
       "\n",
       "       ...       btc_cost_per_transaction  btc_n_unique_addresses  \\\n",
       "0      ...                      78.049647                  591550   \n",
       "1      ...                      89.591902                  551198   \n",
       "2      ...                      98.824757                  436196   \n",
       "3      ...                     112.999677                  396694   \n",
       "4      ...                      78.586115                  486553   \n",
       "\n",
       "   btc_n_transactions  btc_n_transactions_total  \\\n",
       "0              257664                 296946448   \n",
       "1              235918                 297182366   \n",
       "2              194891                 297377257   \n",
       "3              173687                 297550944   \n",
       "4              216363                 297767307   \n",
       "\n",
       "   btc_n_transactions_excluding_popular  \\\n",
       "0                                249466   \n",
       "1                                229894   \n",
       "2                                184856   \n",
       "3                                165753   \n",
       "4                                208757   \n",
       "\n",
       "   btc_n_transactions_excluding_chains_longer_than_100  btc_output_volume  \\\n",
       "0                                             179686         2.190613e+06   \n",
       "1                                             155128         1.460796e+06   \n",
       "2                                             131568         9.100425e+05   \n",
       "3                                             125143         9.722485e+05   \n",
       "4                                             144850         1.848913e+06   \n",
       "\n",
       "   btc_estimated_transaction_volume  btc_estimated_transaction_volume_usd  \\\n",
       "0                       276923.3207                          2.515366e+09   \n",
       "1                       330740.2192                          2.944217e+09   \n",
       "2                       164374.0244                          1.491970e+09   \n",
       "3                       193244.2140                          1.623377e+09   \n",
       "4                       257109.2993                          1.758323e+09   \n",
       "\n",
       "   Market price  \n",
       "0   9055.111404  \n",
       "1   8887.939213  \n",
       "2   9072.898378  \n",
       "3   8408.320742  \n",
       "4   6770.790557  \n",
       "\n",
       "[5 rows x 24 columns]"
      ]
     },
     "execution_count": 79,
     "metadata": {},
     "output_type": "execute_result"
    }
   ],
   "source": [
    "test_data = pd.read_csv('https://raw.githubusercontent.com/colaberry/data/master/Bitcoin/test_set.csv')\n",
    "test_data_wd = test_data\n",
    "test_data = test_data.drop(['Date'], 1)\n",
    "\n",
    "X_train = bitcoin_actual.drop(['btc_market_price'], 1)\n",
    "y_train = bitcoin_actual['btc_market_price']\n",
    "\n",
    "lr.fit(X_train, y_train)\n",
    "\n",
    "prediction = lr.predict(test_data)\n",
    "\n",
    "test_data_wd['Market price'] = prediction\n",
    "test_data_wd.head()\n"
   ]
  },
  {
   "cell_type": "markdown",
   "metadata": {
    "tags": [
     "s7",
     "hint"
    ]
   },
   "source": [
    "No hints Bravo!!"
   ]
  },
  {
   "cell_type": "code",
   "execution_count": null,
   "metadata": {
    "collapsed": true,
    "tags": [
     "s7",
     "ans"
    ]
   },
   "outputs": [],
   "source": []
  }
 ],
 "metadata": {
  "executed_sections": [],
  "kernelspec": {
   "display_name": "Python 3",
   "language": "python",
   "name": "python3"
  },
  "language_info": {
   "codemirror_mode": {
    "name": "ipython",
    "version": 3
   },
   "file_extension": ".py",
   "mimetype": "text/x-python",
   "name": "python",
   "nbconvert_exporter": "python",
   "pygments_lexer": "ipython3",
   "version": "3.5.2"
  }
 },
 "nbformat": 4,
 "nbformat_minor": 2
}