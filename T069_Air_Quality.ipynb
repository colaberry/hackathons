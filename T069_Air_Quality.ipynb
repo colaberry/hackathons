{
 "cells": [
  {
   "cell_type": "markdown",
   "metadata": {
    "tags": [
     "s1",
     "content"
    ]
   },
   "source": [
    "\n",
    "                \n",
    "# Air Quality Analysis\n",
    "                \n",
    "### Data Acquisiton\n",
    "            \n",
    "Acquire the data from the link and read the data using read_csv(url)\n"
   ]
  },
  {
   "cell_type": "code",
   "execution_count": 3,
   "metadata": {
    "tags": [
     "s1",
     "ce"
    ]
   },
   "outputs": [
    {
     "name": "stdout",
     "output_type": "stream",
     "text": [
      "\n",
      "The answer did not pass the test.\n"
     ]
    }
   ],
   "source": [
    "#initial_code, the code written here will be shown to user, write here initial setup to help user get started\n",
    "import pandas as pd\n",
    "url = \"https://raw.githubusercontent.com/colaberry/data/master/8hour_42101_2017_10K.csv\"\n",
    "df= pd.read_csv(url)"
   ]
  },
  {
   "cell_type": "markdown",
   "metadata": {
    "tags": [
     "s1",
     "hint"
    ]
   },
   "source": [
    "hint, write any hint here for the above question."
   ]
  },
  {
   "cell_type": "code",
   "execution_count": null,
   "metadata": {
    "collapsed": true,
    "tags": [
     "s1",
     "ans"
    ]
   },
   "outputs": [],
   "source": [
    "#answer, write code which is a solution for above question.\n",
    "df= pd.read_csv(url)"
   ]
  },
  {
   "cell_type": "code",
   "execution_count": null,
   "metadata": {
    "collapsed": true,
    "tags": [
     "s1",
     "hid"
    ]
   },
   "outputs": [],
   "source": [
    "#this is assertion block which verifies the solution.\n",
    "\n",
    "try:\n",
    "    def verify_answer():\n",
    "        \"\"\"\n",
    "        enter your verification code here.\n",
    "        return true if your checks pass\n",
    "        eg: \n",
    "        if above_user_answer_var > 100: \n",
    "            return True\n",
    "        else:\n",
    "            return False\n",
    "        \"\"\"\n",
    "\n",
    "    ref_assert_var = verify_answer()\n",
    "except Exception as e:\n",
    "    print('Your assertion block throws error: ' + str(e))\n",
    "else:\n",
    "    if ref_assert_var:\n",
    "        print('continue')\n",
    "    else:\n",
    "        print('The answer did not pass the test.')"
   ]
  },
  {
   "cell_type": "markdown",
   "metadata": {
    "tags": [
     "s2",
     "content"
    ]
   },
   "source": [
    "\n",
    "\n",
    "## EDA\n",
    "The features for data analysis are time GMT and date GMT. These features are to be concatinated. "
   ]
  },
  {
   "cell_type": "code",
   "execution_count": null,
   "metadata": {
    "collapsed": true,
    "tags": [
     "s2",
     "ce"
    ]
   },
   "outputs": [],
   "source": [
    "df= pd.read_csv(url)\n",
    "df['day'] = df['Date GMT']+' '+df['Time GMT']\n",
    "df['Time'] = pd.DatetimeIndex(df['day']).day + pd.DatetimeIndex(df['day']).hour"
   ]
  },
  {
   "cell_type": "markdown",
   "metadata": {
    "tags": [
     "s2",
     "hint"
    ]
   },
   "source": [
    "hint, write any hint here for the above question."
   ]
  },
  {
   "cell_type": "code",
   "execution_count": null,
   "metadata": {
    "collapsed": true,
    "tags": [
     "s2",
     "ans"
    ]
   },
   "outputs": [],
   "source": [
    "#answer, write code which is a solution for above question."
   ]
  },
  {
   "cell_type": "code",
   "execution_count": null,
   "metadata": {
    "collapsed": true,
    "tags": [
     "s2",
     "hid"
    ]
   },
   "outputs": [],
   "source": [
    "#this is assertion block which verifies the solution.\n",
    "\n",
    "try:\n",
    "    def verify_answer():\n",
    "        \"\"\"\n",
    "        enter your verification code here.\n",
    "        return true if your checks pass\n",
    "        eg: \n",
    "        if above_user_answer_var > 100: \n",
    "            return True\n",
    "        else:\n",
    "            return False\n",
    "        \"\"\"\n",
    "\n",
    "    ref_assert_var = verify_answer()\n",
    "except Exception as e:\n",
    "    print('Your assertion block throws error: ' + str(e))\n",
    "else:\n",
    "    if ref_assert_var:\n",
    "        print('continue')\n",
    "    else:\n",
    "        print('The answer did not pass the test.')"
   ]
  },
  {
   "cell_type": "markdown",
   "metadata": {
    "tags": [
     "s3",
     "content"
    ]
   },
   "source": [
    "\n",
    "\n",
    "## Dummy Creation\n",
    "Dummy values should be created for Time attribute because K-means algorithm only takes numerical values as input.\n",
    "get_dummies function can be used for dummy creation.\n"
   ]
  },
  {
   "cell_type": "code",
   "execution_count": null,
   "metadata": {
    "collapsed": true,
    "tags": [
     "s3",
     "ce"
    ]
   },
   "outputs": [],
   "source": [
    "df_tr = pd.get_dummies(df, columns=['Time'])"
   ]
  },
  {
   "cell_type": "markdown",
   "metadata": {
    "tags": [
     "s3",
     "hint"
    ]
   },
   "source": [
    "hint, write any hint here for the above question."
   ]
  },
  {
   "cell_type": "code",
   "execution_count": null,
   "metadata": {
    "collapsed": true,
    "tags": [
     "s3",
     "ans"
    ]
   },
   "outputs": [],
   "source": [
    "#answer, write code which is a solution for above question."
   ]
  },
  {
   "cell_type": "code",
   "execution_count": null,
   "metadata": {
    "collapsed": true,
    "tags": [
     "s3",
     "hid"
    ]
   },
   "outputs": [],
   "source": [
    "#this is assertion block which verifies the solution.\n",
    "\n",
    "try:\n",
    "    def verify_answer():\n",
    "        \"\"\"\n",
    "        enter your verification code here.\n",
    "        return true if your checks pass\n",
    "        eg: \n",
    "        if above_user_answer_var > 100: \n",
    "            return True\n",
    "        else:\n",
    "            return False\n",
    "        \"\"\"\n",
    "\n",
    "    ref_assert_var = verify_answer()\n",
    "except Exception as e:\n",
    "    print('Your assertion block throws error: ' + str(e))\n",
    "else:\n",
    "    if ref_assert_var:\n",
    "        print('continue')\n",
    "    else:\n",
    "        print('The answer did not pass the test.')"
   ]
  },
  {
   "cell_type": "markdown",
   "metadata": {
    "tags": [
     "s4",
     "content"
    ]
   },
   "source": [
    "# Standardizing the Data\n",
    "The data should be standardize for easy processing of K-means Algorithm.\n",
    "Take a variable clmns = [\"Time\",\"Mean Including All Data\"] and standardize the variable.\n"
   ]
  },
  {
   "cell_type": "code",
   "execution_count": null,
   "metadata": {
    "collapsed": true,
    "tags": [
     "s4",
     "ce"
    ]
   },
   "outputs": [],
   "source": []
  },
  {
   "cell_type": "markdown",
   "metadata": {
    "tags": [
     "s4",
     "hint"
    ]
   },
   "source": [
    "hint, write any hint here for the above question.\n",
    "clmns = [\"Time\",\"Mean Including All Data\"]\n",
    "df_tr_std = stats.zscore(df[clmns])"
   ]
  },
  {
   "cell_type": "code",
   "execution_count": null,
   "metadata": {
    "collapsed": true,
    "tags": [
     "s4",
     "ans"
    ]
   },
   "outputs": [],
   "source": [
    "\n",
    "#answer, write code which is a solution for above question.\n",
    "clmns = [\"Time\",\"Mean Including All Data\"]\n",
    "df_tr_std = stats.zscore(df[clmns])\n",
    "\n"
   ]
  },
  {
   "cell_type": "code",
   "execution_count": null,
   "metadata": {
    "collapsed": true,
    "tags": [
     "s4",
     "hid"
    ]
   },
   "outputs": [],
   "source": [
    "#this is assertion block which verifies the solution.\n",
    "\n",
    "try:\n",
    "    def verify_answer():\n",
    "        \"\"\"\n",
    "        enter your verification code here.\n",
    "        return true if your checks pass\n",
    "        eg: \n",
    "        if above_user_answer_var > 100: \n",
    "            return True\n",
    "        else:\n",
    "            return False\n",
    "        \"\"\"\n",
    "\n",
    "    ref_assert_var = verify_answer()\n",
    "except Exception as e:\n",
    "    print('Your assertion block throws error: ' + str(e))\n",
    "else:\n",
    "    if ref_assert_var:\n",
    "        print('continue')\n",
    "    else:\n",
    "        print('The answer did not pass the test.')"
   ]
  },
  {
   "cell_type": "markdown",
   "metadata": {
    "tags": [
     "s5",
     "content"
    ]
   },
   "source": [
    "# Clustering the Data using K-means Algorithm\n",
    "Data should be clustered using K-means algorithm. Number of clusters should be 3. Model can be using the fit() function.\n",
    "Prediction can be made using .predict func."
   ]
  },
  {
   "cell_type": "code",
   "execution_count": null,
   "metadata": {
    "collapsed": true,
    "tags": [
     "s5",
     "ce"
    ]
   },
   "outputs": [],
   "source": [
    "from sklearn.cluster import KMeans"
   ]
  },
  {
   "cell_type": "markdown",
   "metadata": {
    "tags": [
     "s5",
     "hint"
    ]
   },
   "source": [
    "kmeans = KMeans(n_clusters=3, random_state=0).fit(df_tr_std)\n",
    "ran = kmeans.predict(df_tr_std)"
   ]
  },
  {
   "cell_type": "code",
   "execution_count": null,
   "metadata": {
    "collapsed": true,
    "tags": [
     "s5",
     "ans"
    ]
   },
   "outputs": [],
   "source": [
    "means = KMeans(n_clusters=3, random_state=0).fit(df_tr_std)\n",
    "ran = kmeans.predict(df_tr_std)"
   ]
  },
  {
   "cell_type": "code",
   "execution_count": null,
   "metadata": {
    "collapsed": true,
    "tags": [
     "s5",
     "hid"
    ]
   },
   "outputs": [],
   "source": [
    "#this is assertion block which verifies the solution.\n",
    "\n",
    "try:\n",
    "    def verify_answer():\n",
    "        \"\"\"\n",
    "        enter your verification code here.\n",
    "        return true if your checks pass\n",
    "        eg: \n",
    "        if above_user_answer_var > 100: \n",
    "            return True\n",
    "        else:\n",
    "            return False\n",
    "        \"\"\"\n",
    "\n",
    "    ref_assert_var = verify_answer()\n",
    "except Exception as e:\n",
    "    print('Your assertion block throws error: ' + str(e))\n",
    "else:\n",
    "    if ref_assert_var:\n",
    "        print('continue')\n",
    "    else:\n",
    "        print('The answer did not pass the test.')"
   ]
  },
  {
   "cell_type": "markdown",
   "metadata": {
    "tags": [
     "s6",
     "content"
    ]
   },
   "source": [
    "\n",
    "\n",
    "## Plotting\n",
    "The data can be plotted using the below code.\n",
    "plt.scatter(df_tr_std[:,0],df_tr_std[:,1],c = ran , s =50, cmap ='viridis')\n",
    "centers = kmeans.cluster_centers_\n",
    "plt.scatter(centers[:,0],centers[:,1],c ='black', s=200,alpha=0.5);\n",
    "plt.scatter(df_tr_std[:,0],df_tr_std[:,1],c = ran , s =50, cmap ='viridis')\n",
    "centers = kmeans.cluster_centers_\n",
    "plt.scatter(centers[:,0],centers[:,1],c ='black', s=200,alpha=0.5);\n"
   ]
  },
  {
   "cell_type": "code",
   "execution_count": null,
   "metadata": {
    "collapsed": true,
    "tags": [
     "s6",
     "ce"
    ]
   },
   "outputs": [],
   "source": []
  },
  {
   "cell_type": "markdown",
   "metadata": {
    "tags": [
     "s6",
     "hint"
    ]
   },
   "source": [
    "hint, write any hint here for the above question."
   ]
  },
  {
   "cell_type": "code",
   "execution_count": null,
   "metadata": {
    "collapsed": true,
    "tags": [
     "s6",
     "ans"
    ]
   },
   "outputs": [],
   "source": [
    "#answer, write code which is a solution for above question.\n",
    "plt.scatter(df_tr_std[:,0],df_tr_std[:,1],c = ran , s =50, cmap ='viridis')\n",
    "centers = kmeans.cluster_centers_\n",
    "plt.scatter(centers[:,0],centers[:,1],c ='black', s=200,alpha=0.5);"
   ]
  }
 ],
 "metadata": {
  "executed_sections": [],
  "kernelspec": {
   "display_name": "Python 3",
   "language": "python",
   "name": "python3"
  },
  "language_info": {
   "codemirror_mode": {
    "name": "ipython",
    "version": 3
   },
   "file_extension": ".py",
   "mimetype": "text/x-python",
   "name": "python",
   "nbconvert_exporter": "python",
   "pygments_lexer": "ipython3",
   "version": "3.5.2"
  }
 },
 "nbformat": 4,
 "nbformat_minor": 2
}