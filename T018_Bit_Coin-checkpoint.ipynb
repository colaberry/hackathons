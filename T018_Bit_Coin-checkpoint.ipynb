{
 "cells": [
  {
   "cell_type": "markdown",
   "metadata": {
    "tags": [
     "s1",
     "content"
    ]
   },
   "source": [
    "# Description:\n",
    "\n",
    "   -  From the given bitcoin analysis dataframe, which we have named as \"bitcoin_df\", we have understood the relation between the variables by dividing them into numerical and categorical. \n",
    "   -  We did a basic scatter plot on different parameters comparing them to the market price of Bitcoin as confounding variable.\n",
    "   -  Based on those graphs we have further filtered the data which will be actually affecting the market price of Bitcoin in three levels(Strong, Medium, Weak)\n",
    "     -  The following are the features which we have considered under the above three categories:\n",
    "            - ### Strong: \n",
    "                   - btc_market_price\n",
    "                   - btc_total_bitcoins\n",
    "                   - btc_trade_volume\n",
    "                   - btc_blocks_size\n",
    "                   - btc_avg_block_size\n",
    "                   - btc_cost_per_transaction\n",
    "                   - btc_n_unique_addresses\n",
    "                   - btc_n_transactions_total\n",
    "                   - btc_estimated_transaction_volume_usd\n",
    "            - ### Medium:\n",
    "                   - btc_n_transactions_per_block\n",
    "                   - btc_median_confirmation_time\n",
    "                   - btc_cost_per_transaction_percent\n",
    "                   - btc_n_transactions\n",
    "                   - btc_n_transactions_excluding_popular\n",
    "            - ### Weak:\n",
    "                   - btc_n_orphaned_blocks\n",
    "                   - btc_output_volume\n",
    "                   - btc_estimated_transaction_volume\n",
    "                   \n",
    "                   \n",
    "                   \n",
    "   -  We then did a regplot for the features affecting the market price considerably.\n",
    "   -  Based on these curves, the optimal sum of differences has been taken into account and further divided into Level 1 and Level 2.\n",
    "   -  By applying ols to these values we have predicted the future market price. We have eliminated the features which had feeble effect on the market price.\n",
    "   - Considering the real world possibilities, we have eliminated the outliers which may affect the prediction and certain EDA methods by using .fillna() and .isnull() .\n",
    "    "
   ]
  },
  {
   "cell_type": "code",
   "execution_count": 15,
   "metadata": {
    "tags": [
     "s1",
     "ce"
    ]
   },
   "outputs": [],
   "source": [
    "%matplotlib inline \n",
    "from matplotlib.offsetbox import AnchoredText\n",
    "import numpy as np \n",
    "import pandas as pd \n",
    "import datetime as dt\n",
    "import itertools\n",
    "import matplotlib.pyplot as plt \n",
    "import matplotlib.dates as mdates\n",
    "import seaborn as sns\n",
    "from sklearn.metrics import mean_squared_error\n",
    "from sklearn import datasets, linear_model\n",
    "import statsmodels.formula.api as sm\n"
   ]
  },
  {
   "cell_type": "markdown",
   "metadata": {
    "tags": [
     "s1",
     "hint"
    ]
   },
   "source": [
    "# Hints:\n",
    "    Use these Methods\n",
    "    -  pd.read_csv()\n",
    "    -  dataframe.head()\n",
    "    -  sns.stripplot()\n",
    "    -  sns.regplot()\n",
    "    -  sm.ols()\n",
    "    -  .predict()\n",
    "    -  mean_squared_error()\n",
    "    -  rsquared()\n",
    "    -  sns.heatmap()\n",
    "    -  .LinearRegression()\n",
    "    -  .fillna()"
   ]
  },
  {
   "cell_type": "code",
   "execution_count": 14,
   "metadata": {
    "tags": [
     "s1",
     "ans"
    ]
   },
   "outputs": [
    {
     "name": "stdout",
     "output_type": "stream",
     "text": [
      "330151.873521\n"
     ]
    }
   ],
   "source": [
    "plt.style.use('ggplot')\n",
    "bitcoin_df = pd.read_csv('https://raw.githubusercontent.com/colaberry/data/master/Bitcoin/bitcoin_dataset.csv',encoding='utf-8')\n",
    "bitcoin_df.head(100)\n",
    "lm = sm.ols(formula='btc_market_price~btc_cost_per_transaction_percent+btc_avg_block_size+btc_n_transactions_total+btc_cost_per_transaction+btc_n_unique_addresses+btc_n_transactions_per_block+btc_n_transactions+btc_n_transactions_excluding_popular+btc_output_volume+btc_estimated_transaction_volume+btc_hash_rate+btc_n_orphaned_blocks', data=bitcoin_df).fit()\n",
    "y_hat = lm.predict(bitcoin_df[['btc_cost_per_transaction_percent','btc_avg_block_size','btc_n_transactions_total','btc_trade_volume','btc_cost_per_transaction','btc_n_unique_addresses','btc_n_transactions_per_block','btc_n_transactions','btc_n_transactions_excluding_popular','btc_output_volume','btc_estimated_transaction_volume','btc_hash_rate','btc_n_orphaned_blocks']])\n",
    "mse_lm=mean_squared_error(bitcoin_df['btc_market_price'],y_hat)\n",
    "print(mse_lm)\n",
    "\n",
    "r_squared=lm.rsquared\n",
    "#print(r_squared)\n",
    "#sns.heatmap(bitcoin_df, annot=True, fmt=\"d\", linewidths=.5)\n",
    "#bitcoin_X = bitcoin_df.btc_market_price[:, np.newaxis]\n",
    "#bitcoin_X_test = bitcoin_X[-20:]\n",
    "#bitcoin_y_train = bitcoin_df.target[:-20]\n",
    "#bitcoin_y_test = bitcoin_df.target[-20:]\n",
    "#regr = linear_model.LinearRegression()\n",
    "#regr.fit(bitcoin_X_train, bitcoin_y_train)\n",
    "#bitcoin_y_pred = regr.predict(bitcoin_X_test)\n"
   ]
  }
 ],
 "metadata": {
  "executed_sections": [],
  "kernelspec": {
   "display_name": "Python 3",
   "language": "python",
   "name": "python3"
  },
  "language_info": {
   "codemirror_mode": {
    "name": "ipython",
    "version": 3
   },
   "file_extension": ".py",
   "mimetype": "text/x-python",
   "name": "python",
   "nbconvert_exporter": "python",
   "pygments_lexer": "ipython3",
   "version": "3.5.2"
  }
 },
 "nbformat": 4,
 "nbformat_minor": 2
}