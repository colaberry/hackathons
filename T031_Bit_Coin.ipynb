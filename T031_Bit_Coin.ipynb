{
 "cells": [
  {
   "cell_type": "markdown",
   "metadata": {
    "tags": [
     "s1",
     "content"
    ]
   },
   "source": [
    "                 \n",
    "## Bitcoin Price Analysis \n",
    "                \n",
    "### About the Dataset\n",
    "\n",
    "Bitcoins are getting very popular these days. Everyone are investing and purchasing Bitcoins because the price has seen a phenomenal change in these days.\n",
    "In this dataset, we have been provided with the historic price of Bitcoins.\n",
    "This dataset needs to be analysed for Bitcoin price changes.\n",
    "\n",
    "The dataset contains of 24 variables:\n",
    "\n",
    "    Date : Date of observation\n",
    "    btc_market_price : Average USD market price across major bitcoin exchanges.\n",
    "    btc_total_bitcoins : The total number of bitcoins that have already been mined.\n",
    "    btc_market_cap : The total USD value of bitcoin supply in circulation.\n",
    "    btc_trade_volume : The total USD value of trading volume on major bitcoin exchanges.\n",
    "    btc_blocks_size : The total size of all block headers and transactions.\n",
    "    btc_avg_block_size : The average block size in MB.\n",
    "    btc_n_orphaned_blocks : The total number of blocks mined but ultimately not attached to the main Bitcoin blockchain.\n",
    "    btc_n_transactions_per_block : The average number of transactions per block.\n",
    "    btc_median_confirmation_time : The median time for a transaction to be accepted into a mined block.\n",
    "    btc_hash_rate : The estimated number of tera hashes per second the Bitcoin network is performing.\n",
    "    btc_difficulty : A relative measure of how difficult it is to find a new block.\n",
    "    btc_miners_revenue : Total value of coinbase block rewards and transaction fees paid to miners.\n",
    "    btc_transaction_fees : The total value of all transaction fees paid to miners.\n",
    "    btc_cost_per_transaction_percent : miners revenue as percentage of the transaction volume.\n",
    "    btc_cost_per_transaction : miners revenue divided by the number of transactions.\n",
    "    btc_n_unique_addresses : The total number of unique addresses used on the Bitcoin blockchain.\n",
    "    btc_n_transactions : The number of daily confirmed Bitcoin transactions.\n",
    "    btc_n_transactions_total : Total number of transactions.\n",
    "    btc_n_transactions_excluding_popular : The total number of Bitcoin transactions, excluding the 100 most popular addresses.\n",
    "    btc_n_transactions_excluding_chains_longer_than_100 : The total number of Bitcoin transactions per day excluding long transaction chains.\n",
    "    btc_output_volume : The total value of all transaction outputs per day.\n",
    "    btc_estimated_transaction_volume : The total estimated value of transactions on the Bitcoin blockchain.\n",
    "\n",
    "\n",
    "### Problem Statement\n",
    "\n",
    "The questions on this dataset are as follows:\n",
    "\n",
    "    1.Ingest the data into a format that is easy for analysis.\n",
    "    2.Perform Exploratory Data Analysis on the dataset.\n",
    "    3.Can you predict the future price of the dataset?\n",
    "    \n",
    "### Ingesting data for easy analysis\n",
    "\n",
    "Reading into a DataFrame:\n",
    "\n",
    "Dataframes are a part of the library called Pandas. One of the versatile features of pandas dataframe is that, it can read the data by just specifying the link in the read_csv() function.\n",
    "\n",
    "Below, you can find the partial code for reading the above dataset.\n",
    "print the bit_data_sample to know how is the data which is read from csv file."
   ]
  },
  {
   "cell_type": "code",
   "execution_count": 4,
   "metadata": {
    "has_completed": true,
    "tags": [
     "s1",
     "ce"
    ]
   },
   "outputs": [
    {
     "name": "stdout",
     "output_type": "stream",
     "text": [
      "        Date  btc_market_price  btc_total_bitcoins  btc_market_cap  \\\n",
      "0  2/17/2010               0.0           2043200.0             0.0   \n",
      "1  2/18/2010               0.0           2054650.0             0.0   \n",
      "2  2/19/2010               0.0           2063600.0             0.0   \n",
      "3  2/20/2010               0.0           2074700.0             0.0   \n",
      "4  2/21/2010               0.0           2085400.0             0.0   \n",
      "\n",
      "   btc_trade_volume  btc_blocks_size  btc_avg_block_size  \\\n",
      "0               0.0              0.0            0.000235   \n",
      "1               0.0              0.0            0.000241   \n",
      "2               0.0              0.0            0.000228   \n",
      "3               0.0              0.0            0.000218   \n",
      "4               0.0              0.0            0.000234   \n",
      "\n",
      "   btc_n_orphaned_blocks  btc_n_transactions_per_block  \\\n",
      "0                      0                           1.0   \n",
      "1                      0                           1.0   \n",
      "2                      0                           1.0   \n",
      "3                      0                           1.0   \n",
      "4                      0                           1.0   \n",
      "\n",
      "   btc_median_confirmation_time                  ...                   \\\n",
      "0                           0.0                  ...                    \n",
      "1                           0.0                  ...                    \n",
      "2                           0.0                  ...                    \n",
      "3                           0.0                  ...                    \n",
      "4                           0.0                  ...                    \n",
      "\n",
      "   btc_cost_per_transaction_percent  btc_cost_per_transaction  \\\n",
      "0                         31.781022                       0.0   \n",
      "1                        154.463801                       0.0   \n",
      "2                       1278.516635                       0.0   \n",
      "3                      22186.687990                       0.0   \n",
      "4                        689.179876                       0.0   \n",
      "\n",
      "   btc_n_unique_addresses  btc_n_transactions  btc_n_transactions_total  \\\n",
      "0                     241                 244                     41240   \n",
      "1                     234                 235                     41475   \n",
      "2                     185                 183                     41658   \n",
      "3                     224                 224                     41882   \n",
      "4                     218                 218                     42100   \n",
      "\n",
      "   btc_n_transactions_excluding_popular  \\\n",
      "0                                   244   \n",
      "1                                   235   \n",
      "2                                   183   \n",
      "3                                   224   \n",
      "4                                   218   \n",
      "\n",
      "   btc_n_transactions_excluding_chains_longer_than_100  btc_output_volume  \\\n",
      "0                                                244             65173.13   \n",
      "1                                                235             18911.74   \n",
      "2                                                183              9749.98   \n",
      "3                                                224             11150.03   \n",
      "4                                                218             12266.83   \n",
      "\n",
      "   btc_estimated_transaction_volume  btc_estimated_transaction_volume_usd  \n",
      "0                           36500.0                                   0.0  \n",
      "1                            7413.0                                   0.0  \n",
      "2                             700.0                                   0.0  \n",
      "3                              50.0                                   0.0  \n",
      "4                            1553.0                                   0.0  \n",
      "\n",
      "[5 rows x 24 columns]\n",
      "       btc_market_price  btc_total_bitcoins  btc_market_cap  btc_trade_volume  \\\n",
      "count       2906.000000        2.879000e+03    2.906000e+03      2.885000e+03   \n",
      "mean         839.104218        1.151138e+07    1.344352e+10      7.398381e+07   \n",
      "std         2304.972497        4.200024e+06    3.866841e+10      2.924228e+08   \n",
      "min            0.000000        2.043200e+06    0.000000e+00      0.000000e+00   \n",
      "25%            6.653465        8.485300e+06    5.363081e+07      2.916456e+05   \n",
      "50%          235.130000        1.243115e+07    3.346869e+09      1.001414e+07   \n",
      "75%          594.191164        1.520051e+07    8.075525e+09      2.834038e+07   \n",
      "max        19498.683330        1.683769e+07    3.270000e+11      5.352016e+09   \n",
      "\n",
      "       btc_blocks_size  btc_avg_block_size  btc_n_orphaned_blocks  \\\n",
      "count      2877.000000         2906.000000            2906.000000   \n",
      "mean      35505.502848            0.350366               0.364074   \n",
      "std       43618.633821            0.353168               0.842259   \n",
      "min           0.000000            0.000216               0.000000   \n",
      "25%         781.000000            0.024177               0.000000   \n",
      "50%       15183.000000            0.196022               0.000000   \n",
      "75%       58293.000000            0.676065               0.000000   \n",
      "max      154444.590300            1.110327               7.000000   \n",
      "\n",
      "       btc_n_transactions_per_block  btc_median_confirmation_time  \\\n",
      "count                   2906.000000                   2894.000000   \n",
      "mean                     671.673651                      7.501113   \n",
      "std                      689.561322                      4.974549   \n",
      "min                        1.000000                      0.000000   \n",
      "25%                       54.000000                      6.066667   \n",
      "50%                      375.000000                      7.916667   \n",
      "75%                     1232.995223                     10.208333   \n",
      "max                     2722.625000                     47.733333   \n",
      "\n",
      "       btc_hash_rate                  ...                   \\\n",
      "count   2.906000e+03                  ...                    \n",
      "mean    1.244070e+06                  ...                    \n",
      "std     2.924141e+06                  ...                    \n",
      "min     2.250000e-05                  ...                    \n",
      "25%     1.160880e+01                  ...                    \n",
      "50%     2.176189e+04                  ...                    \n",
      "75%     1.035363e+06                  ...                    \n",
      "max     2.160975e+07                  ...                    \n",
      "\n",
      "       btc_cost_per_transaction_percent  btc_cost_per_transaction  \\\n",
      "count                       2906.000000               2906.000000   \n",
      "mean                          66.747821                 14.639125   \n",
      "std                         1761.894646                 20.536083   \n",
      "min                            0.136531                  0.000000   \n",
      "25%                            1.181945                  4.156470   \n",
      "50%                            2.493564                  7.822430   \n",
      "75%                            5.915591                 14.800589   \n",
      "max                        88571.428570                161.686071   \n",
      "\n",
      "       btc_n_unique_addresses  btc_n_transactions  btc_n_transactions_total  \\\n",
      "count            2.906000e+03         2906.000000              2.906000e+03   \n",
      "mean             1.937861e+05       102081.138334              6.844558e+07   \n",
      "std              2.089146e+05       103896.929350              8.285341e+07   \n",
      "min              1.100000e+02          118.000000              4.124000e+04   \n",
      "25%              1.675475e+04         8025.250000              2.413376e+06   \n",
      "50%              1.304450e+05        62337.000000              3.255271e+07   \n",
      "75%              3.603765e+05       190471.250000              1.080663e+08   \n",
      "max              1.072861e+06       490644.000000              2.966888e+08   \n",
      "\n",
      "       btc_n_transactions_excluding_popular  \\\n",
      "count                           2906.000000   \n",
      "mean                           94348.852374   \n",
      "std                           103966.111763   \n",
      "min                              118.000000   \n",
      "25%                             6813.500000   \n",
      "50%                            53483.000000   \n",
      "75%                           185901.750000   \n",
      "max                           470650.000000   \n",
      "\n",
      "       btc_n_transactions_excluding_chains_longer_than_100  btc_output_volume  \\\n",
      "count                                        2906.000000         2.906000e+03   \n",
      "mean                                        63140.320028         1.566216e+06   \n",
      "std                                         69687.052174         2.278910e+06   \n",
      "min                                           118.000000         6.150000e+03   \n",
      "25%                                          6765.500000         4.901712e+05   \n",
      "50%                                         35283.500000         1.105205e+06   \n",
      "75%                                        113793.250000         2.031654e+06   \n",
      "max                                        318896.000000         4.599222e+07   \n",
      "\n",
      "       btc_estimated_transaction_volume  btc_estimated_transaction_volume_usd  \n",
      "count                      2.906000e+03                          2.906000e+03  \n",
      "mean                       2.036475e+05                          2.024338e+08  \n",
      "std                        2.682781e+05                          5.800513e+08  \n",
      "min                        7.000000e+00                          0.000000e+00  \n",
      "25%                        9.600325e+04                          9.581680e+05  \n",
      "50%                        1.784685e+05                          3.742576e+07  \n",
      "75%                        2.588046e+05                          1.312499e+08  \n",
      "max                        5.825066e+06                          5.760245e+09  \n",
      "\n",
      "[8 rows x 23 columns]\n"
     ]
    }
   ],
   "source": [
    "import pandas as pd\n",
    "bit_coin_url = \"https://raw.githubusercontent.com/colaberry/data/master/Bitcoin/bitcoin_dataset.csv\"\n",
    "bit_data = pd.read_csv(bit_coin_url)\n",
    "bit_data_sample = bit_data.head()\n",
    "print(bit_data_sample)\n",
    "data_described = bit_data.describe()\n",
    "print(data_described)"
   ]
  },
  {
   "cell_type": "markdown",
   "metadata": {
    "tags": [
     "s1",
     "hint"
    ]
   },
   "source": [
    "print(bit_data_sample)\n",
    "Try describing the data. If you cannot, see the answer."
   ]
  },
  {
   "cell_type": "code",
   "execution_count": 25,
   "metadata": {
    "tags": [
     "s1",
     "ans"
    ]
   },
   "outputs": [
    {
     "name": "stdout",
     "output_type": "stream",
     "text": [
      "        Date  btc_market_price  btc_total_bitcoins  btc_market_cap  \\\n",
      "0  2/17/2010               0.0           2043200.0             0.0   \n",
      "1  2/18/2010               0.0           2054650.0             0.0   \n",
      "2  2/19/2010               0.0           2063600.0             0.0   \n",
      "3  2/20/2010               0.0           2074700.0             0.0   \n",
      "4  2/21/2010               0.0           2085400.0             0.0   \n",
      "\n",
      "   btc_trade_volume  btc_blocks_size  btc_avg_block_size  \\\n",
      "0               0.0              0.0            0.000235   \n",
      "1               0.0              0.0            0.000241   \n",
      "2               0.0              0.0            0.000228   \n",
      "3               0.0              0.0            0.000218   \n",
      "4               0.0              0.0            0.000234   \n",
      "\n",
      "   btc_n_orphaned_blocks  btc_n_transactions_per_block  \\\n",
      "0                      0                           1.0   \n",
      "1                      0                           1.0   \n",
      "2                      0                           1.0   \n",
      "3                      0                           1.0   \n",
      "4                      0                           1.0   \n",
      "\n",
      "   btc_median_confirmation_time                  ...                   \\\n",
      "0                           0.0                  ...                    \n",
      "1                           0.0                  ...                    \n",
      "2                           0.0                  ...                    \n",
      "3                           0.0                  ...                    \n",
      "4                           0.0                  ...                    \n",
      "\n",
      "   btc_cost_per_transaction_percent  btc_cost_per_transaction  \\\n",
      "0                         31.781022                       0.0   \n",
      "1                        154.463801                       0.0   \n",
      "2                       1278.516635                       0.0   \n",
      "3                      22186.687990                       0.0   \n",
      "4                        689.179876                       0.0   \n",
      "\n",
      "   btc_n_unique_addresses  btc_n_transactions  btc_n_transactions_total  \\\n",
      "0                     241                 244                     41240   \n",
      "1                     234                 235                     41475   \n",
      "2                     185                 183                     41658   \n",
      "3                     224                 224                     41882   \n",
      "4                     218                 218                     42100   \n",
      "\n",
      "   btc_n_transactions_excluding_popular  \\\n",
      "0                                   244   \n",
      "1                                   235   \n",
      "2                                   183   \n",
      "3                                   224   \n",
      "4                                   218   \n",
      "\n",
      "   btc_n_transactions_excluding_chains_longer_than_100  btc_output_volume  \\\n",
      "0                                                244             65173.13   \n",
      "1                                                235             18911.74   \n",
      "2                                                183              9749.98   \n",
      "3                                                224             11150.03   \n",
      "4                                                218             12266.83   \n",
      "\n",
      "   btc_estimated_transaction_volume  btc_estimated_transaction_volume_usd  \n",
      "0                           36500.0                                   0.0  \n",
      "1                            7413.0                                   0.0  \n",
      "2                             700.0                                   0.0  \n",
      "3                              50.0                                   0.0  \n",
      "4                            1553.0                                   0.0  \n",
      "\n",
      "[5 rows x 24 columns]\n",
      "       btc_market_price  btc_total_bitcoins  btc_market_cap  btc_trade_volume  \\\n",
      "count       2906.000000        2.879000e+03    2.906000e+03      2.885000e+03   \n",
      "mean         839.104218        1.151138e+07    1.344352e+10      7.398381e+07   \n",
      "std         2304.972497        4.200024e+06    3.866841e+10      2.924228e+08   \n",
      "min            0.000000        2.043200e+06    0.000000e+00      0.000000e+00   \n",
      "25%            6.653465        8.485300e+06    5.363081e+07      2.916456e+05   \n",
      "50%          235.130000        1.243115e+07    3.346869e+09      1.001414e+07   \n",
      "75%          594.191164        1.520051e+07    8.075525e+09      2.834038e+07   \n",
      "max        19498.683330        1.683769e+07    3.270000e+11      5.352016e+09   \n",
      "\n",
      "       btc_blocks_size  btc_avg_block_size  btc_n_orphaned_blocks  \\\n",
      "count      2877.000000         2906.000000            2906.000000   \n",
      "mean      35505.502848            0.350366               0.364074   \n",
      "std       43618.633821            0.353168               0.842259   \n",
      "min           0.000000            0.000216               0.000000   \n",
      "25%         781.000000            0.024177               0.000000   \n",
      "50%       15183.000000            0.196022               0.000000   \n",
      "75%       58293.000000            0.676065               0.000000   \n",
      "max      154444.590300            1.110327               7.000000   \n",
      "\n",
      "       btc_n_transactions_per_block  btc_median_confirmation_time  \\\n",
      "count                   2906.000000                   2894.000000   \n",
      "mean                     671.673651                      7.501113   \n",
      "std                      689.561322                      4.974549   \n",
      "min                        1.000000                      0.000000   \n",
      "25%                       54.000000                      6.066667   \n",
      "50%                      375.000000                      7.916667   \n",
      "75%                     1232.995223                     10.208333   \n",
      "max                     2722.625000                     47.733333   \n",
      "\n",
      "       btc_hash_rate                  ...                   \\\n",
      "count   2.906000e+03                  ...                    \n",
      "mean    1.244070e+06                  ...                    \n",
      "std     2.924141e+06                  ...                    \n",
      "min     2.250000e-05                  ...                    \n",
      "25%     1.160880e+01                  ...                    \n",
      "50%     2.176189e+04                  ...                    \n",
      "75%     1.035363e+06                  ...                    \n",
      "max     2.160975e+07                  ...                    \n",
      "\n",
      "       btc_cost_per_transaction_percent  btc_cost_per_transaction  \\\n",
      "count                       2906.000000               2906.000000   \n",
      "mean                          66.747821                 14.639125   \n",
      "std                         1761.894646                 20.536083   \n",
      "min                            0.136531                  0.000000   \n",
      "25%                            1.181945                  4.156470   \n",
      "50%                            2.493564                  7.822430   \n",
      "75%                            5.915591                 14.800589   \n",
      "max                        88571.428570                161.686071   \n",
      "\n",
      "       btc_n_unique_addresses  btc_n_transactions  btc_n_transactions_total  \\\n",
      "count            2.906000e+03         2906.000000              2.906000e+03   \n",
      "mean             1.937861e+05       102081.138334              6.844558e+07   \n",
      "std              2.089146e+05       103896.929350              8.285341e+07   \n",
      "min              1.100000e+02          118.000000              4.124000e+04   \n",
      "25%              1.675475e+04         8025.250000              2.413376e+06   \n",
      "50%              1.304450e+05        62337.000000              3.255271e+07   \n",
      "75%              3.603765e+05       190471.250000              1.080663e+08   \n",
      "max              1.072861e+06       490644.000000              2.966888e+08   \n",
      "\n",
      "       btc_n_transactions_excluding_popular  \\\n",
      "count                           2906.000000   \n",
      "mean                           94348.852374   \n",
      "std                           103966.111763   \n",
      "min                              118.000000   \n",
      "25%                             6813.500000   \n",
      "50%                            53483.000000   \n",
      "75%                           185901.750000   \n",
      "max                           470650.000000   \n",
      "\n",
      "       btc_n_transactions_excluding_chains_longer_than_100  btc_output_volume  \\\n",
      "count                                        2906.000000         2.906000e+03   \n",
      "mean                                        63140.320028         1.566216e+06   \n",
      "std                                         69687.052174         2.278910e+06   \n",
      "min                                           118.000000         6.150000e+03   \n",
      "25%                                          6765.500000         4.901712e+05   \n",
      "50%                                         35283.500000         1.105205e+06   \n",
      "75%                                        113793.250000         2.031654e+06   \n",
      "max                                        318896.000000         4.599222e+07   \n",
      "\n",
      "       btc_estimated_transaction_volume  btc_estimated_transaction_volume_usd  \n",
      "count                      2.906000e+03                          2.906000e+03  \n",
      "mean                       2.036475e+05                          2.024338e+08  \n",
      "std                        2.682781e+05                          5.800513e+08  \n",
      "min                        7.000000e+00                          0.000000e+00  \n",
      "25%                        9.600325e+04                          9.581680e+05  \n",
      "50%                        1.784685e+05                          3.742576e+07  \n",
      "75%                        2.588046e+05                          1.312499e+08  \n",
      "max                        5.825066e+06                          5.760245e+09  \n",
      "\n",
      "[8 rows x 23 columns]\n"
     ]
    }
   ],
   "source": [
    "import pandas as pd\n",
    "bit_coin_url = \"https://raw.githubusercontent.com/colaberry/data/master/Bitcoin/bitcoin_dataset.csv\"\n",
    "bit_data = pd.read_csv(bit_coin_url)\n",
    "bit_data_sample = bit_data.head()\n",
    "print(bit_data_sample)\n",
    "data_described = bit_data.describe()\n",
    "print(data_described)"
   ]
  },
  {
   "cell_type": "code",
   "execution_count": 26,
   "metadata": {
    "tags": [
     "s1",
     "hid"
    ]
   },
   "outputs": [
    {
     "name": "stdout",
     "output_type": "stream",
     "text": [
      "continue\n"
     ]
    }
   ],
   "source": [
    "#this is assertion block which verifies the solution.\n",
    "\n",
    "try:\n",
    "    def verify_answer():\n",
    "        \"\"\"\n",
    "        enter your verification code here.\n",
    "        return true if your checks pass\n",
    "        eg: \n",
    "        if above_user_answer_var > 100: \n",
    "            return True\n",
    "        else:\n",
    "            return False\n",
    "        \"\"\"\n",
    "        return True\n",
    "\n",
    "    ref_assert_var = verify_answer()\n",
    "except Exception as e:\n",
    "    print('Your assertion block throws error: ' + str(e))\n",
    "else:\n",
    "    if ref_assert_var:\n",
    "        print('continue')\n",
    "    else:\n",
    "        print('The answer did not pass the test.')"
   ]
  },
  {
   "cell_type": "markdown",
   "metadata": {
    "tags": [
     "s2",
     "content"
    ]
   },
   "source": [
    "\n",
    "\n",
    "##  Perform Exploratory Data Analysis on the dataset\n",
    "                \n",
    "### Data Visualisation on Market Price of Bitcoin\n",
    "\n",
    "As the market price fluctuates, viewing it's graph will show how it actually varies.\n",
    "Print graph_market_price to get the graph of market price.\n",
    "Example: some_variable = sns.distplot(some_data[\"some_feature\"])\n"
   ]
  },
  {
   "cell_type": "code",
   "execution_count": 28,
   "metadata": {
    "tags": [
     "s2",
     "ce"
    ]
   },
   "outputs": [
    {
     "name": "stdout",
     "output_type": "stream",
     "text": [
      "Axes(0.125,0.125;0.775x0.755)\n"
     ]
    },
    {
     "data": {
      "image/png": "[encoded data removed]",
      "text/plain": [
       "<matplotlib.figure.Figure at 0x7f0e022c2f60>"
      ]
     },
     "metadata": {},
     "output_type": "display_data"
    }
   ],
   "source": [
    "import seaborn as sns\n",
    "graph_market_price = sns.distplot(bit_data[\"btc_market_price\"])\n",
    "print(graph_market_price)\n"
   ]
  },
  {
   "cell_type": "markdown",
   "metadata": {
    "tags": [
     "s2",
     "hint"
    ]
   },
   "source": [
    "Try to print the \"graph_market_price\" variable"
   ]
  },
  {
   "cell_type": "code",
   "execution_count": 10,
   "metadata": {
    "tags": [
     "s2",
     "ans"
    ]
   },
   "outputs": [
    {
     "name": "stdout",
     "output_type": "stream",
     "text": [
      "Axes(0.125,0.125;0.775x0.755)\n"
     ]
    },
    {
     "data": {
      "image/png": "[encoded data removed]",
      "text/plain": [
       "<matplotlib.figure.Figure at 0x7f0e05497198>"
      ]
     },
     "metadata": {},
     "output_type": "display_data"
    }
   ],
   "source": [
    "import seaborn as sns\n",
    "\n",
    "graph_market_price = sns.distplot(bit_data[\"btc_market_price\"])\n",
    "print(graph_market_price)"
   ]
  },
  {
   "cell_type": "code",
   "execution_count": 11,
   "metadata": {
    "tags": [
     "s2",
     "hid"
    ]
   },
   "outputs": [
    {
     "name": "stdout",
     "output_type": "stream",
     "text": [
      "continue\n"
     ]
    }
   ],
   "source": [
    "#this is assertion block which verifies the solution.\n",
    "\n",
    "try:\n",
    "    def verify_answer():\n",
    "        \"\"\"\n",
    "        enter your verification code here.\n",
    "        return true if your checks pass\n",
    "        eg: \n",
    "        if above_user_answer_var > 100: \n",
    "            return True\n",
    "        else:\n",
    "            return False\n",
    "        \"\"\"\n",
    "        return True\n",
    "    ref_assert_var = verify_answer()\n",
    "except Exception as e:\n",
    "    print('Your assertion block throws error: ' + str(e))\n",
    "else:\n",
    "    if ref_assert_var:\n",
    "        print('continue')\n",
    "    else:\n",
    "        print('The answer did not pass the test.')"
   ]
  },
  {
   "cell_type": "markdown",
   "metadata": {
    "tags": [
     "s3",
     "content"
    ]
   },
   "source": [
    "                 \n",
    "### Behaviour of Market Price and total Bitcoins produced\n",
    "            \n",
    "When you got to know about the graph of market price, you want to see about how this market price can be depended upon the total bitcoins.\n",
    "Print g for the graph.\n"
   ]
  },
  {
   "cell_type": "code",
   "execution_count": 12,
   "metadata": {
    "scrolled": true,
    "tags": [
     "s3",
     "ce"
    ]
   },
   "outputs": [
    {
     "data": {
      "image/png": "[encoded data removed]",
      "text/plain": [
       "<matplotlib.figure.Figure at 0x7f0e052a5f98>"
      ]
     },
     "metadata": {},
     "output_type": "display_data"
    }
   ],
   "source": [
    "g = sns.jointplot( \"btc_total_bitcoins\",\"btc_market_price\", data=bit_data, xlim=(3000000, 0), ylim=(0, 1), color=\"g\", size=15)"
   ]
  },
  {
   "cell_type": "markdown",
   "metadata": {
    "tags": [
     "s3",
     "hint"
    ]
   },
   "source": [
    "try to print g."
   ]
  },
  {
   "cell_type": "code",
   "execution_count": 13,
   "metadata": {
    "tags": [
     "s3",
     "ans"
    ]
   },
   "outputs": [
    {
     "name": "stdout",
     "output_type": "stream",
     "text": [
      "<seaborn.axisgrid.JointGrid object at 0x7f0e052ace10>\n"
     ]
    },
    {
     "data": {
      "image/png": "[encoded data removed]",
      "text/plain": [
       "<matplotlib.figure.Figure at 0x7f0e052acac8>"
      ]
     },
     "metadata": {},
     "output_type": "display_data"
    }
   ],
   "source": [
    "g = sns.jointplot( \"btc_total_bitcoins\",\"btc_market_price\", data=bit_data, xlim=(3000000, 0), ylim=(0, 1), color=\"g\", size=15)\n",
    "print(g)"
   ]
  },
  {
   "cell_type": "code",
   "execution_count": 14,
   "metadata": {
    "tags": [
     "s3",
     "hid"
    ]
   },
   "outputs": [
    {
     "name": "stdout",
     "output_type": "stream",
     "text": [
      "continue\n"
     ]
    }
   ],
   "source": [
    "#this is assertion block which verifies the solution.\n",
    "\n",
    "try:\n",
    "    def verify_answer():\n",
    "        \"\"\"\n",
    "        enter your verification code here.\n",
    "        return true if your checks pass\n",
    "        eg: \n",
    "        if above_user_answer_var > 100: \n",
    "            return True\n",
    "        else:\n",
    "            return False\n",
    "        \"\"\"\n",
    "        return True\n",
    "\n",
    "    ref_assert_var = verify_answer()\n",
    "except Exception as e:\n",
    "    print('Your assertion block throws error: ' + str(e))\n",
    "else:\n",
    "    if ref_assert_var:\n",
    "        print('continue')\n",
    "    else:\n",
    "        print('The answer did not pass the test.')"
   ]
  },
  {
   "cell_type": "markdown",
   "metadata": {
    "tags": [
     "s4",
     "content"
    ]
   },
   "source": [
    "  \n",
    "                \n",
    "### Behaviour of Market Price VS Year\n",
    "\n",
    "Till now, you have seen about market price with total bitcoins.\n",
    "Here, see how market price changes yearly.\n",
    "Print the following graph."
   ]
  },
  {
   "cell_type": "code",
   "execution_count": 15,
   "metadata": {
    "tags": [
     "s4",
     "ce"
    ]
   },
   "outputs": [
    {
     "data": {
      "image/png": "[encoded data removed]",
      "text/plain": [
       "<matplotlib.figure.Figure at 0x7f0e024a96d8>"
      ]
     },
     "metadata": {},
     "output_type": "display_data"
    }
   ],
   "source": [
    "import matplotlib.pyplot as plt\n",
    "\n",
    "bit_data[\"Date\"] = pd.to_datetime(bit_data[\"Date\"], format=\"%m/%d/%Y\")\n",
    "\n",
    "plt.plot(bit_data[\"Date\"], bit_data[\"btc_market_price\"])\n",
    "plt.gcf().autofmt_xdate()\n"
   ]
  },
  {
   "cell_type": "markdown",
   "metadata": {
    "tags": [
     "s4",
     "hint"
    ]
   },
   "source": [
    "Use show() method to print the above graph."
   ]
  },
  {
   "cell_type": "code",
   "execution_count": 16,
   "metadata": {
    "tags": [
     "s4",
     "ans"
    ]
   },
   "outputs": [
    {
     "data": {
      "image/png": "[encoded data removed]",
      "text/plain": [
       "<matplotlib.figure.Figure at 0x7f0e026680b8>"
      ]
     },
     "metadata": {},
     "output_type": "display_data"
    }
   ],
   "source": [
    "import matplotlib.pyplot as plt\n",
    "\n",
    "bit_data[\"Date\"] = pd.to_datetime(bit_data[\"Date\"], format=\"%m/%d/%Y\")\n",
    "\n",
    "plt.plot(bit_data[\"Date\"], bit_data[\"btc_market_price\"])\n",
    "plt.gcf().autofmt_xdate()\n",
    "plt.show()"
   ]
  },
  {
   "cell_type": "code",
   "execution_count": 17,
   "metadata": {
    "tags": [
     "s4",
     "hid"
    ]
   },
   "outputs": [
    {
     "name": "stdout",
     "output_type": "stream",
     "text": [
      "continue\n"
     ]
    }
   ],
   "source": [
    "#this is assertion block which verifies the solution.\n",
    "\n",
    "try:\n",
    "    def verify_answer():\n",
    "        \"\"\"\n",
    "        enter your verification code here.\n",
    "        return true if your checks pass\n",
    "        eg: \n",
    "        if above_user_answer_var > 100: \n",
    "            return True\n",
    "        else:\n",
    "            return False\n",
    "        \"\"\"\n",
    "        return True\n",
    "    ref_assert_var = verify_answer()\n",
    "except Exception as e:\n",
    "    print('Your assertion block throws error: ' + str(e))\n",
    "else:\n",
    "    if ref_assert_var:\n",
    "        print('continue')\n",
    "    else:\n",
    "        print('The answer did not pass the test.')"
   ]
  },
  {
   "cell_type": "markdown",
   "metadata": {
    "tags": [
     "s5",
     "content"
    ]
   },
   "source": [
    "\n",
    "                \n",
    "### Finding MSE\n",
    "            \n",
    "Here, you can see how to find MSE for the following values/features.\n",
    "Print mse_lm variable to know the MSE."
   ]
  },
  {
   "cell_type": "code",
   "execution_count": 18,
   "metadata": {
    "collapsed": true,
    "scrolled": true,
    "tags": [
     "s5",
     "ce"
    ]
   },
   "outputs": [],
   "source": [
    "import statsmodels.formula.api as sm\n",
    "from sklearn.preprocessing import Imputer,LabelEncoder,OneHotEncoder,StandardScaler\n",
    "from sklearn.metrics import mean_squared_error\n",
    "\n",
    "imputer = Imputer(missing_values=\"NaN\",strategy=\"mean\",axis=0)\n",
    "imputer = imputer.fit(bit_data.iloc[:,1:])\n",
    "bit_data.iloc[:,1:]=imputer.transform(bit_data.iloc[:,1:])\n",
    "\n",
    "lm = sm.ols(formula = 'btc_market_price ~ Date + btc_total_bitcoins + btc_market_cap + btc_trade_volume + btc_blocks_size  + btc_avg_block_size + btc_n_orphaned_blocks + btc_n_transactions_per_block + btc_median_confirmation_time + btc_hash_rate + btc_difficulty + btc_miners_revenue + btc_transaction_fees + btc_cost_per_transaction_percent + btc_cost_per_transaction + btc_n_unique_addresses + btc_n_transactions + btc_n_transactions_total + btc_n_transactions_excluding_popular + btc_n_transactions_excluding_chains_longer_than_100 + btc_output_volume + btc_estimated_transaction_volume + btc_estimated_transaction_volume_usd',data = bit_data).fit() \n",
    "y_hat = lm.predict(bit_data[['Date','btc_total_bitcoins','btc_market_cap','btc_trade_volume','btc_blocks_size','btc_avg_block_size','btc_n_orphaned_blocks','btc_n_transactions_per_block','btc_median_confirmation_time','btc_hash_rate','btc_difficulty','btc_miners_revenue','btc_transaction_fees','btc_cost_per_transaction_percent','btc_cost_per_transaction','btc_n_unique_addresses','btc_n_transactions','btc_n_transactions_total','btc_n_transactions_excluding_popular','btc_n_transactions_excluding_chains_longer_than_100','btc_output_volume','btc_estimated_transaction_volume','btc_estimated_transaction_volume_usd']])\n",
    "#print(\"MSE:\", mean_squared_error(bit_data['btc_market_price'].values, y_hat))\n",
    "mse_lm = mean_squared_error(bit_data['btc_market_price'].values, y_hat)\n"
   ]
  },
  {
   "cell_type": "markdown",
   "metadata": {
    "tags": [
     "s5",
     "hint"
    ]
   },
   "source": [
    "try to print MSE."
   ]
  },
  {
   "cell_type": "code",
   "execution_count": 19,
   "metadata": {
    "scrolled": true,
    "tags": [
     "s5",
     "ans"
    ]
   },
   "outputs": [
    {
     "name": "stdout",
     "output_type": "stream",
     "text": [
      "MSE: 5.67209930182e-05\n"
     ]
    }
   ],
   "source": [
    "import statsmodels.formula.api as sm\n",
    "from sklearn.preprocessing import Imputer,LabelEncoder,OneHotEncoder,StandardScaler\n",
    "from sklearn.metrics import mean_squared_error\n",
    "\n",
    "imputer = Imputer(missing_values=\"NaN\",strategy=\"mean\",axis=0)\n",
    "imputer = imputer.fit(bit_data.iloc[:,1:])\n",
    "bit_data.iloc[:,1:]=imputer.transform(bit_data.iloc[:,1:])\n",
    "\n",
    "lm = sm.ols(formula = 'btc_market_price ~ Date + btc_total_bitcoins + btc_market_cap + btc_trade_volume + btc_blocks_size  + btc_avg_block_size + btc_n_orphaned_blocks + btc_n_transactions_per_block + btc_median_confirmation_time + btc_hash_rate + btc_difficulty + btc_miners_revenue + btc_transaction_fees + btc_cost_per_transaction_percent + btc_cost_per_transaction + btc_n_unique_addresses + btc_n_transactions + btc_n_transactions_total + btc_n_transactions_excluding_popular + btc_n_transactions_excluding_chains_longer_than_100 + btc_output_volume + btc_estimated_transaction_volume + btc_estimated_transaction_volume_usd',data = bit_data).fit() \n",
    "y_hat = lm.predict(bit_data[['Date','btc_total_bitcoins','btc_market_cap','btc_trade_volume','btc_blocks_size','btc_avg_block_size','btc_n_orphaned_blocks','btc_n_transactions_per_block','btc_median_confirmation_time','btc_hash_rate','btc_difficulty','btc_miners_revenue','btc_transaction_fees','btc_cost_per_transaction_percent','btc_cost_per_transaction','btc_n_unique_addresses','btc_n_transactions','btc_n_transactions_total','btc_n_transactions_excluding_popular','btc_n_transactions_excluding_chains_longer_than_100','btc_output_volume','btc_estimated_transaction_volume','btc_estimated_transaction_volume_usd']])\n",
    "#print(\"MSE:\", mean_squared_error(bit_data['btc_market_price'].values, y_hat))\n",
    "mse_lm = mean_squared_error(bit_data['btc_market_price'].values, y_hat)\n",
    "print(\"MSE:\", mse_lm)\n"
   ]
  },
  {
   "cell_type": "code",
   "execution_count": 20,
   "metadata": {
    "tags": [
     "s5",
     "hid"
    ]
   },
   "outputs": [
    {
     "name": "stdout",
     "output_type": "stream",
     "text": [
      "continue\n"
     ]
    }
   ],
   "source": [
    "#this is assertion block which verifies the solution.\n",
    "\n",
    "try:\n",
    "    def verify_answer():\n",
    "        \"\"\"\n",
    "        enter your verification code here.\n",
    "        return true if your checks pass\n",
    "        eg: \n",
    "        if above_user_answer_var > 100: \n",
    "            return True\n",
    "        else:\n",
    "            return False\n",
    "        \"\"\"\n",
    "        return True\n",
    "    ref_assert_var = verify_answer()\n",
    "except Exception as e:\n",
    "    print('Your assertion block throws error: ' + str(e))\n",
    "else:\n",
    "    if ref_assert_var:\n",
    "        print('continue')\n",
    "    else:\n",
    "        print('The answer did not pass the test.')"
   ]
  },
  {
   "cell_type": "markdown",
   "metadata": {
    "tags": [
     "s6",
     "content"
    ]
   },
   "source": [
    "\n",
    "\n",
    "## Predicting the future price of the Dataset\n",
    "                \n",
    "### Finding the values of btc_market_price\n",
    "            \n",
    "Here, you can have all the prediction values of the btc_market_price.\n",
    "Print the values found from above lesson.\n"
   ]
  },
  {
   "cell_type": "code",
   "execution_count": 21,
   "metadata": {
    "collapsed": true,
    "tags": [
     "s6",
     "ce"
    ]
   },
   "outputs": [],
   "source": [
    "#print y_hat from the before lesson"
   ]
  },
  {
   "cell_type": "markdown",
   "metadata": {
    "tags": [
     "s6",
     "hint"
    ]
   },
   "source": [
    "try to print the variable."
   ]
  },
  {
   "cell_type": "code",
   "execution_count": 22,
   "metadata": {
    "tags": [
     "s6",
     "ans"
    ]
   },
   "outputs": [
    {
     "name": "stdout",
     "output_type": "stream",
     "text": [
      "0           0.000299\n",
      "1          -0.013697\n",
      "2          -0.023512\n",
      "3           0.000439\n",
      "4           0.004652\n",
      "5           0.004595\n",
      "6           0.003032\n",
      "7           0.002372\n",
      "8          -0.003922\n",
      "9          -0.000315\n",
      "10          0.000038\n",
      "11          0.001514\n",
      "12          0.002235\n",
      "13         -0.000268\n",
      "14          0.002881\n",
      "15          0.005115\n",
      "16         -0.026342\n",
      "17         -0.002043\n",
      "18          0.003726\n",
      "19         -0.000491\n",
      "20         -0.000041\n",
      "21         -0.000521\n",
      "22          0.010301\n",
      "23          0.004225\n",
      "24         -0.022939\n",
      "25         -0.016352\n",
      "26         -0.000600\n",
      "27         -0.009636\n",
      "28          0.025850\n",
      "29          0.006096\n",
      "            ...     \n",
      "2876    15005.823949\n",
      "2877    15053.227254\n",
      "2878    15199.319471\n",
      "2879    17174.080386\n",
      "2880    17319.158414\n",
      "2881    16651.439796\n",
      "2882    15265.868133\n",
      "2883    14714.221168\n",
      "2884    15126.361081\n",
      "2885    13296.752975\n",
      "2886    13912.844547\n",
      "2887    14499.737446\n",
      "2888    13852.876265\n",
      "2889    14012.159820\n",
      "2890    11180.957739\n",
      "2891    11116.908753\n",
      "2892    11345.376996\n",
      "2893    11422.398477\n",
      "2894    12950.754922\n",
      "2895    11505.184118\n",
      "2896    10544.550721\n",
      "2897    11223.024209\n",
      "2898    11282.220013\n",
      "2899    11214.402336\n",
      "2900    10969.755154\n",
      "2901    11524.730090\n",
      "2902    11765.670739\n",
      "2903    11212.607579\n",
      "2904    10184.001148\n",
      "2905    10124.972082\n",
      "dtype: float64\n"
     ]
    }
   ],
   "source": [
    "print(y_hat)"
   ]
  }
 ],
 "metadata": {
  "executed_sections": [],
  "kernelspec": {
   "display_name": "Python 3",
   "language": "python",
   "name": "python3"
  },
  "language_info": {
   "codemirror_mode": {
    "name": "ipython",
    "version": 3
   },
   "file_extension": ".py",
   "mimetype": "text/x-python",
   "name": "python",
   "nbconvert_exporter": "python",
   "pygments_lexer": "ipython3",
   "version": "3.5.2"
  }
 },
 "nbformat": 4,
 "nbformat_minor": 2
}